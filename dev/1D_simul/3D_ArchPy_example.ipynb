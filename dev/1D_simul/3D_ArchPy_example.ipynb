{
 "cells": [
  {
   "cell_type": "markdown",
   "metadata": {},
   "source": [
    "# 3D model example\n",
    "\n",
    "This notebook presents a full 3D model, purely synthetical, using various capabilities of ArchPy such as Truncated plurigaussian for filling and physical properties conditioning."
   ]
  },
  {
   "cell_type": "code",
   "execution_count": 22,
   "metadata": {
    "execution": {
     "iopub.execute_input": "2025-09-16T08:03:27.518404Z",
     "iopub.status.busy": "2025-09-16T08:03:27.517402Z",
     "iopub.status.idle": "2025-09-16T08:03:30.431444Z",
     "shell.execute_reply": "2025-09-16T08:03:30.431444Z"
    }
   },
   "outputs": [
    {
     "name": "stdout",
     "output_type": "stream",
     "text": [
      "The autoreload extension is already loaded. To reload it, use:\n",
      "  %reload_ext autoreload\n"
     ]
    }
   ],
   "source": [
    "import numpy as np\n",
    "import matplotlib\n",
    "from matplotlib import colors\n",
    "import matplotlib.pyplot as plt\n",
    "import geone\n",
    "import geone.covModel as gcm\n",
    "import geone.imgplot3d as imgplt3\n",
    "import pyvista as pv\n",
    "# pv.set_jupyter_backend('static')\n",
    "import sys\n",
    "\n",
    "%load_ext autoreload\n",
    "%autoreload 2\n",
    "\n",
    "#For loading ArchPy, the path where ArchPy is must be added with sys\n",
    "sys.path.append(\"../../\")\n",
    "sys.path.append(\"M:GitHub/ArchPy/\")\n",
    "#my modules\n",
    "from ArchPy.base import * #ArchPy main functions \n",
    "from ArchPy.tpgs import * #Truncated plurigaussians"
   ]
  },
  {
   "cell_type": "code",
   "execution_count": 23,
   "metadata": {
    "execution": {
     "iopub.execute_input": "2025-09-16T08:03:30.434443Z",
     "iopub.status.busy": "2025-09-16T08:03:30.433441Z",
     "iopub.status.idle": "2025-09-16T08:03:30.436591Z",
     "shell.execute_reply": "2025-09-16T08:03:30.436591Z"
    }
   },
   "outputs": [],
   "source": [
    "PB = Pile(name = \"PB\",seed=1)\n",
    "P1 = Pile(name=\"P1\",seed=1)"
   ]
  },
  {
   "cell_type": "code",
   "execution_count": 24,
   "metadata": {
    "execution": {
     "iopub.execute_input": "2025-09-16T08:03:30.438590Z",
     "iopub.status.busy": "2025-09-16T08:03:30.438590Z",
     "iopub.status.idle": "2025-09-16T08:03:30.441862Z",
     "shell.execute_reply": "2025-09-16T08:03:30.441862Z"
    }
   },
   "outputs": [],
   "source": [
    "#grid\n",
    "sx = 1.5\n",
    "sy = 1.5\n",
    "sz = .15\n",
    "x1 = 20\n",
    "y1 = 10\n",
    "z1 = -6\n",
    "x0 = 0\n",
    "y0 = 0\n",
    "z0 = -15\n",
    "nx = 133\n",
    "ny = 67\n",
    "nz = 62\n",
    "\n",
    "\n",
    "dimensions = (nx, ny, nz)\n",
    "spacing = (sx, sy, sz)\n",
    "origin = (x0, y0, z0)  "
   ]
  },
  {
   "cell_type": "code",
   "execution_count": 25,
   "metadata": {
    "execution": {
     "iopub.execute_input": "2025-09-16T08:03:30.443861Z",
     "iopub.status.busy": "2025-09-16T08:03:30.443861Z",
     "iopub.status.idle": "2025-09-16T08:03:30.768289Z",
     "shell.execute_reply": "2025-09-16T08:03:30.768289Z"
    }
   },
   "outputs": [
    {
     "name": "stdout",
     "output_type": "stream",
     "text": [
      "[0.19104429 0.26419991 0.19104429 0.35371151]\n"
     ]
    },
    {
     "data": {
      "image/png": "[encoded data removed]",
      "text/plain": [
       "<Figure size 1200x500 with 4 Axes>"
      ]
     },
     "metadata": {},
     "output_type": "display_data"
    }
   ],
   "source": [
    "## setup TPGs for B units\n",
    "\n",
    "#flag\n",
    "#thresholds\n",
    "t2g1 = -0.3\n",
    "t3g1 = .3\n",
    "t1g2 = 0\n",
    "t2g2 = 0.5\n",
    "\n",
    "#dictionnaries show where a certain facies is present. \n",
    "# The structure is a list of list containing 2 tuples of size 2 that indicates the limits of the gaussian fields\n",
    "# e.g. [[(lower_boundary1_g1,upper_boundary1_g1),(lower_boundary1_g2,upper_boundary1_g2)]] --> this indicates one cuboid and multiple can be defined\n",
    "dic1 = [[(-np.inf,t2g1),(-np.inf,t1g2)]] # this facies is present between -inf to -0.3 of the 1st gaussian field and between -inf to 0 of the 2\n",
    "dic2 = [[(t3g1,np.inf),(-np.inf,t2g2)]]\n",
    "dic3 = [[(-np.inf,t2g1),(t1g2,np.inf)]]\n",
    "dic4 = [[(t2g1,t3g1),(-np.inf,np.inf)],[(t3g1,np.inf),(t2g2,np.inf)]]\n",
    "\n",
    "flag = {1:dic1,\n",
    "        2:dic2,\n",
    "        3:dic3,\n",
    "        5:dic4}\n",
    "print(ArchPy.tpgs.pfa(flag))\n",
    "\n",
    "\n",
    "plt.figure(figsize=(12,5))\n",
    "plt.subplot(1,2,1)\n",
    "plot_flag(flag,alpha=.7)\n",
    "\n",
    "plt.subplot(1,2,2)\n",
    "plot_flag(Gspace2Pspace(flag),alpha=.7)\n",
    "\n",
    "## G_cm\n",
    "G1 = gcm.CovModel3D(elem=[(\"cubic\",{\"w\":1.,\"r\":[50,50,20]}),\n",
    "                         (\"nugget\",{\"w\":0.0})],name=\"G1\")\n",
    "G2 = gcm.CovModel3D(elem=[(\"cubic\",{\"w\":1.,\"r\":[50,50,20]}),\n",
    "                         (\"nugget\",{\"w\":0.0})],name=\"G2\",alpha=30)\n",
    "G_cm = [G1,G2]"
   ]
  },
  {
   "cell_type": "code",
   "execution_count": 26,
   "metadata": {
    "execution": {
     "iopub.execute_input": "2025-09-16T08:03:30.770288Z",
     "iopub.status.busy": "2025-09-16T08:03:30.770288Z",
     "iopub.status.idle": "2025-09-16T08:03:30.784301Z",
     "shell.execute_reply": "2025-09-16T08:03:30.784301Z"
    }
   },
   "outputs": [
    {
     "name": "stdout",
     "output_type": "stream",
     "text": [
      "Unit D: Surface added for interpolation\n",
      "Unit C: covmodel for SIS added\n",
      "Unit C: Surface added for interpolation\n",
      "Unit B: Surface added for interpolation\n",
      "Unit A: Surface added for interpolation\n",
      "Stratigraphic unit D added ✅\n",
      "Stratigraphic unit C added ✅\n",
      "Stratigraphic unit B added ✅\n",
      "Stratigraphic unit A added ✅\n",
      "Unit B3: covmodel for SIS added\n",
      "Unit B3: Surface added for interpolation\n",
      "Unit B2: covmodel for SIS added\n",
      "Unit B2: Surface added for interpolation\n",
      "Unit B1: covmodel for SIS added\n",
      "Unit B1: Surface added for interpolation\n",
      "Stratigraphic unit B3 added ✅\n",
      "Stratigraphic unit B2 added ✅\n",
      "Stratigraphic unit B1 added ✅\n"
     ]
    }
   ],
   "source": [
    "#units covmodel\n",
    "covmodelD = gcm.CovModel2D(elem=[('cubic', {'w':0.6, 'r':[60,60]})])\n",
    "covmodelC = gcm.CovModel2D(elem=[('cubic', {'w':0.2, 'r':[80,80]})])\n",
    "covmodelB = gcm.CovModel2D(elem=[('cubic', {'w':0.6, 'r':[60,60]})])\n",
    "covmodel_er = gcm.CovModel2D(elem=[('spherical', {'w':1, 'r':[100,100]})])\n",
    "\n",
    "## facies covmodel\n",
    "covmodel_SIS_C = gcm.CovModel3D(elem=[(\"exponential\",{\"w\":.25,\"r\":[10,10,3]})],alpha=0,name=\"vario_SIS\") # input variogram\n",
    "covmodel_SIS_D = gcm.CovModel3D(elem=[(\"exponential\",{\"w\":.25,\"r\":[5,5,5]})],alpha=0,name=\"vario_SIS\") # input variogram\n",
    "lst_covmodelC=[covmodel_SIS_C] # list of covmodels to pass at the function\n",
    "lst_covmodelD=[covmodel_SIS_D]\n",
    "\n",
    "\n",
    "#create Lithologies \n",
    "dic_s_D = {\"int_method\" : \"grf_ineq\",\"covmodel\" : covmodelD}\n",
    "dic_f_D = {\"f_method\" : \"TPGs\",\"Flag\" : flag,\"G_cm\":G_cm,\"grf_method\":\"sgs\"}\n",
    "D = Unit(name=\"D\",order=1,ID = 1,color=\"gold\",contact=\"onlap\",surface=Surface(contact=\"onlap\",dic_surf=dic_s_D)\n",
    "         ,dic_facies=dic_f_D)\n",
    "\n",
    "dic_s_C = {\"int_method\" : \"grf_ineq\",\"covmodel\" : covmodelC}\n",
    "dic_f_C = {\"f_method\" : \"SIS\",\"neig\" : 10,\"f_covmodel\":covmodel_SIS_C}\n",
    "C = Unit(name=\"C\",order=2,ID = 2,color=\"blue\",contact=\"onlap\",dic_facies=dic_f_C,surface=Surface(dic_surf=dic_s_C,contact=\"onlap\"))\n",
    "\n",
    "dic_s_er2 = {\"int_method\" : \"grf\",\"covmodel\" : covmodel_er}\n",
    "erosion2 = Surface(dic_surf=dic_s_er2, contact=\"erode\")\n",
    "#er2 = Unit(name=\"erosion2\",ID = 4, order=4,contact=\"erode\",color=\"black\",surface=Surface(dic_surf = dic_s_er2,contact=\"erode\"))         \n",
    "\n",
    "dic_s_B = {\"int_method\" : \"grf_ineq\",\"covmodel\" : covmodelB}\n",
    "dic_f_B = {\"f_method\":\"SubPile\",\"SubPile\":PB}\n",
    "B = Unit(name=\"B\",order=3,ID = 3,color=\"green\",contact=\"onlap\",dic_facies=dic_f_B,surface=Surface(contact=\"onlap\",dic_surf=dic_s_B))\n",
    "\n",
    "dic_s_A = {\"int_method\":\"grf_ineq\",\"covmodel\": covmodelB}\n",
    "dic_f_A = {\"f_method\":\"homogenous\"}\n",
    "A = Unit(name=\"A\",order=5,ID = 5,color=\"red\",contact=\"onlap\",dic_facies=dic_f_A,surface=Surface(dic_surf = dic_s_A,contact=\"onlap\"))\n",
    "\n",
    "#Master pile\n",
    "P1.add_unit([D,C,B,A])\n",
    "\n",
    "# PB\n",
    "ds_B3 = {\"int_method\":\"grf_ineq\",\"covmodel\":covmodelB}\n",
    "df_B3 = {\"f_method\":\"SIS\",\"neig\" : 10,\"f_covmodel\":covmodel_SIS_D}\n",
    "B3 = Unit(name = \"B3\",order=1,ID = 6,color=\"forestgreen\",surface=Surface(dic_surf=ds_B3,contact=\"onlap\"),dic_facies=df_B3)\n",
    "\n",
    "ds_B2 = {\"int_method\":\"grf_ineq\",\"covmodel\":covmodelB}\n",
    "df_B2 = {\"f_method\":\"SIS\",\"neig\" : 10,\"f_covmodel\":covmodel_SIS_D}\n",
    "B2 = Unit(name = \"B2\",order=2,ID = 7,color=\"limegreen\",surface=Surface(dic_surf=ds_B2,contact=\"erode\"),dic_facies=df_B2)\n",
    "\n",
    "ds_B1 = {\"int_method\":\"grf_ineq\",\"covmodel\":covmodelB}\n",
    "df_B1 = {\"f_method\":\"SIS\",\"neig\" : 10,\"f_covmodel\":covmodel_SIS_D}\n",
    "B1 = Unit(name = \"B1\",order=3, ID = 8,color=\"palegreen\",surface=Surface(dic_surf=ds_B1,contact=\"onlap\"),dic_facies=df_B1)\n",
    "\n",
    "## Subpile\n",
    "PB.add_unit([B3,B2,B1])"
   ]
  },
  {
   "cell_type": "code",
   "execution_count": 27,
   "metadata": {
    "execution": {
     "iopub.execute_input": "2025-09-16T08:03:30.786303Z",
     "iopub.status.busy": "2025-09-16T08:03:30.786303Z",
     "iopub.status.idle": "2025-09-16T08:03:30.794990Z",
     "shell.execute_reply": "2025-09-16T08:03:30.794990Z"
    }
   },
   "outputs": [
    {
     "name": "stdout",
     "output_type": "stream",
     "text": [
      "Facies basement added to unit A ✅\n",
      "Facies Sand added to unit B ✅\n",
      "Facies Gravel added to unit B ✅\n",
      "Facies GM added to unit B ✅\n",
      "Facies SM added to unit B ✅\n",
      "Facies Sand added to unit D ✅\n",
      "Facies Gravel added to unit D ✅\n",
      "Facies GM added to unit D ✅\n",
      "Facies SM added to unit D ✅\n",
      "Facies Clay added to unit C ✅\n",
      "Facies Silt added to unit C ✅\n",
      "Facies Sand added to unit B3 ✅\n",
      "Facies Gravel added to unit B3 ✅\n",
      "Facies GM added to unit B3 ✅\n",
      "Facies SM added to unit B3 ✅\n",
      "Facies Sand added to unit B2 ✅\n",
      "Facies Gravel added to unit B2 ✅\n",
      "Facies GM added to unit B2 ✅\n",
      "Facies SM added to unit B2 ✅\n",
      "Facies Sand added to unit B1 ✅\n",
      "Facies Gravel added to unit B1 ✅\n",
      "Facies GM added to unit B1 ✅\n",
      "Facies SM added to unit B1 ✅\n"
     ]
    }
   ],
   "source": [
    "# covmodels for the property model\n",
    "covmodelK = gcm.CovModel3D(elem=[(\"exponential\",{\"w\":0.3,\"r\":[5,5,1]})],alpha=-20,name=\"K_vario\")\n",
    "covmodelK2 = gcm.CovModel3D(elem=[(\"spherical\",{\"w\":0.1,\"r\":[3,3,1]})],alpha=0,name=\"K_vario_2\")\n",
    "covmodelPoro = gcm.CovModel3D(elem=[(\"exponential\",{\"w\":0.005,\"r\":[10,10,10]})],alpha=0,name=\"poro_vario\")\n",
    "\n",
    "facies_1 = Facies(ID = 1,name=\"Sand\",color=\"yellow\")\n",
    "facies_2 = Facies(ID = 2,name=\"Gravel\",color=\"lightgreen\")\n",
    "facies_3 = Facies(ID = 3,name=\"GM\",color=\"blueviolet\")\n",
    "facies_4 = Facies(ID = 4,name=\"Clay\",color=\"blue\")\n",
    "facies_5 = Facies(ID = 5,name=\"SM\",color=\"brown\")\n",
    "facies_6 = Facies(ID = 6,name=\"Silt\",color=\"goldenrod\")\n",
    "facies_7 = Facies(ID = 7,name=\"basement\",color=\"red\")\n",
    "\n",
    "A.add_facies([facies_7])\n",
    "B.add_facies([facies_1,facies_2,facies_3,facies_5])\n",
    "D.add_facies([facies_1,facies_2,facies_3,facies_5])\n",
    "C.add_facies([facies_4,facies_6])\n",
    "#add same facies than B\n",
    "for b in PB.list_units:\n",
    "    b.add_facies(B.list_facies)\n",
    "\n",
    "permea = Prop(\"K\",[facies_1,facies_2,facies_3,facies_4,facies_5,facies_6,facies_7],\n",
    "                  [covmodelK2,covmodelK,covmodelK,None,covmodelK2,covmodelK,None],\n",
    "                  means=[-3.5,-2,-4.5,-8,-5.5,-6.5,-10],\n",
    "                  int_method = [\"sgs\",\"sgs\",\"sgs\",\"homogenous\",\"sgs\",\"sgs\",\"homogenous\"],\n",
    "                  def_mean=-5)\n",
    "poro = Prop(\"Porosity\",\n",
    "            [facies_1,facies_3,facies_4],\n",
    "            [covmodelPoro,covmodelPoro,covmodelPoro],\n",
    "             means = [0.4,0.3,0.2],\n",
    "             int_method = [\"sgs\",\"sgs\",\"sgs\"],\n",
    "             def_mean=0.3,\n",
    "             vmin=0)"
   ]
  },
  {
   "cell_type": "code",
   "execution_count": 28,
   "metadata": {
    "execution": {
     "iopub.execute_input": "2025-09-16T08:03:30.796989Z",
     "iopub.status.busy": "2025-09-16T08:03:30.796989Z",
     "iopub.status.idle": "2025-09-16T08:03:30.799819Z",
     "shell.execute_reply": "2025-09-16T08:03:30.799819Z"
    }
   },
   "outputs": [],
   "source": [
    "top = np.ones([ny,nx])*-6\n",
    "bot = np.ones([ny,nx])*z0"
   ]
  },
  {
   "cell_type": "code",
   "execution_count": 29,
   "metadata": {
    "execution": {
     "iopub.execute_input": "2025-09-16T08:03:30.801817Z",
     "iopub.status.busy": "2025-09-16T08:03:30.801817Z",
     "iopub.status.idle": "2025-09-16T08:03:30.814345Z",
     "shell.execute_reply": "2025-09-16T08:03:30.814345Z"
    }
   },
   "outputs": [],
   "source": [
    "#logs strati\n",
    "log_strati1 = [(C,-6.01),(B3,-8),(B2,-9),(B1,-9.5),(A,-10)]\n",
    "log_strati2 = [(C,-6.01),(B3,-8.5),(B2,-9.5),(A,-10.5)]\n",
    "log_strati3 = [(D,-6.01),(B3,-8),(B2,-8.5),(B1,-9.5),(A,-10.5)]\n",
    "log_strati4 = [(D,-6.01),(B3,-9),(B2,-10),(A,-11)]\n",
    "log_strati5 = [(D,-6.01),(C,-10),(A,-12)]\n",
    "log_strati6 = [(D,-6.01),(A,-9)]\n",
    "\n",
    "# logs facies\n",
    "log_facies1 = [(facies_4,-6.01),(facies_6,-6.5),(facies_4,-7),(facies_6,-7.5), # facies in unit C\n",
    "               (facies_1,-8),(facies_5,-8.5),(facies_2,-9),(facies_3,-9.3),  # facies in unit B\n",
    "               (facies_7,-10)]\n",
    "log_facies2 = [(facies_4,-6.01),(facies_6,-7.3),(facies_4,-7.6),(facies_6,-8),\n",
    "               (facies_2,-8.5),(facies_1,-8.8),(facies_2,-9),(facies_3,-9.2),(facies_1,-10),\n",
    "               (facies_7,-10.5)]\n",
    "log_facies3 = [(facies_1,-6.015),(facies_2,-6.8),(facies_5,-7),(facies_3,-7.3),(facies_1,-7.5),\n",
    "               (facies_2,-8),(facies_1,-8.8),(facies_2,-9),(facies_3,-9.2),(facies_1,-10),\n",
    "              (facies_7,-10.5)]\n",
    "log_facies4 = [(facies_1,-6.01),(facies_2,-7.5),(facies_5,-7.8),(facies_3,-8),(facies_5,-8.3),(facies_1,-8.7),\n",
    "               (facies_2,-9),(facies_1,-10),(facies_2,-10.5),\n",
    "               (facies_7,-11)]\n",
    "log_facies5 = [(facies_5,-6.01),(facies_1,-7.5),(facies_3,-7.8),(facies_2,-8),(facies_1,-8.3),(facies_2,-8.7),(facies_1,-9),(facies_5,-9.5),\n",
    "               (facies_4,-10),(facies_6,-10.4),(facies_4,-11),\n",
    "               (facies_7,-12)]\n",
    "log_facies6 = [(facies_1,-6.01),(facies_2,-8.3),(facies_3,-8.5),(facies_2,-8.7),\n",
    "               (facies_7,-9)]\n",
    "\n",
    "#create boreholes\n",
    "bh1 = borehole(\"b1\",1,x=10*1,y=10*5,z=log_strati1[0][1],depth =9,log_strati=log_strati1,log_facies=log_facies1)\n",
    "bh1_bis = borehole(\"b1_bis\",\"b1_bis\",x=10.5,y=50.5,z=log_strati1[0][1],depth =9,log_strati=log_strati1,log_facies=log_facies1)\n",
    "bh2 = borehole(\"b2\",2,x=10*3,y=10*2,z=log_strati2[0][1],depth =8,log_strati=log_strati2,log_facies=log_facies2)\n",
    "bh3 = borehole(\"b3\",3,x=10*5,y=10*6,z=log_strati3[0][1],depth =7,log_strati=log_strati3,log_facies=log_facies3)\n",
    "bh4 = borehole(\"b4\",4,x=10*10,y=10*1,z=log_strati4[0][1],depth =8,log_strati=log_strati4,log_facies=log_facies4)\n",
    "bh5 = borehole(\"b5\",5,x=10*15,y=10*3,z=log_strati5[0][1],depth =8,log_strati=log_strati5,log_facies=log_facies5)\n",
    "bh6 = borehole(\"b6\",6,x=10*19,y=10*9,z=log_strati6[0][1],depth =6,log_strati=log_strati6,log_facies=log_facies6)"
   ]
  },
  {
   "cell_type": "code",
   "execution_count": 52,
   "metadata": {
    "execution": {
     "iopub.execute_input": "2025-09-16T08:03:30.816340Z",
     "iopub.status.busy": "2025-09-16T08:03:30.816340Z",
     "iopub.status.idle": "2025-09-16T08:03:30.915757Z",
     "shell.execute_reply": "2025-09-16T08:03:30.915757Z"
    }
   },
   "outputs": [
    {
     "data": {
      "text/plain": [
       "<matplotlib.image.AxesImage at 0x277b2997950>"
      ]
     },
     "execution_count": 52,
     "metadata": {},
     "output_type": "execute_result"
    },
    {
     "data": {
      "image/png": "[encoded data removed]",
      "text/plain": [
       "<Figure size 640x480 with 1 Axes>"
      ]
     },
     "metadata": {},
     "output_type": "display_data"
    }
   ],
   "source": [
    "domain = np.zeros([ny,nx],dtype=bool)\n",
    "domain[15, 55] = 1\n",
    "# domain[35, 15] = 1\n",
    "# domain[35, 102] = 1\n",
    "# domain[65, 35] = 1\n",
    "plt.imshow(domain)"
   ]
  },
  {
   "cell_type": "code",
   "execution_count": 53,
   "metadata": {},
   "outputs": [],
   "source": [
    "import ArchPy"
   ]
  },
  {
   "cell_type": "code",
   "execution_count": 54,
   "metadata": {
    "execution": {
     "iopub.execute_input": "2025-09-16T08:03:30.917752Z",
     "iopub.status.busy": "2025-09-16T08:03:30.917752Z",
     "iopub.status.idle": "2025-09-16T08:03:30.946689Z",
     "shell.execute_reply": "2025-09-16T08:03:30.946689Z"
    }
   },
   "outputs": [
    {
     "name": "stdout",
     "output_type": "stream",
     "text": [
      "Pile sets as Pile master\n",
      "## Adding Grid ##\n",
      "## Grid added and is now simulation grid ##\n",
      "Standard boreholes removed\n",
      "Fake boreholes removed\n",
      "Geological map boreholes removed\n",
      "Borehole 1 added\n",
      "Borehole 2 added\n",
      "Borehole 3 added\n",
      "Borehole 4 added\n",
      "Borehole 5 added\n",
      "Borehole 6 added\n",
      "Borehole b1_bis added\n",
      "Property K added\n"
     ]
    }
   ],
   "source": [
    "T1 = Arch_table(name = \"P1\",seed=1)\n",
    "T1.set_Pile_master(P1)\n",
    "T1.add_grid(dimensions, spacing, origin, top=top, bot=bot, polygon=domain)\n",
    "T1.rem_all_bhs()\n",
    "T1.add_bh([bh1,bh2,bh3,bh4,bh5,bh6, bh1_bis], check_inside=False)\n",
    "T1.add_prop([permea])"
   ]
  },
  {
   "cell_type": "code",
   "execution_count": 55,
   "metadata": {
    "execution": {
     "iopub.execute_input": "2025-09-16T08:03:30.948678Z",
     "iopub.status.busy": "2025-09-16T08:03:30.948678Z",
     "iopub.status.idle": "2025-09-16T08:03:30.971333Z",
     "shell.execute_reply": "2025-09-16T08:03:30.971333Z"
    }
   },
   "outputs": [
    {
     "name": "stdout",
     "output_type": "stream",
     "text": [
      "Hard data reset\n",
      "##### ORDERING UNITS ##### \n",
      "Pile P1: ordering units\n",
      "Stratigraphic units have been sorted according to order\n",
      "Pile PB: ordering units\n",
      "Stratigraphic units have been sorted according to order\n",
      "hierarchical relations set\n",
      "\n",
      " ## Computing distributions for Normal Score Transform ##\n",
      "\n",
      "Processing ended successfully\n"
     ]
    }
   ],
   "source": [
    "T1.process_bhs(check_same_cell=False, reprocess=True, check_outside=False)"
   ]
  },
  {
   "cell_type": "code",
   "execution_count": 56,
   "metadata": {},
   "outputs": [
    {
     "data": {
      "text/plain": [
       "[[10, 50, 0, -6.01, nan],\n",
       " [30, 20, 0, -6.01, nan],\n",
       " [50, 60, 0, nan, -8],\n",
       " [100, 10, 0, nan, -9],\n",
       " [190, 90, 0, nan, -9],\n",
       " [10.5, 50.5, 0, -6.01, nan]]"
      ]
     },
     "execution_count": 56,
     "metadata": {},
     "output_type": "execute_result"
    }
   ],
   "source": [
    "C.surface.ineq"
   ]
  },
  {
   "cell_type": "code",
   "execution_count": 57,
   "metadata": {
    "execution": {
     "iopub.execute_input": "2025-09-16T08:03:30.973328Z",
     "iopub.status.busy": "2025-09-16T08:03:30.973328Z",
     "iopub.status.idle": "2025-09-16T08:03:31.116568Z",
     "shell.execute_reply": "2025-09-16T08:03:31.116568Z"
    }
   },
   "outputs": [
    {
     "data": {
      "image/png": "[encoded data removed]",
      "text/plain": [
       "<Figure size 640x480 with 1 Axes>"
      ]
     },
     "metadata": {},
     "output_type": "display_data"
    }
   ],
   "source": [
    "# plot piles\n",
    "T1.plot_pile()"
   ]
  },
  {
   "cell_type": "code",
   "execution_count": 58,
   "metadata": {
    "execution": {
     "iopub.execute_input": "2025-09-16T08:03:31.118567Z",
     "iopub.status.busy": "2025-09-16T08:03:31.118567Z",
     "iopub.status.idle": "2025-09-16T08:03:31.188550Z",
     "shell.execute_reply": "2025-09-16T08:03:31.188550Z"
    }
   },
   "outputs": [
    {
     "data": {
      "text/html": [
       "<style type=\"text/css\">\n",
       "#T_49d53_row0_col0, #T_49d53_row0_col1, #T_49d53_row0_col2, #T_49d53_row0_col3, #T_49d53_row0_col4, #T_49d53_row0_col5 {\n",
       "  background-color: #ffd700;\n",
       "  color: black;\n",
       "}\n",
       "#T_49d53_row1_col0, #T_49d53_row1_col1, #T_49d53_row1_col2, #T_49d53_row1_col3, #T_49d53_row1_col4, #T_49d53_row1_col5 {\n",
       "  background-color: #0000ff;\n",
       "  color: white;\n",
       "}\n",
       "#T_49d53_row2_col0, #T_49d53_row2_col1, #T_49d53_row2_col2, #T_49d53_row2_col3, #T_49d53_row2_col4, #T_49d53_row2_col5 {\n",
       "  background-color: #008000;\n",
       "  color: white;\n",
       "}\n",
       "#T_49d53_row3_col0, #T_49d53_row3_col1, #T_49d53_row3_col2, #T_49d53_row3_col3, #T_49d53_row3_col4, #T_49d53_row3_col5 {\n",
       "  background-color: #ff0000;\n",
       "  color: white;\n",
       "}\n",
       "#T_49d53_row4_col0, #T_49d53_row4_col1, #T_49d53_row4_col2, #T_49d53_row4_col3, #T_49d53_row4_col4, #T_49d53_row4_col5 {\n",
       "  background-color: #228b22;\n",
       "  color: white;\n",
       "}\n",
       "#T_49d53_row5_col0, #T_49d53_row5_col1, #T_49d53_row5_col2, #T_49d53_row5_col3, #T_49d53_row5_col4, #T_49d53_row5_col5 {\n",
       "  background-color: #32cd32;\n",
       "  color: black;\n",
       "}\n",
       "#T_49d53_row6_col0, #T_49d53_row6_col1, #T_49d53_row6_col2, #T_49d53_row6_col3, #T_49d53_row6_col4, #T_49d53_row6_col5 {\n",
       "  background-color: #98fb98;\n",
       "  color: black;\n",
       "}\n",
       "</style>\n",
       "<table id=\"T_49d53\">\n",
       "  <thead>\n",
       "    <tr>\n",
       "      <th class=\"blank level0\" >&nbsp;</th>\n",
       "      <th id=\"T_49d53_level0_col0\" class=\"col_heading level0 col0\" >name</th>\n",
       "      <th id=\"T_49d53_level0_col1\" class=\"col_heading level0 col1\" >contact</th>\n",
       "      <th id=\"T_49d53_level0_col2\" class=\"col_heading level0 col2\" >int_method</th>\n",
       "      <th id=\"T_49d53_level0_col3\" class=\"col_heading level0 col3\" >covmodel</th>\n",
       "      <th id=\"T_49d53_level0_col4\" class=\"col_heading level0 col4\" >filling_method</th>\n",
       "      <th id=\"T_49d53_level0_col5\" class=\"col_heading level0 col5\" >list_facies</th>\n",
       "    </tr>\n",
       "  </thead>\n",
       "  <tbody>\n",
       "    <tr>\n",
       "      <th id=\"T_49d53_level0_row0\" class=\"row_heading level0 row0\" >0</th>\n",
       "      <td id=\"T_49d53_row0_col0\" class=\"data row0 col0\" >D</td>\n",
       "      <td id=\"T_49d53_row0_col1\" class=\"data row0 col1\" >onlap</td>\n",
       "      <td id=\"T_49d53_row0_col2\" class=\"data row0 col2\" >grf_ineq</td>\n",
       "      <td id=\"T_49d53_row0_col3\" class=\"data row0 col3\" >0: cub (w: 0.6, r: [60, 60]) </td>\n",
       "      <td id=\"T_49d53_row0_col4\" class=\"data row0 col4\" >TPGs</td>\n",
       "      <td id=\"T_49d53_row0_col5\" class=\"data row0 col5\" >[Sand, Gravel, GM, SM]</td>\n",
       "    </tr>\n",
       "    <tr>\n",
       "      <th id=\"T_49d53_level0_row1\" class=\"row_heading level0 row1\" >1</th>\n",
       "      <td id=\"T_49d53_row1_col0\" class=\"data row1 col0\" >C</td>\n",
       "      <td id=\"T_49d53_row1_col1\" class=\"data row1 col1\" >onlap</td>\n",
       "      <td id=\"T_49d53_row1_col2\" class=\"data row1 col2\" >grf_ineq</td>\n",
       "      <td id=\"T_49d53_row1_col3\" class=\"data row1 col3\" >0: cub (w: 0.2, r: [80, 80]) </td>\n",
       "      <td id=\"T_49d53_row1_col4\" class=\"data row1 col4\" >SIS</td>\n",
       "      <td id=\"T_49d53_row1_col5\" class=\"data row1 col5\" >[Clay, Silt]</td>\n",
       "    </tr>\n",
       "    <tr>\n",
       "      <th id=\"T_49d53_level0_row2\" class=\"row_heading level0 row2\" >2</th>\n",
       "      <td id=\"T_49d53_row2_col0\" class=\"data row2 col0\" >B</td>\n",
       "      <td id=\"T_49d53_row2_col1\" class=\"data row2 col1\" >onlap</td>\n",
       "      <td id=\"T_49d53_row2_col2\" class=\"data row2 col2\" >grf_ineq</td>\n",
       "      <td id=\"T_49d53_row2_col3\" class=\"data row2 col3\" >0: cub (w: 0.6, r: [60, 60]) </td>\n",
       "      <td id=\"T_49d53_row2_col4\" class=\"data row2 col4\" >SubPile</td>\n",
       "      <td id=\"T_49d53_row2_col5\" class=\"data row2 col5\" >[Sand, Gravel, GM, SM]</td>\n",
       "    </tr>\n",
       "    <tr>\n",
       "      <th id=\"T_49d53_level0_row3\" class=\"row_heading level0 row3\" >3</th>\n",
       "      <td id=\"T_49d53_row3_col0\" class=\"data row3 col0\" >A</td>\n",
       "      <td id=\"T_49d53_row3_col1\" class=\"data row3 col1\" >onlap</td>\n",
       "      <td id=\"T_49d53_row3_col2\" class=\"data row3 col2\" >grf_ineq</td>\n",
       "      <td id=\"T_49d53_row3_col3\" class=\"data row3 col3\" >0: cub (w: 0.6, r: [60, 60]) </td>\n",
       "      <td id=\"T_49d53_row3_col4\" class=\"data row3 col4\" >homogenous</td>\n",
       "      <td id=\"T_49d53_row3_col5\" class=\"data row3 col5\" >[basement]</td>\n",
       "    </tr>\n",
       "    <tr>\n",
       "      <th id=\"T_49d53_level0_row4\" class=\"row_heading level0 row4\" >4</th>\n",
       "      <td id=\"T_49d53_row4_col0\" class=\"data row4 col0\" >B3</td>\n",
       "      <td id=\"T_49d53_row4_col1\" class=\"data row4 col1\" >onlap</td>\n",
       "      <td id=\"T_49d53_row4_col2\" class=\"data row4 col2\" >grf_ineq</td>\n",
       "      <td id=\"T_49d53_row4_col3\" class=\"data row4 col3\" >0: cub (w: 0.6, r: [60, 60]) </td>\n",
       "      <td id=\"T_49d53_row4_col4\" class=\"data row4 col4\" >SIS</td>\n",
       "      <td id=\"T_49d53_row4_col5\" class=\"data row4 col5\" >[Sand, Gravel, GM, SM]</td>\n",
       "    </tr>\n",
       "    <tr>\n",
       "      <th id=\"T_49d53_level0_row5\" class=\"row_heading level0 row5\" >5</th>\n",
       "      <td id=\"T_49d53_row5_col0\" class=\"data row5 col0\" >B2</td>\n",
       "      <td id=\"T_49d53_row5_col1\" class=\"data row5 col1\" >erode</td>\n",
       "      <td id=\"T_49d53_row5_col2\" class=\"data row5 col2\" >grf_ineq</td>\n",
       "      <td id=\"T_49d53_row5_col3\" class=\"data row5 col3\" >0: cub (w: 0.6, r: [60, 60]) </td>\n",
       "      <td id=\"T_49d53_row5_col4\" class=\"data row5 col4\" >SIS</td>\n",
       "      <td id=\"T_49d53_row5_col5\" class=\"data row5 col5\" >[Sand, Gravel, GM, SM]</td>\n",
       "    </tr>\n",
       "    <tr>\n",
       "      <th id=\"T_49d53_level0_row6\" class=\"row_heading level0 row6\" >6</th>\n",
       "      <td id=\"T_49d53_row6_col0\" class=\"data row6 col0\" >B1</td>\n",
       "      <td id=\"T_49d53_row6_col1\" class=\"data row6 col1\" >onlap</td>\n",
       "      <td id=\"T_49d53_row6_col2\" class=\"data row6 col2\" >grf_ineq</td>\n",
       "      <td id=\"T_49d53_row6_col3\" class=\"data row6 col3\" >0: cub (w: 0.6, r: [60, 60]) </td>\n",
       "      <td id=\"T_49d53_row6_col4\" class=\"data row6 col4\" >SIS</td>\n",
       "      <td id=\"T_49d53_row6_col5\" class=\"data row6 col5\" >[Sand, Gravel, GM, SM]</td>\n",
       "    </tr>\n",
       "  </tbody>\n",
       "</table>\n"
      ],
      "text/plain": [
       "<pandas.io.formats.style.Styler at 0x277b03c79b0>"
      ]
     },
     "execution_count": 58,
     "metadata": {},
     "output_type": "execute_result"
    }
   ],
   "source": [
    "# display tables\n",
    "T1.get_sp(unit_kws=[\"covmodel\"])[0]"
   ]
  },
  {
   "cell_type": "code",
   "execution_count": 59,
   "metadata": {
    "execution": {
     "iopub.execute_input": "2025-09-16T08:03:31.190546Z",
     "iopub.status.busy": "2025-09-16T08:03:31.190546Z",
     "iopub.status.idle": "2025-09-16T08:03:31.198443Z",
     "shell.execute_reply": "2025-09-16T08:03:31.198443Z"
    }
   },
   "outputs": [
    {
     "data": {
      "text/html": [
       "<style type=\"text/css\">\n",
       "#T_da9e3_row0_col0, #T_da9e3_row0_col1, #T_da9e3_row0_col2, #T_da9e3_row0_col3 {\n",
       "  background-color: #ffff00;\n",
       "  color: black;\n",
       "}\n",
       "#T_da9e3_row1_col0, #T_da9e3_row1_col1, #T_da9e3_row1_col2, #T_da9e3_row1_col3 {\n",
       "  background-color: #90ee90;\n",
       "  color: black;\n",
       "}\n",
       "#T_da9e3_row2_col0, #T_da9e3_row2_col1, #T_da9e3_row2_col2, #T_da9e3_row2_col3 {\n",
       "  background-color: #8a2be2;\n",
       "  color: white;\n",
       "}\n",
       "#T_da9e3_row3_col0, #T_da9e3_row3_col1, #T_da9e3_row3_col2, #T_da9e3_row3_col3 {\n",
       "  background-color: #a52a2a;\n",
       "  color: white;\n",
       "}\n",
       "#T_da9e3_row4_col0, #T_da9e3_row4_col1, #T_da9e3_row4_col2, #T_da9e3_row4_col3 {\n",
       "  background-color: #0000ff;\n",
       "  color: white;\n",
       "}\n",
       "#T_da9e3_row5_col0, #T_da9e3_row5_col1, #T_da9e3_row5_col2, #T_da9e3_row5_col3 {\n",
       "  background-color: #daa520;\n",
       "  color: black;\n",
       "}\n",
       "#T_da9e3_row6_col0, #T_da9e3_row6_col1, #T_da9e3_row6_col2, #T_da9e3_row6_col3 {\n",
       "  background-color: #ff0000;\n",
       "  color: white;\n",
       "}\n",
       "</style>\n",
       "<table id=\"T_da9e3\">\n",
       "  <thead>\n",
       "    <tr>\n",
       "      <th class=\"blank level0\" >&nbsp;</th>\n",
       "      <th id=\"T_da9e3_level0_col0\" class=\"col_heading level0 col0\" >name</th>\n",
       "      <th id=\"T_da9e3_level0_col1\" class=\"col_heading level0 col1\" >property</th>\n",
       "      <th id=\"T_da9e3_level0_col2\" class=\"col_heading level0 col2\" >mean</th>\n",
       "      <th id=\"T_da9e3_level0_col3\" class=\"col_heading level0 col3\" >covmodels</th>\n",
       "    </tr>\n",
       "  </thead>\n",
       "  <tbody>\n",
       "    <tr>\n",
       "      <th id=\"T_da9e3_level0_row0\" class=\"row_heading level0 row0\" >0</th>\n",
       "      <td id=\"T_da9e3_row0_col0\" class=\"data row0 col0\" >Sand</td>\n",
       "      <td id=\"T_da9e3_row0_col1\" class=\"data row0 col1\" >K</td>\n",
       "      <td id=\"T_da9e3_row0_col2\" class=\"data row0 col2\" >-3.500000</td>\n",
       "      <td id=\"T_da9e3_row0_col3\" class=\"data row0 col3\" >0: sph (w: 0.1, r: [3, 3, 1]) </td>\n",
       "    </tr>\n",
       "    <tr>\n",
       "      <th id=\"T_da9e3_level0_row1\" class=\"row_heading level0 row1\" >1</th>\n",
       "      <td id=\"T_da9e3_row1_col0\" class=\"data row1 col0\" >Gravel</td>\n",
       "      <td id=\"T_da9e3_row1_col1\" class=\"data row1 col1\" >K</td>\n",
       "      <td id=\"T_da9e3_row1_col2\" class=\"data row1 col2\" >-2.000000</td>\n",
       "      <td id=\"T_da9e3_row1_col3\" class=\"data row1 col3\" >0: exp (w: 0.3, r: [5, 5, 1]) </td>\n",
       "    </tr>\n",
       "    <tr>\n",
       "      <th id=\"T_da9e3_level0_row2\" class=\"row_heading level0 row2\" >2</th>\n",
       "      <td id=\"T_da9e3_row2_col0\" class=\"data row2 col0\" >GM</td>\n",
       "      <td id=\"T_da9e3_row2_col1\" class=\"data row2 col1\" >K</td>\n",
       "      <td id=\"T_da9e3_row2_col2\" class=\"data row2 col2\" >-4.500000</td>\n",
       "      <td id=\"T_da9e3_row2_col3\" class=\"data row2 col3\" >0: exp (w: 0.3, r: [5, 5, 1]) </td>\n",
       "    </tr>\n",
       "    <tr>\n",
       "      <th id=\"T_da9e3_level0_row3\" class=\"row_heading level0 row3\" >3</th>\n",
       "      <td id=\"T_da9e3_row3_col0\" class=\"data row3 col0\" >SM</td>\n",
       "      <td id=\"T_da9e3_row3_col1\" class=\"data row3 col1\" >K</td>\n",
       "      <td id=\"T_da9e3_row3_col2\" class=\"data row3 col2\" >-5.500000</td>\n",
       "      <td id=\"T_da9e3_row3_col3\" class=\"data row3 col3\" >0: sph (w: 0.1, r: [3, 3, 1]) </td>\n",
       "    </tr>\n",
       "    <tr>\n",
       "      <th id=\"T_da9e3_level0_row4\" class=\"row_heading level0 row4\" >4</th>\n",
       "      <td id=\"T_da9e3_row4_col0\" class=\"data row4 col0\" >Clay</td>\n",
       "      <td id=\"T_da9e3_row4_col1\" class=\"data row4 col1\" >K</td>\n",
       "      <td id=\"T_da9e3_row4_col2\" class=\"data row4 col2\" >-8.000000</td>\n",
       "      <td id=\"T_da9e3_row4_col3\" class=\"data row4 col3\" >None</td>\n",
       "    </tr>\n",
       "    <tr>\n",
       "      <th id=\"T_da9e3_level0_row5\" class=\"row_heading level0 row5\" >5</th>\n",
       "      <td id=\"T_da9e3_row5_col0\" class=\"data row5 col0\" >Silt</td>\n",
       "      <td id=\"T_da9e3_row5_col1\" class=\"data row5 col1\" >K</td>\n",
       "      <td id=\"T_da9e3_row5_col2\" class=\"data row5 col2\" >-6.500000</td>\n",
       "      <td id=\"T_da9e3_row5_col3\" class=\"data row5 col3\" >0: exp (w: 0.3, r: [5, 5, 1]) </td>\n",
       "    </tr>\n",
       "    <tr>\n",
       "      <th id=\"T_da9e3_level0_row6\" class=\"row_heading level0 row6\" >6</th>\n",
       "      <td id=\"T_da9e3_row6_col0\" class=\"data row6 col0\" >basement</td>\n",
       "      <td id=\"T_da9e3_row6_col1\" class=\"data row6 col1\" >K</td>\n",
       "      <td id=\"T_da9e3_row6_col2\" class=\"data row6 col2\" >-10.000000</td>\n",
       "      <td id=\"T_da9e3_row6_col3\" class=\"data row6 col3\" >None</td>\n",
       "    </tr>\n",
       "  </tbody>\n",
       "</table>\n"
      ],
      "text/plain": [
       "<pandas.io.formats.style.Styler at 0x277b27af3b0>"
      ]
     },
     "execution_count": 59,
     "metadata": {},
     "output_type": "execute_result"
    }
   ],
   "source": [
    "T1.get_sp()[1]"
   ]
  },
  {
   "cell_type": "markdown",
   "metadata": {},
   "source": [
    "Get geology just at one location wiht 1D interpolator"
   ]
  },
  {
   "cell_type": "code",
   "execution_count": 60,
   "metadata": {},
   "outputs": [
    {
     "name": "stdout",
     "output_type": "stream",
     "text": [
      "########## PILE P1 ##########\n",
      "Pile P1: ordering units\n",
      "Stratigraphic units have been sorted according to order\n",
      "\n",
      "#### COMPUTING SURFACE OF UNIT A\n",
      "A: time elapsed for computing surface 0.002992391586303711 s\n",
      "\n",
      "#### COMPUTING SURFACE OF UNIT B\n",
      "B: time elapsed for computing surface 0.0043087005615234375 s\n",
      "\n",
      "#### COMPUTING SURFACE OF UNIT C\n",
      "C: time elapsed for computing surface 0.012131452560424805 s\n",
      "\n",
      "#### COMPUTING SURFACE OF UNIT D\n",
      "D: time elapsed for computing surface 0.0 s\n",
      "\n",
      "Time elapsed for getting domains 0.01726984977722168 s\n",
      "##########################\n",
      "\n",
      "########## PILE PB ##########\n",
      "Pile PB: ordering units\n",
      "Stratigraphic units have been sorted according to order\n",
      "\n",
      "#### COMPUTING SURFACE OF UNIT B1\n",
      "B1: time elapsed for computing surface 0.00104522705078125 s\n",
      "\n",
      "#### COMPUTING SURFACE OF UNIT B2\n",
      "B2: time elapsed for computing surface 0.0025043487548828125 s\n",
      "\n",
      "#### COMPUTING SURFACE OF UNIT B3\n",
      "B3: time elapsed for computing surface 0.0 s\n",
      "\n",
      "Time elapsed for getting domains 0.012000083923339844 s\n",
      "##########################\n",
      "\n",
      "\n",
      "### 0.05749058723449707: Total time elapsed for computing surfaces ###\n"
     ]
    }
   ],
   "source": [
    "T1.compute_surf(1)"
   ]
  },
  {
   "cell_type": "code",
   "execution_count": 62,
   "metadata": {},
   "outputs": [
    {
     "data": {
      "application/vnd.jupyter.widget-view+json": {
       "model_id": "7fe90f558bac454c8087df61dc676e44",
       "version_major": 2,
       "version_minor": 0
      },
      "text/plain": [
       "Widget(value='<iframe src=\"http://localhost:52173/index.html?ui=P_0x277b2994d40_2&reconnect=auto\" class=\"pyvis…"
      ]
     },
     "metadata": {},
     "output_type": "display_data"
    }
   ],
   "source": [
    "T1.plot_units(0)"
   ]
  },
  {
   "cell_type": "code",
   "execution_count": null,
   "metadata": {},
   "outputs": [
    {
     "data": {
      "text/plain": [
       "<matplotlib.image.AxesImage at 0x277b27cd280>"
      ]
     },
     "execution_count": 64,
     "metadata": {},
     "output_type": "execute_result"
    },
    {
     "data": {
      "image/png": "[encoded data removed]",
      "text/plain": [
       "<Figure size 640x480 with 1 Axes>"
      ]
     },
     "metadata": {},
     "output_type": "display_data"
    }
   ],
   "source": []
  },
  {
   "cell_type": "code",
   "execution_count": null,
   "metadata": {},
   "outputs": [],
   "source": [
    "domain[15, 55] = 1\n",
    "domain[35, 102] = 1\n",
    "domain[65, 35] = 1"
   ]
  },
  {
   "cell_type": "code",
   "execution_count": null,
   "metadata": {},
   "outputs": [],
   "source": []
  },
  {
   "cell_type": "code",
   "execution_count": 48,
   "metadata": {},
   "outputs": [
    {
     "data": {
      "text/plain": [
       "<matplotlib.image.AxesImage at 0x2b98fe47350>"
      ]
     },
     "execution_count": 48,
     "metadata": {},
     "output_type": "execute_result"
    },
    {
     "data": {
      "image/png": "[encoded data removed]",
      "text/plain": [
       "<Figure size 640x480 with 1 Axes>"
      ]
     },
     "metadata": {},
     "output_type": "display_data"
    }
   ],
   "source": [
    "plt.imshow(T1.get_units_domains_realizations(fill=\"color\")[:, :, 65, 35])"
   ]
  },
  {
   "cell_type": "code",
   "execution_count": 49,
   "metadata": {
    "execution": {
     "iopub.execute_input": "2025-09-16T08:03:33.708950Z",
     "iopub.status.busy": "2025-09-16T08:03:33.708950Z",
     "iopub.status.idle": "2025-09-16T08:03:33.815967Z",
     "shell.execute_reply": "2025-09-16T08:03:33.815967Z"
    }
   },
   "outputs": [
    {
     "data": {
      "text/plain": [
       "<matplotlib.image.AxesImage at 0x2b96ec8a060>"
      ]
     },
     "execution_count": 49,
     "metadata": {},
     "output_type": "execute_result"
    },
    {
     "data": {
      "image/png": "[encoded data removed]",
      "text/plain": [
       "<Figure size 640x480 with 1 Axes>"
      ]
     },
     "metadata": {},
     "output_type": "display_data"
    }
   ],
   "source": [
    "plt.imshow(T1.get_surfaces_unit(C)[0])"
   ]
  },
  {
   "cell_type": "markdown",
   "metadata": {},
   "source": [
    "### Plotting units\n",
    "\n",
    "ArchPy integrates multiple plotting utilities that mostly rely on Pyvista and Geone.\n",
    "Below are some examples"
   ]
  },
  {
   "cell_type": "code",
   "execution_count": 52,
   "metadata": {
    "execution": {
     "iopub.execute_input": "2025-09-16T08:03:33.817961Z",
     "iopub.status.busy": "2025-09-16T08:03:33.817961Z",
     "iopub.status.idle": "2025-09-16T08:03:34.569386Z",
     "shell.execute_reply": "2025-09-16T08:03:34.569386Z"
    }
   },
   "outputs": [
    {
     "data": {
      "application/vnd.jupyter.widget-view+json": {
       "model_id": "39d6261750794e5089a03dd706488088",
       "version_major": 2,
       "version_minor": 0
      },
      "text/plain": [
       "Widget(value='<iframe src=\"http://localhost:54726/index.html?ui=P_0x2b96180b320_5&reconnect=auto\" class=\"pyvis…"
      ]
     },
     "metadata": {},
     "output_type": "display_data"
    }
   ],
   "source": [
    "p = pv.Plotter()\n",
    "v_ex = 1\n",
    "\n",
    "T1.plot_units(2, v_ex=v_ex, plotter=p)\n",
    "T1.plot_bhs(plotter=p, v_ex=v_ex)\n",
    "p.show()"
   ]
  },
  {
   "cell_type": "code",
   "execution_count": null,
   "metadata": {},
   "outputs": [],
   "source": []
  },
  {
   "cell_type": "markdown",
   "metadata": {},
   "source": [
    "ArchPy also integrates probability plotting functions which allow to plot any ArchPy object such as units or facies"
   ]
  },
  {
   "cell_type": "code",
   "execution_count": 54,
   "metadata": {
    "execution": {
     "iopub.execute_input": "2025-09-16T08:03:34.750356Z",
     "iopub.status.busy": "2025-09-16T08:03:34.750356Z",
     "iopub.status.idle": "2025-09-16T08:03:35.041980Z",
     "shell.execute_reply": "2025-09-16T08:03:35.041980Z"
    }
   },
   "outputs": [
    {
     "data": {
      "application/vnd.jupyter.widget-view+json": {
       "model_id": "9794f7b0f9ff4bcf9a8ca32681451225",
       "version_major": 2,
       "version_minor": 0
      },
      "text/plain": [
       "Widget(value='<iframe src=\"http://localhost:54726/index.html?ui=P_0x2b9a88d5700_6&reconnect=auto\" class=\"pyvis…"
      ]
     },
     "metadata": {},
     "output_type": "display_data"
    }
   ],
   "source": [
    "T1.plot_proba(C, filtering_interval=[0.01, 1])"
   ]
  },
  {
   "cell_type": "code",
   "execution_count": 55,
   "metadata": {
    "execution": {
     "iopub.execute_input": "2025-09-16T08:03:35.043977Z",
     "iopub.status.busy": "2025-09-16T08:03:35.043977Z",
     "iopub.status.idle": "2025-09-16T08:04:05.474838Z",
     "shell.execute_reply": "2025-09-16T08:04:05.474838Z"
    },
    "scrolled": true
   },
   "outputs": [
    {
     "name": "stdout",
     "output_type": "stream",
     "text": [
      "\n",
      "### Unit D: facies simulation with TPGs method ####\n",
      "### Unit D - realization 0 ###\n",
      "### Unit D - realization 1 ###\n",
      "### Unit D - realization 2 ###\n",
      "### Unit D - realization 3 ###\n",
      "### Unit D - realization 4 ###\n",
      "### Unit D - realization 5 ###\n",
      "### Unit D - realization 6 ###\n",
      "### Unit D - realization 7 ###\n",
      "### Unit D - realization 8 ###\n",
      "### Unit D - realization 9 ###\n",
      "Time elapsed 3.18 s\n",
      "\n",
      "### Unit C: facies simulation with SIS method ####\n",
      "### Unit C - realization 0 ###\n",
      "Only one facies covmodels for multiples facies, adapt sill to right proportions\n",
      "### Unit C - realization 1 ###\n",
      "### Unit C - realization 2 ###\n",
      "### Unit C - realization 3 ###\n",
      "### Unit C - realization 4 ###\n",
      "### Unit C - realization 5 ###\n",
      "### Unit C - realization 6 ###\n",
      "### Unit C - realization 7 ###\n",
      "### Unit C - realization 8 ###\n",
      "### Unit C - realization 9 ###\n",
      "Time elapsed 0.22 s\n",
      "\n",
      "### Unit B: facies simulation with SubPile method ####\n",
      "SubPile filling method, nothing happened\n",
      "Time elapsed 0.0 s\n",
      "\n",
      "### Unit A: facies simulation with homogenous method ####\n",
      "### Unit A - realization 0 ###\n",
      "### Unit A - realization 1 ###\n",
      "### Unit A - realization 2 ###\n",
      "### Unit A - realization 3 ###\n",
      "### Unit A - realization 4 ###\n",
      "### Unit A - realization 5 ###\n",
      "### Unit A - realization 6 ###\n",
      "### Unit A - realization 7 ###\n",
      "### Unit A - realization 8 ###\n",
      "### Unit A - realization 9 ###\n",
      "Time elapsed 0.02 s\n",
      "\n",
      "### Unit B3: facies simulation with SIS method ####\n",
      "### Unit B3 - realization 0 ###\n",
      "Only one facies covmodels for multiples facies, adapt sill to right proportions\n",
      "### Unit B3 - realization 1 ###\n",
      "### Unit B3 - realization 2 ###\n",
      "### Unit B3 - realization 3 ###\n",
      "### Unit B3 - realization 4 ###\n",
      "### Unit B3 - realization 5 ###\n",
      "### Unit B3 - realization 6 ###\n",
      "### Unit B3 - realization 7 ###\n",
      "### Unit B3 - realization 8 ###\n",
      "### Unit B3 - realization 9 ###\n",
      "Time elapsed 0.22 s\n",
      "\n",
      "### Unit B2: facies simulation with SIS method ####\n",
      "### Unit B2 - realization 0 ###\n",
      "Only one facies covmodels for multiples facies, adapt sill to right proportions\n",
      "### Unit B2 - realization 1 ###\n",
      "### Unit B2 - realization 2 ###\n",
      "### Unit B2 - realization 3 ###\n",
      "### Unit B2 - realization 4 ###\n",
      "### Unit B2 - realization 5 ###\n",
      "### Unit B2 - realization 6 ###\n",
      "### Unit B2 - realization 7 ###\n",
      "### Unit B2 - realization 8 ###\n",
      "### Unit B2 - realization 9 ###\n",
      "Time elapsed 0.22 s\n",
      "\n",
      "### Unit B1: facies simulation with SIS method ####\n",
      "### Unit B1 - realization 0 ###\n",
      "Only one facies covmodels for multiples facies, adapt sill to right proportions\n",
      "### Unit B1 - realization 1 ###\n",
      "### Unit B1 - realization 2 ###\n",
      "### Unit B1 - realization 3 ###\n",
      "### Unit B1 - realization 4 ###\n",
      "### Unit B1 - realization 5 ###\n",
      "### Unit B1 - realization 6 ###\n",
      "### Unit B1 - realization 7 ###\n",
      "### Unit B1 - realization 8 ###\n",
      "### Unit B1 - realization 9 ###\n",
      "Time elapsed 0.22 s\n",
      "\n",
      "### 4.07: Total time elapsed for computing facies ###\n"
     ]
    }
   ],
   "source": [
    "T1.compute_facies(1, verbose_methods=0)"
   ]
  },
  {
   "cell_type": "code",
   "execution_count": 56,
   "metadata": {
    "execution": {
     "iopub.execute_input": "2025-09-16T08:04:05.477841Z",
     "iopub.status.busy": "2025-09-16T08:04:05.476841Z",
     "iopub.status.idle": "2025-09-16T08:04:05.904972Z",
     "shell.execute_reply": "2025-09-16T08:04:05.904972Z"
    }
   },
   "outputs": [
    {
     "data": {
      "application/vnd.jupyter.widget-view+json": {
       "model_id": "192b9ca427aa4b23bb2190f0d51798bb",
       "version_major": 2,
       "version_minor": 0
      },
      "text/plain": [
       "Widget(value='<iframe src=\"http://localhost:54726/index.html?ui=P_0x2b9a88d4290_7&reconnect=auto\" class=\"pyvis…"
      ]
     },
     "metadata": {},
     "output_type": "display_data"
    }
   ],
   "source": [
    "T1.plot_facies(v_ex=v_ex)"
   ]
  },
  {
   "cell_type": "code",
   "execution_count": 65,
   "metadata": {
    "execution": {
     "iopub.execute_input": "2025-09-16T08:04:06.161880Z",
     "iopub.status.busy": "2025-09-16T08:04:06.160879Z",
     "iopub.status.idle": "2025-09-16T08:04:06.478859Z",
     "shell.execute_reply": "2025-09-16T08:04:06.478859Z"
    }
   },
   "outputs": [
    {
     "data": {
      "application/vnd.jupyter.widget-view+json": {
       "model_id": "1c9930c35b1948a2b2c16837b75b5d44",
       "version_major": 2,
       "version_minor": 0
      },
      "text/plain": [
       "Widget(value='<iframe src=\"http://localhost:54726/index.html?ui=P_0x2b9d4f16150_12&reconnect=auto\" class=\"pyvi…"
      ]
     },
     "metadata": {},
     "output_type": "display_data"
    }
   ],
   "source": [
    "T1.plot_proba(facies_1,filtering_interval=[0.1,1], v_ex=v_ex) # sand"
   ]
  },
  {
   "cell_type": "markdown",
   "metadata": {},
   "source": [
    "Property hard data can be passed by a list of coordinates and values"
   ]
  },
  {
   "cell_type": "code",
   "execution_count": 59,
   "metadata": {
    "execution": {
     "iopub.execute_input": "2025-09-16T08:04:06.482859Z",
     "iopub.status.busy": "2025-09-16T08:04:06.481858Z",
     "iopub.status.idle": "2025-09-16T08:04:06.486151Z",
     "shell.execute_reply": "2025-09-16T08:04:06.486151Z"
    }
   },
   "outputs": [],
   "source": [
    "#prop hd\n",
    "\n",
    "ix = np.arange(x0, nx*sx+x0, sx)\n",
    "n = len(ix)\n",
    "x_hd = np.array((ix, np.ones(n)*5, np.ones(n)*-10)).T\n",
    "v = np.ones(n)*-1"
   ]
  },
  {
   "cell_type": "code",
   "execution_count": 60,
   "metadata": {
    "execution": {
     "iopub.execute_input": "2025-09-16T08:04:06.488149Z",
     "iopub.status.busy": "2025-09-16T08:04:06.488149Z",
     "iopub.status.idle": "2025-09-16T08:04:06.490734Z",
     "shell.execute_reply": "2025-09-16T08:04:06.490734Z"
    }
   },
   "outputs": [],
   "source": [
    "permea.x = None\n",
    "permea.v = None"
   ]
  },
  {
   "cell_type": "code",
   "execution_count": 61,
   "metadata": {
    "execution": {
     "iopub.execute_input": "2025-09-16T08:04:06.492733Z",
     "iopub.status.busy": "2025-09-16T08:04:06.492733Z",
     "iopub.status.idle": "2025-09-16T08:04:06.495244Z",
     "shell.execute_reply": "2025-09-16T08:04:06.495244Z"
    }
   },
   "outputs": [],
   "source": [
    "permea.add_hd(x_hd, v)"
   ]
  },
  {
   "cell_type": "code",
   "execution_count": 62,
   "metadata": {
    "execution": {
     "iopub.execute_input": "2025-09-16T08:04:06.497243Z",
     "iopub.status.busy": "2025-09-16T08:04:06.497243Z",
     "iopub.status.idle": "2025-09-16T08:04:45.547904Z",
     "shell.execute_reply": "2025-09-16T08:04:45.547904Z"
    },
    "scrolled": true
   },
   "outputs": [
    {
     "name": "stdout",
     "output_type": "stream",
     "text": [
      "### 20 K property models will be modeled ###\n",
      "homogenous method chosen ! Warning: Some HD can be not respected\n",
      "homogenous method chosen ! Warning: Some HD can be not respected\n",
      "### 2 K models done\n",
      "homogenous method chosen ! Warning: Some HD can be not respected\n",
      "homogenous method chosen ! Warning: Some HD can be not respected\n",
      "### 4 K models done\n",
      "homogenous method chosen ! Warning: Some HD can be not respected\n",
      "homogenous method chosen ! Warning: Some HD can be not respected\n",
      "### 6 K models done\n",
      "homogenous method chosen ! Warning: Some HD can be not respected\n",
      "homogenous method chosen ! Warning: Some HD can be not respected\n",
      "### 8 K models done\n",
      "homogenous method chosen ! Warning: Some HD can be not respected\n",
      "homogenous method chosen ! Warning: Some HD can be not respected\n",
      "### 10 K models done\n",
      "homogenous method chosen ! Warning: Some HD can be not respected\n",
      "### 12 K models done\n",
      "homogenous method chosen ! Warning: Some HD can be not respected\n",
      "homogenous method chosen ! Warning: Some HD can be not respected\n",
      "### 14 K models done\n",
      "homogenous method chosen ! Warning: Some HD can be not respected\n",
      "homogenous method chosen ! Warning: Some HD can be not respected\n",
      "### 16 K models done\n",
      "homogenous method chosen ! Warning: Some HD can be not respected\n",
      "homogenous method chosen ! Warning: Some HD can be not respected\n",
      "### 18 K models done\n",
      "homogenous method chosen ! Warning: Some HD can be not respected\n",
      "homogenous method chosen ! Warning: Some HD can be not respected\n",
      "### 20 K models done\n"
     ]
    }
   ],
   "source": [
    "T1.compute_prop(2)"
   ]
  },
  {
   "cell_type": "code",
   "execution_count": 64,
   "metadata": {
    "execution": {
     "iopub.execute_input": "2025-09-16T08:04:45.550901Z",
     "iopub.status.busy": "2025-09-16T08:04:45.549901Z",
     "iopub.status.idle": "2025-09-16T08:04:45.874728Z",
     "shell.execute_reply": "2025-09-16T08:04:45.874728Z"
    },
    "tags": [
     "nbsphinx-thumbnail"
    ]
   },
   "outputs": [
    {
     "data": {
      "application/vnd.jupyter.widget-view+json": {
       "model_id": "92db4a2a85da4d01a9c67500bff5bd3d",
       "version_major": 2,
       "version_minor": 0
      },
      "text/plain": [
       "Widget(value='<iframe src=\"http://localhost:54726/index.html?ui=P_0x2b9d4f1bf50_11&reconnect=auto\" class=\"pyvi…"
      ]
     },
     "metadata": {},
     "output_type": "display_data"
    }
   ],
   "source": [
    "T1.plot_prop(permea.name, 0, v_ex=v_ex)"
   ]
  }
 ],
 "metadata": {
  "celltoolbar": "Aucun(e)",
  "kernelspec": {
   "display_name": "archpy_work",
   "language": "python",
   "name": "python3"
  },
  "language_info": {
   "codemirror_mode": {
    "name": "ipython",
    "version": 3
   },
   "file_extension": ".py",
   "mimetype": "text/x-python",
   "name": "python",
   "nbconvert_exporter": "python",
   "pygments_lexer": "ipython3",
   "version": "3.12.11"
  }
 },
 "nbformat": 4,
 "nbformat_minor": 4
}

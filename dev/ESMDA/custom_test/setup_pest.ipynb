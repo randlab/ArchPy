{
 "cells": [
  {
   "cell_type": "code",
   "execution_count": 18,
   "id": "e4a8f91e",
   "metadata": {},
   "outputs": [],
   "source": [
    "import numpy as np\n",
    "import matplotlib\n",
    "from matplotlib import colors\n",
    "import matplotlib.pyplot as plt\n",
    "import geone\n",
    "import geone.covModel as gcm\n",
    "import geone.imgplot3d as imgplt3\n",
    "import pyvista as pv\n",
    "import sys\n",
    "import os\n",
    "import flopy as fp\n",
    "import pyemu\n",
    "\n",
    "sys.path.append(\"../../../\")\n",
    "#my modules\n",
    "from ArchPy.base import *\n",
    "from ArchPy.tpgs import *"
   ]
  },
  {
   "cell_type": "code",
   "execution_count": 19,
   "id": "20fe9aa9",
   "metadata": {},
   "outputs": [
    {
     "name": "stdout",
     "output_type": "stream",
     "text": [
      "loading simulation...\n",
      "  loading simulation name file...\n",
      "  loading tdis package...\n",
      "  loading model gwf6...\n",
      "    loading package dis...\n",
      "    loading package oc...\n",
      "    loading package ic...\n",
      "    loading package npf...\n",
      "    loading package chd...\n",
      "    loading package obs...\n",
      "  loading solution package test...\n"
     ]
    }
   ],
   "source": [
    "tmp_model_ws = \"reference\"\n",
    "sim = fp.mf6.MFSimulation.load(sim_ws=tmp_model_ws)\n",
    "m = sim.get_model(\"test\")"
   ]
  },
  {
   "cell_type": "code",
   "execution_count": 20,
   "id": "10a760e2",
   "metadata": {},
   "outputs": [
    {
     "name": "stdout",
     "output_type": "stream",
     "text": [
      "   could not remove start_datetime\n",
      "2025-09-04 12:29:45.128287 starting: opening PstFrom.log for logging\n",
      "2025-09-04 12:29:45.128287 starting PstFrom process\n",
      "2025-09-04 12:29:45.129250 starting: setting up dirs\n",
      "2025-09-04 12:29:45.130250 starting: removing existing new_d 'template'\n",
      "2025-09-04 12:29:45.131248 finished: removing existing new_d 'template' took: 0:00:00.000998\n",
      "2025-09-04 12:29:45.131248 starting: copying original_d 'reference' to new_d 'template'\n",
      "2025-09-04 12:29:45.166591 finished: copying original_d 'reference' to new_d 'template' took: 0:00:00.035343\n",
      "2025-09-04 12:29:45.167597 finished: setting up dirs took: 0:00:00.038347\n"
     ]
    }
   ],
   "source": [
    "sr = pyemu.helpers.SpatialReference.from_namfile(\n",
    "        os.path.join(tmp_model_ws, \"test.nam\"),\n",
    "        delr=m.dis.delr.array, delc=m.dis.delc.array)\n",
    "sr\n",
    "template_ws = \"template\"\n",
    "pf = pyemu.utils.PstFrom(original_d=tmp_model_ws, new_d=template_ws,\n",
    "                 remove_existing=True,\n",
    "                 longnames=True, spatial_reference=sr,\n",
    "                 zero_based=False,start_datetime=\"1-1-2025\")"
   ]
  },
  {
   "cell_type": "code",
   "execution_count": 21,
   "id": "4a3f2a11",
   "metadata": {},
   "outputs": [
    {
     "data": {
      "text/plain": [
       "'reference'"
      ]
     },
     "execution_count": 21,
     "metadata": {},
     "output_type": "execute_result"
    }
   ],
   "source": [
    "tmp_model_ws"
   ]
  },
  {
   "cell_type": "markdown",
   "id": "50632da5",
   "metadata": {},
   "source": [
    "## Observations"
   ]
  },
  {
   "cell_type": "code",
   "execution_count": 22,
   "metadata": {},
   "outputs": [
    {
     "data": {
      "text/html": [
       "<div>\n",
       "<style scoped>\n",
       "    .dataframe tbody tr th:only-of-type {\n",
       "        vertical-align: middle;\n",
       "    }\n",
       "\n",
       "    .dataframe tbody tr th {\n",
       "        vertical-align: top;\n",
       "    }\n",
       "\n",
       "    .dataframe thead th {\n",
       "        text-align: right;\n",
       "    }\n",
       "</style>\n",
       "<table border=\"1\" class=\"dataframe\">\n",
       "  <thead>\n",
       "    <tr style=\"text-align: right;\">\n",
       "      <th></th>\n",
       "      <th>H1</th>\n",
       "      <th>H2</th>\n",
       "      <th>H3</th>\n",
       "      <th>H4</th>\n",
       "      <th>H5</th>\n",
       "      <th>H6</th>\n",
       "      <th>H7</th>\n",
       "      <th>H8</th>\n",
       "      <th>H9</th>\n",
       "      <th>H10</th>\n",
       "    </tr>\n",
       "    <tr>\n",
       "      <th>time</th>\n",
       "      <th></th>\n",
       "      <th></th>\n",
       "      <th></th>\n",
       "      <th></th>\n",
       "      <th></th>\n",
       "      <th></th>\n",
       "      <th></th>\n",
       "      <th></th>\n",
       "      <th></th>\n",
       "      <th></th>\n",
       "    </tr>\n",
       "  </thead>\n",
       "  <tbody>\n",
       "    <tr>\n",
       "      <th>1.0</th>\n",
       "      <td>0.73881</td>\n",
       "      <td>0.425</td>\n",
       "      <td>0.42667</td>\n",
       "      <td>0.11038</td>\n",
       "      <td>0.025822</td>\n",
       "      <td>0.037492</td>\n",
       "      <td>0.17995</td>\n",
       "      <td>0.048933</td>\n",
       "      <td>0.79004</td>\n",
       "      <td>0.26967</td>\n",
       "    </tr>\n",
       "  </tbody>\n",
       "</table>\n",
       "</div>"
      ],
      "text/plain": [
       "           H1     H2       H3       H4        H5        H6       H7        H8       H9      H10\n",
       "time                                                                                           \n",
       "1.0   0.73881  0.425  0.42667  0.11038  0.025822  0.037492  0.17995  0.048933  0.79004  0.26967"
      ]
     },
     "execution_count": 22,
     "metadata": {},
     "output_type": "execute_result"
    }
   ],
   "source": [
    "df = pd.read_csv(os.path.join(tmp_model_ws,\"head_obs_ref.csv\"),index_col=0)\n",
    "df"
   ]
  },
  {
   "cell_type": "code",
   "execution_count": 23,
   "id": "7ad1a86e",
   "metadata": {},
   "outputs": [],
   "source": [
    "# open(os.path.join(tmp_model_ws,\"head_obs_ref.csv\"))"
   ]
  },
  {
   "cell_type": "code",
   "execution_count": 24,
   "id": "d50d56ea",
   "metadata": {},
   "outputs": [
    {
     "name": "stdout",
     "output_type": "stream",
     "text": [
      "2025-09-04 12:29:45.303524 starting: adding observations from output file head_obs_ref.csv\n",
      "2025-09-04 12:29:45.304548 starting: adding observations from tabular output file '['head_obs_ref.csv']'\n",
      "2025-09-04 12:29:45.304548 starting: reading list-style file: template\\head_obs_ref.csv\n",
      "2025-09-04 12:29:45.310541 finished: reading list-style file: template\\head_obs_ref.csv took: 0:00:00.005993\n",
      "2025-09-04 12:29:45.314538 starting: building insfile for tabular output file head_obs_ref.csv\n",
      "2025-09-04 12:29:45.325542 finished: building insfile for tabular output file head_obs_ref.csv took: 0:00:00.011004\n",
      "2025-09-04 12:29:45.325542 starting: adding observation from instruction file 'template\\head_obs_ref.csv.ins'\n",
      "2025-09-04 12:29:45.335623 finished: adding observation from instruction file 'template\\head_obs_ref.csv.ins' took: 0:00:00.010081\n",
      "2025-09-04 12:29:45.336572 finished: adding observations from tabular output file '['head_obs_ref.csv']' took: 0:00:00.032024\n",
      "2025-09-04 12:29:45.336572 finished: adding observations from output file head_obs_ref.csv took: 0:00:00.033048\n"
     ]
    },
    {
     "data": {
      "text/html": [
       "<div>\n",
       "<style scoped>\n",
       "    .dataframe tbody tr th:only-of-type {\n",
       "        vertical-align: middle;\n",
       "    }\n",
       "\n",
       "    .dataframe tbody tr th {\n",
       "        vertical-align: top;\n",
       "    }\n",
       "\n",
       "    .dataframe thead th {\n",
       "        text-align: right;\n",
       "    }\n",
       "</style>\n",
       "<table border=\"1\" class=\"dataframe\">\n",
       "  <thead>\n",
       "    <tr style=\"text-align: right;\">\n",
       "      <th></th>\n",
       "      <th>obsnme</th>\n",
       "      <th>obsval</th>\n",
       "      <th>weight</th>\n",
       "      <th>obgnme</th>\n",
       "    </tr>\n",
       "  </thead>\n",
       "  <tbody>\n",
       "    <tr>\n",
       "      <th>oname:hds_otype:lst_usecol:h10_time:1</th>\n",
       "      <td>oname:hds_otype:lst_usecol:h10_time:1</td>\n",
       "      <td>0.269670</td>\n",
       "      <td>1.0</td>\n",
       "      <td>oname:hds_otype:lst_usecol:h10</td>\n",
       "    </tr>\n",
       "    <tr>\n",
       "      <th>oname:hds_otype:lst_usecol:h1_time:1</th>\n",
       "      <td>oname:hds_otype:lst_usecol:h1_time:1</td>\n",
       "      <td>0.738810</td>\n",
       "      <td>1.0</td>\n",
       "      <td>oname:hds_otype:lst_usecol:h1</td>\n",
       "    </tr>\n",
       "    <tr>\n",
       "      <th>oname:hds_otype:lst_usecol:h2_time:1</th>\n",
       "      <td>oname:hds_otype:lst_usecol:h2_time:1</td>\n",
       "      <td>0.425000</td>\n",
       "      <td>1.0</td>\n",
       "      <td>oname:hds_otype:lst_usecol:h2</td>\n",
       "    </tr>\n",
       "    <tr>\n",
       "      <th>oname:hds_otype:lst_usecol:h3_time:1</th>\n",
       "      <td>oname:hds_otype:lst_usecol:h3_time:1</td>\n",
       "      <td>0.426670</td>\n",
       "      <td>1.0</td>\n",
       "      <td>oname:hds_otype:lst_usecol:h3</td>\n",
       "    </tr>\n",
       "    <tr>\n",
       "      <th>oname:hds_otype:lst_usecol:h4_time:1</th>\n",
       "      <td>oname:hds_otype:lst_usecol:h4_time:1</td>\n",
       "      <td>0.110380</td>\n",
       "      <td>1.0</td>\n",
       "      <td>oname:hds_otype:lst_usecol:h4</td>\n",
       "    </tr>\n",
       "    <tr>\n",
       "      <th>oname:hds_otype:lst_usecol:h5_time:1</th>\n",
       "      <td>oname:hds_otype:lst_usecol:h5_time:1</td>\n",
       "      <td>0.025822</td>\n",
       "      <td>1.0</td>\n",
       "      <td>oname:hds_otype:lst_usecol:h5</td>\n",
       "    </tr>\n",
       "    <tr>\n",
       "      <th>oname:hds_otype:lst_usecol:h6_time:1</th>\n",
       "      <td>oname:hds_otype:lst_usecol:h6_time:1</td>\n",
       "      <td>0.037492</td>\n",
       "      <td>1.0</td>\n",
       "      <td>oname:hds_otype:lst_usecol:h6</td>\n",
       "    </tr>\n",
       "    <tr>\n",
       "      <th>oname:hds_otype:lst_usecol:h7_time:1</th>\n",
       "      <td>oname:hds_otype:lst_usecol:h7_time:1</td>\n",
       "      <td>0.179950</td>\n",
       "      <td>1.0</td>\n",
       "      <td>oname:hds_otype:lst_usecol:h7</td>\n",
       "    </tr>\n",
       "    <tr>\n",
       "      <th>oname:hds_otype:lst_usecol:h8_time:1</th>\n",
       "      <td>oname:hds_otype:lst_usecol:h8_time:1</td>\n",
       "      <td>0.048933</td>\n",
       "      <td>1.0</td>\n",
       "      <td>oname:hds_otype:lst_usecol:h8</td>\n",
       "    </tr>\n",
       "    <tr>\n",
       "      <th>oname:hds_otype:lst_usecol:h9_time:1</th>\n",
       "      <td>oname:hds_otype:lst_usecol:h9_time:1</td>\n",
       "      <td>0.790040</td>\n",
       "      <td>1.0</td>\n",
       "      <td>oname:hds_otype:lst_usecol:h9</td>\n",
       "    </tr>\n",
       "  </tbody>\n",
       "</table>\n",
       "</div>"
      ],
      "text/plain": [
       "                                                                      obsnme    obsval  weight                          obgnme\n",
       "oname:hds_otype:lst_usecol:h10_time:1  oname:hds_otype:lst_usecol:h10_time:1  0.269670     1.0  oname:hds_otype:lst_usecol:h10\n",
       "oname:hds_otype:lst_usecol:h1_time:1    oname:hds_otype:lst_usecol:h1_time:1  0.738810     1.0   oname:hds_otype:lst_usecol:h1\n",
       "oname:hds_otype:lst_usecol:h2_time:1    oname:hds_otype:lst_usecol:h2_time:1  0.425000     1.0   oname:hds_otype:lst_usecol:h2\n",
       "oname:hds_otype:lst_usecol:h3_time:1    oname:hds_otype:lst_usecol:h3_time:1  0.426670     1.0   oname:hds_otype:lst_usecol:h3\n",
       "oname:hds_otype:lst_usecol:h4_time:1    oname:hds_otype:lst_usecol:h4_time:1  0.110380     1.0   oname:hds_otype:lst_usecol:h4\n",
       "oname:hds_otype:lst_usecol:h5_time:1    oname:hds_otype:lst_usecol:h5_time:1  0.025822     1.0   oname:hds_otype:lst_usecol:h5\n",
       "oname:hds_otype:lst_usecol:h6_time:1    oname:hds_otype:lst_usecol:h6_time:1  0.037492     1.0   oname:hds_otype:lst_usecol:h6\n",
       "oname:hds_otype:lst_usecol:h7_time:1    oname:hds_otype:lst_usecol:h7_time:1  0.179950     1.0   oname:hds_otype:lst_usecol:h7\n",
       "oname:hds_otype:lst_usecol:h8_time:1    oname:hds_otype:lst_usecol:h8_time:1  0.048933     1.0   oname:hds_otype:lst_usecol:h8\n",
       "oname:hds_otype:lst_usecol:h9_time:1    oname:hds_otype:lst_usecol:h9_time:1  0.790040     1.0   oname:hds_otype:lst_usecol:h9"
      ]
     },
     "execution_count": 24,
     "metadata": {},
     "output_type": "execute_result"
    }
   ],
   "source": [
    "hds_df = pf.add_observations(\"head_obs_ref.csv\",insfile=\"head_obs_ref.csv.ins\", index_cols=\"time\",\n",
    "                    use_cols=list(df.columns.values),prefix=\"hds\",)\n",
    "hds_df"
   ]
  },
  {
   "cell_type": "code",
   "execution_count": 25,
   "id": "b502710e",
   "metadata": {},
   "outputs": [
    {
     "data": {
      "text/plain": [
       "['head_obs_ref.csv.ins']"
      ]
     },
     "execution_count": 25,
     "metadata": {},
     "output_type": "execute_result"
    }
   ],
   "source": [
    "[f for f in os.listdir(template_ws) if f.endswith(\".ins\")]"
   ]
  },
  {
   "cell_type": "markdown",
   "id": "e4595a66",
   "metadata": {},
   "source": [
    "## Parameters\n",
    "\n",
    "parameters are the surface elevation of unit C, stored as a txt file"
   ]
  },
  {
   "cell_type": "code",
   "execution_count": 26,
   "id": "2edb260a",
   "metadata": {},
   "outputs": [
    {
     "data": {
      "text/plain": [
       "<pyemu.utils.pst_from.PstFrom at 0x149f51eadd0>"
      ]
     },
     "execution_count": 26,
     "metadata": {},
     "output_type": "execute_result"
    }
   ],
   "source": [
    "pf"
   ]
  },
  {
   "cell_type": "code",
   "execution_count": 27,
   "id": "9286e578",
   "metadata": {},
   "outputs": [
    {
     "name": "stdout",
     "output_type": "stream",
     "text": [
      "2025-09-04 12:29:45.390550 transform was not passed, setting default tranform to 'log'\n",
      "2025-09-04 12:29:45.390550 starting: adding grid type m style parameters for file(s) ['Surf_C.txt']\n",
      "2025-09-04 12:29:45.391549 starting: loading array template\\Surf_C.txt\n",
      "2025-09-04 12:29:45.422067 finished: loading array template\\Surf_C.txt took: 0:00:00.030518\n",
      "2025-09-04 12:29:45.422067 loaded array 'reference\\Surf_C.txt' of shape (70, 140)\n",
      "2025-09-04 12:29:45.433067 starting: writing array-style template file 'template\\surf_c_inst0_grid.csv.tpl'\n",
      "2025-09-04 12:29:45.433067 starting: writing template file template\\surf_c_inst0_grid.csv.tpl for ['surf_c_inst:0']\n",
      "2025-09-04 12:29:45.567890 finished: writing template file template\\surf_c_inst0_grid.csv.tpl for ['surf_c_inst:0'] took: 0:00:00.134823\n",
      "2025-09-04 12:29:45.567890 starting: writing array-based template file 'template\\surf_c_inst0_grid.csv.tpl'\n",
      "2025-09-04 12:29:45.586346 finished: adding grid type m style parameters for file(s) ['Surf_C.txt'] took: 0:00:00.195796\n"
     ]
    },
    {
     "data": {
      "text/html": [
       "<div>\n",
       "<style scoped>\n",
       "    .dataframe tbody tr th:only-of-type {\n",
       "        vertical-align: middle;\n",
       "    }\n",
       "\n",
       "    .dataframe tbody tr th {\n",
       "        vertical-align: top;\n",
       "    }\n",
       "\n",
       "    .dataframe thead th {\n",
       "        text-align: right;\n",
       "    }\n",
       "</style>\n",
       "<table border=\"1\" class=\"dataframe\">\n",
       "  <thead>\n",
       "    <tr style=\"text-align: right;\">\n",
       "      <th></th>\n",
       "      <th>parnme</th>\n",
       "      <th>parval1</th>\n",
       "      <th>i</th>\n",
       "      <th>j</th>\n",
       "      <th>x</th>\n",
       "      <th>y</th>\n",
       "      <th>pargp</th>\n",
       "      <th>tpl_filename</th>\n",
       "      <th>input_filename</th>\n",
       "      <th>partype</th>\n",
       "      <th>partrans</th>\n",
       "      <th>parubnd</th>\n",
       "      <th>parlbnd</th>\n",
       "      <th>scale</th>\n",
       "      <th>offset</th>\n",
       "      <th>parchglim</th>\n",
       "      <th>dercom</th>\n",
       "    </tr>\n",
       "  </thead>\n",
       "  <tbody>\n",
       "    <tr>\n",
       "      <th>pname:surf_c_inst:0_ptype:gr_pstyle:m_i:0_j:0_x:0.75_y:104.25</th>\n",
       "      <td>pname:surf_c_inst:0_ptype:gr_pstyle:m_i:0_j:0_x:0.75_y:104.25</td>\n",
       "      <td>1.0</td>\n",
       "      <td>0</td>\n",
       "      <td>0</td>\n",
       "      <td>0.75</td>\n",
       "      <td>104.25</td>\n",
       "      <td>surf_c</td>\n",
       "      <td>template\\surf_c_inst0_grid.csv.tpl</td>\n",
       "      <td>template\\mult\\surf_c_inst0_grid.csv</td>\n",
       "      <td>grid</td>\n",
       "      <td>log</td>\n",
       "      <td>10.0</td>\n",
       "      <td>0.1</td>\n",
       "      <td>1.0</td>\n",
       "      <td>0.0</td>\n",
       "      <td>factor</td>\n",
       "      <td>1</td>\n",
       "    </tr>\n",
       "    <tr>\n",
       "      <th>pname:surf_c_inst:0_ptype:gr_pstyle:m_i:0_j:1_x:2.25_y:104.25</th>\n",
       "      <td>pname:surf_c_inst:0_ptype:gr_pstyle:m_i:0_j:1_x:2.25_y:104.25</td>\n",
       "      <td>1.0</td>\n",
       "      <td>0</td>\n",
       "      <td>1</td>\n",
       "      <td>2.25</td>\n",
       "      <td>104.25</td>\n",
       "      <td>surf_c</td>\n",
       "      <td>template\\surf_c_inst0_grid.csv.tpl</td>\n",
       "      <td>template\\mult\\surf_c_inst0_grid.csv</td>\n",
       "      <td>grid</td>\n",
       "      <td>log</td>\n",
       "      <td>10.0</td>\n",
       "      <td>0.1</td>\n",
       "      <td>1.0</td>\n",
       "      <td>0.0</td>\n",
       "      <td>factor</td>\n",
       "      <td>1</td>\n",
       "    </tr>\n",
       "    <tr>\n",
       "      <th>pname:surf_c_inst:0_ptype:gr_pstyle:m_i:0_j:2_x:3.75_y:104.25</th>\n",
       "      <td>pname:surf_c_inst:0_ptype:gr_pstyle:m_i:0_j:2_x:3.75_y:104.25</td>\n",
       "      <td>1.0</td>\n",
       "      <td>0</td>\n",
       "      <td>2</td>\n",
       "      <td>3.75</td>\n",
       "      <td>104.25</td>\n",
       "      <td>surf_c</td>\n",
       "      <td>template\\surf_c_inst0_grid.csv.tpl</td>\n",
       "      <td>template\\mult\\surf_c_inst0_grid.csv</td>\n",
       "      <td>grid</td>\n",
       "      <td>log</td>\n",
       "      <td>10.0</td>\n",
       "      <td>0.1</td>\n",
       "      <td>1.0</td>\n",
       "      <td>0.0</td>\n",
       "      <td>factor</td>\n",
       "      <td>1</td>\n",
       "    </tr>\n",
       "    <tr>\n",
       "      <th>pname:surf_c_inst:0_ptype:gr_pstyle:m_i:0_j:3_x:5.25_y:104.25</th>\n",
       "      <td>pname:surf_c_inst:0_ptype:gr_pstyle:m_i:0_j:3_x:5.25_y:104.25</td>\n",
       "      <td>1.0</td>\n",
       "      <td>0</td>\n",
       "      <td>3</td>\n",
       "      <td>5.25</td>\n",
       "      <td>104.25</td>\n",
       "      <td>surf_c</td>\n",
       "      <td>template\\surf_c_inst0_grid.csv.tpl</td>\n",
       "      <td>template\\mult\\surf_c_inst0_grid.csv</td>\n",
       "      <td>grid</td>\n",
       "      <td>log</td>\n",
       "      <td>10.0</td>\n",
       "      <td>0.1</td>\n",
       "      <td>1.0</td>\n",
       "      <td>0.0</td>\n",
       "      <td>factor</td>\n",
       "      <td>1</td>\n",
       "    </tr>\n",
       "    <tr>\n",
       "      <th>pname:surf_c_inst:0_ptype:gr_pstyle:m_i:0_j:4_x:6.75_y:104.25</th>\n",
       "      <td>pname:surf_c_inst:0_ptype:gr_pstyle:m_i:0_j:4_x:6.75_y:104.25</td>\n",
       "      <td>1.0</td>\n",
       "      <td>0</td>\n",
       "      <td>4</td>\n",
       "      <td>6.75</td>\n",
       "      <td>104.25</td>\n",
       "      <td>surf_c</td>\n",
       "      <td>template\\surf_c_inst0_grid.csv.tpl</td>\n",
       "      <td>template\\mult\\surf_c_inst0_grid.csv</td>\n",
       "      <td>grid</td>\n",
       "      <td>log</td>\n",
       "      <td>10.0</td>\n",
       "      <td>0.1</td>\n",
       "      <td>1.0</td>\n",
       "      <td>0.0</td>\n",
       "      <td>factor</td>\n",
       "      <td>1</td>\n",
       "    </tr>\n",
       "    <tr>\n",
       "      <th>...</th>\n",
       "      <td>...</td>\n",
       "      <td>...</td>\n",
       "      <td>...</td>\n",
       "      <td>...</td>\n",
       "      <td>...</td>\n",
       "      <td>...</td>\n",
       "      <td>...</td>\n",
       "      <td>...</td>\n",
       "      <td>...</td>\n",
       "      <td>...</td>\n",
       "      <td>...</td>\n",
       "      <td>...</td>\n",
       "      <td>...</td>\n",
       "      <td>...</td>\n",
       "      <td>...</td>\n",
       "      <td>...</td>\n",
       "      <td>...</td>\n",
       "    </tr>\n",
       "    <tr>\n",
       "      <th>pname:surf_c_inst:0_ptype:gr_pstyle:m_i:69_j:135_x:203.25_y:0.75</th>\n",
       "      <td>pname:surf_c_inst:0_ptype:gr_pstyle:m_i:69_j:135_x:203.25_y:0.75</td>\n",
       "      <td>1.0</td>\n",
       "      <td>69</td>\n",
       "      <td>135</td>\n",
       "      <td>203.25</td>\n",
       "      <td>0.75</td>\n",
       "      <td>surf_c</td>\n",
       "      <td>template\\surf_c_inst0_grid.csv.tpl</td>\n",
       "      <td>template\\mult\\surf_c_inst0_grid.csv</td>\n",
       "      <td>grid</td>\n",
       "      <td>log</td>\n",
       "      <td>10.0</td>\n",
       "      <td>0.1</td>\n",
       "      <td>1.0</td>\n",
       "      <td>0.0</td>\n",
       "      <td>factor</td>\n",
       "      <td>1</td>\n",
       "    </tr>\n",
       "    <tr>\n",
       "      <th>pname:surf_c_inst:0_ptype:gr_pstyle:m_i:69_j:136_x:204.75_y:0.75</th>\n",
       "      <td>pname:surf_c_inst:0_ptype:gr_pstyle:m_i:69_j:136_x:204.75_y:0.75</td>\n",
       "      <td>1.0</td>\n",
       "      <td>69</td>\n",
       "      <td>136</td>\n",
       "      <td>204.75</td>\n",
       "      <td>0.75</td>\n",
       "      <td>surf_c</td>\n",
       "      <td>template\\surf_c_inst0_grid.csv.tpl</td>\n",
       "      <td>template\\mult\\surf_c_inst0_grid.csv</td>\n",
       "      <td>grid</td>\n",
       "      <td>log</td>\n",
       "      <td>10.0</td>\n",
       "      <td>0.1</td>\n",
       "      <td>1.0</td>\n",
       "      <td>0.0</td>\n",
       "      <td>factor</td>\n",
       "      <td>1</td>\n",
       "    </tr>\n",
       "    <tr>\n",
       "      <th>pname:surf_c_inst:0_ptype:gr_pstyle:m_i:69_j:137_x:206.25_y:0.75</th>\n",
       "      <td>pname:surf_c_inst:0_ptype:gr_pstyle:m_i:69_j:137_x:206.25_y:0.75</td>\n",
       "      <td>1.0</td>\n",
       "      <td>69</td>\n",
       "      <td>137</td>\n",
       "      <td>206.25</td>\n",
       "      <td>0.75</td>\n",
       "      <td>surf_c</td>\n",
       "      <td>template\\surf_c_inst0_grid.csv.tpl</td>\n",
       "      <td>template\\mult\\surf_c_inst0_grid.csv</td>\n",
       "      <td>grid</td>\n",
       "      <td>log</td>\n",
       "      <td>10.0</td>\n",
       "      <td>0.1</td>\n",
       "      <td>1.0</td>\n",
       "      <td>0.0</td>\n",
       "      <td>factor</td>\n",
       "      <td>1</td>\n",
       "    </tr>\n",
       "    <tr>\n",
       "      <th>pname:surf_c_inst:0_ptype:gr_pstyle:m_i:69_j:138_x:207.75_y:0.75</th>\n",
       "      <td>pname:surf_c_inst:0_ptype:gr_pstyle:m_i:69_j:138_x:207.75_y:0.75</td>\n",
       "      <td>1.0</td>\n",
       "      <td>69</td>\n",
       "      <td>138</td>\n",
       "      <td>207.75</td>\n",
       "      <td>0.75</td>\n",
       "      <td>surf_c</td>\n",
       "      <td>template\\surf_c_inst0_grid.csv.tpl</td>\n",
       "      <td>template\\mult\\surf_c_inst0_grid.csv</td>\n",
       "      <td>grid</td>\n",
       "      <td>log</td>\n",
       "      <td>10.0</td>\n",
       "      <td>0.1</td>\n",
       "      <td>1.0</td>\n",
       "      <td>0.0</td>\n",
       "      <td>factor</td>\n",
       "      <td>1</td>\n",
       "    </tr>\n",
       "    <tr>\n",
       "      <th>pname:surf_c_inst:0_ptype:gr_pstyle:m_i:69_j:139_x:209.25_y:0.75</th>\n",
       "      <td>pname:surf_c_inst:0_ptype:gr_pstyle:m_i:69_j:139_x:209.25_y:0.75</td>\n",
       "      <td>1.0</td>\n",
       "      <td>69</td>\n",
       "      <td>139</td>\n",
       "      <td>209.25</td>\n",
       "      <td>0.75</td>\n",
       "      <td>surf_c</td>\n",
       "      <td>template\\surf_c_inst0_grid.csv.tpl</td>\n",
       "      <td>template\\mult\\surf_c_inst0_grid.csv</td>\n",
       "      <td>grid</td>\n",
       "      <td>log</td>\n",
       "      <td>10.0</td>\n",
       "      <td>0.1</td>\n",
       "      <td>1.0</td>\n",
       "      <td>0.0</td>\n",
       "      <td>factor</td>\n",
       "      <td>1</td>\n",
       "    </tr>\n",
       "  </tbody>\n",
       "</table>\n",
       "<p>9800 rows × 17 columns</p>\n",
       "</div>"
      ],
      "text/plain": [
       "                                                                                                                            parnme  parval1   i    j       x       y   pargp                        tpl_filename                       input_filename partype partrans  parubnd  parlbnd  scale  offset parchglim  dercom\n",
       "pname:surf_c_inst:0_ptype:gr_pstyle:m_i:0_j:0_x:0.75_y:104.25        pname:surf_c_inst:0_ptype:gr_pstyle:m_i:0_j:0_x:0.75_y:104.25      1.0   0    0    0.75  104.25  surf_c  template\\surf_c_inst0_grid.csv.tpl  template\\mult\\surf_c_inst0_grid.csv    grid      log     10.0      0.1    1.0     0.0    factor       1\n",
       "pname:surf_c_inst:0_ptype:gr_pstyle:m_i:0_j:1_x:2.25_y:104.25        pname:surf_c_inst:0_ptype:gr_pstyle:m_i:0_j:1_x:2.25_y:104.25      1.0   0    1    2.25  104.25  surf_c  template\\surf_c_inst0_grid.csv.tpl  template\\mult\\surf_c_inst0_grid.csv    grid      log     10.0      0.1    1.0     0.0    factor       1\n",
       "pname:surf_c_inst:0_ptype:gr_pstyle:m_i:0_j:2_x:3.75_y:104.25        pname:surf_c_inst:0_ptype:gr_pstyle:m_i:0_j:2_x:3.75_y:104.25      1.0   0    2    3.75  104.25  surf_c  template\\surf_c_inst0_grid.csv.tpl  template\\mult\\surf_c_inst0_grid.csv    grid      log     10.0      0.1    1.0     0.0    factor       1\n",
       "pname:surf_c_inst:0_ptype:gr_pstyle:m_i:0_j:3_x:5.25_y:104.25        pname:surf_c_inst:0_ptype:gr_pstyle:m_i:0_j:3_x:5.25_y:104.25      1.0   0    3    5.25  104.25  surf_c  template\\surf_c_inst0_grid.csv.tpl  template\\mult\\surf_c_inst0_grid.csv    grid      log     10.0      0.1    1.0     0.0    factor       1\n",
       "pname:surf_c_inst:0_ptype:gr_pstyle:m_i:0_j:4_x:6.75_y:104.25        pname:surf_c_inst:0_ptype:gr_pstyle:m_i:0_j:4_x:6.75_y:104.25      1.0   0    4    6.75  104.25  surf_c  template\\surf_c_inst0_grid.csv.tpl  template\\mult\\surf_c_inst0_grid.csv    grid      log     10.0      0.1    1.0     0.0    factor       1\n",
       "...                                                                                                                            ...      ...  ..  ...     ...     ...     ...                                 ...                                  ...     ...      ...      ...      ...    ...     ...       ...     ...\n",
       "pname:surf_c_inst:0_ptype:gr_pstyle:m_i:69_j:135_x:203.25_y:0.75  pname:surf_c_inst:0_ptype:gr_pstyle:m_i:69_j:135_x:203.25_y:0.75      1.0  69  135  203.25    0.75  surf_c  template\\surf_c_inst0_grid.csv.tpl  template\\mult\\surf_c_inst0_grid.csv    grid      log     10.0      0.1    1.0     0.0    factor       1\n",
       "pname:surf_c_inst:0_ptype:gr_pstyle:m_i:69_j:136_x:204.75_y:0.75  pname:surf_c_inst:0_ptype:gr_pstyle:m_i:69_j:136_x:204.75_y:0.75      1.0  69  136  204.75    0.75  surf_c  template\\surf_c_inst0_grid.csv.tpl  template\\mult\\surf_c_inst0_grid.csv    grid      log     10.0      0.1    1.0     0.0    factor       1\n",
       "pname:surf_c_inst:0_ptype:gr_pstyle:m_i:69_j:137_x:206.25_y:0.75  pname:surf_c_inst:0_ptype:gr_pstyle:m_i:69_j:137_x:206.25_y:0.75      1.0  69  137  206.25    0.75  surf_c  template\\surf_c_inst0_grid.csv.tpl  template\\mult\\surf_c_inst0_grid.csv    grid      log     10.0      0.1    1.0     0.0    factor       1\n",
       "pname:surf_c_inst:0_ptype:gr_pstyle:m_i:69_j:138_x:207.75_y:0.75  pname:surf_c_inst:0_ptype:gr_pstyle:m_i:69_j:138_x:207.75_y:0.75      1.0  69  138  207.75    0.75  surf_c  template\\surf_c_inst0_grid.csv.tpl  template\\mult\\surf_c_inst0_grid.csv    grid      log     10.0      0.1    1.0     0.0    factor       1\n",
       "pname:surf_c_inst:0_ptype:gr_pstyle:m_i:69_j:139_x:209.25_y:0.75  pname:surf_c_inst:0_ptype:gr_pstyle:m_i:69_j:139_x:209.25_y:0.75      1.0  69  139  209.25    0.75  surf_c  template\\surf_c_inst0_grid.csv.tpl  template\\mult\\surf_c_inst0_grid.csv    grid      log     10.0      0.1    1.0     0.0    factor       1\n",
       "\n",
       "[9800 rows x 17 columns]"
      ]
     },
     "execution_count": 27,
     "metadata": {},
     "output_type": "execute_result"
    }
   ],
   "source": [
    "arr_file = \"Surf_C.txt\"\n",
    "tag = arr_file.split('.')[0]\n",
    "pf.add_parameters(filenames=arr_file, par_type=\"grid\",\n",
    "                   par_name_base=tag,pargp=tag,zone_array=None,\n",
    "                   par_style=\"multiplier\",\n",
    "                   upper_bound=10.,lower_bound=0.1,ult_ubound=100,ult_lbound=0.01)"
   ]
  },
  {
   "cell_type": "markdown",
   "id": "197ad67c",
   "metadata": {},
   "source": []
  },
  {
   "cell_type": "markdown",
   "id": "e5bbde07",
   "metadata": {},
   "source": [
    "## Command line\n",
    "\n",
    "It will be necessary to add instruction to update the modflow model using ArchPy. First new surfaces are loaded into an ArchPy model created based on ArchPy_workspace. Then, archpy2modflow is created, new grid info are retrieved and applied with flopy to modflow model. In addition we have to modify BCs and obs to match new grid...\n",
    " inally, modflow 6 can be run."
   ]
  },
  {
   "cell_type": "code",
   "execution_count": null,
   "id": "49c66f32",
   "metadata": {},
   "outputs": [],
   "source": []
  },
  {
   "cell_type": "code",
   "execution_count": null,
   "id": "f04ad475",
   "metadata": {},
   "outputs": [
    {
     "name": "stdout",
     "output_type": "stream",
     "text": [
      "noptmax:0, npar_adj:9800, nnz_obs:10\n",
      "2025-09-04 12:29:46.077766 forward_run line:pyemu.os_utils.run(r'mf6')\n",
      "\n"
     ]
    }
   ],
   "source": [
    "# ARCHPY # TO DO\n",
    "\n",
    "pf.mod_sys_cmds.append(\"mf6\")  # add modflow command\n",
    "pf.pre_py_cmds.insert(0,\"import sys\")\n",
    "# pf.pre_py_cmds.insert(1,\"sys.path.append(os.path.join('..','..','..','pypestutils'))\")\n",
    "pf.pre_py_cmds.insert(1,\"sys.path.append(os.path.join('..','..', '..', '..'))\")\n",
    "pf.pre_py_cmds.insert(2,\"import ArchPy\")\n",
    "pf.mod_py_cmds.append('T1 = ArchPy.inputs.import_project(\"P1\", \"../ArchPy_workspace\")')\n",
    "pf.mod_py_cmds.append('surf_C = np.loadtxt(\"surf_C.txt\")')\n",
    "pf.mod_py_cmds.append('T1.Geol.surfaces_by_piles[\"P1\"][0, 1] = surf_C')\n",
    "pf.mod_py_cmds.append('archpy_flow = archpy2modflow(T1, exe_name=\"../../../../../exe/mf6.exe\", model_dir=\"template\")')\n",
    "pf.mod_py_cmds.append('archpy_flow.create_sim(grid_mode=\"layers\", iu=0)')\n",
    "pst = pf.build_pst()"
   ]
  },
  {
   "cell_type": "code",
   "execution_count": 2,
   "id": "d998bf48",
   "metadata": {},
   "outputs": [
    {
     "name": "stdout",
     "output_type": "stream",
     "text": [
      "### IMPORTING PROJECT P1 IN ArchPy_workspace DIRECTORY ### \n",
      "\n",
      "Surface_1_dic_surf_mean.npy\n",
      "Unit A: Surface added for interpolation\n",
      "Facies basement added to unit A ✅\n",
      "Unit B: Surface added for interpolation\n",
      "Facies Sand added to unit B ✅\n",
      "Facies Gravel added to unit B ✅\n",
      "Facies GM added to unit B ✅\n",
      "Facies SM added to unit B ✅\n",
      "Unit C: Surface added for interpolation\n",
      "Facies Clay added to unit C ✅\n",
      "Facies Silt added to unit C ✅\n",
      "The SubPile object is not an Arch_table object\n",
      "Unit D: Surface added for interpolation\n",
      "Facies Sand added to unit D ✅\n",
      "Facies SM added to unit D ✅\n",
      "Unit D1: Surface added for interpolation\n",
      "Facies Sand added to unit D1 ✅\n",
      "Unit D2: Surface added for interpolation\n",
      "Facies SM added to unit D2 ✅\n",
      "Stratigraphic unit D added ✅\n",
      "Stratigraphic unit C added ✅\n",
      "Stratigraphic unit B added ✅\n",
      "Stratigraphic unit A added ✅\n",
      "Stratigraphic unit D2 added ✅\n",
      "Stratigraphic unit D1 added ✅\n",
      "Pile sets as Pile master\n",
      "Property K added\n",
      "## Adding Grid ##\n",
      "## Grid added and is now simulation grid ##\n",
      "\n",
      "\n",
      " ##LOADING RESULTS## \n",
      "\n",
      "\n",
      "Unit results file not found\n",
      "Facies results file not found\n",
      "Property results file not found\n",
      "Surface results file not found\n",
      "Surface bot results file not found\n",
      "\n",
      "\n",
      " ### SUCCESSFUL IMPORT ### \n",
      "\n"
     ]
    }
   ],
   "source": [
    "T1 = ArchPy.inputs.import_project(\"P1\", \"ArchPy_workspace\")"
   ]
  },
  {
   "cell_type": "code",
   "execution_count": 3,
   "id": "2f7f2ec0",
   "metadata": {},
   "outputs": [],
   "source": [
    "T1.verbose=0"
   ]
  },
  {
   "cell_type": "code",
   "execution_count": 4,
   "id": "51195601",
   "metadata": {},
   "outputs": [],
   "source": [
    "T1.compute_surf(1)"
   ]
  },
  {
   "cell_type": "code",
   "execution_count": null,
   "id": "10edea53",
   "metadata": {},
   "outputs": [],
   "source": [
    "# np.savetxt(\"template/surf_C.txt\", T1.get_surfaces_unit(T1.get_unit(\"C\"))[0])"
   ]
  },
  {
   "cell_type": "code",
   "execution_count": null,
   "id": "50fc2607",
   "metadata": {},
   "outputs": [],
   "source": [
    "# load new surfaces\n",
    "surf_C = np.loadtxt(\"template/surf_C.txt\")"
   ]
  },
  {
   "cell_type": "code",
   "execution_count": 25,
   "id": "aafeccfd",
   "metadata": {},
   "outputs": [
    {
     "data": {
      "text/plain": [
       "[D, C, B, A]"
      ]
     },
     "execution_count": 25,
     "metadata": {},
     "output_type": "execute_result"
    }
   ],
   "source": [
    "T1.get_pile_master().list_units"
   ]
  },
  {
   "cell_type": "code",
   "execution_count": 30,
   "id": "2e847405",
   "metadata": {},
   "outputs": [],
   "source": [
    "# add this surface to pile\n",
    "T1.Geol.surfaces_by_piles[\"P1\"][0, 1] = surf_C"
   ]
  },
  {
   "cell_type": "code",
   "execution_count": 7,
   "id": "cd62bfa9",
   "metadata": {},
   "outputs": [],
   "source": [
    "import flopy as fp\n",
    "import ArchPy.ap_mf\n",
    "from ArchPy.ap_mf import archpy2modflow, array2cellids"
   ]
  },
  {
   "cell_type": "code",
   "execution_count": 8,
   "id": "cc3bf831",
   "metadata": {},
   "outputs": [
    {
     "name": "stdout",
     "output_type": "stream",
     "text": [
      "Simulation created with the following parameters:\n",
      "Grid mode: layers\n",
      "To retrieve the simulation, use the get_sim() method\n"
     ]
    }
   ],
   "source": [
    "archpy_flow = archpy2modflow(T1, exe_name=\"../../../../../exe/mf6.exe\", model_dir=\"template\")  # create the modflow model\n",
    "archpy_flow.create_sim(grid_mode=\"layers\", iu=0)  # create the simulation object and choose a certain discretization"
   ]
  },
  {
   "cell_type": "code",
   "execution_count": null,
   "id": "befd8626",
   "metadata": {},
   "outputs": [],
   "source": [
    "\n"
   ]
  }
 ],
 "metadata": {
  "kernelspec": {
   "display_name": "hydro_env",
   "language": "python",
   "name": "python3"
  },
  "language_info": {
   "codemirror_mode": {
    "name": "ipython",
    "version": 3
   },
   "file_extension": ".py",
   "mimetype": "text/x-python",
   "name": "python",
   "nbconvert_exporter": "python",
   "pygments_lexer": "ipython3",
   "version": "3.10.9"
  }
 },
 "nbformat": 4,
 "nbformat_minor": 5
}

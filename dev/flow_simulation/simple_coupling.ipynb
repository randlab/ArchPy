{
 "cells": [
  {
   "cell_type": "code",
   "execution_count": 246,
   "metadata": {},
   "outputs": [],
   "source": [
    "import numpy as np\n",
    "import matplotlib\n",
    "from matplotlib import colors\n",
    "import matplotlib.pyplot as plt\n",
    "import geone\n",
    "import geone.covModel as gcm\n",
    "import geone.imgplot3d as imgplt3\n",
    "import pyvista as pv\n",
    "import sys\n",
    "import os\n",
    "\n",
    "sys.path.append(\"../../\")\n",
    "#my modules\n",
    "from ArchPy.base import *\n",
    "from ArchPy.tpgs import *\n"
   ]
  },
  {
   "cell_type": "code",
   "execution_count": null,
   "metadata": {},
   "outputs": [],
   "source": [
    "#grid\n",
    "sx = 1.5\n",
    "sy = 1.5\n",
    "sz = .15\n",
    "x0 = 0\n",
    "y0 = 0\n",
    "z0 = -15\n",
    "nx = 140\n",
    "ny = 70\n",
    "nz = 70\n",
    "x1 = x0 + nx*sx\n",
    "y1 = y0 + ny*sy\n",
    "z1 = z0 + nz\n",
    "\n",
    "dimensions = (nx, ny, nz)\n",
    "spacing = (sx, sy, sz)\n",
    "origin = (x0, y0, z0)  \n",
    "\n",
    "domain = np.ones([ny,nx],dtype=bool)\n",
    "domain[: 5]= 0\n",
    "plt.imshow(domain)"
   ]
  },
  {
   "cell_type": "code",
   "execution_count": null,
   "metadata": {},
   "outputs": [],
   "source": [
    "## create pile\n",
    "\n",
    "P1 = Pile(name = \"P1\",seed=1)\n",
    "\n",
    "#units covmodel\n",
    "covmodelD = gcm.CovModel2D(elem=[('cubic', {'w':0.6, 'r':[30,30]})])\n",
    "covmodelD1 = gcm.CovModel2D(elem=[('cubic', {'w':0.2, 'r':[30,30]})])\n",
    "covmodelC = gcm.CovModel2D(elem=[('cubic', {'w':0.2, 'r':[40,40]})])\n",
    "covmodelB = gcm.CovModel2D(elem=[('cubic', {'w':0.6, 'r':[30,30]})])\n",
    "covmodel_er = gcm.CovModel2D(elem=[('spherical', {'w':1, 'r':[50,50]})])\n",
    "\n",
    "## facies covmodel\n",
    "covmodel_SIS_C = gcm.CovModel3D(elem=[(\"exponential\", {\"w\":.21,\"r\":[50, 50, 10]})], alpha=0, name=\"vario_SIS\") # input variogram\n",
    "covmodel_SIS_B1 = gcm.CovModel3D(elem=[(\"exponential\", {\"w\":.16,\"r\":[50, 50, 2]})], alpha=0, name=\"vario_SIS\") # input variogram\n",
    "covmodel_SIS_B2 = gcm.CovModel3D(elem=[(\"exponential\", {\"w\":.24,\"r\":[100, 100, 3]})], alpha=0, name=\"vario_SIS\") # input variogram\n",
    "covmodel_SIS_B3 = gcm.CovModel3D(elem=[(\"exponential\", {\"w\":.19,\"r\":[50, 50, 2]})], alpha=0, name=\"vario_SIS\") # input variogram\n",
    "covmodel_SIS_B4 = gcm.CovModel3D(elem=[(\"exponential\", {\"w\":.13,\"r\":[100, 100, 4]})], alpha=0, name=\"vario_SIS\") # input variogram\n",
    "\n",
    "lst_covmodelC=[covmodel_SIS_C] # list of covmodels to pass at the function\n",
    "lst_covmodelB=[covmodel_SIS_B1, covmodel_SIS_B2, covmodel_SIS_B3, covmodel_SIS_B4] # list of covmodels to pass\n",
    "\n",
    "\n",
    "#create Lithologies \n",
    "dic_s_D = {\"int_method\" : \"grf_ineq\",\"covmodel\" : covmodelD}\n",
    "dic_f_D = {\"f_method\":\"homogenous\"}\n",
    "D = Unit(name=\"D\",order=1,ID = 1,color=\"gold\",contact=\"onlap\",surface=Surface(contact=\"onlap\",dic_surf=dic_s_D)\n",
    "         ,dic_facies=dic_f_D)\n",
    "\n",
    "dic_s_C = {\"int_method\" : \"grf_ineq\",\"covmodel\" : covmodelC, \"mean\":-6.5}\n",
    "dic_f_C = {\"f_method\" : \"SIS\",\"neig\" : 10, \"f_covmodel\":lst_covmodelC, \"probability\":[0.3, 0.7]}\n",
    "C = Unit(name=\"C\", order=2, ID = 2, color=\"blue\", contact=\"onlap\", dic_facies=dic_f_C, surface=Surface(dic_surf=dic_s_C, contact=\"onlap\"))\n",
    "\n",
    "dic_s_B = {\"int_method\" : \"grf_ineq\",\"covmodel\" : covmodelB, \"mean\":-8.5}\n",
    "dic_f_B = {\"f_method\":\"SIS\", \"neig\" : 10, \"f_covmodel\":lst_covmodelB, \"probability\":[0.2, 0.4, 0.25, 0.15]}\n",
    "B = Unit(name=\"B\",order=3,ID = 3,color=\"purple\",contact=\"onlap\",dic_facies=dic_f_B,surface=Surface(contact=\"onlap\",dic_surf=dic_s_B))\n",
    "\n",
    "dic_s_A = {\"int_method\":\"grf_ineq\",\"covmodel\": covmodelB, \"mean\":-11}\n",
    "dic_f_A = {\"f_method\":\"homogenous\"}\n",
    "A = Unit(name=\"A\",order=5,ID = 5,color=\"red\",contact=\"onlap\",dic_facies=dic_f_A,surface=Surface(dic_surf = dic_s_A,contact=\"onlap\"))\n",
    "\n",
    "#Master pile\n",
    "P1.add_unit([D,C,B,A])"
   ]
  },
  {
   "cell_type": "code",
   "execution_count": null,
   "metadata": {},
   "outputs": [],
   "source": [
    "# covmodels for the property model\n",
    "covmodelK = gcm.CovModel3D(elem=[(\"exponential\",{\"w\":0.3,\"r\":[30,30,10]})],alpha=-20,name=\"K_vario\")\n",
    "covmodelK2 = gcm.CovModel3D(elem=[(\"spherical\",{\"w\":0.1,\"r\":[20,20, 5]})],alpha=0,name=\"K_vario_2\")\n",
    "\n",
    "facies_1 = Facies(ID = 1,name=\"Sand\",color=\"yellow\")\n",
    "facies_2 = Facies(ID = 2,name=\"Gravel\",color=\"lightgreen\")\n",
    "facies_3 = Facies(ID = 3,name=\"GM\",color=\"blueviolet\")\n",
    "facies_4 = Facies(ID = 4,name=\"Clay\",color=\"blue\")\n",
    "facies_5 = Facies(ID = 5,name=\"SM\",color=\"brown\")\n",
    "facies_6 = Facies(ID = 6,name=\"Silt\",color=\"goldenrod\")\n",
    "facies_7 = Facies(ID = 7,name=\"basement\",color=\"red\")\n",
    "\n",
    "A.add_facies([facies_7])\n",
    "B.add_facies([facies_1, facies_2, facies_3, facies_5])\n",
    "D.add_facies([facies_1])\n",
    "C.add_facies([facies_4, facies_6])\n",
    "\n",
    "# property model\n",
    "cm_prop1 = gcm.CovModel3D(elem = [(\"spherical\", {\"w\":0.1, \"r\":[10,10,10]}),\n",
    "                                  (\"cubic\", {\"w\":0.1, \"r\":[15,15,15]})])\n",
    "cm_prop2 = gcm.CovModel3D(elem = [(\"cubic\", {\"w\":0.2, \"r\":[25, 25, 5]})])\n",
    "\n",
    "list_facies = [facies_1, facies_2, facies_3, facies_4, facies_5, facies_6, facies_7]\n",
    "list_covmodels = [cm_prop2, cm_prop1, cm_prop2, cm_prop1, cm_prop2, cm_prop1, cm_prop2]\n",
    "means = [-4, -2, -6, -9, -6, -7, -19]\n",
    "prop_model = ArchPy.base.Prop(\"K\",\n",
    "                              facies = list_facies,\n",
    "                              covmodels = list_covmodels,\n",
    "                                means = means,\n",
    "                                int_method = \"sgs\",\n",
    "                                vmin = -10,\n",
    "                                vmax = -1\n",
    "                                )\n",
    "\n"
   ]
  },
  {
   "cell_type": "code",
   "execution_count": 250,
   "metadata": {},
   "outputs": [],
   "source": [
    "top = np.ones([ny,nx])*-6\n",
    "bot = np.ones([ny,nx])*z0"
   ]
  },
  {
   "cell_type": "code",
   "execution_count": null,
   "metadata": {},
   "outputs": [],
   "source": [
    "T1 = Arch_table(name = \"P1\",seed=3)\n",
    "T1.set_Pile_master(P1)\n",
    "T1.add_grid(dimensions, spacing, origin, top=top,bot=bot, polygon=domain)\n",
    "T1.add_prop(prop_model)"
   ]
  },
  {
   "cell_type": "code",
   "execution_count": null,
   "metadata": {},
   "outputs": [],
   "source": [
    "T1.compute_surf(1)\n",
    "T1.compute_facies(1)\n",
    "T1.compute_prop(1)"
   ]
  },
  {
   "cell_type": "code",
   "execution_count": 254,
   "metadata": {},
   "outputs": [],
   "source": [
    "import flopy as fp"
   ]
  },
  {
   "cell_type": "code",
   "execution_count": 255,
   "metadata": {},
   "outputs": [],
   "source": [
    "pv.set_jupyter_backend(\"client\")"
   ]
  },
  {
   "cell_type": "code",
   "execution_count": null,
   "metadata": {},
   "outputs": [],
   "source": [
    "T1.plot_units(v_ex=3)"
   ]
  },
  {
   "cell_type": "code",
   "execution_count": null,
   "metadata": {},
   "outputs": [],
   "source": [
    "T1.plot_facies(v_ex=3)"
   ]
  },
  {
   "cell_type": "code",
   "execution_count": null,
   "metadata": {},
   "outputs": [],
   "source": [
    "T1.plot_prop(\"K\", v_ex=3)"
   ]
  },
  {
   "cell_type": "code",
   "execution_count": 259,
   "metadata": {},
   "outputs": [],
   "source": [
    "val = T1.get_prop(\"K\")[0, 0, 0]\n",
    "im = geone.img.Img(nx=nx, ny=ny, nz=nz, sx=sx, sy=sy, sz=sz, ox=x0, oy=y0, oz=z0, nv=1, val=val)"
   ]
  },
  {
   "cell_type": "code",
   "execution_count": null,
   "metadata": {},
   "outputs": [],
   "source": [
    "\n",
    "factor_x = 4\n",
    "factor_y = 2\n",
    "factor_z = 2\n",
    "\n",
    "nlay, nrow, ncol = T1.get_nz(), T1.get_ny(), T1.get_nx()\n",
    "delr, delc = T1.get_sx(), T1.get_sy()\n",
    "xoff, yoff = T1.get_ox(), T1.get_oy()\n",
    "\n",
    "assert factor_x is not None, \"factor_x must be provided\"\n",
    "assert factor_y is not None, \"factor_y must be provided\"\n",
    "assert factor_z is not None, \"factor_z must be provided\"\n",
    "assert nrow % factor_y == 0, \"nrow must be divisible by factor_y\"\n",
    "assert ncol % factor_x == 0, \"ncol must be divisible by factor_x\"\n",
    "assert nlay % factor_z == 0, \"nlay must be divisible by factor_z\"\n",
    "nrow = int(nrow / factor_y)\n",
    "ncol = int(ncol / factor_x)\n",
    "nlay = int(nlay / factor_z)\n",
    "delr = delr * factor_x\n",
    "delc = delc * factor_y\n",
    "top = np.ones((nrow, ncol)) * T1.get_zg()[-1]\n",
    "botm = np.ones((nlay, nrow, ncol)) * T1.get_zg()[::-factor_z][1:].reshape(-1, 1, 1)\n",
    "botm = np.flip(np.flipud(botm), axis=1)  # flip the array to have the same orientation as the ArchPy table\n",
    "botm.shape"
   ]
  },
  {
   "cell_type": "code",
   "execution_count": null,
   "metadata": {},
   "outputs": [],
   "source": [
    "delc, delr"
   ]
  },
  {
   "cell_type": "markdown",
   "metadata": {},
   "source": [
    "## archpy2modflow\n",
    "\n",
    "Here is a simple example of how to use the `archpy2modflow` package to convert an ArchPy model to a MODFLOW model using the `flopy` package.\n",
    "Several modes can be used to convert the ArchPy model to a MODFLOW model. The modes are:\n",
    "- `archpy` mode: This mode uses the ArchPy model to create a MODFLOW model. The ArchPy model is used to create the MODFLOW model grid, boundary conditions, and initial conditions.\n",
    "- `layers` mode: This mode considers that each stratigraphic unit is a modflow layer and uses the surfaces simulated by ArchPy to define the bottom elevation of each layer. K values are averaged between the top and bottom of each layer.\n",
    "- `new_resolution` mode: upscaled model using the uppy package. New resolution is defined as a factor of reduction in each direction. For example, if the factor in x direction is 2, the new model will have half the number of cells in the x direction, while the number of cells in the y and z directions will remain the same.\n",
    "\n",
    "### archpy mode"
   ]
  },
  {
   "cell_type": "code",
   "execution_count": 16,
   "metadata": {},
   "outputs": [],
   "source": [
    "import ArchPy.ap_mf\n",
    "from ArchPy.ap_mf import archpy2modflow, array2cellids"
   ]
  },
  {
   "cell_type": "markdown",
   "metadata": {},
   "source": [
    "Let us create our modflow model. \n",
    "\n",
    "#### modflow model"
   ]
  },
  {
   "cell_type": "code",
   "execution_count": null,
   "metadata": {},
   "outputs": [],
   "source": [
    "archpy_flow = archpy2modflow(T1, exe_name=\"../../../../exe/mf6.exe\")  # create the modflow model\n",
    "archpy_flow.create_sim(grid_mode=\"archpy\", iu=0)  # create the simulation object and choose a certain discretization\n",
    "archpy_flow.set_k(\"K\", iu=0, ifa=0, ip=0, log=True)  # set the hydraulic conductivity"
   ]
  },
  {
   "cell_type": "markdown",
   "metadata": {},
   "source": [
    "Here we have instantiate a modflow model based on the ArchPy model and using the same grid resolution. The model is created using the `archpy` mode.\n",
    "We have also set the npf package to use the K values from the ArchPy model. As ArchPy is a stochastic model we have multiple realization, here it is the one that corresponds to iu=0, ifa=0 and ip=0.\n",
    "We also indicate that K values are in log10 scale.\n",
    "\n",
    "Now we can retrieve flopy/modflow model and add different packages as we would do with a regular modflow model."
   ]
  },
  {
   "cell_type": "code",
   "execution_count": 18,
   "metadata": {},
   "outputs": [],
   "source": [
    "sim = archpy_flow.get_sim()\n",
    "gwf = archpy_flow.get_gwf()"
   ]
  },
  {
   "cell_type": "markdown",
   "metadata": {},
   "source": [
    "For example some boundary conditions"
   ]
  },
  {
   "cell_type": "code",
   "execution_count": 19,
   "metadata": {},
   "outputs": [],
   "source": [
    "# add BC at left and right on all layers\n",
    "h1 = 100\n",
    "h2 = 0\n",
    "chd_data = []\n",
    "\n",
    "a = np.zeros((gwf.modelgrid.nlay, gwf.modelgrid.nrow, gwf.modelgrid.ncol), dtype=bool)\n",
    "a[:, :, 0] = 1\n",
    "lst_chd = array2cellids(a, gwf.dis.idomain.array)\n",
    "for cellid in lst_chd:\n",
    "    chd_data.append((cellid, h1))\n",
    "\n",
    "a = np.zeros((gwf.modelgrid.nlay, gwf.modelgrid.nrow, gwf.modelgrid.ncol), dtype=bool)\n",
    "a[:, :, -1] = 1\n",
    "lst_chd = array2cellids(a, gwf.dis.idomain.array)\n",
    "for cellid in lst_chd:\n",
    "    chd_data.append((cellid, h2))\n",
    "\n",
    "chd = fp.mf6.ModflowGwfchd(gwf, stress_period_data=chd_data, save_flows=True)"
   ]
  },
  {
   "cell_type": "markdown",
   "metadata": {},
   "source": [
    " Write modflow model files"
   ]
  },
  {
   "cell_type": "code",
   "execution_count": null,
   "metadata": {},
   "outputs": [],
   "source": [
    "sim.write_simulation()"
   ]
  },
  {
   "cell_type": "markdown",
   "metadata": {},
   "source": [
    "Here we also modify the solver to an higher complexity as the model contains a large number of cells and have difficult to converge."
   ]
  },
  {
   "cell_type": "code",
   "execution_count": 21,
   "metadata": {},
   "outputs": [],
   "source": [
    "sim.ims.complexity = \"complex\"\n",
    "sim.ims.write()"
   ]
  },
  {
   "cell_type": "code",
   "execution_count": null,
   "metadata": {},
   "outputs": [],
   "source": [
    "sim.run_simulation()"
   ]
  },
  {
   "cell_type": "markdown",
   "metadata": {},
   "source": [
    "Now we can retrieve some results. Archpy2modflow objects integrate some basic functions to facilitate this such as ``get_heads`` methods."
   ]
  },
  {
   "cell_type": "code",
   "execution_count": 23,
   "metadata": {},
   "outputs": [],
   "source": [
    "heads = archpy_flow.get_heads(kstpkper=(0, 0))\n",
    "heads[heads == 1e30] = np.nan"
   ]
  },
  {
   "cell_type": "code",
   "execution_count": 24,
   "metadata": {},
   "outputs": [],
   "source": [
    "cobj = gwf.output.budget()\n",
    "qx, qy, qz = fp.utils.postprocessing.get_specific_discharge(\n",
    "        cobj.get_data(text=\"DATA-SPDIS\", kstpkper=(0, 0))[0], gwf)"
   ]
  },
  {
   "cell_type": "code",
   "execution_count": null,
   "metadata": {},
   "outputs": [],
   "source": [
    "from flopy.plot import PlotMapView\n",
    "mapview = PlotMapView(model=gwf, layer=15)\n",
    "quadmesh = mapview.plot_array(heads, cmap=\"Blues\")\n",
    "# quadmesh = mapview.contour_array(heads, cmap=\"jet\", levels=10)\n",
    "# quadmesh = mapview.plot_array(np.log10(gwf.npf.k.array), cmap=\"viridis\")\n",
    "mapview.plot_vector(qx, qy, color=\"black\", istep=3, jstep=3)"
   ]
  },
  {
   "attachments": {
    "thumbnail_image001.png": {
     "image/png": "[encoded data removed]"
    }
   },
   "cell_type": "markdown",
   "metadata": {},
   "source": [
    "Be aware that grids between modflow and archpy are not the same. The origin of the grid is at the lowest layer, left and bottom of the model in archpy and at the uppest layer, left and top of the model in modflow (see the figure)\n",
    "\n",
    "![thumbnail_image001.png](attachment:thumbnail_image001.png)\n",
    "    \n",
    "\n",
    "If you have a modflow output and want to plot it in 3D using archpy, you need to flip this array using the following command:\n",
    "\n",
    "```python\n",
    "heads = np.flipud(np.flip(heads, axis=1))\n",
    "```"
   ]
  },
  {
   "cell_type": "code",
   "execution_count": null,
   "metadata": {},
   "outputs": [],
   "source": [
    "heads = archpy_flow.get_heads()\n",
    "heads[heads == 1e30] = np.nan\n",
    "\n",
    "T1.plot_arr(np.flipud(np.flip(heads, axis=1)), \"head\", 2)"
   ]
  },
  {
   "cell_type": "code",
   "execution_count": null,
   "metadata": {},
   "outputs": [],
   "source": [
    "T1.plot_prop(\"K\", v_ex=2)"
   ]
  },
  {
   "cell_type": "code",
   "execution_count": null,
   "metadata": {},
   "outputs": [],
   "source": [
    "plt.imshow(np.fliplr(T1.get_prop(\"K\")[0, 0, 0, :, -1, :]), aspect=3, origin=\"lower\", extent=[0, 200, -15, 0])"
   ]
  },
  {
   "cell_type": "markdown",
   "metadata": {},
   "source": [
    "#### Particle tracking\n",
    "\n",
    "archpy2modflow also integrates function to run particle tracking simulations. Here is an example of how to run a modpath simulation. Note that it only works with modpath 7 and particle tracking of modflow 6"
   ]
  },
  {
   "cell_type": "code",
   "execution_count": null,
   "metadata": {},
   "outputs": [],
   "source": [
    "archpy_flow.prt_create(workspace=\"workspace_prt\", list_p_coords=[(170.7, 99.75, -7), (170.7, 99.75, -9), (170.7, 99.75, -11)], trackdir=\"backward\")\n",
    "archpy_flow.prt_run()"
   ]
  },
  {
   "cell_type": "code",
   "execution_count": null,
   "metadata": {},
   "outputs": [],
   "source": [
    "l_df_prt = []\n",
    "for i in range(1, 4):\n",
    "    l_df_prt.append(archpy_flow.prt_get_facies_path_particle(i))\n",
    "\n",
    "fig = plt.figure(figsize=(10, 10))\n",
    "ax = fig.add_subplot(111, projection=\"3d\")\n",
    "\n",
    "for df_prt in l_df_prt:\n",
    "    ax.plot(df_prt[\"x\"], df_prt[\"y\"], df_prt[\"z\"])\n",
    "\n",
    "plt.xlim(0, 200)\n",
    "plt.ylim(0, 100)\n",
    "ax.set_zlim(-15, 0)\n",
    "plt.axis(\"equal\")\n",
    "plt.show()"
   ]
  },
  {
   "cell_type": "code",
   "execution_count": null,
   "metadata": {},
   "outputs": [],
   "source": [
    "ArchPy.ap_mf.plot_particle_facies_sequence(archpy_flow.T1, l_df_prt[0], plot_time=True, plot_distance=True)"
   ]
  },
  {
   "cell_type": "markdown",
   "metadata": {},
   "source": [
    "#### Modpath simulations\n",
    "\n",
    "First we need to create a modpath model and provide the path to the modpath executable. This is done using ``mp_create`` method as shown below\n",
    "\n",
    "Initial starting point of particles can be either defined by a list of coordinates or by a list of cell indices. Here we use the first option and we provide a list to ``list_p_coord``. The tracking direction is also defined by the user. Here we use the backward tracking direction."
   ]
  },
  {
   "cell_type": "code",
   "execution_count": 37,
   "metadata": {},
   "outputs": [],
   "source": [
    "# mpexe_path = \"C:/Users/emmal/switchdrive2/Post_doc/prog/exe/modflow_exe/win64/mp7.exe\"\n",
    "mpexe_path = \"E:/switchdrive/Post_doc/prog/exe/modflow_exe/win64/mp7.exe\"\n",
    "# mpexe_path = \"C:/Users/Ludovic/switchdrive/Post_doc/prog/exe/modflow_exe/win64/mp7.exe\"\n",
    "archpy_flow.mp_create(mpexe=mpexe_path, \n",
    "                      trackdir=\"backward\", \n",
    "                      list_p_coords=[(170.7, 99.75, -7), (170.7, 99.75, -9), (170.7, 99.75, -11)])"
   ]
  },
  {
   "cell_type": "code",
   "execution_count": null,
   "metadata": {},
   "outputs": [],
   "source": [
    "archpy_flow.mp_run(silent=False)"
   ]
  },
  {
   "cell_type": "markdown",
   "metadata": {},
   "source": [
    "Pathlines and endpoints objects can be retrieve using archpy2modflow functions"
   ]
  },
  {
   "cell_type": "code",
   "execution_count": 61,
   "metadata": {},
   "outputs": [],
   "source": [
    "p = archpy_flow.mp_get_pathlines_object()\n",
    "e = archpy_flow.mp_get_endpoints_object()"
   ]
  },
  {
   "cell_type": "code",
   "execution_count": 40,
   "metadata": {},
   "outputs": [],
   "source": [
    "l_df_mp = []\n",
    "for i in range(1, 4):\n",
    "    l_df_mp.append(archpy_flow.mp_get_facies_path_particle(i))"
   ]
  },
  {
   "cell_type": "code",
   "execution_count": null,
   "metadata": {},
   "outputs": [],
   "source": [
    "\n",
    "path = p.get_alldata()\n",
    "\n",
    "# 3D plot of the pathlines\n",
    "fig = plt.figure(figsize=(10, 10))\n",
    "ax = fig.add_subplot(111, projection=\"3d\")\n",
    "\n",
    "for pth in path:\n",
    "    ax.plot(pth[\"x\"], pth[\"y\"], pth[\"z\"])\n",
    "\n",
    "\n",
    "# ax.set_aspect(\"equal\")\n",
    "plt.show()"
   ]
  },
  {
   "cell_type": "code",
   "execution_count": null,
   "metadata": {},
   "outputs": [],
   "source": [
    "# compare the pathlines of the particles with the pathlines of the MODPATH model\n",
    "fig = plt.figure(figsize=(10, 10))\n",
    "ax = fig.add_subplot(111, projection=\"3d\")\n",
    "\n",
    "for df_mp in l_df_mp:\n",
    "    ax.plot(df_mp[\"x\"], df_mp[\"y\"], df_mp[\"z\"], label=\"MODPATH\", color=\"blue\")\n",
    "\n",
    "for df_prt in l_df_prt:\n",
    "    ax.plot(df_prt[\"x\"], df_prt[\"y\"], df_prt[\"z\"], label=\"Particle Tracker\", color=\"red\")\n",
    "\n",
    "plt.show()"
   ]
  },
  {
   "cell_type": "code",
   "execution_count": null,
   "metadata": {},
   "outputs": [],
   "source": []
  },
  {
   "cell_type": "code",
   "execution_count": null,
   "metadata": {},
   "outputs": [],
   "source": [
    "T1.plot_facies(inside_units=[C], v_ex=1, excludedVal=[])"
   ]
  },
  {
   "cell_type": "markdown",
   "metadata": {},
   "source": [
    "### Layers mode"
   ]
  },
  {
   "cell_type": "code",
   "execution_count": null,
   "metadata": {},
   "outputs": [],
   "source": [
    "archpy_flow = archpy2modflow(T1, exe_name=\"../../../../exe/mf6.exe\")\n",
    "archpy_flow.create_sim(grid_mode=\"layers\", iu=0)\n",
    "archpy_flow.set_k(k_key=\"K\", iu=0, ifa=0, ip=0, log=True, k_average_method=\"anisotropic\")"
   ]
  },
  {
   "cell_type": "code",
   "execution_count": 263,
   "metadata": {},
   "outputs": [],
   "source": [
    "sim = archpy_flow.get_sim()\n",
    "gwf = archpy_flow.get_gwf()"
   ]
  },
  {
   "cell_type": "code",
   "execution_count": null,
   "metadata": {},
   "outputs": [],
   "source": []
  },
  {
   "cell_type": "code",
   "execution_count": 271,
   "metadata": {},
   "outputs": [],
   "source": [
    "self = archpy_flow\n",
    "nlay, nrow, ncol = self.T1.get_nz(), self.T1.get_ny(), self.T1.get_nx()\n",
    "top = self.T1.get_surface(typ=\"top\")[0][0, iu]\n",
    "top = np.flip(top, axis=1)\n",
    "botm = self.T1.get_surface(typ=\"bot\")[0][:, iu]\n",
    "botm = np.flip(botm, axis=1)\n",
    "layers_names = self.T1.get_surface(typ=\"bot\")[1]\n",
    "self.layers_names = layers_names\n",
    "nlay = botm.shape[0]\n",
    "\n",
    "# define idomain (1 if thickness > 0, 0 if nan, -1 if thickness = 0)\n",
    "idomain = np.ones((nlay, nrow, ncol))\n",
    "thicknesses = -np.diff(np.vstack([top.reshape(-1, nrow, ncol), botm]), axis=0)\n",
    "idomain[thicknesses == 0] = -1\n",
    "idomain[np.isnan(thicknesses)] = 0\n",
    "\n",
    "# adapt botm in order that each layer has a thickness > 0 \n",
    "for i in range(-1, nlay-1):\n",
    "    if i == -1:\n",
    "        s1 = top\n",
    "    else:\n",
    "        s1 = botm[i]\n",
    "    s2 = botm[i+1]\n",
    "    mask = s1 == s2\n",
    "    s1[mask] += 1e-2"
   ]
  },
  {
   "cell_type": "code",
   "execution_count": null,
   "metadata": {},
   "outputs": [],
   "source": [
    "(top - botm[0] <= 0).any()"
   ]
  },
  {
   "cell_type": "code",
   "execution_count": 281,
   "metadata": {},
   "outputs": [],
   "source": [
    "# add BC at left and right on all layers\n",
    "h1 = 100\n",
    "h2 = 0\n",
    "chd_data = []\n",
    "\n",
    "a = np.zeros((gwf.modelgrid.nlay, gwf.modelgrid.nrow, gwf.modelgrid.ncol), dtype=bool)\n",
    "a[:, :, 0] = 1\n",
    "lst_chd = array2cellids(a, gwf.dis.idomain.array)\n",
    "for cellid in lst_chd:\n",
    "    chd_data.append((cellid, h1))\n",
    "\n",
    "a = np.zeros((gwf.modelgrid.nlay, gwf.modelgrid.nrow, gwf.modelgrid.ncol), dtype=bool)\n",
    "a[:, :, -1] = 1\n",
    "lst_chd = array2cellids(a, gwf.dis.idomain.array)\n",
    "for cellid in lst_chd:\n",
    "    chd_data.append((cellid, h2))\n",
    "\n",
    "chd = fp.mf6.ModflowGwfchd(gwf, stress_period_data=chd_data, save_flows=True)\n",
    "    "
   ]
  },
  {
   "cell_type": "code",
   "execution_count": null,
   "metadata": {},
   "outputs": [],
   "source": [
    "sim.write_simulation()\n",
    "sim.ims.complexity = \"moderate\"\n",
    "sim.ims.write()\n",
    "sim.run_simulation()"
   ]
  },
  {
   "cell_type": "code",
   "execution_count": 284,
   "metadata": {},
   "outputs": [],
   "source": [
    "heads = archpy_flow.get_heads()\n",
    "heads[heads == 1e30] = np.nan\n",
    "\n",
    "cobj = gwf.output.budget()\n",
    "qx, qy, qz = fp.utils.postprocessing.get_specific_discharge(\n",
    "        cobj.get_data(text=\"DATA-SPDIS\", kstpkper=(0, 0))[0], gwf)"
   ]
  },
  {
   "cell_type": "code",
   "execution_count": null,
   "metadata": {},
   "outputs": [],
   "source": [
    "# plots\n",
    "fig, ax = plt.subplots(2, 2, figsize=(20, 10))\n",
    "axes = ax.flatten()\n",
    "from flopy.plot import PlotMapView\n",
    "for ilayer in range(gwf.modelgrid.nlay):\n",
    "    mapview = PlotMapView(model=gwf, layer=ilayer, ax=axes[ilayer])\n",
    "    quadmesh = mapview.plot_array(heads[ilayer], cmap=\"Blues\")\n",
    "    mapview.plot_vector(qx[ilayer], qy[ilayer], color=\"black\", istep=3, jstep=3)\n",
    "    axes[ilayer].set_title(\"Layer {}\".format(ilayer))"
   ]
  },
  {
   "cell_type": "code",
   "execution_count": null,
   "metadata": {},
   "outputs": [],
   "source": [
    "# plot cross section\n",
    "from flopy.plot import PlotCrossSection\n",
    "fig, ax = plt.subplots(1, 1, figsize=(10, 5))\n",
    "cross_section = PlotCrossSection(model=gwf, line={\"column\": 15})\n",
    "cross_section.plot_array(heads, cmap=\"Blues\", ax=ax)\n",
    "cross_section.plot_vector(qx, qy, qz, color=\"black\", normalize=True)\n",
    "cross_section.plot_grid(linewidth=0.5, color=\"black\")"
   ]
  },
  {
   "cell_type": "code",
   "execution_count": 289,
   "metadata": {},
   "outputs": [],
   "source": [
    "workspace = sim.simulation_data.mfpath.get_sim_path()"
   ]
  },
  {
   "cell_type": "code",
   "execution_count": 291,
   "metadata": {},
   "outputs": [],
   "source": [
    "archpy_flow.prt_create(workspace=\"workspace_prt\", list_p_coords=[(170.7, 99.75, -7), (170.7, 99.75, -9), (170.7, 99.75, -11)], trackdir=\"backward\")"
   ]
  },
  {
   "cell_type": "code",
   "execution_count": null,
   "metadata": {},
   "outputs": [],
   "source": [
    "archpy_flow.prt_run()"
   ]
  },
  {
   "cell_type": "code",
   "execution_count": null,
   "metadata": {},
   "outputs": [],
   "source": [
    "archpy_flow.prt_get_pathlines()"
   ]
  },
  {
   "cell_type": "code",
   "execution_count": 295,
   "metadata": {},
   "outputs": [],
   "source": [
    "\n",
    "l_df_pi_prt = []\n",
    "for i in range(1, 4):\n",
    "    df = pd.DataFrame(archpy_flow.prt_get_facies_path_particle(i))\n",
    "    l_df_pi_prt.append(df)"
   ]
  },
  {
   "cell_type": "code",
   "execution_count": null,
   "metadata": {},
   "outputs": [],
   "source": [
    "fig = plt.figure(figsize=(10, 10))\n",
    "ax = fig.add_subplot(111, projection=\"3d\")\n",
    "\n",
    "for df in l_df_pi_prt:\n",
    "    ax.plot(df[\"x\"], df[\"y\"], df[\"z\"])\n",
    "    \n",
    "plt.xlim(0, 200)\n",
    "plt.ylim(0, 100)\n",
    "ax.set_zlim(-15, -5)\n",
    "ax.set_aspect(\"equalxy\")\n",
    "plt.show()"
   ]
  },
  {
   "cell_type": "code",
   "execution_count": null,
   "metadata": {},
   "outputs": [],
   "source": [
    "%matplotlib inline\n",
    "\n",
    "i_particle = 1\n",
    "\n",
    "colors_fa = []\n",
    "for col in l_df_pi_prt[i_particle].columns:\n",
    "    if col.split(\"_\")[0] == \"facies\":\n",
    "        id_fa = int(col.split(\"_\")[-1])\n",
    "        color_fa = archpy_flow.T1.get_facies_obj(ID=id_fa, type=\"ID\").c\n",
    "        colors_fa.append(color_fa)\n",
    "\n",
    "fig, ax = plt.subplots(2, 1, figsize=(10, 3), dpi=300)\n",
    "plt.subplots_adjust(hspace=0.5)\n",
    "l_df_pi_prt[i_particle].set_index(\"time\").iloc[:, -len(colors_fa):].plot(color=colors_fa, legend=False, ax=ax[0])\n",
    "ax[0].set_ylabel(\"Proportion\")\n",
    "ax[0].set_xlabel(\"time [days]\")\n",
    "ax[0].set_ylim(-.1, 1.1)\n",
    "\n",
    "l_df_pi_prt[i_particle].set_index(\"cum_distance\").iloc[:, -len(colors_fa):].plot(color=colors_fa, legend=False, ax=ax[1])\n",
    "ax[1].set_ylabel(\"Proportion\")\n",
    "ax[1].set_xlabel(\"Distance [m]\")\n",
    "ax[1].set_ylim(-.1, 1.1)"
   ]
  },
  {
   "cell_type": "code",
   "execution_count": null,
   "metadata": {},
   "outputs": [],
   "source": []
  },
  {
   "cell_type": "code",
   "execution_count": 83,
   "metadata": {},
   "outputs": [],
   "source": [
    "# modpath and pathlines\n",
    "# mpexe_path = \"C:/Users/emmal/switchdrive2/Post_doc/prog/exe/modflow_exe/win64/mp7.exe\"\n",
    "mpexe_path = \"E:/switchdrive/Post_doc/prog/exe/modflow_exe/win64/mp7.exe\"\n",
    "# mpexe_path = \"C:/Users/Ludovic/switchdrive/Post_doc/prog/exe/modflow_exe/win64/mp7.exe\"\n",
    "archpy_flow.mp_create(mpexe=mpexe_path, \n",
    "                      trackdir=\"backward\", \n",
    "                      list_p_coords=[(170.7, 99.75, -7), (170.7, 99.75, -9), (170.7, 99.75, -11)])"
   ]
  },
  {
   "cell_type": "code",
   "execution_count": 84,
   "metadata": {},
   "outputs": [],
   "source": [
    "# archpy_flow.mp_create([(1, 20, 120)],\n",
    "#                       mpexe=\"E:/switchdrive/Post_doc/prog/exe/modflow_exe/win64/mp7.exe\", \n",
    "#                       trackdir=\"backward\",\n",
    "#                       rowcelldivisions=3, columncelldivisions=3, layercelldivisions=3)"
   ]
  },
  {
   "cell_type": "code",
   "execution_count": null,
   "metadata": {},
   "outputs": [],
   "source": [
    "archpy_flow.mp_run(silent=False)"
   ]
  },
  {
   "cell_type": "code",
   "execution_count": 86,
   "metadata": {},
   "outputs": [],
   "source": [
    "p = archpy_flow.mp_get_pathlines_object()"
   ]
  },
  {
   "cell_type": "code",
   "execution_count": 87,
   "metadata": {},
   "outputs": [],
   "source": [
    "path = p.get_alldata()"
   ]
  },
  {
   "cell_type": "code",
   "execution_count": null,
   "metadata": {},
   "outputs": [],
   "source": [
    "path[0][[\"x\", \"y\", \"z\"]][0]"
   ]
  },
  {
   "cell_type": "code",
   "execution_count": null,
   "metadata": {},
   "outputs": [],
   "source": [
    "archpy_flow.mp_get_facies_path_particle(0, fac_time=1/86400)"
   ]
  },
  {
   "cell_type": "code",
   "execution_count": 90,
   "metadata": {},
   "outputs": [],
   "source": [
    "df = pd.DataFrame(p.get_alldata()[1])\n",
    "cells_path = np.array((((df[\"z\"].values-T1.zg[0])//T1.sz).astype(int), \n",
    "                       ((df[\"y\"].values-T1.yg[0])//T1.sy).astype(int), \n",
    "                       ((df[\"x\"].values-T1.xg[0])//T1.sx).astype(int))).T"
   ]
  },
  {
   "cell_type": "code",
   "execution_count": 91,
   "metadata": {},
   "outputs": [],
   "source": [
    "iu = 0\n",
    "ifa = 0\n",
    "\n",
    "time_ordered = df[\"time\"].values.copy()\n",
    "time_ordered /= 86400\n",
    "\n",
    "# add a column to track distance traveled\n",
    "df[\"distance\"] = 0\n",
    "for i in range(1, df.shape[0]):\n",
    "    x0, y0, z0 = df[[\"x\", \"y\", \"z\"]].iloc[i-1]\n",
    "    x1, y1, z1 = df[[\"x\", \"y\", \"z\"]].iloc[i]\n",
    "    distance = np.sqrt((x1-x0)**2 + (y1-y0)**2 + (z1-z0)**2)\n",
    "    df.loc[df.index[i], \"distance\"] = distance\n",
    "\n",
    "df[\"cum_distance\"] = df[\"distance\"].cumsum()\n",
    "\n",
    "dic_facies_path = {}\n",
    "# retrieve lithologies along the pathlines\n",
    "for fa in archpy_flow.T1.get_all_facies():\n",
    "    id_fa = fa.ID\n",
    "    prop_fa = archpy_flow.upscaled_facies[id_fa]\n",
    "\n",
    "    facies_along_path = prop_fa[cells_path[:, 0], cells_path[:, 1], cells_path[:, 2]]\n",
    "    dic_facies_path[fa.ID] = facies_along_path\n",
    "\n",
    "dt = np.diff(time_ordered)\n",
    "\n",
    "# store everything in a new dataframe\n",
    "df_all = pd.DataFrame(columns=[\"dt\", \"time\", \"distance\", \"cum_distance\"])\n",
    "df_all[\"dt\"] = dt\n",
    "df_all[\"time\"] = time_ordered[:-1]\n",
    "df_all[\"distance\"] = df[\"distance\"].values[:-1]\n",
    "df_all[\"cum_distance\"] = df[\"cum_distance\"].values[:-1]\n",
    "\n",
    "colors_fa = []\n",
    "for k, v in dic_facies_path.items():\n",
    "    df_all[\"facies_prop_\"+ str(k)] = v[:-1]\n",
    "    colors_fa.append(archpy_flow.T1.get_facies_obj(ID=k, type=\"ID\").c)\n",
    "# df_all[\"facies\"] = facies_along_path[:-1]"
   ]
  },
  {
   "cell_type": "code",
   "execution_count": null,
   "metadata": {},
   "outputs": [],
   "source": [
    "fig, ax = plt.subplots(2, 1, figsize=(10, 3), dpi=300)\n",
    "plt.subplots_adjust(hspace=0.5)\n",
    "df_all.set_index(\"time\").iloc[:, 3:].plot(color=colors_fa, legend=False, ax=ax[0])\n",
    "ax[0].set_ylabel(\"Proportion\")\n",
    "ax[0].set_xlabel(\"time [days]\")\n",
    "ax[0].set_ylim(-.1, 1.1)\n",
    "\n",
    "df_all.set_index(\"cum_distance\").iloc[:, 3:].plot(color=colors_fa, legend=False, ax=ax[1])\n",
    "ax[1].set_ylabel(\"Proportion\")\n",
    "ax[1].set_xlabel(\"Distance [m]\")\n",
    "ax[1].set_ylim(-.1, 1.1)"
   ]
  },
  {
   "cell_type": "code",
   "execution_count": 103,
   "metadata": {},
   "outputs": [],
   "source": [
    "l_df_pi_mp = []\n",
    "for i in range(3):\n",
    "    df = pd.DataFrame(archpy_flow.mp_get_facies_path_particle(i))\n",
    "    l_df_pi_mp.append(df)"
   ]
  },
  {
   "cell_type": "code",
   "execution_count": null,
   "metadata": {},
   "outputs": [],
   "source": [
    "# 3D plot of the pathlines\n",
    "fig = plt.figure(figsize=(10, 10))\n",
    "ax = fig.add_subplot(111, projection=\"3d\")\n",
    "\n",
    "for pth in l_df_pi_mp:\n",
    "    ax.plot(pth[\"x\"], pth[\"y\"], pth[\"z\"])\n",
    "\n",
    "plt.xlim(0, 200)\n",
    "plt.ylim(0, 100)\n",
    "ax.set_zlim(-15, 0)\n",
    "ax.set_aspect(\"equal\")\n",
    "plt.show()"
   ]
  },
  {
   "cell_type": "code",
   "execution_count": null,
   "metadata": {},
   "outputs": [],
   "source": [
    "%matplotlib inline\n",
    "# compare pathlines from modpath and pathlines\n",
    "fig = plt.figure(figsize=(10, 10))\n",
    "ax = fig.add_subplot(111, projection=\"3d\")\n",
    "\n",
    "for pth in l_df_pi[:]:\n",
    "    ax.plot(pth[\"x\"], pth[\"y\"], pth[\"z\"], color=\"red\", alpha=1)\n",
    "\n",
    "for pth in l_df_pi_mp[:]:\n",
    "    ax.plot(pth[\"x\"], pth[\"y\"], pth[\"z\"], color=\"blue\", alpha=1)"
   ]
  },
  {
   "cell_type": "code",
   "execution_count": 116,
   "metadata": {},
   "outputs": [],
   "source": [
    "# create an array with k values of the layer mode\n",
    "self = archpy_flow\n",
    "gwf = self.get_gwf()\n",
    "nrow, ncol, nlay = gwf.modelgrid.nrow, gwf.modelgrid.ncol, gwf.modelgrid.nlay\n",
    "\n",
    "# initialize new_k and new_k33\n",
    "kh = self.T1.get_prop(\"K\")[0, 0, 0] \n",
    "new_k = np.zeros(kh.shape)\n",
    "new_k33 = np.zeros(kh.shape)\n",
    "\n",
    "layers = self.layers_names\n",
    "mask_units = [self.T1.unit_mask(l).astype(bool) for l in layers]\n",
    "\n",
    "for irow in range(nrow):\n",
    "    for icol in range(ncol):\n",
    "        for ilay in range(nlay):\n",
    "            mask_unit = mask_units[ilay]\n",
    "            new_k[:, irow, icol][mask_unit[:, irow, icol]] = np.mean(kh[:, irow, icol][mask_unit[:, irow, icol]])\n",
    "            new_k33[:, irow, icol][mask_unit[:, irow, icol]] = 1 / np.mean(1 / kh[:, irow, icol][mask_unit[:, irow, icol]])\n",
    "\n",
    "new_k[new_k == 0] = np.nan\n",
    "new_k33[new_k33 == 0] = np.nan\n",
    "k_lay = new_k.copy()"
   ]
  },
  {
   "cell_type": "code",
   "execution_count": null,
   "metadata": {},
   "outputs": [],
   "source": [
    "T1.plot_arr(k_lay, v_ex=3, slicex=0.5, slicey=0.5)"
   ]
  },
  {
   "cell_type": "markdown",
   "metadata": {},
   "source": [
    "### Upscaled model"
   ]
  },
  {
   "cell_type": "code",
   "execution_count": null,
   "metadata": {},
   "outputs": [],
   "source": [
    "archpy_flow = archpy2modflow(T1, exe_name=\"../../../../exe/mf6.exe\")\n",
    "archpy_flow.create_sim(grid_mode=\"new_resolution\", iu=0, factor_x=4, factor_y=2, factor_z=2)\n",
    "archpy_flow.set_k(k_key=\"K\", iu=0, ifa=0, ip=0, log=True,\n",
    "                k_average_method=\"new_resolution\")"
   ]
  },
  {
   "cell_type": "code",
   "execution_count": 64,
   "metadata": {},
   "outputs": [],
   "source": [
    "sim = archpy_flow.get_sim()\n",
    "gwf = archpy_flow.get_gwf()"
   ]
  },
  {
   "cell_type": "code",
   "execution_count": 65,
   "metadata": {},
   "outputs": [],
   "source": [
    "pv.set_jupyter_backend(\"static\")"
   ]
  },
  {
   "cell_type": "code",
   "execution_count": null,
   "metadata": {},
   "outputs": [],
   "source": [
    "pl = pv.Plotter(shape=(1, 3), window_size=[2000, 700])\n",
    "v_ex=10\n",
    "sim = archpy_flow.get_sim()\n",
    "gwf = archpy_flow.get_gwf()\n",
    "arr = np.log10(gwf.npf.k.array)\n",
    "arr[arr==arr[0, 0, 0]] = np.nan\n",
    "arr = np.flip(np.flipud(arr), axis=1)\n",
    "im = geone.img.Img(nx=arr.shape[2], ny=arr.shape[1], nz=arr.shape[0], sx=gwf.dis.delr[0], sy=gwf.dis.delc[0], sz=0.15*v_ex, val=arr, nv=1,\n",
    "                   varname=[\"Upscaled model\"])\n",
    "geone.imgplot3d.drawImage3D_surface(im, plotter=pl)\n",
    "\n",
    "\n",
    "pl.subplot(0, 1)\n",
    "arr = k_lay\n",
    "im = geone.img.Img(nx=arr.shape[2], ny=arr.shape[1], nz=arr.shape[0], sx=3, sy=3, sz=0.15*v_ex, nv=1,\n",
    "                    val=arr.reshape(1, *arr.shape), varname=[\"Layer model\"])\n",
    "geone.imgplot3d.drawImage3D_surface(im, plotter=pl)\n",
    "\n",
    "pl.subplot(0, 2)\n",
    "arr = T1.get_prop(\"K\", 0, 0, 0, all_data=False)\n",
    "im = geone.img.Img(nx=arr.shape[2], ny=arr.shape[1], nz=arr.shape[0], sx=3, sy=3, sz=0.15*v_ex, nv=1,\n",
    "                    val=arr.reshape(1, *arr.shape), varname=[\"Original model\"])\n",
    "geone.imgplot3d.drawImage3D_surface(im, plotter=pl)\n",
    "\n",
    "pl.show()"
   ]
  },
  {
   "cell_type": "code",
   "execution_count": 67,
   "metadata": {},
   "outputs": [],
   "source": [
    "# add BC at left and right on all layers\n",
    "h1 = 100\n",
    "h2 = 0\n",
    "chd_data = []\n",
    "\n",
    "a = np.zeros((gwf.modelgrid.nlay, gwf.modelgrid.nrow, gwf.modelgrid.ncol), dtype=bool)\n",
    "a[:, :, 0] = 1\n",
    "lst_chd = array2cellids(a, gwf.dis.idomain.array)\n",
    "for cellid in lst_chd:\n",
    "    chd_data.append((cellid, h1))\n",
    "\n",
    "a = np.zeros((gwf.modelgrid.nlay, gwf.modelgrid.nrow, gwf.modelgrid.ncol), dtype=bool)\n",
    "a[:, :, -1] = 1\n",
    "lst_chd = array2cellids(a, gwf.dis.idomain.array)\n",
    "for cellid in lst_chd:\n",
    "    chd_data.append((cellid, h2))\n",
    "\n",
    "chd = fp.mf6.ModflowGwfchd(gwf, stress_period_data=chd_data, save_flows=True)"
   ]
  },
  {
   "cell_type": "code",
   "execution_count": null,
   "metadata": {},
   "outputs": [],
   "source": [
    "sim.write_simulation()\n",
    "sim.ims.complexity = \"moderate\"\n",
    "sim.ims.write()\n",
    "sim.run_simulation()"
   ]
  },
  {
   "cell_type": "code",
   "execution_count": null,
   "metadata": {},
   "outputs": [],
   "source": [
    "archpy_flow.prt_create(workspace=\"workspace_prt\", list_p_coords=[(170.7, 99.75, -7), (170.7, 99.75, -9), (170.7, 99.75, -11)], trackdir=\"backward\")\n",
    "archpy_flow.prt_run()"
   ]
  },
  {
   "cell_type": "code",
   "execution_count": 70,
   "metadata": {},
   "outputs": [],
   "source": [
    "l_df_pi_prt = []\n",
    "for i in range(1, 4):\n",
    "    df = pd.DataFrame(archpy_flow.prt_get_facies_path_particle(i))\n",
    "    l_df_pi_prt.append(df)"
   ]
  },
  {
   "cell_type": "code",
   "execution_count": null,
   "metadata": {},
   "outputs": [],
   "source": [
    "archpy_flow.prt_get_facies_path_particle(3)"
   ]
  },
  {
   "cell_type": "code",
   "execution_count": null,
   "metadata": {},
   "outputs": [],
   "source": [
    "fig = plt.figure(figsize=(10, 10))\n",
    "ax = fig.add_subplot(111, projection=\"3d\")\n",
    "\n",
    "for df in l_df_pi_prt[:3]:\n",
    "    ax.plot(df[\"x\"], df[\"y\"], df[\"z\"], label=\"Particle Tracker\", alpha=.7)"
   ]
  },
  {
   "cell_type": "code",
   "execution_count": null,
   "metadata": {},
   "outputs": [],
   "source": [
    "i_particle = 0\n",
    "\n",
    "colors_fa = []\n",
    "for col in l_df_pi_prt[i_particle].columns:\n",
    "    if col.split(\"_\")[0] == \"facies\":\n",
    "        id_fa = int(col.split(\"_\")[-1])\n",
    "        color_fa = archpy_flow.T1.get_facies_obj(ID=id_fa, type=\"ID\").c\n",
    "        colors_fa.append(color_fa)\n",
    "\n",
    "fig, ax = plt.subplots(2, 1, figsize=(10, 2), dpi=300)\n",
    "plt.subplots_adjust(hspace=0.8)\n",
    "l_df_pi_prt[i_particle].set_index(\"time\").iloc[:, -len(colors_fa):].plot(color=colors_fa, legend=False, ax=ax[0])\n",
    "ax[0].set_ylabel(\"Proportion\")\n",
    "ax[0].set_xlabel(\"time [days]\")\n",
    "ax[0].set_ylim(-.1, 1.1)\n",
    "\n",
    "l_df_pi_prt[i_particle].set_index(\"cum_distance\").iloc[:, -len(colors_fa):].plot(color=colors_fa, legend=False, ax=ax[1])\n",
    "ax[1].set_ylabel(\"Proportion\")\n",
    "ax[1].set_xlabel(\"Distance [m]\")\n",
    "ax[1].set_ylim(-.1, 1.1)"
   ]
  },
  {
   "cell_type": "code",
   "execution_count": null,
   "metadata": {},
   "outputs": [],
   "source": []
  },
  {
   "cell_type": "code",
   "execution_count": null,
   "metadata": {},
   "outputs": [],
   "source": [
    "# mpexe_path = \"C:/Users/Ludovic/switchdrive/Post_doc/prog/exe/modflow_exe/win64/mp7.exe\"\n",
    "mpexe_path = \"E:/switchdrive/Post_doc/prog/exe/modflow_exe/win64/mp7.exe\"\n",
    "archpy_flow.mp_create(mpexe=mpexe_path, \n",
    "                      trackdir=\"backward\", \n",
    "                      list_p_coords=[(170.7, 99.75, -7), (170.7, 99.75, -9), (170.7, 99.75, -11)])\n",
    "archpy_flow.mp_run(silent=False)"
   ]
  },
  {
   "cell_type": "code",
   "execution_count": 114,
   "metadata": {},
   "outputs": [],
   "source": [
    "df_pi = archpy_flow.mp_get_facies_path_particle(0)"
   ]
  },
  {
   "cell_type": "code",
   "execution_count": 119,
   "metadata": {},
   "outputs": [],
   "source": [
    "l_df_pi_mp = []\n",
    "for i in range(3):\n",
    "    df = pd.DataFrame(archpy_flow.mp_get_facies_path_particle(i))\n",
    "    l_df_pi_mp.append(df)"
   ]
  },
  {
   "cell_type": "code",
   "execution_count": 116,
   "metadata": {},
   "outputs": [],
   "source": [
    "colors_fa = []\n",
    "for col in df_pi.columns:\n",
    "    if col.split(\"_\")[0] == \"facies\":\n",
    "        id_fa = int(col.split(\"_\")[-1])\n",
    "        color_fa = archpy_flow.T1.get_facies_obj(ID=id_fa, type=\"ID\").c\n",
    "        colors_fa.append(color_fa)"
   ]
  },
  {
   "cell_type": "code",
   "execution_count": null,
   "metadata": {},
   "outputs": [],
   "source": [
    "fig, ax = plt.subplots(2, 1, figsize=(10, 4), dpi=300)\n",
    "plt.subplots_adjust(hspace=0.5)\n",
    "df_pi.set_index(\"time\").iloc[:, -len(colors_fa):].plot(color=colors_fa, legend=False, ax=ax[0])\n",
    "ax[0].set_ylabel(\"Proportion\")\n",
    "ax[0].set_xlabel(\"time [days]\")\n",
    "ax[0].set_ylim(-.1, 1.1)\n",
    "\n",
    "df_pi.set_index(\"cum_distance\").iloc[:, -len(colors_fa):].plot(color=colors_fa, legend=False, ax=ax[1])\n",
    "ax[1].set_ylabel(\"Proportion\")\n",
    "ax[1].set_xlabel(\"Distance [m]\") \n",
    "ax[1].set_ylim(-.1, 1.1)"
   ]
  },
  {
   "cell_type": "code",
   "execution_count": null,
   "metadata": {},
   "outputs": [],
   "source": [
    "p = archpy_flow.mp_get_pathlines_object()\n",
    "path = p.get_alldata()\n",
    "fig = plt.figure(figsize=(10, 10))\n",
    "ax = fig.add_subplot(111, projection=\"3d\")\n",
    "\n",
    "for pth in path[:]:\n",
    "    ax.plot(pth[\"x\"], pth[\"y\"], pth[\"z\"])\n",
    "\n",
    "plt.xlim(0, 200)\n",
    "plt.ylim(0, 100)\n",
    "ax.set_zlim(-15, 0)\n",
    "plt.show()"
   ]
  },
  {
   "cell_type": "code",
   "execution_count": null,
   "metadata": {},
   "outputs": [],
   "source": [
    "# compare the pathlines of the particles with the pathlines of the MODPATH model\n",
    "\n",
    "fig = plt.figure(figsize=(10, 10))\n",
    "ax = fig.add_subplot(111, projection=\"3d\")\n",
    "\n",
    "for df_mp in l_df_pi_mp:\n",
    "    ax.plot(df_mp[\"x\"], df_mp[\"y\"], df_mp[\"z\"], label=\"MODPATH\", color=\"blue\")\n",
    "\n",
    "for df_prt in l_df_pi_prt:\n",
    "    ax.plot(df_prt[\"x\"], df_prt[\"y\"], df_prt[\"z\"], label=\"Particle Tracker\", color=\"red\")\n",
    "\n",
    "plt.show()"
   ]
  },
  {
   "cell_type": "markdown",
   "metadata": {},
   "source": [
    "how to compare pathlines using different grid mode ?\n",
    "\n",
    "- compute distance between the two pathlines (optimal transport, frechet distance)\n",
    "- difference between time and distance traveled\n",
    "- compare facies encountered (but how ?)\n",
    "- compare units encountered\n",
    "\n",
    "## Comparisons"
   ]
  },
  {
   "cell_type": "code",
   "execution_count": 124,
   "metadata": {},
   "outputs": [],
   "source": [
    "np.random.seed(1)\n",
    "# compare pathlines between the 3 modes\n",
    "\n",
    "n_loc = 10\n",
    "particles_loc_x = np.random.uniform(100, T1.get_xg()[-1], n_loc)\n",
    "particles_loc_y = np.random.uniform(0, T1.get_yg()[-1], n_loc)\n",
    "particles_loc_z = np.random.uniform(-12, -7, n_loc)\n",
    "particles_loc = list(zip(particles_loc_x, particles_loc_y, particles_loc_z))\n",
    "particles_loc.append((170.7, 99.75, -9))\n",
    "n_loc += 1"
   ]
  },
  {
   "cell_type": "code",
   "execution_count": 125,
   "metadata": {},
   "outputs": [],
   "source": [
    "def add_chd(archpy_flow, h1=100, h2=0):\n",
    "\n",
    "    # add BC at left and right on all layers\n",
    "    chd_data = []\n",
    "\n",
    "    gwf = archpy_flow.get_gwf()\n",
    "    \n",
    "    a = np.zeros((gwf.modelgrid.nlay, gwf.modelgrid.nrow, gwf.modelgrid.ncol), dtype=bool)\n",
    "    a[:, :, 0] = 1\n",
    "    lst_chd = array2cellids(a, gwf.dis.idomain.array)\n",
    "    for cellid in lst_chd:\n",
    "        chd_data.append((cellid, h1))\n",
    "\n",
    "    a = np.zeros((gwf.modelgrid.nlay, gwf.modelgrid.nrow, gwf.modelgrid.ncol), dtype=bool)\n",
    "    a[:, :, -1] = 1\n",
    "    lst_chd = array2cellids(a, gwf.dis.idomain.array)\n",
    "    for cellid in lst_chd:\n",
    "        chd_data.append((cellid, h2))\n",
    "\n",
    "    chd = fp.mf6.ModflowGwfchd(gwf, stress_period_data=chd_data, save_flows=True)"
   ]
  },
  {
   "cell_type": "code",
   "execution_count": null,
   "metadata": {},
   "outputs": [],
   "source": [
    "iu = 0\n",
    "ifa = 0\n",
    "modflow_path = \"../../../../exe/mf6.exe\"\n",
    "\n",
    "# Archpy grid mode #\n",
    "archpy_flow = archpy2modflow(T1, exe_name=modflow_path)\n",
    "archpy_flow.create_sim(grid_mode=\"archpy\", iu=iu)\n",
    "archpy_flow.set_k(\"K\", iu, ifa, 0, log=True)\n",
    "\n",
    "sim = archpy_flow.get_sim()\n",
    "\n",
    "add_chd(archpy_flow, 100, 0)\n",
    "\n",
    "sim.write_simulation()\n",
    "sim.ims.complexity = \"complex\"\n",
    "sim.ims.write()\n",
    "sim.run_simulation()\n",
    "\n",
    "# Particle Tracker mode #\n",
    "archpy_flow.prt_create(workspace=\"workspace_prt\", list_p_coords=particles_loc, trackdir=\"backward\")\n",
    "archpy_flow.prt_run()\n",
    "\n",
    "l_df_pi_archpy = []\n",
    "for i in range(n_loc):\n",
    "    l_df_pi_archpy.append(archpy_flow.prt_get_facies_path_particle(i+1))\n",
    "\n",
    "# Layer mode #\n",
    "archpy_flow = archpy2modflow(T1, exe_name=modflow_path)\n",
    "archpy_flow.create_sim(grid_mode=\"layers\", iu=iu)\n",
    "archpy_flow.set_k(\"K\", iu, ifa, 0, log=True)\n",
    "\n",
    "sim = archpy_flow.get_sim()\n",
    "\n",
    "add_chd(archpy_flow, 100, 0)\n",
    "\n",
    "sim.write_simulation()\n",
    "sim.ims.complexity = \"moderate\"\n",
    "sim.ims.write()\n",
    "sim.run_simulation()\n",
    "\n",
    "archpy_flow.prt_create(workspace=\"workspace_prt\", list_p_coords=particles_loc, trackdir=\"backward\")\n",
    "archpy_flow.prt_run()\n",
    "\n",
    "l_df_pi_layer = []\n",
    "for i in range(n_loc):\n",
    "    l_df_pi_layer.append(archpy_flow.prt_get_facies_path_particle(i+1))\n",
    "\n",
    "# New resolution mode #\n",
    "archpy_flow = archpy2modflow(T1, exe_name=modflow_path)\n",
    "archpy_flow.create_sim(grid_mode=\"new_resolution\", iu=iu, factor_x=4, factor_y=2, factor_z=2)\n",
    "archpy_flow.set_k(\"K\", iu, ifa, 0, log=True)\n",
    "\n",
    "sim = archpy_flow.get_sim()\n",
    "\n",
    "add_chd(archpy_flow, 100, 0)\n",
    "\n",
    "sim.write_simulation()\n",
    "sim.ims.complexity = \"moderate\"\n",
    "sim.ims.write()\n",
    "sim.run_simulation()\n",
    "\n",
    "archpy_flow.prt_create(workspace=\"workspace_prt\", list_p_coords=particles_loc, trackdir=\"backward\")\n",
    "archpy_flow.prt_run()\n",
    "\n",
    "l_df_pi_new_res = []\n",
    "for i in range(n_loc):\n",
    "    l_df_pi_new_res.append(archpy_flow.prt_get_facies_path_particle(i+1))"
   ]
  },
  {
   "cell_type": "code",
   "execution_count": null,
   "metadata": {},
   "outputs": [],
   "source": [
    "# iu = 0\n",
    "# ifa = 0\n",
    "\n",
    "# # mpexe_path = \"C:/Users/emmal/switchdrive2/Post_doc/prog/exe/modflow_exe/win64/mp7.exe\"\n",
    "# mpexe_path = \"E:/switchdrive/Post_doc/prog/exe/modflow_exe/win64/mp7.exe\"\n",
    "# # mpexe_path = \"C:/Users/Ludovic/switchdrive/Post_doc/prog/exe/modflow_exe/win64/mp7.exe\"\n",
    "# modflow_path = \"../../../../exe/mf6.exe\"\n",
    "\n",
    "# # Archpy grid mode #\n",
    "# archpy_flow = archpy2modflow(T1, exe_name=modflow_path)\n",
    "# archpy_flow.create_sim(grid_mode=\"archpy\", iu=iu)\n",
    "# archpy_flow.set_k(\"K\", iu, ifa, 0, log=True)\n",
    "\n",
    "# sim = archpy_flow.get_sim()\n",
    "\n",
    "# add_chd(archpy_flow, 100, 0)\n",
    "\n",
    "# sim.write_simulation()\n",
    "# sim.ims.complexity = \"complex\"\n",
    "# sim.ims.write()\n",
    "# sim.run_simulation()\n",
    "\n",
    "# archpy_flow.mp_create(mpexe=mpexe_path, \n",
    "#                       trackdir=\"backward\", \n",
    "#                       list_p_coords=particles_loc)\n",
    "# archpy_flow.mp_run(silent=False)\n",
    "\n",
    "# l_df_pi = []\n",
    "# for pi in range(n_loc):\n",
    "#     df_pi = get_df_particle(archpy_flow, pi, fac_time=1/86400)\n",
    "#     l_df_pi.append(df_pi)\n",
    "\n",
    "# # Layers grid mode #\n",
    "# archpy_flow = archpy2modflow(T1, exe_name=modflow_path)\n",
    "# archpy_flow.create_sim(grid_mode=\"layers\", iu=iu)\n",
    "# archpy_flow.set_k(\"K\", iu, ifa, 0, log=True)\n",
    "\n",
    "# sim = archpy_flow.get_sim()\n",
    "\n",
    "# add_chd(archpy_flow, 100, 0)\n",
    "\n",
    "# sim.write_simulation()\n",
    "# sim.ims.complexity = \"moderate\"\n",
    "# sim.ims.write()\n",
    "# sim.run_simulation()\n",
    "\n",
    "# archpy_flow.mp_create(mpexe=mpexe_path,\n",
    "#                         trackdir=\"backward\",\n",
    "#                         list_p_coords=particles_loc)\n",
    "# archpy_flow.mp_run(silent=False)\n",
    "\n",
    "# l_df_pi_layers = []\n",
    "# for pi in range(n_loc):\n",
    "#     df_pi = get_df_particle(archpy_flow, pi, fac_time=1/86400)\n",
    "#     l_df_pi_layers.append(df_pi)\n",
    "\n",
    "# # New resolution grid mode #\n",
    "# archpy_flow = archpy2modflow(T1, exe_name=modflow_path)\n",
    "# archpy_flow.create_sim(grid_mode=\"new_resolution\", iu=iu, factor_x=4, factor_y=2, factor_z=2)\n",
    "# archpy_flow.set_k(\"K\", iu, ifa, 0, log=True, k_average_method=\"new_resolution\")\n",
    "\n",
    "# sim = archpy_flow.get_sim()\n",
    "\n",
    "# add_chd(archpy_flow, 100, 0)\n",
    "\n",
    "# sim.write_simulation()\n",
    "# sim.ims.complexity = \"moderate\"\n",
    "# sim.ims.write()\n",
    "# sim.run_simulation()\n",
    "\n",
    "# archpy_flow.mp_create(mpexe=mpexe_path,\n",
    "#                         trackdir=\"backward\",\n",
    "#                         list_p_coords=particles_loc)\n",
    "# archpy_flow.mp_run(silent=False)\n",
    "\n",
    "# l_df_pi_new_res = []\n",
    "# for pi in range(n_loc):\n",
    "#     df_pi = get_df_particle(archpy_flow, pi, fac_time=1/86400)\n",
    "#     l_df_pi_new_res.append(df_pi)\n"
   ]
  },
  {
   "cell_type": "code",
   "execution_count": 155,
   "metadata": {},
   "outputs": [],
   "source": [
    "from ArchPy.ap_mf import plot_particle_facies_sequence"
   ]
  },
  {
   "cell_type": "code",
   "execution_count": null,
   "metadata": {},
   "outputs": [],
   "source": [
    "\n",
    "plot_particle_facies_sequence(archpy_flow.T1, l_df_pi_archpy[8], plot_distance=True)"
   ]
  },
  {
   "cell_type": "code",
   "execution_count": null,
   "metadata": {},
   "outputs": [],
   "source": [
    "fig = plt.figure(figsize=(10, 10))\n",
    "ax = fig.add_subplot(111, projection=\"3d\")\n",
    "\n",
    "for df in l_df_pi_archpy:\n",
    "    ax.plot(df[\"x\"], df[\"y\"], df[\"z\"])\n",
    "    \n",
    "plt.xlim(0, 200)\n",
    "plt.ylim(0, 100)\n",
    "ax.set_zlim(-15, -5)\n",
    "ax.set_aspect(\"equalxy\")\n",
    "plt.show()"
   ]
  },
  {
   "cell_type": "code",
   "execution_count": null,
   "metadata": {},
   "outputs": [],
   "source": []
  },
  {
   "cell_type": "code",
   "execution_count": null,
   "metadata": {},
   "outputs": [],
   "source": [
    "%matplotlib tk\n",
    "fig = plt.figure(figsize=(10, 10))\n",
    "ax = fig.add_subplot(111, projection=\"3d\")\n",
    "\n",
    "i_particle = 9\n",
    "for df in [l_df_pi_archpy[i_particle]]:\n",
    "    ax.plot(df[\"x\"], df[\"y\"], df[\"z\"], color=\"k\")\n",
    "    ax.scatter(df[\"x\"], df[\"y\"], df[\"z\"], c=np.log10(df[\"time\"]), cmap=\"viridis\")\n",
    "    print(df[\"time\"].max())\n",
    "for df in [l_df_pi_layer[i_particle]]:\n",
    "    ax.plot(df[\"x\"], df[\"y\"], df[\"z\"], color=\"r\")\n",
    "    # ax.scatter(df[\"x\"], df[\"y\"], df[\"z\"], c=df[\"time\"], cmap=\"viridis\")\n",
    "    print(df[\"time\"].max())\n",
    "for df in [l_df_pi_new_res[i_particle]]:\n",
    "    ax.plot(df[\"x\"], df[\"y\"], df[\"z\"], color=\"b\")\n",
    "    ax.scatter(df[\"x\"], df[\"y\"], df[\"z\"], c=np.log10(df[\"time\"]), cmap=\"viridis\")\n",
    "    print(df[\"time\"].max())\n",
    "    \n",
    "plt.xlim(0, 200)\n",
    "plt.ylim(0, 100)\n",
    "ax.set_zlim(-15, -5)\n",
    "ax.set_aspect(\"equalxy\")\n",
    "plt.show()"
   ]
  },
  {
   "cell_type": "code",
   "execution_count": null,
   "metadata": {},
   "outputs": [],
   "source": []
  },
  {
   "cell_type": "code",
   "execution_count": null,
   "metadata": {},
   "outputs": [],
   "source": [
    "path1 = l_df_pi_archpy[4][[\"x\", \"y\", \"z\", \"time\"]]\n",
    "# indicate that time column is in days and set as index\n",
    "# path1.loc[:, \"time\"] = pd.to_timedelta(path1[\"time\"], unit=\"d\")\n",
    "\n",
    "path2 = l_df_pi_layer[4][[\"x\", \"y\", \"z\", \"time\"]]\n",
    "# indicate that time column is in days and set as index\n",
    "# path2.loc[:, \"time\"] = pd.to_timedelta(path2[\"time\"], unit=\"d\")\n",
    "\n",
    "# from dtaidistance import dtw_ndim\n",
    "# d = dtw_ndim.distance(path1.values, path2.values)\n",
    "\n",
    "# DTW(path1.values, path2.values)\n",
    "\n",
    "# merge the two dataframes on time\n",
    "df_merge = pd.merge(path1, path2, on=\"time\", suffixes=(\"_1\", \"_2\"), how=\"outer\").fillna(method=\"bfill\").set_index(\"time\")\n",
    "path1 = df_merge[[\"x_1\", \"y_1\", \"z_1\"]].fillna(method=\"ffill\")\n",
    "path2 = df_merge[[\"x_2\", \"y_2\", \"z_2\"]].fillna(method=\"ffill\")\n",
    "path1"
   ]
  },
  {
   "cell_type": "code",
   "execution_count": null,
   "metadata": {},
   "outputs": [],
   "source": []
  },
  {
   "cell_type": "code",
   "execution_count": null,
   "metadata": {},
   "outputs": [],
   "source": [
    "from dtaidistance import dtw_ndim\n",
    "d = dtw_ndim.distance(path1.values, path2.values)\n",
    "d"
   ]
  },
  {
   "cell_type": "code",
   "execution_count": null,
   "metadata": {},
   "outputs": [],
   "source": [
    "frechet_distance(path1.values, path2.values)"
   ]
  },
  {
   "cell_type": "code",
   "execution_count": null,
   "metadata": {},
   "outputs": [],
   "source": [
    "hausdorff_distance(path1.values, path2.values)"
   ]
  },
  {
   "cell_type": "code",
   "execution_count": 237,
   "metadata": {},
   "outputs": [],
   "source": [
    "from scipy.spatial import distance\n",
    "\n",
    "def DTW(path1, path2):\n",
    "    \"\"\"\n",
    "    Compute the Frechet distance between two pathlines\n",
    "    \"\"\"\n",
    "    \n",
    "    # compute the distance between each point of the two pathlines\n",
    "    dist = distance.cdist(path1, path2)\n",
    "\n",
    "    # compute frechet matrix\n",
    "    MF = np.zeros(dist.shape)\n",
    "    for i in range(dist.shape[0]):\n",
    "        for j in range(dist.shape[1]):\n",
    "            if i == 0 and j == 0:\n",
    "                MF[i, j] = dist[i, j]\n",
    "            elif i == 0:\n",
    "                MF[i, j] = dist[i, j]\n",
    "            elif j == 0:\n",
    "                MF[i, j] = dist[i, j]\n",
    "            else:\n",
    "                MF[i, j] = dist[i, j] + min(MF[i-1, j], MF[i, j-1], MF[i-1, j-1])\n",
    "\n",
    "    return MF[-1, -1]\n",
    "\n",
    "def frechet_distance(path1, path2):\n",
    "\n",
    "    # compute the distance between each point of the two pathlines\n",
    "    dist = distance.cdist(path1, path2)\n",
    "\n",
    "    # compute frechet matrix\n",
    "    MF = np.zeros(dist.shape)\n",
    "    for i in range(dist.shape[0]):\n",
    "        for j in range(dist.shape[1]):\n",
    "            if i == 0 and j == 0:\n",
    "                MF[i, j] = dist[i, j]\n",
    "            elif i == 0:\n",
    "                MF[i, j] = max(MF[i, j-1], dist[i, j])\n",
    "            elif j == 0:\n",
    "                MF[i, j] = max(MF[i-1, j], dist[i, j])\n",
    "            else:\n",
    "                MF[i, j] = max(min(MF[i-1, j], MF[i, j-1], MF[i-1, j-1]), dist[i, j])\n",
    "    \n",
    "    return MF[-1, -1]\n",
    "\n",
    "def hausdorff_distance(path1, path2):\n",
    "    \"\"\"\n",
    "    Compute the Hausdorff distance between two pathlines\n",
    "    \"\"\"\n",
    "    \n",
    "    from scipy.spatial.distance import directed_hausdorff\n",
    "\n",
    "    d1 = directed_hausdorff(path1, path2)\n",
    "    return d1[0]"
   ]
  },
  {
   "cell_type": "code",
   "execution_count": 240,
   "metadata": {},
   "outputs": [],
   "source": [
    "%matplotlib inline"
   ]
  },
  {
   "cell_type": "code",
   "execution_count": null,
   "metadata": {},
   "outputs": [],
   "source": [
    "# write a function to compute the frechet distance between two pathlines\n",
    "\n",
    "l_layer_frechet = []\n",
    "l_new_res_frechet = []\n",
    "l_layer_hausdorff = []\n",
    "l_new_res_hausdorff = []\n",
    "l_layer_dtw = []\n",
    "l_new_res_dtw = []\n",
    "for i_particle in range(n_loc):\n",
    "    if i_particle in [6, 7]:\n",
    "        # l_layer_frechet.append(np.nan)\n",
    "        # l_layer_hausdorff.append(np.nan)\n",
    "        # l_new_res_frechet.append(np.nan)\n",
    "        # l_new_res_hausdorff.append(np.nan)\n",
    "        # l_layer_dtw.append(np.nan)\n",
    "        # l_new_res_dtw.append(np.nan)\n",
    "        pass\n",
    "    else:\n",
    "        # compute frechet and hausdorffdistance\n",
    "        path1 = l_df_pi_archpy[i_particle][[\"x\", \"y\", \"z\"]].values\n",
    "        path2 = l_df_pi_layer[i_particle][[\"x\", \"y\", \"z\"]].values\n",
    "        l_layer_frechet.append(frechet_distance(path1, path2))\n",
    "        l_layer_hausdorff.append(hausdorff_distance(path1, path2))\n",
    "\n",
    "        path2 = l_df_pi_new_res[i_particle][[\"x\", \"y\", \"z\"]].values\n",
    "        l_new_res_frechet.append(frechet_distance(path1, path2))\n",
    "        l_new_res_hausdorff.append(hausdorff_distance(path1, path2))\n",
    "        \n",
    "        # # DTW\n",
    "        path1 = l_df_pi_archpy[i_particle][[\"x\", \"y\", \"z\", \"time\"]]\n",
    "        # path1.loc[:, \"time\"] = pd.to_timedelta(path1[\"time\"], unit=\"d\")\n",
    "\n",
    "        path2 = l_df_pi_layer[i_particle][[\"x\", \"y\", \"z\", \"time\"]]\n",
    "        # path2.loc[:, \"time\"] = pd.to_timedelta(path2[\"time\"], unit=\"d\")\n",
    "\n",
    "        # # merge the two dataframes on time\n",
    "        df_merge = pd.merge(path1, path2, on=\"time\", suffixes=(\"_1\", \"_2\"), how=\"outer\").fillna(method=\"ffill\").set_index(\"time\")\n",
    "        path1 = df_merge[[\"x_1\", \"y_1\", \"z_1\"]].fillna(method=\"bfill\")\n",
    "        path2 = df_merge[[\"x_2\", \"y_2\", \"z_2\"]].fillna(method=\"bfill\")\n",
    "\n",
    "        l_layer_dtw.append(DTW(path1.values, path2.values))\n",
    "\n",
    "        path1 = l_df_pi_archpy[i_particle][[\"x\", \"y\", \"z\", \"time\"]]\n",
    "        # path1.loc[:, \"time\"] = pd.to_timedelta(path1[\"time\"], unit=\"d\")\n",
    "\n",
    "        path2 = l_df_pi_new_res[i_particle][[\"x\", \"y\", \"z\", \"time\"]]\n",
    "        # path2.loc[:, \"time\"] = pd.to_timedelta(path2[\"time\"], unit=\"d\")\n",
    "\n",
    "        # # merge the two dataframes on time\n",
    "        df_merge = pd.merge(path1, path2, on=\"time\", suffixes=(\"_1\", \"_2\"), how=\"outer\").fillna(method=\"ffill\").set_index(\"time\")\n",
    "        path1 = df_merge[[\"x_1\", \"y_1\", \"z_1\"]].fillna(method=\"bfill\")\n",
    "        path2 = df_merge[[\"x_2\", \"y_2\", \"z_2\"]].fillna(method=\"bfill\")\n",
    "        l_new_res_dtw.append(DTW(path1.values, path2.values))\n",
    "\n",
    "\n",
    "fig, ax = plt.subplots(3, 1, figsize=(10, 8))\n",
    "ax[0].plot(l_layer_frechet, label=\"Layers mode\")\n",
    "ax[0].plot(l_new_res_frechet, label=\"New resolution mode\")\n",
    "ax[0].set_xlabel(\"Particle\")\n",
    "ax[0].set_ylabel(\"Frechet distance\")\n",
    "ax[0].legend()\n",
    "\n",
    "ax[1].plot(l_layer_hausdorff, label=\"Layers mode\")\n",
    "ax[1].plot(l_new_res_hausdorff, label=\"New resolution mode\")\n",
    "ax[1].set_xlabel(\"Particle\")\n",
    "ax[1].set_ylabel(\"Hausdorff distance\")\n",
    "ax[1].legend()\n",
    "\n",
    "ax[2].plot(l_layer_dtw, label=\"Layers mode\")\n",
    "ax[2].plot(l_new_res_dtw, label=\"New resolution mode\")\n",
    "ax[2].set_xlabel(\"Particle\")\n",
    "ax[2].set_ylabel(\"DTW distance\")\n",
    "ax[2].legend()\n",
    "\n",
    "plt.show()\n",
    "\n",
    "print(\"Frechet distance\")\n",
    "print(\"Layers mode: \", np.mean(l_layer_frechet))\n",
    "print(\"New resolution mode: \", np.mean(l_new_res_frechet))\n",
    "print(\"Hausdorff distance\")\n",
    "print(\"Layers mode: \", np.mean(l_layer_hausdorff))\n",
    "print(\"New resolution mode: \", np.mean(l_new_res_hausdorff))\n",
    "print(\"DTW distance\")\n",
    "print(\"Layers mode: \", np.mean(l_layer_dtw))\n",
    "print(\"New resolution mode: \", np.mean(l_new_res_dtw))"
   ]
  },
  {
   "cell_type": "code",
   "execution_count": null,
   "metadata": {},
   "outputs": [],
   "source": [
    "sum(np.array(l_new_res_frechet) < np.array(l_layer_frechet)) / len(l_new_res_frechet)"
   ]
  },
  {
   "cell_type": "code",
   "execution_count": null,
   "metadata": {},
   "outputs": [],
   "source": []
  },
  {
   "cell_type": "code",
   "execution_count": null,
   "metadata": {},
   "outputs": [],
   "source": []
  },
  {
   "cell_type": "code",
   "execution_count": 193,
   "metadata": {},
   "outputs": [],
   "source": [
    "# retrieve lithologies along the pathlines\n",
    "facies_domains = T1.get_facies(0, 0, all_data = False)\n",
    "facies_along_path = facies_domains[unique_cells_ordered[:, 0], unique_cells_ordered[:, 1], unique_cells_ordered[:, 2]][::-1]"
   ]
  },
  {
   "cell_type": "code",
   "execution_count": null,
   "metadata": {},
   "outputs": [],
   "source": [
    "%matplotlib inline\n",
    "# plot cumulative distribution of the facies along the pathlines vs the time\n",
    "fig, ax = plt.subplots(1, 2)\n",
    "plt.subplots_adjust(wspace=0.4)\n",
    "\n",
    "curves = []\n",
    "\n",
    "list_facies = [fa for fa in T1.get_all_facies()]\n",
    "# orders facies by proportions\n",
    "list_facies = sorted(list_facies, key=lambda x: -np.sum(facies_along_path == x.ID))\n",
    "for fa in list_facies:\n",
    "    curves.append(np.cumsum(facies_along_path == fa.ID) / len(facies_along_path))\n",
    "\n",
    "prev_curve = np.zeros_like(curves[0], dtype=float)\n",
    "for i, fa in enumerate(list_facies):\n",
    "    curve = curves[i].astype(float) \n",
    "    curve[curve == 0] = np.nan\n",
    "    ax[0].fill_between(-time_ordered, curve+prev_curve, prev_curve, alpha=0.5, color=fa.c)\n",
    "    # ax[0].plot(-time_ordered, curve+prev_curve, label=fa.name, color=fa.c, marker=\"o\", linewidth=0)\n",
    "    prev_curve[~np.isnan(curve)] = curve[~np.isnan(curve)] + prev_curve[~np.isnan(curve)]\n",
    "\n",
    "ax[0].set_xlabel(\"Time (s)\", fontsize=12)\n",
    "ax[0].set_ylabel(\"Cumulative proportion of facies\", fontsize=12)\n",
    "ax[0].set_title(\"cdf of facies along the pathlines\")\n",
    "# print time spent in each facies \n",
    "\n",
    "df_time = pd.DataFrame(columns=[fa.name for fa in list_facies])\n",
    "# initialize the time spent in each facies\n",
    "time_spent = np.zeros(len(list_facies))\n",
    "for i, fa in enumerate(list_facies):\n",
    "    time_spent[i] = np.sum(facies_along_path == fa.ID)\n",
    "df_time.loc[0] = time_spent\n",
    "\n",
    "for i in range(len(time_ordered)-1):\n",
    "    dt = time_ordered[i] - time_ordered[i+1]\n",
    "    for j, fa in enumerate(list_facies):\n",
    "        if facies_along_path[i] == fa.ID:\n",
    "            time_spent[j] += dt\n",
    "\n",
    "df_time /= 86400  # convert seconds to days\n",
    "\n",
    "color_facies = [fa.c for fa in list_facies]\n",
    "\n",
    "df_time.plot(kind=\"bar\", color=color_facies, legend=False, logy=False, ax=ax[1])\n",
    "ax[1].set_title(\"Time spent in each facies (days)\")\n",
    "ax[1].set_ylabel(\"Time spent (days)\", fontsize=12)\n",
    "plt.grid()\n",
    "plt.show()"
   ]
  },
  {
   "cell_type": "code",
   "execution_count": null,
   "metadata": {},
   "outputs": [],
   "source": []
  }
 ],
 "metadata": {
  "kernelspec": {
   "display_name": "bebou",
   "language": "python",
   "name": "python3"
  },
  "language_info": {
   "codemirror_mode": {
    "name": "ipython",
    "version": 3
   },
   "file_extension": ".py",
   "mimetype": "text/x-python",
   "name": "python",
   "nbconvert_exporter": "python",
   "pygments_lexer": "ipython3",
   "version": "3.11.10"
  }
 },
 "nbformat": 4,
 "nbformat_minor": 2
}

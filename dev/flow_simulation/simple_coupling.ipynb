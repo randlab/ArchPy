{
 "cells": [
  {
   "cell_type": "code",
   "execution_count": 1,
   "metadata": {},
   "outputs": [],
   "source": [
    "import numpy as np\n",
    "import matplotlib\n",
    "from matplotlib import colors\n",
    "import matplotlib.pyplot as plt\n",
    "import geone\n",
    "import geone.covModel as gcm\n",
    "import geone.imgplot3d as imgplt3\n",
    "import pyvista as pv\n",
    "import sys\n",
    "\n",
    "sys.path.append(\"../../\")\n",
    "#my modules\n",
    "from ArchPy.base import *\n",
    "from ArchPy.tpgs import *"
   ]
  },
  {
   "cell_type": "code",
   "execution_count": 2,
   "metadata": {},
   "outputs": [],
   "source": [
    "def check_thk(top,botm):\n",
    "    \"\"\"\n",
    "    check if all the cells in a modflow model (given top and botm array) which have a thickness <= 0 for and this for each layer\n",
    "    input : top (the top surface) and botm (botom of each layer)\n",
    "    output : lst of bool (false mean everything's okay in that specific layer !)\n",
    "    \"\"\"\n",
    "    nlay = botm.shape[0]\n",
    "    bol_lst=[]\n",
    "    bol_lst.append(not ((top-botm[0])<=0).any())\n",
    "    for ilay in range(nlay-1):\n",
    "        bol_lst.append(not ((botm[ilay]-botm[ilay+1])<=0).any())\n",
    "    return bol_lst"
   ]
  },
  {
   "cell_type": "code",
   "execution_count": 3,
   "metadata": {},
   "outputs": [],
   "source": [
    "#grid\n",
    "sx = 1.5\n",
    "sy = 1.5\n",
    "sz = .15\n",
    "x0 = 0\n",
    "y0 = 0\n",
    "z0 = -15\n",
    "nx = 133\n",
    "ny = 67\n",
    "nz = 62\n",
    "x1 = x0 + nx*sx\n",
    "y1 = y0 + ny*sy\n",
    "z1 = z0 + nz\n",
    "\n",
    "dimensions = (nx, ny, nz)\n",
    "spacing = (sx, sy, sz)\n",
    "origin = (x0, y0, z0)  "
   ]
  },
  {
   "cell_type": "code",
   "execution_count": 4,
   "metadata": {},
   "outputs": [
    {
     "name": "stdout",
     "output_type": "stream",
     "text": [
      "Unit D: Surface added for interpolation\n",
      "Unit C: Surface added for interpolation\n",
      "Unit B: Surface added for interpolation\n",
      "Unit A: Surface added for interpolation\n",
      "Stratigraphic unit D added\n",
      "Stratigraphic unit C added\n",
      "Stratigraphic unit B added\n",
      "Stratigraphic unit A added\n"
     ]
    }
   ],
   "source": [
    "## create pile\n",
    "\n",
    "P1 = Pile(name = \"P1\",seed=1)\n",
    "\n",
    "#units covmodel\n",
    "covmodelD = gcm.CovModel2D(elem=[('cubic', {'w':0.6, 'r':[30,30]})])\n",
    "covmodelD1 = gcm.CovModel2D(elem=[('cubic', {'w':0.2, 'r':[30,30]})])\n",
    "covmodelC = gcm.CovModel2D(elem=[('cubic', {'w':0.2, 'r':[40,40]})])\n",
    "covmodelB = gcm.CovModel2D(elem=[('cubic', {'w':0.6, 'r':[30,30]})])\n",
    "covmodel_er = gcm.CovModel2D(elem=[('spherical', {'w':1, 'r':[50,50]})])\n",
    "\n",
    "## facies covmodel\n",
    "covmodel_SIS_C = gcm.CovModel3D(elem=[(\"exponential\", {\"w\":.21,\"r\":[50, 50, 10]})], alpha=0, name=\"vario_SIS\") # input variogram\n",
    "covmodel_SIS_B1 = gcm.CovModel3D(elem=[(\"exponential\", {\"w\":.16,\"r\":[50, 50, 2]})], alpha=0, name=\"vario_SIS\") # input variogram\n",
    "covmodel_SIS_B2 = gcm.CovModel3D(elem=[(\"exponential\", {\"w\":.24,\"r\":[100, 100, 3]})], alpha=0, name=\"vario_SIS\") # input variogram\n",
    "covmodel_SIS_B3 = gcm.CovModel3D(elem=[(\"exponential\", {\"w\":.19,\"r\":[50, 50, 2]})], alpha=0, name=\"vario_SIS\") # input variogram\n",
    "covmodel_SIS_B4 = gcm.CovModel3D(elem=[(\"exponential\", {\"w\":.13,\"r\":[100, 100, 4]})], alpha=0, name=\"vario_SIS\") # input variogram\n",
    "\n",
    "lst_covmodelC=[covmodel_SIS_C] # list of covmodels to pass at the function\n",
    "lst_covmodelB=[covmodel_SIS_B1, covmodel_SIS_B2, covmodel_SIS_B3, covmodel_SIS_B4] # list of covmodels to pass\n",
    "\n",
    "\n",
    "#create Lithologies \n",
    "dic_s_D = {\"int_method\" : \"grf_ineq\",\"covmodel\" : covmodelD}\n",
    "dic_f_D = {\"f_method\":\"homogenous\"}\n",
    "D = Unit(name=\"D\",order=1,ID = 1,color=\"gold\",contact=\"onlap\",surface=Surface(contact=\"onlap\",dic_surf=dic_s_D)\n",
    "         ,dic_facies=dic_f_D)\n",
    "\n",
    "dic_s_C = {\"int_method\" : \"grf_ineq\",\"covmodel\" : covmodelC, \"mean\":-6.5}\n",
    "dic_f_C = {\"f_method\" : \"SIS\",\"neig\" : 10, \"f_covmodel\":lst_covmodelC, \"probability\":[0.3, 0.7]}\n",
    "C = Unit(name=\"C\", order=2, ID = 2, color=\"blue\", contact=\"onlap\", dic_facies=dic_f_C, surface=Surface(dic_surf=dic_s_C, contact=\"onlap\"))\n",
    "\n",
    "dic_s_B = {\"int_method\" : \"grf_ineq\",\"covmodel\" : covmodelB, \"mean\":-8.5}\n",
    "dic_f_B = {\"f_method\":\"SIS\", \"neig\" : 10, \"f_covmodel\":lst_covmodelB, \"probability\":[0.2, 0.4, 0.25, 0.15]}\n",
    "B = Unit(name=\"B\",order=3,ID = 3,color=\"purple\",contact=\"onlap\",dic_facies=dic_f_B,surface=Surface(contact=\"onlap\",dic_surf=dic_s_B))\n",
    "\n",
    "dic_s_A = {\"int_method\":\"grf_ineq\",\"covmodel\": covmodelB, \"mean\":-11}\n",
    "dic_f_A = {\"f_method\":\"homogenous\"}\n",
    "A = Unit(name=\"A\",order=5,ID = 5,color=\"red\",contact=\"onlap\",dic_facies=dic_f_A,surface=Surface(dic_surf = dic_s_A,contact=\"onlap\"))\n",
    "\n",
    "#Master pile\n",
    "P1.add_unit([D,C,B,A])"
   ]
  },
  {
   "cell_type": "code",
   "execution_count": 5,
   "metadata": {},
   "outputs": [
    {
     "name": "stdout",
     "output_type": "stream",
     "text": [
      "Facies basement added to unit A\n",
      "Facies Sand added to unit B\n",
      "Facies Gravel added to unit B\n",
      "Facies GM added to unit B\n",
      "Facies SM added to unit B\n",
      "Facies SM added to unit D\n",
      "Facies Clay added to unit C\n",
      "Facies Silt added to unit C\n"
     ]
    }
   ],
   "source": [
    "# covmodels for the property model\n",
    "covmodelK = gcm.CovModel3D(elem=[(\"exponential\",{\"w\":0.3,\"r\":[30,30,10]})],alpha=-20,name=\"K_vario\")\n",
    "covmodelK2 = gcm.CovModel3D(elem=[(\"spherical\",{\"w\":0.1,\"r\":[20,20, 5]})],alpha=0,name=\"K_vario_2\")\n",
    "\n",
    "facies_1 = Facies(ID = 1,name=\"Sand\",color=\"yellow\")\n",
    "facies_2 = Facies(ID = 2,name=\"Gravel\",color=\"lightgreen\")\n",
    "facies_3 = Facies(ID = 3,name=\"GM\",color=\"blueviolet\")\n",
    "facies_4 = Facies(ID = 4,name=\"Clay\",color=\"blue\")\n",
    "facies_5 = Facies(ID = 5,name=\"SM\",color=\"brown\")\n",
    "facies_6 = Facies(ID = 6,name=\"Silt\",color=\"goldenrod\")\n",
    "facies_7 = Facies(ID = 7,name=\"basement\",color=\"red\")\n",
    "\n",
    "A.add_facies([facies_7])\n",
    "B.add_facies([facies_1, facies_2, facies_3, facies_5])\n",
    "D.add_facies([facies_5])\n",
    "C.add_facies([facies_4, facies_6])\n",
    "\n",
    "# property model\n",
    "cm_prop1 = gcm.CovModel3D(elem = [(\"spherical\", {\"w\":0.1, \"r\":[10,10,10]}),\n",
    "                                  (\"cubic\", {\"w\":0.1, \"r\":[15,15,15]})])\n",
    "cm_prop2 = gcm.CovModel3D(elem = [(\"cubic\", {\"w\":0.2, \"r\":[25, 25, 5]})])\n",
    "\n",
    "list_facies = [facies_1, facies_2, facies_3, facies_4, facies_5, facies_6, facies_7]\n",
    "list_covmodels = [cm_prop2, cm_prop1, cm_prop2, cm_prop1, cm_prop2, cm_prop1, cm_prop2]\n",
    "means = [-4, -2, -6, -9, -6, -7, -19]\n",
    "prop_model = ArchPy.base.Prop(\"K\",\n",
    "                              facies = list_facies,\n",
    "                              covmodels = list_covmodels,\n",
    "                                means = means,\n",
    "                                int_method = \"sgs\",\n",
    "                                vmin = -10,\n",
    "                                vmax = -1\n",
    "                                )\n",
    "\n"
   ]
  },
  {
   "cell_type": "code",
   "execution_count": 6,
   "metadata": {},
   "outputs": [],
   "source": [
    "top = np.ones([ny,nx])*-6\n",
    "bot = np.ones([ny,nx])*z0"
   ]
  },
  {
   "cell_type": "code",
   "execution_count": 7,
   "metadata": {},
   "outputs": [
    {
     "name": "stdout",
     "output_type": "stream",
     "text": [
      "Pile sets as Pile master\n",
      "## Adding Grid ##\n",
      "## Grid added and is now simulation grid ##\n",
      "Property K added\n"
     ]
    }
   ],
   "source": [
    "T1 = Arch_table(name = \"P1\",seed=3)\n",
    "T1.set_Pile_master(P1)\n",
    "T1.add_grid(dimensions, spacing, origin, top=top,bot=bot)\n",
    "T1.add_prop(prop_model)"
   ]
  },
  {
   "cell_type": "code",
   "execution_count": 8,
   "metadata": {},
   "outputs": [
    {
     "name": "stdout",
     "output_type": "stream",
     "text": [
      "Boreholes not processed, fully unconditional simulations will be tempted\n",
      "########## PILE P1 ##########\n",
      "Pile P1: ordering units\n",
      "Stratigraphic units have been sorted according to order\n",
      "Discrepency in the orders for units A and B\n",
      "Changing orders for that they range from 1 to n\n",
      "\n",
      "#### COMPUTING SURFACE OF UNIT A\n",
      "A: time elapsed for computing surface 0.006009578704833984 s\n",
      "\n",
      "#### COMPUTING SURFACE OF UNIT B\n",
      "B: time elapsed for computing surface 0.0040171146392822266 s\n",
      "\n",
      "#### COMPUTING SURFACE OF UNIT C\n",
      "C: time elapsed for computing surface 0.003987550735473633 s\n",
      "\n",
      "#### COMPUTING SURFACE OF UNIT D\n",
      "D: time elapsed for computing surface 0.0 s\n",
      "\n",
      "Time elapsed for getting domains 0.03801608085632324 s\n",
      "##########################\n",
      "\n",
      "\n",
      "### 0.06297779083251953: Total time elapsed for computing surfaces ###\n",
      "\n",
      "### Unit D: facies simulation with homogenous method ####\n",
      "### Unit D - realization 0 ###\n",
      "Time elapsed 0.0 s\n",
      "\n",
      "### Unit C: facies simulation with SIS method ####\n",
      "### Unit C - realization 0 ###\n",
      "Only one facies covmodels for multiples facies, adapt sill to right proportions\n",
      "Time elapsed 1.04 s\n",
      "\n",
      "### Unit B: facies simulation with SIS method ####\n",
      "### Unit B - realization 0 ###\n",
      "Time elapsed 2.01 s\n",
      "\n",
      "### Unit A: facies simulation with homogenous method ####\n",
      "### Unit A - realization 0 ###\n",
      "Time elapsed 0.02 s\n",
      "\n",
      "### 3.07: Total time elapsed for computing facies ###\n",
      "### 1 K property models will be modeled ###\n",
      "### 1 K models done\n"
     ]
    }
   ],
   "source": [
    "T1.compute_surf(1)\n",
    "T1.compute_facies(1)\n",
    "T1.compute_prop(1)"
   ]
  },
  {
   "cell_type": "code",
   "execution_count": 9,
   "metadata": {},
   "outputs": [],
   "source": [
    "import flopy as fp"
   ]
  },
  {
   "cell_type": "code",
   "execution_count": 10,
   "metadata": {},
   "outputs": [],
   "source": [
    "pv.set_jupyter_backend(\"client\")"
   ]
  },
  {
   "cell_type": "code",
   "execution_count": 11,
   "metadata": {},
   "outputs": [
    {
     "data": {
      "application/vnd.jupyter.widget-view+json": {
       "model_id": "45748d498032411f803f29146555e788",
       "version_major": 2,
       "version_minor": 0
      },
      "text/plain": [
       "Widget(value='<iframe src=\"http://localhost:61283/index.html?ui=P_0x1fda01f57d0_0&reconnect=auto\" class=\"pyvis…"
      ]
     },
     "metadata": {},
     "output_type": "display_data"
    }
   ],
   "source": [
    "T1.plot_units()"
   ]
  },
  {
   "cell_type": "code",
   "execution_count": 12,
   "metadata": {},
   "outputs": [
    {
     "data": {
      "application/vnd.jupyter.widget-view+json": {
       "model_id": "d650b57b24904e3cbcd269ac60d23dfc",
       "version_major": 2,
       "version_minor": 0
      },
      "text/plain": [
       "Widget(value='<iframe src=\"http://localhost:61283/index.html?ui=P_0x1fda0c3f4d0_1&reconnect=auto\" class=\"pyvis…"
      ]
     },
     "metadata": {},
     "output_type": "display_data"
    }
   ],
   "source": [
    "T1.plot_facies()"
   ]
  },
  {
   "cell_type": "code",
   "execution_count": 13,
   "metadata": {},
   "outputs": [
    {
     "data": {
      "application/vnd.jupyter.widget-view+json": {
       "model_id": "4b12c0bc81714fea9e2585a70fae69b3",
       "version_major": 2,
       "version_minor": 0
      },
      "text/plain": [
       "Widget(value='<iframe src=\"http://localhost:61283/index.html?ui=P_0x1fda0205cd0_2&reconnect=auto\" class=\"pyvis…"
      ]
     },
     "metadata": {},
     "output_type": "display_data"
    }
   ],
   "source": [
    "T1.plot_prop(\"K\")"
   ]
  },
  {
   "cell_type": "code",
   "execution_count": 92,
   "metadata": {},
   "outputs": [],
   "source": [
    "# create a class to handle the conversion instead of a function\n",
    "class archpy2modfloww:\n",
    "\n",
    "\n",
    "    \"\"\"\n",
    "    Class to convert an ArchPy table to a MODFLOW 6 model\n",
    "\n",
    "    Parameters\n",
    "    ----------\n",
    "    T1 : Arch_table\n",
    "        ArchPy table to convert\n",
    "    sim_name : str\n",
    "        name of the simulation\n",
    "    model_dir : str\n",
    "        directory where the model will be saved\n",
    "    model_name : str\n",
    "        name of the model\n",
    "    exe_name : str\n",
    "        path to the mf6 executable\n",
    "    \"\"\"\n",
    "\n",
    "    def __init__(self, T1, sim_name=\"sim_test\", model_dir=\"workspace\", model_name=\"test\", exe_name=\"mf6\"):\n",
    "        self.T1 = T1\n",
    "        self.sim_name = sim_name\n",
    "        self.model_dir = model_dir\n",
    "        self.model_name = model_name\n",
    "        self.exe_name = exe_name\n",
    "        self.sim = None\n",
    "        self.grid_mode = None\n",
    "        self.layers_names = None\n",
    "        self.list_active_cells = None\n",
    "\n",
    "    def create_sim(self, grid_mode=\"archpy\", iu=0):\n",
    "\n",
    "        \"\"\"\n",
    "        Create a modflow simulation from an ArchPy table\n",
    "        \n",
    "        Parameters\n",
    "        ----------\n",
    "        grid_mode : str\n",
    "            \"archpy\" : use the grid defined in the ArchPy table\n",
    "            \"layers\" : use the surfaces of each unit to define the grid\n",
    "        iu : int\n",
    "            index of the unit to use when grid_mode is \"layers\"\n",
    "        \"\"\"\n",
    "\n",
    "        sim = fp.mf6.MFSimulation(sim_name=self.sim_name, version='mf6', exe_name=self.exe_name, \n",
    "                         sim_ws=self.model_dir)\n",
    "        gwf = fp.mf6.ModflowGwf(sim, modelname=self.model_name,\n",
    "                                model_nam_file='{}.nam'.format(self.model_name))\n",
    "\n",
    "        #grid\n",
    "        nlay, nrow, ncol = self.T1.get_nz(), self.T1.get_ny(), self.T1.get_nx()\n",
    "        delr, delc = self.T1.get_sx(), self.T1.get_sy()\n",
    "        xoff, yoff = self.T1.get_ox(), self.T1.get_oy()\n",
    "\n",
    "        if grid_mode == \"archpy\":\n",
    "            top = np.ones((nrow, ncol)) * self.T1.get_zg()[-1]\n",
    "            botm = np.ones((nlay, nrow, ncol)) * self.T1.get_zg()[:-1].reshape(-1, 1, 1)\n",
    "            botm = np.flip(np.flipud(botm), axis=1)  # flip the array to have the same orientation as the ArchPy table\n",
    "            idomain = np.flip(np.flipud(self.T1.get_mask().astype(int)), axis=1)  # flip the array to have the same orientation as the ArchPy table\n",
    "\n",
    "        elif grid_mode == \"layers\":\n",
    "            # get surfaces of each unit\n",
    "            top = T1.get_surface(typ=\"top\")[0][0, iu]\n",
    "            top = np.flip(top, axis=1)\n",
    "            botm = T1.get_surface(typ=\"bot\")[0][:, iu]\n",
    "            botm = np.flip(botm, axis=1)\n",
    "            layers_names = T1.get_surface(typ=\"bot\")[1]\n",
    "            self.layers_names = layers_names\n",
    "            nlay = botm.shape[0]\n",
    "\n",
    "            # define idomain (1 if thickness > 0, 0 if nan, -1 if thickness = 0)\n",
    "            idomain = np.ones((nlay, nrow, ncol))\n",
    "            thicknesses = -np.diff(np.vstack([top.reshape(-1, nrow, ncol), botm]), axis=0)\n",
    "            idomain[thicknesses == 0] = -1\n",
    "            idomain[np.isnan(thicknesses)] = 0\n",
    "\n",
    "            # adapt botm in order that each layer has a thickness > 0 \n",
    "            for i in range(-1, nlay-1):\n",
    "                if i == -1:\n",
    "                    s1 = top\n",
    "                else:\n",
    "                    s1 = botm[i]\n",
    "                s2 = botm[i+1]\n",
    "                mask = s1 == s2\n",
    "                s1[mask] += 1e-2\n",
    "\n",
    "        elif grid_mode == \"new_resolution\":\n",
    "            # TO DO\n",
    "            pass\n",
    "            \n",
    "        else:\n",
    "            raise ValueError(\"grid_mode must be one of 'archpy', 'layers' or 'new_resolution'\")\n",
    "\n",
    "        # save grid mode\n",
    "        self.grid_mode = grid_mode\n",
    "\n",
    "        assert (np.array(check_thk(top, botm))).all(), \"Error in the processing of the surfaces, some cells have a thickness < 0\"\n",
    "\n",
    "        dis = fp.mf6.ModflowGwfdis(gwf, nlay=nlay, nrow=nrow, ncol=ncol,\n",
    "                                    delr=delr, delc=delc,\n",
    "                                    top=top, botm=botm,\n",
    "                                    xorigin=xoff, yorigin=yoff, \n",
    "                                    idomain=idomain)\n",
    "\n",
    "        perioddata = [(1, 1, 1.0)]\n",
    "        tdis = fp.mf6.ModflowTdis(sim, time_units='SECONDS',perioddata=perioddata)\n",
    "\n",
    "        ims = fp.mf6.ModflowIms(sim, complexity=\"simple\")\n",
    "\n",
    "        #Initial condition\n",
    "        ic   = fp.mf6.ModflowGwfic(gwf, strt=1)\n",
    "\n",
    "        # output control\n",
    "        oc   = fp.mf6.ModflowGwfoc(gwf,budget_filerecord='{}.cbc'.format(self.model_name),\n",
    "                                    head_filerecord='{}.hds'.format(self.model_name),\n",
    "                                    saverecord=[('HEAD', 'LAST'),\n",
    "                                                ('BUDGET', 'LAST')],\n",
    "                                    printrecord=[('BUDGET', 'ALL')])\n",
    "        \n",
    "        # npf package\n",
    "        # empty package\n",
    "        npf = fp.mf6.ModflowGwfnpf(gwf, icelltype=0, k=1, save_flows=True)\n",
    "\n",
    "        self.sim = sim\n",
    "        print(\"Simulation created\")\n",
    "        print(\"To retrieve the simulation, use the get_sim() method\")\n",
    "    \n",
    "    def set_k(self, iu=0, ifa=0, ip=0, log=False, k=None):\n",
    "        \"\"\"\n",
    "        Set the hydraulic conductivity for a specific facies\n",
    "        \"\"\"\n",
    "        # remove the npf package if it already exists\n",
    "        gwf = self.get_gwf()\n",
    "        gwf.remove_package(\"npf\")\n",
    "\n",
    "        if k is None:\n",
    "            grid_mode = self.grid_mode\n",
    "            if grid_mode == \"archpy\":\n",
    "                k = T1.get_prop(\"K\")[iu, ifa, ip]\n",
    "                k = np.flipud(k)\n",
    "                if log:\n",
    "                    new_k = 10**k\n",
    "                else:\n",
    "                    new_k = k\n",
    "\n",
    "            elif grid_mode == \"layers\":\n",
    "\n",
    "                nrow, ncol, nlay = gwf.modelgrid.nrow, gwf.modelgrid.ncol, gwf.modelgrid.nlay\n",
    "\n",
    "                kh = self.T1.get_prop(\"K\")[0, 0, 0]   \n",
    "                new_k = np.ones((nlay, nrow, ncol))\n",
    "                layers = self.layers_names\n",
    "                mask_units = [self.T1.unit_mask(l).astype(bool) for l in layers]\n",
    "\n",
    "                for irow in range(nrow):\n",
    "                    for icol in range(ncol):\n",
    "                        for ilay in range(nlay):\n",
    "                            mask_unit = mask_units[ilay]\n",
    "                            new_k[ilay, irow, icol] = np.mean(kh[:, irow, icol][mask_unit[:, irow, icol]])\n",
    "\n",
    "                # fill nan values with the mean of the layer\n",
    "                for ilay in range(nlay):\n",
    "                    mask = np.isnan(new_k[ilay])\n",
    "                    new_k[ilay][mask] = np.nanmean(new_k[ilay])\n",
    "\n",
    "                if log:\n",
    "                    new_k = 10**new_k\n",
    "\n",
    "            elif grid_mode == \"new_resolution\":\n",
    "                pass\n",
    "\n",
    "        else:\n",
    "            new_k = k\n",
    "\n",
    "        new_k = np.flip(new_k, axis=1)  # we have to flip in order to match modflow grid\n",
    "        npf = fp.mf6.ModflowGwfnpf(gwf, icelltype=0, k=new_k, save_flows=True)\n",
    "        npf.write()\n",
    "\n",
    "\n",
    "    def set_strt(self, heads=None):\n",
    "        \"\"\"\n",
    "        Set the starting heads\n",
    "        \"\"\"\n",
    "        gwf = self.get_gwf()\n",
    "        gwf.remove_package(\"ic\")\n",
    "        ic = fp.mf6.ModflowGwfic(gwf, strt=heads)\n",
    "        ic.write()\n",
    "\n",
    "    def get_list_active_cells(self):\n",
    "\n",
    "        if self.list_active_cells is None:\n",
    "            gwf = self.get_gwf()\n",
    "            idomain = gwf.dis.idomain.array\n",
    "            list_active_cells = []\n",
    "            for ilay in range(idomain.shape[0]):\n",
    "                for irow in range(idomain.shape[1]):\n",
    "                    for icol in range(idomain.shape[2]):\n",
    "                        if idomain[ilay, irow, icol] == 1:\n",
    "                            list_active_cells.append((ilay, irow, icol))\n",
    "            self.list_active_cells = list_active_cells\n",
    "            \n",
    "        return self.list_active_cells\n",
    "\n",
    "    # get functions\n",
    "    def get_sim(self):\n",
    "        assert self.sim is not None, \"You need to create the simulation first\"\n",
    "        return self.sim\n",
    "    \n",
    "    def get_gwf(self):\n",
    "        assert self.sim is not None, \"You need to create the simulation first\"\n",
    "        return self.sim.get_model()\n",
    "    \n",
    "    \n",
    "\n",
    "    # outputs\n",
    "    def get_heads(self, kstpkper=(0, 0)):\n",
    "        \"\"\"\n",
    "        Get the heads of the simulation\n",
    "        \"\"\"\n",
    "        gwf = self.get_gwf()\n",
    "        head = gwf.output.head().get_data(kstpkper=kstpkper)\n",
    "        return head"
   ]
  },
  {
   "cell_type": "code",
   "execution_count": 93,
   "metadata": {},
   "outputs": [
    {
     "name": "stdout",
     "output_type": "stream",
     "text": [
      "Simulation created\n",
      "To retrieve the simulation, use the get_sim() method\n"
     ]
    }
   ],
   "source": [
    "archpy_flow = archpy2modfloww(T1, exe_name=\"../../../../exe/mf6.exe\")\n",
    "archpy_flow.create_sim(grid_mode=\"archpy\", iu=0)\n",
    "archpy_flow.set_k(0, 0, 0, log=True)"
   ]
  },
  {
   "cell_type": "code",
   "execution_count": 94,
   "metadata": {},
   "outputs": [],
   "source": [
    "sim = archpy_flow.get_sim()\n",
    "gwf = archpy_flow.get_gwf()"
   ]
  },
  {
   "cell_type": "code",
   "execution_count": 95,
   "metadata": {},
   "outputs": [],
   "source": [
    "def cellidBD(idomain, layer=0):   \n",
    "    \n",
    "    \"\"\"\n",
    "    extract the cellids at the boundary of the domain at a given layer\n",
    "    idomain : 3D array, idomain array which determine if a cell is active or not (1 active, 0 inactive)\n",
    "    layer : int, layer on which the boundary cells are extract\n",
    "    \"\"\"\n",
    "    lst_cellBD=[]\n",
    "\n",
    "    for irow in range(idomain.shape[1]):\n",
    "        for icol in range(idomain.shape[2]):\n",
    "            if idomain[layer][irow,icol]==1:\n",
    "                #check neighbours\n",
    "                if np.sum(idomain[layer][irow-1:irow+2,icol-1:icol+2]==1) < 8:\n",
    "                    lst_cellBD.append((layer,irow,icol))\n",
    "    return lst_cellBD"
   ]
  },
  {
   "cell_type": "code",
   "execution_count": 96,
   "metadata": {},
   "outputs": [],
   "source": [
    "def array2cellids(array, idomain):\n",
    "    \"\"\"\n",
    "    convert a 3D boolean array to a list of cellids according to the idomain array\n",
    "\n",
    "    Parameters\n",
    "    ----------\n",
    "    array : 2D array\n",
    "        array of boolean values, same shape as idomain\n",
    "    idomain : 3D array\n",
    "        idomain array which determine if a cell is active or not (1 active, 0 inactive)\n",
    "    \"\"\"\n",
    "    lst_cellids = []\n",
    "    b = array & idomain.astype(bool)\n",
    "    for ilay in range(idomain.shape[0]):\n",
    "        for irow in range(idomain.shape[1]):\n",
    "            for icol in range(idomain.shape[2]):\n",
    "                if b[ilay, irow, icol]:\n",
    "                    lst_cellids.append((ilay, irow, icol))\n",
    "    return lst_cellids"
   ]
  },
  {
   "cell_type": "code",
   "execution_count": 97,
   "metadata": {},
   "outputs": [],
   "source": [
    "# add BC at left and right on all layers\n",
    "h1 = 10\n",
    "h2 = 0\n",
    "chd_data = []\n",
    "\n",
    "a = np.zeros((gwf.modelgrid.nlay, gwf.modelgrid.nrow, gwf.modelgrid.ncol), dtype=bool)\n",
    "a[:, :, 0] = 1\n",
    "lst_chd = array2cellids(a, gwf.dis.idomain.array)\n",
    "for cellid in lst_chd:\n",
    "    chd_data.append((cellid, h1))\n",
    "\n",
    "a = np.zeros((gwf.modelgrid.nlay, gwf.modelgrid.nrow, gwf.modelgrid.ncol), dtype=bool)\n",
    "a[:, :, -1] = 1\n",
    "lst_chd = array2cellids(a, gwf.dis.idomain.array)\n",
    "for cellid in lst_chd:\n",
    "    chd_data.append((cellid, h2))\n",
    "\n",
    "chd = fp.mf6.ModflowGwfchd(gwf, stress_period_data=chd_data, save_flows=True)\n",
    "    "
   ]
  },
  {
   "cell_type": "code",
   "execution_count": 98,
   "metadata": {},
   "outputs": [],
   "source": [
    "archpy_flow.set_k(0, 0, 0, k = np.ones((gwf.modelgrid.nlay, gwf.modelgrid.nrow, gwf.modelgrid.ncol))*2e-3)"
   ]
  },
  {
   "cell_type": "code",
   "execution_count": 99,
   "metadata": {},
   "outputs": [
    {
     "name": "stdout",
     "output_type": "stream",
     "text": [
      "writing simulation...\n",
      "  writing simulation name file...\n",
      "  writing simulation tdis package...\n",
      "  writing solution package ims_-1...\n",
      "  writing model test...\n",
      "    writing model name file...\n",
      "    writing package dis...\n",
      "    writing package ic...\n",
      "    writing package oc...\n",
      "    writing package chd_0...\n",
      "INFORMATION: maxbound in ('gwf6', 'chd', 'dimensions') changed to 8040 based on size of stress_period_data\n",
      "    writing package npf...\n"
     ]
    }
   ],
   "source": [
    "sim.write_simulation()"
   ]
  },
  {
   "cell_type": "code",
   "execution_count": 108,
   "metadata": {},
   "outputs": [],
   "source": [
    "sim.ims.complexity = \"complex\"\n",
    "# sim.ims.outer_maximum = 10\n",
    "# sim.ims.outer_dvclose = 0.5\n",
    "# sim.ims.under_relaxation =\"NONE\"\n",
    "# sim.ims.linear_acceleration = \"BICGSTAB\"\n",
    "sim.ims.write()"
   ]
  },
  {
   "cell_type": "code",
   "execution_count": 104,
   "metadata": {},
   "outputs": [
    {
     "data": {
      "text/plain": [
       "package_name = ims_-1\n",
       "filename = sim_test.ims\n",
       "package_type = ims\n",
       "model_or_simulation_package = simulation\n",
       "simulation_name = sim_test\n",
       "\n",
       "Block options\n",
       "--------------------\n",
       "complexity\n",
       "{internal}\n",
       "('moderate')\n",
       "\n"
      ]
     },
     "execution_count": 104,
     "metadata": {},
     "output_type": "execute_result"
    }
   ],
   "source": [
    "sim.ims"
   ]
  },
  {
   "cell_type": "code",
   "execution_count": 105,
   "metadata": {},
   "outputs": [
    {
     "name": "stdout",
     "output_type": "stream",
     "text": [
      "FloPy is using the following executable to run the model: ..\\..\\..\\..\\..\\exe\\mf6.exe\n",
      "                                   MODFLOW 6\n",
      "                U.S. GEOLOGICAL SURVEY MODULAR HYDROLOGIC MODEL\n",
      "                            VERSION 6.5.0 05/23/2024\n",
      "\n",
      "   MODFLOW 6 compiled Jun 21 2024 02:57:23 with Intel(R) Fortran Intel(R) 64\n",
      "   Compiler Classic for applications running on Intel(R) 64, Version 2021.7.0\n",
      "                             Build 20220726_000000\n",
      "\n",
      "This software has been approved for release by the U.S. Geological \n",
      "Survey (USGS). Although the software has been subjected to rigorous \n",
      "review, the USGS reserves the right to update the software as needed \n",
      "pursuant to further analysis and review. No warranty, expressed or \n",
      "implied, is made by the USGS or the U.S. Government as to the \n",
      "functionality of the software and related material nor shall the \n",
      "fact of release constitute any such warranty. Furthermore, the \n",
      "software is released on condition that neither the USGS nor the U.S. \n",
      "Government shall be held liable for any damages resulting from its \n",
      "authorized or unauthorized use. Also refer to the USGS Water \n",
      "Resources Software User Rights Notice for complete use, copyright, \n",
      "and distribution information.\n",
      "\n",
      " \n",
      " MODFLOW runs in SEQUENTIAL mode\n",
      " \n",
      " Run start date and time (yyyy/mm/dd hh:mm:ss): 2024/11/07 16:53:44\n",
      " \n",
      " Writing simulation list file: mfsim.lst\n",
      " Using Simulation name file: mfsim.nam\n",
      " \n",
      "    Solving:  Stress period:     1    Time step:     1\n",
      " \n",
      " Run end date and time (yyyy/mm/dd hh:mm:ss): 2024/11/07 16:53:50\n",
      " Elapsed run time:  6.059 Seconds\n",
      " \n",
      " Normal termination of simulation.\n"
     ]
    },
    {
     "data": {
      "text/plain": [
       "(True, [])"
      ]
     },
     "execution_count": 105,
     "metadata": {},
     "output_type": "execute_result"
    }
   ],
   "source": [
    "sim.run_simulation()"
   ]
  },
  {
   "cell_type": "code",
   "execution_count": 114,
   "metadata": {},
   "outputs": [],
   "source": [
    "heads = archpy_flow.get_heads()\n",
    "archpy_flow.set_strt(heads=heads)\n",
    "\n",
    "archpy_flow.set_k(0, 0, 0, log=True)"
   ]
  },
  {
   "cell_type": "code",
   "execution_count": 117,
   "metadata": {},
   "outputs": [
    {
     "name": "stdout",
     "output_type": "stream",
     "text": [
      "FloPy is using the following executable to run the model: ..\\..\\..\\..\\..\\exe\\mf6.exe\n",
      "                                   MODFLOW 6\n",
      "                U.S. GEOLOGICAL SURVEY MODULAR HYDROLOGIC MODEL\n",
      "                            VERSION 6.5.0 05/23/2024\n",
      "\n",
      "   MODFLOW 6 compiled Jun 21 2024 02:57:23 with Intel(R) Fortran Intel(R) 64\n",
      "   Compiler Classic for applications running on Intel(R) 64, Version 2021.7.0\n",
      "                             Build 20220726_000000\n",
      "\n",
      "This software has been approved for release by the U.S. Geological \n",
      "Survey (USGS). Although the software has been subjected to rigorous \n",
      "review, the USGS reserves the right to update the software as needed \n",
      "pursuant to further analysis and review. No warranty, expressed or \n",
      "implied, is made by the USGS or the U.S. Government as to the \n",
      "functionality of the software and related material nor shall the \n",
      "fact of release constitute any such warranty. Furthermore, the \n",
      "software is released on condition that neither the USGS nor the U.S. \n",
      "Government shall be held liable for any damages resulting from its \n",
      "authorized or unauthorized use. Also refer to the USGS Water \n",
      "Resources Software User Rights Notice for complete use, copyright, \n",
      "and distribution information.\n",
      "\n",
      " \n",
      " MODFLOW runs in SEQUENTIAL mode\n",
      " \n",
      " Run start date and time (yyyy/mm/dd hh:mm:ss): 2024/11/07 16:56:32\n",
      " \n",
      " Writing simulation list file: mfsim.lst\n",
      " Using Simulation name file: mfsim.nam\n",
      " \n",
      "    Solving:  Stress period:     1    Time step:     1\n",
      " \n",
      " Run end date and time (yyyy/mm/dd hh:mm:ss): 2024/11/07 16:56:35\n",
      " Elapsed run time:  3.190 Seconds\n",
      " \n",
      " Normal termination of simulation.\n"
     ]
    },
    {
     "data": {
      "text/plain": [
       "(True, [])"
      ]
     },
     "execution_count": 117,
     "metadata": {},
     "output_type": "execute_result"
    }
   ],
   "source": [
    "sim.run_simulation()"
   ]
  },
  {
   "cell_type": "code",
   "execution_count": 118,
   "metadata": {},
   "outputs": [
    {
     "data": {
      "application/vnd.jupyter.widget-view+json": {
       "model_id": "c9efc3b9b3c24fb7885dfda310fe94d0",
       "version_major": 2,
       "version_minor": 0
      },
      "text/plain": [
       "Widget(value='<iframe src=\"http://localhost:61283/index.html?ui=P_0x1fda9b2f510_10&reconnect=auto\" class=\"pyvi…"
      ]
     },
     "metadata": {},
     "output_type": "display_data"
    }
   ],
   "source": [
    "heads = archpy_flow.get_heads()\n",
    "heads[heads == 1e30] = np.nan\n",
    "\n",
    "T1.plot_arr(heads)"
   ]
  },
  {
   "cell_type": "code",
   "execution_count": 71,
   "metadata": {},
   "outputs": [
    {
     "data": {
      "application/vnd.jupyter.widget-view+json": {
       "model_id": "be37617031e3478087bc7a3b595fe9a0",
       "version_major": 2,
       "version_minor": 0
      },
      "text/plain": [
       "Widget(value='<iframe src=\"http://localhost:61283/index.html?ui=P_0x1fda0adf5d0_5&reconnect=auto\" class=\"pyvis…"
      ]
     },
     "metadata": {},
     "output_type": "display_data"
    }
   ],
   "source": [
    "T1.plot_prop(\"K\")"
   ]
  },
  {
   "cell_type": "code",
   "execution_count": null,
   "metadata": {},
   "outputs": [],
   "source": []
  }
 ],
 "metadata": {
  "kernelspec": {
   "display_name": "bebou",
   "language": "python",
   "name": "python3"
  },
  "language_info": {
   "codemirror_mode": {
    "name": "ipython",
    "version": 3
   },
   "file_extension": ".py",
   "mimetype": "text/x-python",
   "name": "python",
   "nbconvert_exporter": "python",
   "pygments_lexer": "ipython3",
   "version": "3.11.10"
  }
 },
 "nbformat": 4,
 "nbformat_minor": 2
}

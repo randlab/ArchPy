{
 "cells": [
  {
   "cell_type": "code",
   "execution_count": 2,
   "metadata": {},
   "outputs": [],
   "source": [
    "import uppy\n",
    "from uppy import upscale_k\n",
    "import numpy as np\n",
    "import matplotlib.pyplot as plt \n",
    "import pyvista as pv\n",
    "import geone\n"
   ]
  },
  {
   "cell_type": "code",
   "execution_count": 3,
   "metadata": {},
   "outputs": [],
   "source": [
    "pv.set_jupyter_backend(\"client\")"
   ]
  },
  {
   "cell_type": "code",
   "execution_count": 4,
   "metadata": {},
   "outputs": [
    {
     "data": {
      "application/vnd.jupyter.widget-view+json": {
       "model_id": "e398354dc3e94d96be27f587c3547a8b",
       "version_major": 2,
       "version_minor": 0
      },
      "text/plain": [
       "Widget(value='<iframe src=\"http://localhost:54756/index.html?ui=P_0x2130cbfac50_0&reconnect=auto\" class=\"pyvis…"
      ]
     },
     "metadata": {},
     "output_type": "display_data"
    },
    {
     "name": "stderr",
     "output_type": "stream",
     "text": [
      "Exception raised\n",
      "KeyError('d84c6f51b454ab4755f5d626674b009b_1536d')\n",
      "Traceback (most recent call last):\n",
      "  File \"c:\\Users\\schorppl\\AppData\\Local\\miniconda3\\envs\\bebou\\Lib\\site-packages\\wslink\\protocol.py\", line 313, in onCompleteMessage\n",
      "    results = func(*args, **kwargs)\n",
      "              ^^^^^^^^^^^^^^^^^^^^^\n",
      "  File \"c:\\Users\\schorppl\\AppData\\Local\\miniconda3\\envs\\bebou\\Lib\\site-packages\\trame_vtk\\modules\\vtk\\protocols\\local_rendering.py\", line 33, in get_array\n",
      "    self.context.get_cached_data_array(data_hash, binary)\n",
      "  File \"c:\\Users\\schorppl\\AppData\\Local\\miniconda3\\envs\\bebou\\Lib\\site-packages\\trame_vtk\\modules\\vtk\\serializers\\synchronization_context.py\", line 35, in get_cached_data_array\n",
      "    cache_obj = self.data_array_cache[p_md5]\n",
      "                ~~~~~~~~~~~~~~~~~~~~~^^^^^^^\n",
      "KeyError: 'd84c6f51b454ab4755f5d626674b009b_1536d'\n",
      "\n",
      "Exception raised\n",
      "KeyError('b605415b3e4b2105516bd75f939410e5_1536d')\n",
      "Traceback (most recent call last):\n",
      "  File \"c:\\Users\\schorppl\\AppData\\Local\\miniconda3\\envs\\bebou\\Lib\\site-packages\\wslink\\protocol.py\", line 313, in onCompleteMessage\n",
      "    results = func(*args, **kwargs)\n",
      "              ^^^^^^^^^^^^^^^^^^^^^\n",
      "  File \"c:\\Users\\schorppl\\AppData\\Local\\miniconda3\\envs\\bebou\\Lib\\site-packages\\trame_vtk\\modules\\vtk\\protocols\\local_rendering.py\", line 33, in get_array\n",
      "    self.context.get_cached_data_array(data_hash, binary)\n",
      "  File \"c:\\Users\\schorppl\\AppData\\Local\\miniconda3\\envs\\bebou\\Lib\\site-packages\\trame_vtk\\modules\\vtk\\serializers\\synchronization_context.py\", line 35, in get_cached_data_array\n",
      "    cache_obj = self.data_array_cache[p_md5]\n",
      "                ~~~~~~~~~~~~~~~~~~~~~^^^^^^^\n",
      "KeyError: 'b605415b3e4b2105516bd75f939410e5_1536d'\n",
      "\n",
      "Exception raised\n",
      "KeyError('16c4d8e8818fc06fb07fc20e88cb32ca_1536d')\n",
      "Traceback (most recent call last):\n",
      "  File \"c:\\Users\\schorppl\\AppData\\Local\\miniconda3\\envs\\bebou\\Lib\\site-packages\\wslink\\protocol.py\", line 313, in onCompleteMessage\n",
      "    results = func(*args, **kwargs)\n",
      "              ^^^^^^^^^^^^^^^^^^^^^\n",
      "  File \"c:\\Users\\schorppl\\AppData\\Local\\miniconda3\\envs\\bebou\\Lib\\site-packages\\trame_vtk\\modules\\vtk\\protocols\\local_rendering.py\", line 33, in get_array\n",
      "    self.context.get_cached_data_array(data_hash, binary)\n",
      "  File \"c:\\Users\\schorppl\\AppData\\Local\\miniconda3\\envs\\bebou\\Lib\\site-packages\\trame_vtk\\modules\\vtk\\serializers\\synchronization_context.py\", line 35, in get_cached_data_array\n",
      "    cache_obj = self.data_array_cache[p_md5]\n",
      "                ~~~~~~~~~~~~~~~~~~~~~^^^^^^^\n",
      "KeyError: '16c4d8e8818fc06fb07fc20e88cb32ca_1536d'\n",
      "\n",
      "Exception raised\n",
      "KeyError('0cff5c7be831cf2df00e9b4f3e417956_1536d')\n",
      "Traceback (most recent call last):\n",
      "  File \"c:\\Users\\schorppl\\AppData\\Local\\miniconda3\\envs\\bebou\\Lib\\site-packages\\wslink\\protocol.py\", line 313, in onCompleteMessage\n",
      "    results = func(*args, **kwargs)\n",
      "              ^^^^^^^^^^^^^^^^^^^^^\n",
      "  File \"c:\\Users\\schorppl\\AppData\\Local\\miniconda3\\envs\\bebou\\Lib\\site-packages\\trame_vtk\\modules\\vtk\\protocols\\local_rendering.py\", line 33, in get_array\n",
      "    self.context.get_cached_data_array(data_hash, binary)\n",
      "  File \"c:\\Users\\schorppl\\AppData\\Local\\miniconda3\\envs\\bebou\\Lib\\site-packages\\trame_vtk\\modules\\vtk\\serializers\\synchronization_context.py\", line 35, in get_cached_data_array\n",
      "    cache_obj = self.data_array_cache[p_md5]\n",
      "                ~~~~~~~~~~~~~~~~~~~~~^^^^^^^\n",
      "KeyError: '0cff5c7be831cf2df00e9b4f3e417956_1536d'\n",
      "\n",
      "Exception raised\n",
      "KeyError('bc641a46e82fa46ef6fa496228f471c0_1536d')\n",
      "Traceback (most recent call last):\n",
      "  File \"c:\\Users\\schorppl\\AppData\\Local\\miniconda3\\envs\\bebou\\Lib\\site-packages\\wslink\\protocol.py\", line 313, in onCompleteMessage\n",
      "    results = func(*args, **kwargs)\n",
      "              ^^^^^^^^^^^^^^^^^^^^^\n",
      "  File \"c:\\Users\\schorppl\\AppData\\Local\\miniconda3\\envs\\bebou\\Lib\\site-packages\\trame_vtk\\modules\\vtk\\protocols\\local_rendering.py\", line 33, in get_array\n",
      "    self.context.get_cached_data_array(data_hash, binary)\n",
      "  File \"c:\\Users\\schorppl\\AppData\\Local\\miniconda3\\envs\\bebou\\Lib\\site-packages\\trame_vtk\\modules\\vtk\\serializers\\synchronization_context.py\", line 35, in get_cached_data_array\n",
      "    cache_obj = self.data_array_cache[p_md5]\n",
      "                ~~~~~~~~~~~~~~~~~~~~~^^^^^^^\n",
      "KeyError: 'bc641a46e82fa46ef6fa496228f471c0_1536d'\n",
      "\n",
      "Exception raised\n",
      "KeyError('c55c0eec7d2b9cda78c549f075ca35d1_1536d')\n",
      "Traceback (most recent call last):\n",
      "  File \"c:\\Users\\schorppl\\AppData\\Local\\miniconda3\\envs\\bebou\\Lib\\site-packages\\wslink\\protocol.py\", line 313, in onCompleteMessage\n",
      "    results = func(*args, **kwargs)\n",
      "              ^^^^^^^^^^^^^^^^^^^^^\n",
      "  File \"c:\\Users\\schorppl\\AppData\\Local\\miniconda3\\envs\\bebou\\Lib\\site-packages\\trame_vtk\\modules\\vtk\\protocols\\local_rendering.py\", line 33, in get_array\n",
      "    self.context.get_cached_data_array(data_hash, binary)\n",
      "  File \"c:\\Users\\schorppl\\AppData\\Local\\miniconda3\\envs\\bebou\\Lib\\site-packages\\trame_vtk\\modules\\vtk\\serializers\\synchronization_context.py\", line 35, in get_cached_data_array\n",
      "    cache_obj = self.data_array_cache[p_md5]\n",
      "                ~~~~~~~~~~~~~~~~~~~~~^^^^^^^\n",
      "KeyError: 'c55c0eec7d2b9cda78c549f075ca35d1_1536d'\n",
      "\n"
     ]
    }
   ],
   "source": [
    "# generate a random field\n",
    "np.random.seed(3)\n",
    "cm = geone.covModel.CovModel3D(elem=[(\"cubic\", {\"w\":.2, \"r\":[100, 100, 10]})])\n",
    "sim = geone.multiGaussian.multiGaussianRun(cm, (128, 128, 128), (2, 2, .4), [0, 0, 0], mean=-4)\n",
    "sim.val = 10**sim.val\n",
    "geone.imgplot3d.drawImage3D_surface(sim, cmap=\"terrain\")"
   ]
  },
  {
   "cell_type": "code",
   "execution_count": 5,
   "metadata": {},
   "outputs": [],
   "source": [
    "factor_x = 8\n",
    "factor_y = 8\n",
    "factor_z = 8\n",
    "dx = 2\n",
    "dy = 2\n",
    "dz = .4"
   ]
  },
  {
   "cell_type": "code",
   "execution_count": 6,
   "metadata": {},
   "outputs": [],
   "source": [
    "field_kxx, field_kyy, field_kzz = upscale_k(sim.val[0], method=\"standard_renormalization\", dx=2, dy=2, dz=.4, factor_x=factor_x, factor_y=factor_y, factor_z=factor_z, scheme=\"direct\")"
   ]
  },
  {
   "cell_type": "code",
   "execution_count": 7,
   "metadata": {},
   "outputs": [
    {
     "data": {
      "application/vnd.jupyter.widget-view+json": {
       "model_id": "035643f6e9994567aa46e37dd1993f93",
       "version_major": 2,
       "version_minor": 0
      },
      "text/plain": [
       "Widget(value='<iframe src=\"http://localhost:54756/index.html?ui=P_0x2130d874310_1&reconnect=auto\" class=\"pyvis…"
      ]
     },
     "metadata": {},
     "output_type": "display_data"
    }
   ],
   "source": [
    "pl = pv.Plotter(shape=(1, 3))\n",
    "arr = field_kxx\n",
    "im = geone.img.Img(nx=arr.shape[2], ny=arr.shape[1], nz=arr.shape[0], sx=2*factor_x, sy=2*factor_y, sz=0.4*factor_z, nv=1, val=arr.reshape(1, *arr.shape), varname=[\"Kxx  / SR - direct\"])\n",
    "geone.imgplot3d.drawImage3D_surface(im, cmap=\"terrain\", plotter=pl)\n",
    "\n",
    "pl.subplot(0, 1)\n",
    "arr = field_kyy\n",
    "im = geone.img.Img(nx=arr.shape[2], ny=arr.shape[1], nz=arr.shape[0], sx=2*factor_x, sy=2*factor_y, sz=0.4*factor_z, nv=1, val=arr.reshape(1, *arr.shape), varname=[\"Kyy / SR - direct\"])\n",
    "geone.imgplot3d.drawImage3D_surface(im, cmap=\"terrain\", plotter=pl)\n",
    "\n",
    "pl.subplot(0, 2)\n",
    "arr = field_kzz\n",
    "im = geone.img.Img(nx=arr.shape[2], ny=arr.shape[1], nz=arr.shape[0], sx=2*factor_x, sy=2*factor_y, sz=0.4*factor_z, nv=1, val=arr.reshape(1, *arr.shape), varname=[\"Kzz / SR - direct\"])\n",
    "geone.imgplot3d.drawImage3D_surface(im, cmap=\"terrain\", plotter=pl)\n",
    "\n",
    "pl.add_title(\"Standard renormalization - direct\", font='times', color='k', font_size=40)\n",
    "pl.show()"
   ]
  },
  {
   "cell_type": "code",
   "execution_count": 15,
   "metadata": {},
   "outputs": [],
   "source": [
    "field_kxx, field_kyy, field_kzz = upscale_k(sim.val[0], method=\"standard_renormalization\", dx=2, dy=2, dz=.4, factor_x=factor_x, factor_y=factor_y, factor_z=factor_z, scheme=\"center\")"
   ]
  },
  {
   "cell_type": "code",
   "execution_count": 16,
   "metadata": {},
   "outputs": [
    {
     "data": {
      "application/vnd.jupyter.widget-view+json": {
       "model_id": "da519f816db443378dc1c92aafccf95b",
       "version_major": 2,
       "version_minor": 0
      },
      "text/plain": [
       "Widget(value='<iframe src=\"http://localhost:54756/index.html?ui=P_0x21310041110_5&reconnect=auto\" class=\"pyvis…"
      ]
     },
     "metadata": {},
     "output_type": "display_data"
    }
   ],
   "source": [
    "pl = pv.Plotter(shape=(1, 3))\n",
    "arr = field_kxx\n",
    "im = geone.img.Img(nx=arr.shape[2], ny=arr.shape[1], nz=arr.shape[0], sx=2*factor_x, sy=2*factor_y, sz=0.4*factor_z, nv=1, val=arr.reshape(1, *arr.shape), varname=[\"Kxx / SR - center\"])\n",
    "geone.imgplot3d.drawImage3D_surface(im, cmap=\"terrain\", plotter=pl)\n",
    "\n",
    "pl.subplot(0, 1)\n",
    "arr = field_kyy\n",
    "im = geone.img.Img(nx=arr.shape[2], ny=arr.shape[1], nz=arr.shape[0], sx=2*factor_x, sy=2*factor_y, sz=0.4*factor_z, nv=1, val=arr.reshape(1, *arr.shape), varname=[\"Kyy / SR - center\"])\n",
    "geone.imgplot3d.drawImage3D_surface(im, cmap=\"terrain\", plotter=pl)\n",
    "\n",
    "pl.subplot(0, 2)\n",
    "arr = field_kzz\n",
    "im = geone.img.Img(nx=arr.shape[2], ny=arr.shape[1], nz=arr.shape[0], sx=2*factor_x, sy=2*factor_y, sz=0.4*factor_z, nv=1, val=arr.reshape(1, *arr.shape), varname=[\"Kzz / SR - center\"])\n",
    "geone.imgplot3d.drawImage3D_surface(im, cmap=\"terrain\", plotter=pl)\n",
    "\n",
    "pl.show()"
   ]
  },
  {
   "cell_type": "code",
   "execution_count": 10,
   "metadata": {},
   "outputs": [],
   "source": [
    "field_kxx, field_kyy, field_kzz = upscale_k(sim.val[0], method=\"tensorial_renormalization\", dx=2, dy=2, dz=.4, factor_x=factor_x, factor_y=factor_y, factor_z=factor_z)"
   ]
  },
  {
   "cell_type": "code",
   "execution_count": 11,
   "metadata": {},
   "outputs": [
    {
     "data": {
      "application/vnd.jupyter.widget-view+json": {
       "model_id": "2624612d2f164a4f87634195cdd97dc3",
       "version_major": 2,
       "version_minor": 0
      },
      "text/plain": [
       "Widget(value='<iframe src=\"http://localhost:54756/index.html?ui=P_0x213100ec290_3&reconnect=auto\" class=\"pyvis…"
      ]
     },
     "metadata": {},
     "output_type": "display_data"
    }
   ],
   "source": [
    "pl = pv.Plotter(shape=(1, 3))\n",
    "arr = field_kxx\n",
    "im = geone.img.Img(nx=arr.shape[2], ny=arr.shape[1], nz=arr.shape[0], sx=2*factor_x, sy=2*factor_y, sz=0.4*factor_z, nv=1, val=arr.reshape(1, *arr.shape), varname=[\"Kxx / TR\"])\n",
    "geone.imgplot3d.drawImage3D_surface(im, cmap=\"terrain\", plotter=pl)\n",
    "\n",
    "pl.subplot(0, 1)\n",
    "arr = field_kyy\n",
    "im = geone.img.Img(nx=arr.shape[2], ny=arr.shape[1], nz=arr.shape[0], sx=2*factor_x, sy=2*factor_y, sz=0.4*factor_z, nv=1, val=arr.reshape(1, *arr.shape), varname=[\"Kyy / TR\"])\n",
    "geone.imgplot3d.drawImage3D_surface(im, cmap=\"terrain\", plotter=pl)\n",
    "\n",
    "pl.subplot(0, 2)\n",
    "arr = field_kzz\n",
    "im = geone.img.Img(nx=arr.shape[2], ny=arr.shape[1], nz=arr.shape[0], sx=2*factor_x, sy=2*factor_y, sz=0.4*factor_z, nv=1, val=arr.reshape(1, *arr.shape), varname=[\"Kzz / TR\"])\n",
    "geone.imgplot3d.drawImage3D_surface(im, cmap=\"terrain\", plotter=pl)\n",
    "\n",
    "pl.show()"
   ]
  },
  {
   "cell_type": "code",
   "execution_count": 13,
   "metadata": {},
   "outputs": [],
   "source": [
    "field_kxx, field_kyy, field_kzz = upscale_k(sim.val[0], method=\"simplified_renormalization\", dx=2, dy=2, dz=.4, factor_x=factor_x, factor_y=factor_y, factor_z=factor_z)"
   ]
  },
  {
   "cell_type": "code",
   "execution_count": 14,
   "metadata": {},
   "outputs": [
    {
     "data": {
      "application/vnd.jupyter.widget-view+json": {
       "model_id": "13325acde0ff464e9cc6b55f18fb3c67",
       "version_major": 2,
       "version_minor": 0
      },
      "text/plain": [
       "Widget(value='<iframe src=\"http://localhost:54756/index.html?ui=P_0x2131e1de210_4&reconnect=auto\" class=\"pyvis…"
      ]
     },
     "metadata": {},
     "output_type": "display_data"
    }
   ],
   "source": [
    "pl = pv.Plotter(shape=(1, 3))\n",
    "arr = field_kxx\n",
    "im = geone.img.Img(nx=arr.shape[2], ny=arr.shape[1], nz=arr.shape[0], sx=2*factor_x, sy=2*factor_y, sz=0.4*factor_z, nv=1, val=arr.reshape(1, *arr.shape), varname=[\"Kxx / Simplified Ren.\"])\n",
    "geone.imgplot3d.drawImage3D_surface(im, cmap=\"terrain\", plotter=pl)\n",
    "\n",
    "pl.subplot(0, 1)\n",
    "arr = field_kyy\n",
    "im = geone.img.Img(nx=arr.shape[2], ny=arr.shape[1], nz=arr.shape[0], sx=2*factor_x, sy=2*factor_y, sz=0.4*factor_z, nv=1, val=arr.reshape(1, *arr.shape), varname=[\"Kyy / Simplified Ren.\"])\n",
    "geone.imgplot3d.drawImage3D_surface(im, cmap=\"terrain\", plotter=pl)\n",
    "\n",
    "pl.subplot(0, 2)\n",
    "arr = field_kzz\n",
    "im = geone.img.Img(nx=arr.shape[2], ny=arr.shape[1], nz=arr.shape[0], sx=2*factor_x, sy=2*factor_y, sz=0.4*factor_z, nv=1, val=arr.reshape(1, *arr.shape), varname=[\"Kzz / Simplified Ren.\"])\n",
    "geone.imgplot3d.drawImage3D_surface(im, cmap=\"terrain\", plott er=pl)\n",
    "\n",
    "pl.show()"
   ]
  }
 ],
 "metadata": {
  "kernelspec": {
   "display_name": "bebou",
   "language": "python",
   "name": "python3"
  },
  "language_info": {
   "codemirror_mode": {
    "name": "ipython",
    "version": 3
   },
   "file_extension": ".py",
   "mimetype": "text/x-python",
   "name": "python",
   "nbconvert_exporter": "python",
   "pygments_lexer": "ipython3",
   "version": "3.11.10"
  }
 },
 "nbformat": 4,
 "nbformat_minor": 2
}

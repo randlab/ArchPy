{
 "cells": [
  {
   "cell_type": "code",
   "execution_count": 2,
   "metadata": {},
   "outputs": [],
   "source": [
    "import numpy as np\n",
    "import matplotlib.pyplot as plt\n",
    "import geone\n",
    "import geone.covModel as gcm\n",
    "import scipy"
   ]
  },
  {
   "cell_type": "code",
   "execution_count": null,
   "metadata": {},
   "outputs": [],
   "source": [
    "# create functions to compute the equivalent permeability of a 2D field\n",
    "# This is done by computing the arithmetic mean / or the harmonic mean in the x and y directions sequentially until the final value is obtained\n",
    "\n",
    "def f(a, direction=\"x\", type=\"series\"):\n",
    "\n",
    "    \"\"\"\n",
    "    Function to operate a mean row or column wise by pairs of rows or columns\n",
    "    \"\"\"\n",
    "\n",
    "    # select the vectors\n",
    "    if (direction == \"x\" and type == \"parallel\") or (direction == \"y\" and type == \"series\"):\n",
    "\n",
    "        v1 = a[::2]\n",
    "        v2 = a[1::2]\n",
    "\n",
    "    if (direction == \"x\" and type == \"series\") or (direction == \"y\" and type == \"parallel\"):\n",
    "\n",
    "        v1 = a[:, ::2]\n",
    "        v2 = a[:, 1::2]\n",
    "\n",
    "    # merge\n",
    "    if type == \"parallel\":\n",
    "        return (v1 + v2) / 2\n",
    "    elif type == \"series\":\n",
    "        return scipy.stats.hmean([v1, v2], axis=0)\n",
    "\n",
    "def test_f():\n",
    "\n",
    "    \"\"\"\n",
    "    Test the function f\n",
    "    \"\"\"\n",
    "\n",
    "    a = np.array([[0.2707579 , 0.67406735], \n",
    "                  [0.04264607, 0.17996007]])\n",
    "\n",
    "    assert np.allclose(f(a, direction=\"x\", type=\"parallel\"), np.array([[0.15670199, 0.42701371]]))\n",
    "    assert np.allclose(f(a, direction=\"x\", type=\"series\"), np.array([[0.38633401], [0.06895219]]))\n",
    "    assert np.allclose(f(a, direction=\"y\", type=\"parallel\"), np.array([[0.47241263], [0.11130307]]))\n",
    "    assert np.allclose(f(a, direction=\"y\", type=\"series\"), np.array([[0.07368612, 0.28407801]]))\n",
    "\n",
    "    print(\"Test passed\")\n",
    "\n",
    "\n",
    "def merge(v1, v2, w1, w2, normalize=True):\n",
    "    \n",
    "    \"\"\"\n",
    "    Function to merge two vectors v1 and v2 with weights w1 and w2\n",
    "    Is used here to merge two columns of different sizes\n",
    "    \"\"\"\n",
    "\n",
    "    if normalize:\n",
    "        sum_w = w1 + w2\n",
    "        w1 = w1 / sum_w\n",
    "        w2 = w2 / sum_w\n",
    "\n",
    "    return w1*v1 + w2*v2 - (w1*w2*(v1 - v2)**2)/(w1*v2 + w2*v1)"
   ]
  },
  {
   "cell_type": "code",
   "execution_count": 208,
   "metadata": {},
   "outputs": [
    {
     "name": "stdout",
     "output_type": "stream",
     "text": [
      "Test passed\n"
     ]
    }
   ],
   "source": [
    "test_f()"
   ]
  },
  {
   "cell_type": "code",
   "execution_count": 468,
   "metadata": {},
   "outputs": [],
   "source": [
    "def find_c(k_field, direction=\"x\", first_type=\"series\"):\n",
    "\n",
    "    k_field_copy = k_field.copy()\n",
    "\n",
    "    if first_type == \"series\":\n",
    "        o = 1\n",
    "    else:\n",
    "        o = 2\n",
    "\n",
    "    while k_field_copy.flatten().shape[0] > 1:\n",
    "        # print(k_field_copy)\n",
    "        if o % 2 == 0 and ((direction == \"x\" and k_field_copy.shape[0]>1) or (direction == \"y\" and k_field_copy.shape[1]>1)):\n",
    "            \n",
    "            # remove the last row or column if the number of rows or columns is odd\n",
    "            rm_row = None\n",
    "            rm_col = None\n",
    "            if direction == \"x\" and k_field_copy.shape[0] % 2 == 1:\n",
    "                # remove the last row if the number of rows is odd\n",
    "                rm_row = k_field_copy[-1, :]\n",
    "                k_field_copy = k_field_copy[:-1, :]\n",
    "            elif direction == \"y\" and k_field_copy.shape[1] % 2 == 1:\n",
    "                # remove the last column if the number of columns is odd\n",
    "                rm_col = k_field_copy[:, -1]\n",
    "                k_field_copy = k_field_copy[:, :-1]\n",
    "\n",
    "            # compute the mean\n",
    "            k_field_copy = f(k_field_copy, type=\"parallel\", direction=direction)\n",
    "\n",
    "            # add the removed row or column\n",
    "            if rm_row is not None:\n",
    "                new_row = merge(k_field_copy[-1, :], rm_row, 2, 1)\n",
    "                k_field_copy = np.vstack((k_field_copy, new_row))\n",
    "            elif rm_col is not None:\n",
    "                new_col = merge(k_field_copy[:, -1], rm_col, 2, 1)\n",
    "                k_field_copy = np.hstack((k_field_copy, new_col[:, None]))\n",
    "                \n",
    "\n",
    "        elif o % 2 == 1 and ((direction == \"x\" and k_field_copy.shape[1]>1) or (direction == \"y\" and k_field_copy.shape[0]>1)):\n",
    "\n",
    "            # remove the last row or column if the number of rows or columns is odd\n",
    "            rm_row = None\n",
    "            rm_col = None\n",
    "            if direction == \"x\" and k_field_copy.shape[1] % 2 == 1:\n",
    "                # remove the last column if the number of columns is odd\n",
    "                rm_col = k_field_copy[:, -1]\n",
    "                k_field_copy = k_field_copy[:, :-1]\n",
    "            elif direction == \"y\" and k_field_copy.shape[0] % 2 == 1:\n",
    "                # remove the last row if the number of rows is odd\n",
    "                rm_row = k_field_copy[-1, :]\n",
    "                k_field_copy = k_field_copy[:-1, :]\n",
    "                \n",
    "            # compute the mean\n",
    "            k_field_copy = f(k_field_copy, type=\"series\", direction=direction)\n",
    "\n",
    "            # add the removed row or column\n",
    "            if rm_row is not None:\n",
    "                new_row = merge(k_field_copy[-1, :], rm_row, 2, 1)\n",
    "                k_field_copy = np.vstack((k_field_copy, new_row))\n",
    "            elif rm_col is not None:\n",
    "                new_col = merge(k_field_copy[:, -1], rm_col, 2, 1)\n",
    "                k_field_copy = np.hstack((k_field_copy, new_col[:, None]))\n",
    "\n",
    "        o += 1\n",
    "\n",
    "    return k_field_copy[0, 0]"
   ]
  },
  {
   "cell_type": "code",
   "execution_count": 347,
   "metadata": {},
   "outputs": [
    {
     "name": "stdout",
     "output_type": "stream",
     "text": [
      "[[0.01493341 0.55063712]]\n",
      "[[0.19777869]\n",
      " [0.50040651]]\n",
      "[[0.02657308 0.67161213]]\n",
      "[[0.01756391]\n",
      " [0.08442306]]\n"
     ]
    }
   ],
   "source": [
    "k_field = np.random.rand(2, 2)\n",
    "print(f(k_field, type=\"series\", direction=\"y\"))\n",
    "print(f(k_field, type=\"parallel\", direction=\"y\"))\n",
    "print(f(k_field, type=\"parallel\", direction=\"x\"))\n",
    "print(f(k_field, type=\"series\", direction=\"x\"))"
   ]
  },
  {
   "cell_type": "code",
   "execution_count": 348,
   "metadata": {},
   "outputs": [
    {
     "data": {
      "text/plain": [
       "0.2827852624573217"
      ]
     },
     "execution_count": 348,
     "metadata": {},
     "output_type": "execute_result"
    }
   ],
   "source": [
    "find_c(k_field, direction=\"y\", first_type=\"series\")"
   ]
  },
  {
   "cell_type": "code",
   "execution_count": 349,
   "metadata": {},
   "outputs": [
    {
     "data": {
      "text/plain": [
       "array([[0.0089861 , 0.38657128],\n",
       "       [0.04416006, 0.95665297]])"
      ]
     },
     "execution_count": 349,
     "metadata": {},
     "output_type": "execute_result"
    }
   ],
   "source": [
    "k_field"
   ]
  },
  {
   "cell_type": "code",
   "execution_count": 434,
   "metadata": {},
   "outputs": [
    {
     "name": "stdout",
     "output_type": "stream",
     "text": [
      "[[0.0089861  0.38657128]\n",
      " [0.04416006 0.95665297]]\n",
      "[[0.0089861  0.38657128]\n",
      " [0.04416006 0.95665297]]\n",
      "[[0.01756391]\n",
      " [0.08442306]]\n",
      "0.050993486891020796\n",
      "[[0.0089861  0.38657128]\n",
      " [0.04416006 0.95665297]]\n",
      "[[0.01493341 0.55063712]]\n",
      "0.2827852624573217\n"
     ]
    }
   ],
   "source": [
    "k_field = np.random.rand(2, 2)\n",
    "print(k_field)\n",
    "print(find_c(k_field, direction=\"x\", first_type=\"series\"))\n",
    "print(find_c(k_field, direction=\"y\", first_type=\"series\"))"
   ]
  },
  {
   "cell_type": "code",
   "execution_count": 519,
   "metadata": {},
   "outputs": [
    {
     "name": "stdout",
     "output_type": "stream",
     "text": [
      "0.0001858863225781165 0.00011545789430841304\n"
     ]
    }
   ],
   "source": [
    "np.random.seed(1312)\n",
    "\n",
    "# create a 2D field\n",
    "nx, ny = 5, 5\n",
    "dx, dy = 1, 1\n",
    "x = np.linspace(0, nx-1, nx)\n",
    "y = np.linspace(0, ny-1, ny)\n",
    "x, y = np.meshgrid(x, y)\n",
    "\n",
    "field = 10**(np.random.rand(nx, ny)*-2 + -3)\n",
    "c_x = find_c(field, direction=\"x\", first_type=\"parallel\")\n",
    "c_y = find_c(field, direction=\"y\", first_type=\"parallel\")\n",
    "print(c_x, c_y)"
   ]
  },
  {
   "cell_type": "code",
   "execution_count": 522,
   "metadata": {},
   "outputs": [
    {
     "data": {
      "text/plain": [
       "<matplotlib.image.AxesImage at 0x23b9b453850>"
      ]
     },
     "execution_count": 522,
     "metadata": {},
     "output_type": "execute_result"
    },
    {
     "data": {
      "image/png": "[encoded data removed]",
      "text/plain": [
       "<Figure size 640x480 with 1 Axes>"
      ]
     },
     "metadata": {},
     "output_type": "display_data"
    }
   ],
   "source": [
    "plt.imshow(np.array(c_x).reshape(1, 1), cmap=\"viridis\", vmin=field.min(), vmax=field.max())"
   ]
  },
  {
   "cell_type": "code",
   "execution_count": 523,
   "metadata": {},
   "outputs": [
    {
     "data": {
      "text/plain": [
       "<matplotlib.colorbar.Colorbar at 0x23b9af02bd0>"
      ]
     },
     "execution_count": 523,
     "metadata": {},
     "output_type": "execute_result"
    },
    {
     "data": {
      "image/png": "[encoded data removed]",
      "text/plain": [
       "<Figure size 640x480 with 2 Axes>"
      ]
     },
     "metadata": {},
     "output_type": "display_data"
    }
   ],
   "source": [
    "plt.imshow(field)\n",
    "plt.colorbar()"
   ]
  },
  {
   "cell_type": "code",
   "execution_count": null,
   "metadata": {},
   "outputs": [],
   "source": []
  },
  {
   "cell_type": "code",
   "execution_count": 494,
   "metadata": {},
   "outputs": [],
   "source": [
    "np.random.seed(1312)\n",
    "\n",
    "# create a 2D field\n",
    "nx, ny = 5, 5\n",
    "dx, dy = 1, 1\n",
    "x = np.linspace(0, nx-1, nx)\n",
    "y = np.linspace(0, ny-1, ny)\n",
    "x, y = np.meshgrid(x, y)\n",
    "\n",
    "l_c = []\n",
    "\n",
    "for i in range(1000):\n",
    "    field = np.random.rand(nx, ny)\n",
    "    c_x = find_c(field, direction=\"x\", first_type=\"series\")\n",
    "    c_y = find_c(field, direction=\"y\", first_type=\"series\")\n",
    "    l_c.append((c_x, c_y))"
   ]
  },
  {
   "cell_type": "code",
   "execution_count": 487,
   "metadata": {},
   "outputs": [],
   "source": [
    "cx, cy = np.array(l_c).T"
   ]
  },
  {
   "cell_type": "code",
   "execution_count": 495,
   "metadata": {},
   "outputs": [
    {
     "data": {
      "text/plain": [
       "(array([[  6.,  43., 112., 215., 259., 195., 114.,  47.,   6.,   3.],\n",
       "        [ 14.,  43., 136., 181., 249., 196., 121.,  49.,   8.,   3.]]),\n",
       " array([0.08387955, 0.141661  , 0.19944245, 0.25722389, 0.31500534,\n",
       "        0.37278679, 0.43056823, 0.48834968, 0.54613113, 0.60391257,\n",
       "        0.66169402]),\n",
       " <a list of 2 BarContainer objects>)"
      ]
     },
     "execution_count": 495,
     "metadata": {},
     "output_type": "execute_result"
    },
    {
     "data": {
      "image/png": "[encoded data removed]",
      "text/plain": [
       "<Figure size 640x480 with 1 Axes>"
      ]
     },
     "metadata": {},
     "output_type": "display_data"
    }
   ],
   "source": [
    "plt.hist(np.array(l_c))"
   ]
  },
  {
   "cell_type": "code",
   "execution_count": 432,
   "metadata": {},
   "outputs": [
    {
     "name": "stdout",
     "output_type": "stream",
     "text": [
      "0.4264834402920234 0.5221097851587916\n"
     ]
    }
   ],
   "source": [
    "np.random.seed(4)\n",
    "a = np.random.rand(4, 4)\n",
    "print(find_c(a, direction=\"x\", first_type=\"series\"), find_c(a, direction=\"x\", first_type=\"parallel\"))"
   ]
  },
  {
   "cell_type": "code",
   "execution_count": 330,
   "metadata": {},
   "outputs": [
    {
     "data": {
      "text/plain": [
       "array([0.81059748, 0.30983302, 0.9744761 , 0.01235284])"
      ]
     },
     "execution_count": 330,
     "metadata": {},
     "output_type": "execute_result"
    }
   ],
   "source": [
    "merge(a[0, :], a[1, :], 1, 1)"
   ]
  },
  {
   "cell_type": "code",
   "execution_count": null,
   "metadata": {},
   "outputs": [],
   "source": []
  },
  {
   "cell_type": "code",
   "execution_count": null,
   "metadata": {},
   "outputs": [],
   "source": []
  },
  {
   "cell_type": "code",
   "execution_count": null,
   "metadata": {},
   "outputs": [],
   "source": []
  },
  {
   "cell_type": "code",
   "execution_count": null,
   "metadata": {},
   "outputs": [],
   "source": []
  }
 ],
 "metadata": {
  "kernelspec": {
   "display_name": "bebou",
   "language": "python",
   "name": "python3"
  },
  "language_info": {
   "codemirror_mode": {
    "name": "ipython",
    "version": 3
   },
   "file_extension": ".py",
   "mimetype": "text/x-python",
   "name": "python",
   "nbconvert_exporter": "python",
   "pygments_lexer": "ipython3",
   "version": "3.11.10"
  }
 },
 "nbformat": 4,
 "nbformat_minor": 2
}

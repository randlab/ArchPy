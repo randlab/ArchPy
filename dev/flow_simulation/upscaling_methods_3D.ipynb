{
 "cells": [
  {
   "cell_type": "markdown",
   "metadata": {},
   "source": [
    "# Upscaling using Renormalization\n",
    "\n",
    "This notebook presents how to use renromalization to upscale a 3D field of hydraulic conductivity\n",
    "Three methods are used:\n",
    "- Simplified renormalization\n",
    "- Standard renormalization\n",
    "- Tensorial renormalization"
   ]
  },
  {
   "cell_type": "code",
   "execution_count": 109,
   "metadata": {},
   "outputs": [],
   "source": [
    "import numpy as np\n",
    "import matplotlib.pyplot as plt\n",
    "import geone\n",
    "import geone.covModel as gcm\n",
    "from numba import jit"
   ]
  },
  {
   "cell_type": "markdown",
   "metadata": {},
   "source": [
    "## Simplified renormalization"
   ]
  },
  {
   "cell_type": "code",
   "execution_count": 2,
   "metadata": {},
   "outputs": [],
   "source": [
    "@jit()\n",
    "def hmean(v1, v2, w1=1, w2=1):\n",
    "    return (w1 + w2) / (w1 / v1 + w2 / v2)\n",
    "\n",
    "@jit()\n",
    "def mean(v1, v2, w1=1, w2=1):\n",
    "    return (v1 * w1 + v2 * w2) / (w1 + w2)"
   ]
  },
  {
   "cell_type": "code",
   "execution_count": 3,
   "metadata": {},
   "outputs": [],
   "source": [
    "# create functions to compute the equivalent permeability of a 2D field\n",
    "# This is done by computing the arithmetic mean / or the harmonic mean in the x and y directions sequentially until the final value is obtained\n",
    "\n",
    "def f_3D(a, dx=None, dy=None, dz=None, direction=\"x\", typ=\"x\"):\n",
    "\n",
    "    \"\"\"\n",
    "    Function to operate a mean between two 2D fields from a 3D field\n",
    "\n",
    "    Parameters\n",
    "    ----------\n",
    "    a : 3D numpy array\n",
    "        The 3D field\n",
    "    direction : str\n",
    "        The direction of the mean to compute. Can be \"x\", \"y\" or \"z\"\n",
    "    type : str\n",
    "        The direction where fields are selected. Can be \"x\", \"y\" or \"z\"\n",
    "    \"\"\"\n",
    "\n",
    "    # initialize weights\n",
    "    w1 = 1\n",
    "    w2 = 1\n",
    "    new_dx = None\n",
    "    new_dy = None\n",
    "    new_dz = None\n",
    "\n",
    "    if typ == \"y\":\n",
    "\n",
    "        v1 = a[:, ::2, :]\n",
    "        v2 = a[:, 1::2, :]\n",
    "        if dy is not None:\n",
    "            w1 = dy[:, ::2, :]\n",
    "            w2 = dy[:, 1::2, :]\n",
    "            new_dy = w1 + w2\n",
    "            new_dx = dx[:, ::2, :]\n",
    "            new_dz = dz[:, ::2, :]\n",
    "\n",
    "    elif typ == \"x\":\n",
    "\n",
    "        v1 = a[:, :, ::2]\n",
    "        v2 = a[:, :, 1::2]\n",
    "        if dx is not None:\n",
    "            w1 = dx[:, :, ::2]\n",
    "            w2 = dx[:, :, 1::2]\n",
    "            new_dx = w1 + w2\n",
    "            new_dy = dy[:, :, ::2]\n",
    "            new_dz = dz[:, :, ::2]\n",
    "\n",
    "    elif typ == \"z\":\n",
    "            \n",
    "        v1 = a[::2, :, :]\n",
    "        v2 = a[1::2, :, :]\n",
    "        if dz is not None:\n",
    "            w1 = dz[::2, :, :]\n",
    "            w2 = dz[1::2, :, :]\n",
    "            new_dz = w1 + w2\n",
    "            new_dx = dx[::2, :, :]\n",
    "            new_dy = dy[::2, :, :]\n",
    "\n",
    "\n",
    "    if typ == direction:  # series\n",
    "        res = hmean(v1, v2, w1=w1, w2=w2)\n",
    "    else:\n",
    "        res = mean(v1, v2, w1=w1, w2=w2)\n",
    "    \n",
    "    return res, new_dx, new_dy, new_dz\n",
    "\n",
    "def test_f():\n",
    "\n",
    "    \"\"\"\n",
    "    Test the function f\n",
    "    \"\"\"\n",
    "    a = np.array([[[0.51394334, 0.77316505],\n",
    "                   [0.87042769, 0.00804695]],\n",
    "                  [[0.30973593, 0.95760374],\n",
    "                   [0.51311671, 0.31828442]]])\n",
    "\n",
    "    a1 = f_3D(a, direction=\"x\", typ=\"x\")[0]\n",
    "    a2 = f_3D(a1, direction=\"x\", typ=\"z\")[0]\n",
    "    a3 = f_3D(a2, direction=\"x\", typ=\"y\")[0]\n",
    "    res = a3[0, 0, 0]\n",
    "    assert np.allclose(res, 0.3735857397539791)\n",
    "    \n",
    "    a1 = f_3D(a, direction=\"x\", typ=\"y\")[0]\n",
    "    a2 = f_3D(a1, direction=\"x\", typ=\"z\")[0]\n",
    "    a3 = f_3D(a2, direction=\"x\", typ=\"x\")[0]\n",
    "    res = a3[0, 0, 0]\n",
    "    assert np.allclose(res, 0.5323798506575812)\n",
    "\n",
    "    print(\"Test passed\")\n",
    "\n",
    "\n",
    "# from numba import jit\n",
    "# @jit(nopython=True)\n",
    "def merge(v1, v2, w1, w2, normalize=True):\n",
    "    \n",
    "    \"\"\"\n",
    "    Function to merge two vectors v1 and v2 with weights w1 and w2\n",
    "    Is used here to merge two columns of different sizes\n",
    "    \"\"\"\n",
    "\n",
    "    if normalize:\n",
    "        sum_w = w1 + w2\n",
    "        w1 = w1 / sum_w\n",
    "        w2 = w2 / sum_w\n",
    "\n",
    "    return w1*v1 + w2*v2 - (w1*w2*(v1 - v2)**2)/(w1*v2 + w2*v1)"
   ]
  },
  {
   "cell_type": "code",
   "execution_count": 4,
   "metadata": {},
   "outputs": [
    {
     "data": {
      "text/plain": [
       "array([[[0.66188498],\n",
       "        [0.01201489]],\n",
       "\n",
       "       [[0.56421699],\n",
       "        [0.3644066 ]]])"
      ]
     },
     "execution_count": 4,
     "metadata": {},
     "output_type": "execute_result"
    }
   ],
   "source": [
    "np.random.seed(14)\n",
    "a = np.random.rand(2, 2, 2)\n",
    "\n",
    "dx = np.ones((2, 2, 2)) \n",
    "dx[:, :, -1] = 2\n",
    "a1, ndx, ndy, ndz = f_3D(a, direction=\"x\", typ=\"x\", dx=dx, dy=np.ones((2, 2, 2)), dz=np.ones((2, 2, 2)))\n",
    "a1"
   ]
  },
  {
   "cell_type": "code",
   "execution_count": 5,
   "metadata": {},
   "outputs": [
    {
     "name": "stdout",
     "output_type": "stream",
     "text": [
      "0.3735857397539791\n",
      "0.5323798506575812\n"
     ]
    }
   ],
   "source": [
    "np.random.seed(14)\n",
    "\n",
    "a = np.random.rand(2, 2, 2)\n",
    "\n",
    "a1 = f_3D(a, direction=\"x\", typ=\"x\")\n",
    "a2 = f_3D(a1[0], direction=\"x\", typ=\"z\")\n",
    "a3 = f_3D(a2[0], direction=\"x\", typ=\"y\")\n",
    "print(a3[0][0, 0, 0])\n",
    "\n",
    "a1 = f_3D(a, direction=\"x\", typ=\"y\")\n",
    "a2 = f_3D(a1[0], direction=\"x\", typ=\"z\")\n",
    "a3 = f_3D(a2[0], direction=\"x\", typ=\"x\")\n",
    "print(a3[0][0, 0, 0])"
   ]
  },
  {
   "cell_type": "code",
   "execution_count": 6,
   "metadata": {},
   "outputs": [
    {
     "name": "stdout",
     "output_type": "stream",
     "text": [
      "Test passed\n"
     ]
    }
   ],
   "source": [
    "test_f()"
   ]
  },
  {
   "cell_type": "code",
   "execution_count": 7,
   "metadata": {},
   "outputs": [],
   "source": [
    "def find_c_3D(k_field, direction=\"x\", typ=\"min\", dx=None, dy=None, dz=None):\n",
    "    \n",
    "    if typ == \"min\":\n",
    "        if direction == \"x\":\n",
    "            l_typ = [\"x\", \"y\", \"z\"]\n",
    "        elif direction == \"y\":\n",
    "            l_typ = [\"y\", \"x\", \"z\"]\n",
    "        elif direction == \"z\":\n",
    "            l_typ = [\"z\", \"x\", \"y\"]\n",
    "    elif typ == \"max\":\n",
    "        if direction == \"x\":\n",
    "            l_typ = [\"y\", \"z\", \"x\"]\n",
    "        elif direction == \"y\":\n",
    "            l_typ = [\"x\", \"z\", \"y\"]\n",
    "        elif direction == \"z\":\n",
    "            l_typ = [\"x\", \"y\", \"z\"]\n",
    "\n",
    "    # if dx, dy and dz are None, set them to 1\n",
    "    if dx is None:\n",
    "        dx = 1\n",
    "    if dy is None:\n",
    "        dy = 1\n",
    "    if dz is None:\n",
    "        dz = 1\n",
    "\n",
    "    # if dx and dy are provided as a scalar, set them to an array of the same shape as k_field\n",
    "    if isinstance(dx, (int, float)):\n",
    "        dx = np.ones(k_field.shape) * dx\n",
    "    if isinstance(dy, (int, float)):\n",
    "        dy = np.ones(k_field.shape) * dy\n",
    "    if isinstance(dz, (int, float)):\n",
    "        dz = np.ones(k_field.shape) * dz\n",
    "\n",
    "    a = np.copy(k_field)\n",
    "    o = 0\n",
    "    while a.flatten().shape[0] > 1:\n",
    "        # print(\"dx:\", dx)\n",
    "        # print(\"dy:\", dy)\n",
    "        # print(\"dz:\", dz)\n",
    "        # print(\"asdf\", a)\n",
    "        # check if the number of elements is odd\n",
    "        rm_col = False\n",
    "        rm_row = False\n",
    "        rm_lay = False\n",
    "        rm_dx = None\n",
    "        rm_dy = None\n",
    "        rm_dz = None\n",
    "        sim = True\n",
    "        if l_typ[o] == \"x\":\n",
    "            if a.shape[2] > 1:\n",
    "                if a.shape[2] % 2 == 1:\n",
    "                    # remove the last column\n",
    "                    rm_col = a[:, :, -1]\n",
    "                    a = a[:, :, :-1]\n",
    "                    rm_dx = dx[:, :, -1]\n",
    "                    dx = dx[:, :, :-1]\n",
    "                    rm_dy = dy[:, :, -1]\n",
    "                    dy = dy[:, :, :-1]\n",
    "                    rm_dz = dz[:, :, -1]\n",
    "                    dz = dz[:, :, :-1]\n",
    "            else:\n",
    "                sim = False\n",
    "\n",
    "        elif l_typ[o] == \"y\":\n",
    "            if a.shape[1] > 1:\n",
    "                if a.shape[1] % 2 == 1:\n",
    "                    # remove the last row\n",
    "                    rm_row = a[:, -1, :]\n",
    "                    a = a[:, :-1, :]\n",
    "                    rm_dx = dx[:, -1, :]\n",
    "                    dx = dx[:, :-1, :]\n",
    "                    rm_dy = dy[:, -1, :]\n",
    "                    dy = dy[:, :-1, :]\n",
    "                    rm_dz = dz[:, -1, :]\n",
    "                    dz = dz[:, :-1, :]\n",
    "            else:\n",
    "                sim = False\n",
    "\n",
    "        elif l_typ[o] == \"z\":\n",
    "            if a.shape[0] > 1:\n",
    "                if a.shape[0] % 2 == 1:\n",
    "                    # remove the last layer\n",
    "                    rm_lay = a[-1, :, :]\n",
    "                    a = a[:-1, :, :]\n",
    "                    rm_dx = dx[-1, :, :]\n",
    "                    dx = dx[:-1, :, :]\n",
    "                    rm_dy = dy[-1, :, :]\n",
    "                    dy = dy[:-1, :, :]\n",
    "                    rm_dz = dz[-1, :, :]\n",
    "                    dz = dz[:-1, :, :]\n",
    "            else:\n",
    "                sim = False\n",
    "        if sim:\n",
    "            a, dx, dy, dz = f_3D(a, direction=direction, typ=l_typ[o], dx=dx, dy=dy, dz=dz)\n",
    "\n",
    "        # merge the removed column, row or layer\n",
    "        if rm_col is not False:\n",
    "            # new_col = merge(rm_col, a[:, :, -1], 1, 2)\n",
    "            a = np.dstack((a, rm_col.reshape(a.shape[0], a.shape[1], 1)))\n",
    "            dx = np.dstack((dx, rm_dx.reshape(dx.shape[0], dx.shape[1], 1)))\n",
    "            dy = np.dstack((dy, rm_dy.reshape(dy.shape[0], dy.shape[1], 1)))\n",
    "            dz = np.dstack((dz, rm_dz.reshape(dz.shape[0], dz.shape[1], 1)))\n",
    "        elif rm_row is not False:\n",
    "            # new_row = merge(rm_row, a[:, -1, :], 1, 2)\n",
    "            a = np.hstack((a, rm_row.reshape(a.shape[0], 1, a.shape[2])))\n",
    "            dx = np.hstack((dx, rm_dx.reshape(dx.shape[0], 1, dx.shape[2])))\n",
    "            dy = np.hstack((dy, rm_dy.reshape(dy.shape[0], 1, dy.shape[2])))\n",
    "            dz = np.hstack((dz, rm_dz.reshape(dz.shape[0], 1, dz.shape[2])))\n",
    "        elif rm_lay is not False:\n",
    "            # new_lay = merge(rm_lay, a[-1, :, :], 1, 2)\n",
    "            a = np.vstack((a, rm_lay.reshape(1, a.shape[1], a.shape[2])))\n",
    "            dx = np.vstack((dx, rm_dx.reshape(1, dx.shape[1], dx.shape[2])))\n",
    "            dy = np.vstack((dy, rm_dy.reshape(1, dy.shape[1], dy.shape[2])))\n",
    "            dz = np.vstack((dz, rm_dz.reshape(1, dz.shape[1], dz.shape[2])))\n",
    "\n",
    "        o += 1\n",
    "        if o == 3:\n",
    "            o = 0\n",
    "\n",
    "    return a[0, 0, 0]"
   ]
  },
  {
   "cell_type": "code",
   "execution_count": 85,
   "metadata": {},
   "outputs": [],
   "source": [
    "def plot_field(field, cmap=\"viridis\"):\n",
    "\n",
    "    # set pyvista backend local\n",
    "    pv.set_jupyter_backend('client')\n",
    "\n",
    "    # plot 3D plot of the field\n",
    "    grid = pv.ImageData()\n",
    "\n",
    "    grid.dimensions = np.array(field.shape) + 1\n",
    "    grid.spacing = np.array([1, 1, 1])\n",
    "    grid.origin = (0, 0, 0)\n",
    "\n",
    "    grid.cell_data[\"Permeability\"] = field.flatten(order=\"F\")\n",
    "\n",
    "    grid.plot(show_scalar_bar=True, show_edges=True, cmap=cmap)"
   ]
  },
  {
   "cell_type": "code",
   "execution_count": null,
   "metadata": {},
   "outputs": [
    {
     "data": {
      "text/plain": [
       "0.40063086286875327"
      ]
     },
     "execution_count": 75,
     "metadata": {},
     "output_type": "execute_result"
    }
   ],
   "source": [
    "\n",
    "dx = np.ones((2, 2, 2)) \n",
    "dx[:, :, -1] = 2\n",
    "find_c_3D(a, direction=\"x\", typ=\"min\", dx=dx, dy=1, dz=1)"
   ]
  },
  {
   "cell_type": "code",
   "execution_count": 9,
   "metadata": {},
   "outputs": [
    {
     "data": {
      "text/plain": [
       "array([[0.51394334, 0.87042769],\n",
       "       [0.30973593, 0.51311671]])"
      ]
     },
     "execution_count": 9,
     "metadata": {},
     "output_type": "execute_result"
    }
   ],
   "source": [
    "a[:, :, 0]"
   ]
  },
  {
   "cell_type": "code",
   "execution_count": 10,
   "metadata": {},
   "outputs": [
    {
     "data": {
      "text/plain": [
       "array([[[0.51394334, 0.77316505],\n",
       "        [0.87042769, 0.00804695]],\n",
       "\n",
       "       [[0.30973593, 0.95760374],\n",
       "        [0.51311671, 0.31828442]]])"
      ]
     },
     "execution_count": 10,
     "metadata": {},
     "output_type": "execute_result"
    }
   ],
   "source": [
    "a"
   ]
  },
  {
   "cell_type": "code",
   "execution_count": 11,
   "metadata": {},
   "outputs": [],
   "source": [
    "def test_find_c():\n",
    "\n",
    "    b = np.array([[[0.51394334, 0.77316505, 0.87042769],\n",
    "        [0.00804695, 0.30973593, 0.95760374],\n",
    "        [0.51311671, 0.31828442, 0.53919994]],\n",
    "\n",
    "       [[0.22125494, 0.80648136, 0.34225463],\n",
    "        [0.53888885, 0.00587379, 0.67315248],\n",
    "        [0.21002426, 0.93255759, 0.37424475]],\n",
    "\n",
    "       [[0.75241892, 0.763139  , 0.87049946],\n",
    "        [0.11011118, 0.30009198, 0.47490577],\n",
    "        [0.67293672, 0.25759243, 0.70115132]]])\n",
    "\n",
    "    cmin = find_c_3D(b, direction=\"x\", typ=\"min\", dx=1, dy=1, dz=1)\n",
    "    cmax = find_c_3D(b, direction=\"x\", typ=\"max\", dx=1, dy=1, dz=1)\n",
    "    assert np.allclose(cmin, 0.3914114)\n",
    "    assert np.allclose(cmax, 0.47437664)\n",
    "\n",
    "    print(\"Test passed\")"
   ]
  },
  {
   "cell_type": "code",
   "execution_count": 12,
   "metadata": {},
   "outputs": [
    {
     "name": "stdout",
     "output_type": "stream",
     "text": [
      "Test passed\n"
     ]
    }
   ],
   "source": [
    "test_find_c()"
   ]
  },
  {
   "cell_type": "code",
   "execution_count": 13,
   "metadata": {},
   "outputs": [
    {
     "data": {
      "text/plain": [
       "0.3320330491045114"
      ]
     },
     "execution_count": 13,
     "metadata": {},
     "output_type": "execute_result"
    }
   ],
   "source": [
    "np.random.seed(15)\n",
    "b = np.random.rand(3, 3, 3)\n",
    "find_c_3D(b, direction=\"x\", typ=\"min\")"
   ]
  },
  {
   "cell_type": "code",
   "execution_count": 14,
   "metadata": {},
   "outputs": [
    {
     "data": {
      "text/plain": [
       "0.41554160805609713"
      ]
     },
     "execution_count": 14,
     "metadata": {},
     "output_type": "execute_result"
    }
   ],
   "source": [
    "find_c_3D(b, direction=\"x\", typ=\"max\")"
   ]
  },
  {
   "cell_type": "code",
   "execution_count": 15,
   "metadata": {},
   "outputs": [],
   "source": [
    "np.random.seed(1312)\n",
    "\n",
    "# create a 2D field\n",
    "nx, ny, nz = 4, 4, 4\n",
    "dx, dy, dz = 1, 1, 1\n",
    "\n",
    "l_c = []\n",
    "l_c2 = []\n",
    "for i in range(4000):\n",
    "    field = 10**(np.random.rand(nx, ny, nz)*-2 + -3)\n",
    "    c_x_min = find_c_3D(field, direction=\"x\", typ=\"min\")\n",
    "    c_x_max = find_c_3D(field, direction=\"x\", typ=\"max\")\n",
    "    l_c.append((c_x_min, c_x_max))\n",
    "    am = np.mean(field)\n",
    "    hm = 1/ np.mean(1/field)\n",
    "    l_c2.append((am, hm))"
   ]
  },
  {
   "cell_type": "code",
   "execution_count": 16,
   "metadata": {},
   "outputs": [
    {
     "data": {
      "image/png": "[encoded data removed]",
      "text/plain": [
       "<Figure size 640x480 with 1 Axes>"
      ]
     },
     "metadata": {},
     "output_type": "display_data"
    }
   ],
   "source": [
    "plt.hist(np.log10(np.array(l_c)), bins=30)\n",
    "plt.hist(np.log10(np.array(l_c2)), bins=30)\n",
    "plt.show()"
   ]
  },
  {
   "cell_type": "code",
   "execution_count": 17,
   "metadata": {},
   "outputs": [],
   "source": [
    "# now keq is a function of cmin and cmax according to keq = cmax**alpha*(cmin)**(1-alpha)\n",
    "def get_alpha(dx, dy, dz=None, direction=\"x\"):\n",
    "    \n",
    "    def f_u(t):\n",
    "        return np.arctan(np.sqrt(t)) / (np.pi/2)\n",
    "\n",
    "    if dz is None:\n",
    "        if direction == \"x\":\n",
    "            a = dx/dy\n",
    "        elif direction == \"y\":\n",
    "            a = dy/dx\n",
    "        \n",
    "        u = f_u(a)\n",
    "        return u\n",
    "\n",
    "    if direction == \"x\":\n",
    "        a_1 = dx/dy\n",
    "        a_2 = dx/dz\n",
    "    elif direction == \"y\":\n",
    "        a_1 = dy/dx\n",
    "        a_2 = dy/dz\n",
    "    elif direction == \"z\":\n",
    "        a_1 = dz/dx\n",
    "        a_2 = dz/dy\n",
    "        \n",
    "    u_1 = f_u(a_1)\n",
    "    u_2 = f_u(a_2)\n",
    "\n",
    "    return ((u_1 + u_2) - 2*u_1*u_2) / (1 - u_1*u_2)\n",
    "    \n",
    "def keq(cmin, cmax, alpha):\n",
    "    return cmax**alpha*(cmin)**(1-alpha)"
   ]
  },
  {
   "cell_type": "code",
   "execution_count": 18,
   "metadata": {},
   "outputs": [],
   "source": [
    "def simplified_renormalization(field, dx, dy, dz, direction=\"x\"):\n",
    "\n",
    "    cx_min, cx_max = find_c_3D(field, direction=direction, typ=\"min\", dx=dx, dy=dy, dz=dz), find_c_3D(field, direction=direction, typ=\"max\", dx=dx, dy=dy, dz=dz)\n",
    "    return keq(cx_min, cx_max, get_alpha(dx, dy, dz, direction=direction)) "
   ]
  },
  {
   "cell_type": "code",
   "execution_count": 19,
   "metadata": {},
   "outputs": [],
   "source": [
    "np.random.seed(15)\n",
    "# create a 2D field\n",
    "nx, ny, nz = 4, 4, 4\n",
    "dx, dy, dz = 1, 1, 1\n",
    "\n",
    "Lx = nx * dx\n",
    "Ly = ny * dy\n",
    "Lz = nz * dz\n",
    "field = 10**(np.random.rand(nx, ny, nz)*-4 + -4)\n"
   ]
  },
  {
   "cell_type": "code",
   "execution_count": 20,
   "metadata": {},
   "outputs": [
    {
     "name": "stdout",
     "output_type": "stream",
     "text": [
      "Kxx = 9.81E-06 m/s\n",
      "Kyy = 4.41E-06 m/s\n",
      "Kzz = 6.45E-06 m/s\n",
      "Arithmetic mean = 1.47E-05 m/s\n",
      "Harmonic mean = 1.42E-07 m/s\n",
      "Geometric mean = 2.14E-06 m/s\n"
     ]
    }
   ],
   "source": [
    "\n",
    "Kxx = simplified_renormalization(field, dx, dy, dz, direction=\"x\")\n",
    "Kyy = simplified_renormalization(field, dx, dy, dz, direction=\"y\")\n",
    "Kzz = simplified_renormalization(field, dx, dy, dz, direction=\"z\")\n",
    "print(\"Kxx = {:.2E} m/s\".format(Kxx))\n",
    "print(\"Kyy = {:.2E} m/s\".format(Kyy))\n",
    "print(\"Kzz = {:.2E} m/s\".format(Kzz))\n",
    "print(\"Arithmetic mean = {:.2E} m/s\".format(np.mean(field)))\n",
    "print(\"Harmonic mean = {:.2E} m/s\".format(1/np.mean(1/field)))\n",
    "print(\"Geometric mean = {:.2E} m/s\".format(np.exp(np.mean(np.log(field)))))"
   ]
  },
  {
   "cell_type": "markdown",
   "metadata": {},
   "source": [
    "## Standard renormalization"
   ]
  },
  {
   "cell_type": "code",
   "execution_count": null,
   "metadata": {},
   "outputs": [],
   "source": []
  },
  {
   "cell_type": "code",
   "execution_count": 115,
   "metadata": {},
   "outputs": [
    {
     "data": {
      "text/plain": [
       "array([[1, 2],\n",
       "       [3, 4]])"
      ]
     },
     "execution_count": 115,
     "metadata": {},
     "output_type": "execute_result"
    }
   ],
   "source": [
    "a[0]"
   ]
  },
  {
   "cell_type": "code",
   "execution_count": null,
   "metadata": {},
   "outputs": [],
   "source": [
    "# a_yy = np.rot90(a, k=-1)\n",
    "# a_zz = np.rot90(a, k=-1, axes=(0, 2))\n",
    "\n",
    "def get_idx (i):\n",
    "    \n",
    "    if i == 1:\n",
    "        idx = (0, 0, 0)\n",
    "    elif i == 2:\n",
    "        idx = (0, 0, 1)\n",
    "    elif i == 3:\n",
    "        idx = (0, 1, 0)\n",
    "    elif i == 4:\n",
    "        idx = (0, 1, 1)\n",
    "    elif i == 5:\n",
    "        idx = (1, 0, 0)\n",
    "    elif i == 6:\n",
    "        idx = (1, 0, 1)\n",
    "    elif i == 7:\n",
    "        idx = (1, 1, 0)\n",
    "    elif i == 8:\n",
    "        idx = (1, 1, 1)\n",
    "    \n",
    "    return idx\n",
    "\n",
    "def f_sr(kxx, kyy, kzz, dx, dy, dz, direction=\"x\"):\n",
    "\n",
    "    def b1(i, u):\n",
    "\n",
    "        idx = get_idx(i)\n",
    "\n",
    "        if u == \"x\":\n",
    "            du = dx\n",
    "            ku = kxx[idx]\n",
    "        elif u == \"y\":\n",
    "            du = dy\n",
    "            ku = kyy[idx]\n",
    "        elif u == \"z\":\n",
    "            du = dz\n",
    "            ku = kzz[idx]\n",
    "\n",
    "        return 2 * ku * (dx*dy*dz) / du**2\n",
    "\n",
    "    def b2(i, j, u):\n",
    "            \n",
    "        idx = get_idx(i)\n",
    "    \n",
    "        idx2 = get_idx(j)\n",
    "    \n",
    "        if u == \"x\":\n",
    "            du = dx\n",
    "            ku = kxx[idx]\n",
    "            ku2 = kxx[idx2]\n",
    "        elif u == \"y\":\n",
    "            du = dy\n",
    "            ku = kyy[idx]\n",
    "            ku2 = kyy[idx2]\n",
    "        elif u == \"z\":\n",
    "            du = dz\n",
    "            ku = kzz[idx]\n",
    "            ku2 = kzz[idx2]\n",
    "    \n",
    "            return (2 * ku * ku2) /(ku + ku2) * ((dx*dy*dz) / du**2)\n",
    "\n",
    "    def d(i, j, k, l):\n",
    "\n",
    "        return b1(i, \"x\") + b2(i, j, \"x\") + b2(i, k, \"y\") + b2(i, l, \"z\")\n",
    "\n"
   ]
  },
  {
   "cell_type": "code",
   "execution_count": null,
   "metadata": {},
   "outputs": [],
   "source": []
  },
  {
   "cell_type": "code",
   "execution_count": 21,
   "metadata": {},
   "outputs": [
    {
     "data": {
      "application/vnd.jupyter.widget-view+json": {
       "model_id": "ab485f6d330a417fb4c35fe811bc380d",
       "version_major": 2,
       "version_minor": 0
      },
      "text/plain": [
       "Widget(value='<iframe src=\"http://localhost:50954/index.html?ui=P_0x27bda0cb1d0_0&reconnect=auto\" class=\"pyvis…"
      ]
     },
     "metadata": {},
     "output_type": "display_data"
    }
   ],
   "source": [
    "import pyvista as pv\n",
    "\n",
    "# set pyvista backend local\n",
    "pv.set_jupyter_backend('client')\n",
    "\n",
    "# plot 3D plot of the field\n",
    "grid = pv.ImageData()\n",
    "\n",
    "grid.dimensions = np.array(field.shape) + 1\n",
    "grid.spacing = np.array([dx, dy, dz])\n",
    "grid.origin = (0, 0, 0)\n",
    "\n",
    "grid.cell_data[\"Permeability\"] = field.flatten(order=\"F\")\n",
    "\n",
    "grid.plot(show_scalar_bar=True, show_edges=True)\n"
   ]
  },
  {
   "cell_type": "code",
   "execution_count": 23,
   "metadata": {},
   "outputs": [
    {
     "data": {
      "application/vnd.jupyter.widget-view+json": {
       "model_id": "85a5229996a64f1eb450cd1d2a2c73d8",
       "version_major": 2,
       "version_minor": 0
      },
      "text/plain": [
       "Widget(value='<iframe src=\"http://localhost:50954/index.html?ui=P_0x27bde6e5c50_2&reconnect=auto\" class=\"pyvis…"
      ]
     },
     "metadata": {},
     "output_type": "display_data"
    }
   ],
   "source": [
    "import pyvista as pv\n",
    "\n",
    "# set pyvista backend local\n",
    "pv.set_jupyter_backend('client')\n",
    "\n",
    "# plot 3D plot of the field\n",
    "grid = pv.ImageData()\n",
    "\n",
    "grid.dimensions = np.array((1, 1, 1)) + 1\n",
    "grid.spacing = np.array([Lx, Ly, Lz])\n",
    "grid.origin = (0, 0, 0)\n",
    "\n",
    "grid.cell_data[\"Permeability\"] = Kxx\n",
    "\n",
    "p = pv.Plotter()\n",
    "p.add_mesh(grid, scalars=\"Permeability\", clim=[field.min(), field.max()], cmap=\"viridis\", show_edges=True)\n",
    "p.show()\n"
   ]
  },
  {
   "cell_type": "code",
   "execution_count": 108,
   "metadata": {},
   "outputs": [
    {
     "data": {
      "application/vnd.jupyter.widget-view+json": {
       "model_id": "5bb81206b9f348b6a8b54176f3cb1787",
       "version_major": 2,
       "version_minor": 0
      },
      "text/plain": [
       "Widget(value='<iframe src=\"http://localhost:50954/index.html?ui=P_0x27be2cab990_30&reconnect=auto\" class=\"pyvi…"
      ]
     },
     "metadata": {},
     "output_type": "display_data"
    },
    {
     "data": {
      "application/vnd.jupyter.widget-view+json": {
       "model_id": "fb484e858f534bfc88bf4271ac711bc4",
       "version_major": 2,
       "version_minor": 0
      },
      "text/plain": [
       "Widget(value='<iframe src=\"http://localhost:50954/index.html?ui=P_0x27be2dac950_31&reconnect=auto\" class=\"pyvi…"
      ]
     },
     "metadata": {},
     "output_type": "display_data"
    },
    {
     "data": {
      "application/vnd.jupyter.widget-view+json": {
       "model_id": "983048c5714c49b0ad29fed1792b739c",
       "version_major": 2,
       "version_minor": 0
      },
      "text/plain": [
       "Widget(value='<iframe src=\"http://localhost:50954/index.html?ui=P_0x27be3e0cad0_32&reconnect=auto\" class=\"pyvi…"
      ]
     },
     "metadata": {},
     "output_type": "display_data"
    }
   ],
   "source": [
    "# some investigations to see how to rotate a 2x2x2 field\n",
    "a = np.arange(1, 9).reshape(2, 2, 2)\n",
    "plot_field(a, cmap=\"jet\")\n",
    "plot_field(np.rot90(a, k=-1), cmap=\"jet\")\n",
    "plot_field(np.rot90(a, k=-1, axes=(0, 2)), cmap=\"jet\")"
   ]
  },
  {
   "cell_type": "code",
   "execution_count": null,
   "metadata": {},
   "outputs": [],
   "source": []
  }
 ],
 "metadata": {
  "kernelspec": {
   "display_name": "bebou",
   "language": "python",
   "name": "python3"
  },
  "language_info": {
   "codemirror_mode": {
    "name": "ipython",
    "version": 3
   },
   "file_extension": ".py",
   "mimetype": "text/x-python",
   "name": "python",
   "nbconvert_exporter": "python",
   "pygments_lexer": "ipython3",
   "version": "3.11.10"
  }
 },
 "nbformat": 4,
 "nbformat_minor": 2
}

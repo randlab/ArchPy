{
 "cells": [
  {
   "cell_type": "code",
   "execution_count": 2,
   "metadata": {},
   "outputs": [],
   "source": [
    "import numpy as np\n",
    "import matplotlib.pyplot as plt\n",
    "import geone\n",
    "import geone.covModel as gcm"
   ]
  },
  {
   "cell_type": "code",
   "execution_count": null,
   "metadata": {},
   "outputs": [],
   "source": [
    "# create functions to compute the equivalent permeability of a 2D field\n",
    "# This is done by computing the arithmetic mean / or the harmonic mean in the x and y directions sequentially until the final value is obtained\n",
    "\n",
    "def f_3D(a, direction=\"x\", typ=\"x\"):\n",
    "\n",
    "    \"\"\"\n",
    "    Function to operate a mean between two 2D fields from a 3D field\n",
    "\n",
    "    Parameters\n",
    "    ----------\n",
    "    a : 3D numpy array\n",
    "        The 3D field\n",
    "    direction : str\n",
    "        The direction of the mean to compute. Can be \"x\", \"y\" or \"z\"\n",
    "    type : str\n",
    "        \n",
    "    \"\"\"\n",
    "\n",
    "    if typ == \"y\":\n",
    "\n",
    "        v1 = a[:, ::2, :]\n",
    "        v2 = a[:, 1::2, :]\n",
    "\n",
    "    elif typ == \"x\":\n",
    "\n",
    "        v1 = a[:, :, ::2]\n",
    "        v2 = a[:, :, 1::2]\n",
    "\n",
    "    elif typ == \"z\":\n",
    "            \n",
    "            v1 = a[::2, :, :]\n",
    "            v2 = a[1::2, :, :]\n",
    "\n",
    "    if typ == direction:  # series\n",
    "        res = 1 / np.mean(1 / np.array([v1, v2]), axis=0)\n",
    "    else:\n",
    "        res = np.mean((v1, v2), axis=0)\n",
    "    \n",
    "    return res\n",
    "\n",
    "def test_f():\n",
    "\n",
    "    \"\"\"\n",
    "    Test the function f\n",
    "    \"\"\"\n",
    "    a = np.array([[[0.51394334, 0.77316505],\n",
    "                   [0.87042769, 0.00804695]],\n",
    "                  [[0.30973593, 0.95760374],\n",
    "                   [0.51311671, 0.31828442]]])\n",
    "\n",
    "    a1 = f_3D(a, direction=\"x\", typ=\"x\")\n",
    "    a2 = f_3D(a1, direction=\"x\", typ=\"z\")\n",
    "    a3 = f_3D(a2, direction=\"x\", typ=\"y\")\n",
    "    res = a3[0, 0, 0]\n",
    "    assert np.allclose(res, 0.3735857397539791)\n",
    "    \n",
    "    a1 = f_3D(a, direction=\"x\", typ=\"y\")\n",
    "    a2 = f_3D(a1, direction=\"x\", typ=\"z\")\n",
    "    a3 = f_3D(a2, direction=\"x\", typ=\"x\")\n",
    "    res = a3[0, 0, 0]\n",
    "    assert np.allclose(res, 0.5323798506575812)\n",
    "\n",
    "    print(\"Test passed\")\n",
    "\n",
    "\n",
    "# from numba import jit\n",
    "# @jit(nopython=True)\n",
    "def merge(v1, v2, w1, w2, normalize=True):\n",
    "    \n",
    "    \"\"\"\n",
    "    Function to merge two vectors v1 and v2 with weights w1 and w2\n",
    "    Is used here to merge two columns of different sizes\n",
    "    \"\"\"\n",
    "\n",
    "    if normalize:\n",
    "        sum_w = w1 + w2\n",
    "        w1 = w1 / sum_w\n",
    "        w2 = w2 / sum_w\n",
    "\n",
    "    return w1*v1 + w2*v2 - (w1*w2*(v1 - v2)**2)/(w1*v2 + w2*v1)"
   ]
  },
  {
   "cell_type": "code",
   "execution_count": null,
   "metadata": {},
   "outputs": [],
   "source": [
    "def f(x, y):\n",
    "    return (x**2 - y + 3*x- y**0.5)**2"
   ]
  },
  {
   "cell_type": "code",
   "execution_count": 153,
   "metadata": {},
   "outputs": [
    {
     "name": "stdout",
     "output_type": "stream",
     "text": [
      "480 ns ± 21.8 ns per loop (mean ± std. dev. of 7 runs, 1,000,000 loops each)\n"
     ]
    }
   ],
   "source": [
    "%%timeit\n",
    "f(1, 2)"
   ]
  },
  {
   "cell_type": "code",
   "execution_count": 157,
   "metadata": {},
   "outputs": [
    {
     "name": "stdout",
     "output_type": "stream",
     "text": [
      "0.3735857397539791\n",
      "0.5323798506575812\n"
     ]
    }
   ],
   "source": [
    "np.random.seed(14)\n",
    "\n",
    "a = np.random.rand(2, 2, 2)\n",
    "\n",
    "a1 = f_3D(a, direction=\"x\", typ=\"x\")\n",
    "a2 = f_3D(a1, direction=\"x\", typ=\"z\")\n",
    "a3 = f_3D(a2, direction=\"x\", typ=\"y\")\n",
    "print(a3[0, 0, 0])\n",
    "\n",
    "a1 = f_3D(a, direction=\"x\", typ=\"y\")\n",
    "a2 = f_3D(a1, direction=\"x\", typ=\"z\")\n",
    "a3 = f_3D(a2, direction=\"x\", typ=\"x\")\n",
    "print(a3[0, 0, 0])"
   ]
  },
  {
   "cell_type": "code",
   "execution_count": 143,
   "metadata": {},
   "outputs": [
    {
     "name": "stdout",
     "output_type": "stream",
     "text": [
      "Test passed\n"
     ]
    }
   ],
   "source": [
    "test_f()"
   ]
  },
  {
   "cell_type": "code",
   "execution_count": 175,
   "metadata": {},
   "outputs": [
    {
     "data": {
      "text/plain": [
       "(2, 4, 2)"
      ]
     },
     "execution_count": 175,
     "metadata": {},
     "output_type": "execute_result"
    }
   ],
   "source": [
    "np.hstack((a, a)).shape"
   ]
  },
  {
   "cell_type": "code",
   "execution_count": null,
   "metadata": {},
   "outputs": [],
   "source": [
    "def find_c_3D(k_field, direction=\"x\", typ=\"min\"):\n",
    "    \n",
    "    if typ == \"min\":\n",
    "        if direction == \"x\":\n",
    "            l_typ = [\"x\", \"y\", \"z\"]\n",
    "        elif direction == \"y\":\n",
    "            l_typ = [\"y\", \"x\", \"z\"]\n",
    "        elif direction == \"z\":\n",
    "            l_typ = [\"z\", \"x\", \"y\"]\n",
    "    elif typ == \"max\":\n",
    "        if direction == \"x\":\n",
    "            l_typ = [\"y\", \"z\", \"x\"]\n",
    "        elif direction == \"y\":\n",
    "            l_typ = [\"x\", \"z\", \"y\"]\n",
    "        elif direction == \"z\":\n",
    "            l_typ = [\"x\", \"y\", \"z\"]\n",
    "    \n",
    "    a = np.copy(k_field)\n",
    "    o = 0\n",
    "    while a.flatten().shape[0] > 1:\n",
    "        \n",
    "        # check if the number of elements is odd\n",
    "        rm_col = False\n",
    "        rm_row = False\n",
    "        rm_lay = False\n",
    "        sim = True\n",
    "        if l_typ[o] == \"x\":\n",
    "            if a.shape[2] > 1:\n",
    "                if a.shape[2] % 2 == 1:\n",
    "                    # remove the last column\n",
    "                    rm_col = a[:, :, -1]\n",
    "                    a = a[:, :, :-1]\n",
    "            else:\n",
    "                sim = False\n",
    "\n",
    "        elif l_typ[o] == \"y\":\n",
    "            if a.shape[1] > 1:\n",
    "                if a.shape[1] % 2 == 1:\n",
    "                    # remove the last row\n",
    "                    rm_row = a[:, -1, :]\n",
    "                    a = a[:, :-1, :]\n",
    "            else:\n",
    "                sim = False\n",
    "        elif l_typ[o] == \"z\":\n",
    "            if a.shape[0] > 1:\n",
    "                if a.shape[0] % 2 == 1:\n",
    "                    # remove the last layer\n",
    "                    rm_lay = a[-1, :, :]\n",
    "                    a = a[:-1, :, :]\n",
    "            else:\n",
    "                sim = False\n",
    "        if sim:\n",
    "            a = f_3D(a, direction=direction, typ=l_typ[o])\n",
    "\n",
    "        # merge the removed column, row or layer\n",
    "        if rm_col is not False:\n",
    "            new_col = merge(rm_col, a[:, :, -1], 1, 2)\n",
    "            a = np.dstack((a, new_col.reshape(a.shape[0], a.shape[1], 1)))\n",
    "        elif rm_row is not False:\n",
    "            new_row = merge(rm_row, a[:, -1, :], 1, 2)\n",
    "            a = np.hstack((a, new_row.reshape(a.shape[0], 1, a.shape[2])))\n",
    "        elif rm_lay is not False:\n",
    "            new_lay = merge(rm_lay, a[-1, :, :], 1, 2)\n",
    "            a = np.vstack((a, new_lay.reshape(1, a.shape[1], a.shape[2])))\n",
    "\n",
    "        o += 1\n",
    "        if o == 3:\n",
    "            o = 0\n",
    "    print(a)\n",
    "    return a[0, 0, 0]"
   ]
  },
  {
   "cell_type": "code",
   "execution_count": 218,
   "metadata": {},
   "outputs": [
    {
     "data": {
      "text/plain": [
       "array([[0.80802655, 0.81537842, 0.00955447],\n",
       "       [0.72833292, 0.50149933, 0.14661437],\n",
       "       [0.11131077, 0.49663784, 0.2763581 ]])"
      ]
     },
     "execution_count": 218,
     "metadata": {},
     "output_type": "execute_result"
    }
   ],
   "source": [
    "b[:, -1, :]"
   ]
  },
  {
   "cell_type": "code",
   "execution_count": 241,
   "metadata": {},
   "outputs": [
    {
     "name": "stdout",
     "output_type": "stream",
     "text": [
      "[[[0.37358574]]]\n"
     ]
    },
    {
     "data": {
      "text/plain": [
       "0.373585739753979"
      ]
     },
     "execution_count": 241,
     "metadata": {},
     "output_type": "execute_result"
    }
   ],
   "source": [
    "find_c_3D(a, direction=\"x\", typ=\"min\")"
   ]
  },
  {
   "cell_type": "code",
   "execution_count": 325,
   "metadata": {},
   "outputs": [
    {
     "ename": "IndexError",
     "evalue": "index -1 is out of bounds for axis 1 with size 0",
     "output_type": "error",
     "traceback": [
      "\u001b[1;31m---------------------------------------------------------------------------\u001b[0m",
      "\u001b[1;31mIndexError\u001b[0m                                Traceback (most recent call last)",
      "Cell \u001b[1;32mIn[325], line 2\u001b[0m\n\u001b[0;32m      1\u001b[0m b \u001b[38;5;241m=\u001b[39m np\u001b[38;5;241m.\u001b[39mrandom\u001b[38;5;241m.\u001b[39mrand(\u001b[38;5;241m2\u001b[39m, \u001b[38;5;241m1\u001b[39m, \u001b[38;5;241m1\u001b[39m)\n\u001b[1;32m----> 2\u001b[0m \u001b[43mfind_c_3D\u001b[49m\u001b[43m(\u001b[49m\u001b[43mb\u001b[49m\u001b[43m,\u001b[49m\u001b[43m \u001b[49m\u001b[43mdirection\u001b[49m\u001b[38;5;241;43m=\u001b[39;49m\u001b[38;5;124;43m\"\u001b[39;49m\u001b[38;5;124;43mx\u001b[39;49m\u001b[38;5;124;43m\"\u001b[39;49m\u001b[43m,\u001b[49m\u001b[43m \u001b[49m\u001b[43mtyp\u001b[49m\u001b[38;5;241;43m=\u001b[39;49m\u001b[38;5;124;43m\"\u001b[39;49m\u001b[38;5;124;43mmax\u001b[39;49m\u001b[38;5;124;43m\"\u001b[39;49m\u001b[43m)\u001b[49m\n",
      "Cell \u001b[1;32mIn[217], line 49\u001b[0m, in \u001b[0;36mfind_c_3D\u001b[1;34m(k_field, direction, typ)\u001b[0m\n\u001b[0;32m     47\u001b[0m     a \u001b[38;5;241m=\u001b[39m np\u001b[38;5;241m.\u001b[39mdstack((a, new_col\u001b[38;5;241m.\u001b[39mreshape(a\u001b[38;5;241m.\u001b[39mshape[\u001b[38;5;241m0\u001b[39m], a\u001b[38;5;241m.\u001b[39mshape[\u001b[38;5;241m1\u001b[39m], \u001b[38;5;241m1\u001b[39m)))\n\u001b[0;32m     48\u001b[0m \u001b[38;5;28;01melif\u001b[39;00m rm_row \u001b[38;5;129;01mis\u001b[39;00m \u001b[38;5;129;01mnot\u001b[39;00m \u001b[38;5;28;01mFalse\u001b[39;00m:\n\u001b[1;32m---> 49\u001b[0m     new_row \u001b[38;5;241m=\u001b[39m merge(rm_row, \u001b[43ma\u001b[49m\u001b[43m[\u001b[49m\u001b[43m:\u001b[49m\u001b[43m,\u001b[49m\u001b[43m \u001b[49m\u001b[38;5;241;43m-\u001b[39;49m\u001b[38;5;241;43m1\u001b[39;49m\u001b[43m,\u001b[49m\u001b[43m \u001b[49m\u001b[43m:\u001b[49m\u001b[43m]\u001b[49m, \u001b[38;5;241m1\u001b[39m, \u001b[38;5;241m2\u001b[39m)\n\u001b[0;32m     50\u001b[0m     a \u001b[38;5;241m=\u001b[39m np\u001b[38;5;241m.\u001b[39mhstack((a, new_row\u001b[38;5;241m.\u001b[39mreshape(a\u001b[38;5;241m.\u001b[39mshape[\u001b[38;5;241m0\u001b[39m], \u001b[38;5;241m1\u001b[39m, a\u001b[38;5;241m.\u001b[39mshape[\u001b[38;5;241m2\u001b[39m])))\n\u001b[0;32m     51\u001b[0m \u001b[38;5;28;01melif\u001b[39;00m rm_lay \u001b[38;5;129;01mis\u001b[39;00m \u001b[38;5;129;01mnot\u001b[39;00m \u001b[38;5;28;01mFalse\u001b[39;00m:\n",
      "\u001b[1;31mIndexError\u001b[0m: index -1 is out of bounds for axis 1 with size 0"
     ]
    }
   ],
   "source": [
    "b = np.random.rand(2, 1, 1)\n",
    "find_c_3D(b, direction=\"x\", typ=\"max\")"
   ]
  },
  {
   "cell_type": "code",
   "execution_count": 326,
   "metadata": {},
   "outputs": [
    {
     "data": {
      "text/plain": [
       "1"
      ]
     },
     "execution_count": 326,
     "metadata": {},
     "output_type": "execute_result"
    }
   ],
   "source": [
    "1 % 2"
   ]
  },
  {
   "cell_type": "code",
   "execution_count": null,
   "metadata": {},
   "outputs": [],
   "source": []
  },
  {
   "cell_type": "code",
   "execution_count": null,
   "metadata": {},
   "outputs": [],
   "source": []
  },
  {
   "cell_type": "code",
   "execution_count": null,
   "metadata": {},
   "outputs": [],
   "source": []
  },
  {
   "cell_type": "code",
   "execution_count": null,
   "metadata": {},
   "outputs": [],
   "source": []
  },
  {
   "cell_type": "code",
   "execution_count": null,
   "metadata": {},
   "outputs": [],
   "source": []
  }
 ],
 "metadata": {
  "kernelspec": {
   "display_name": "bebou",
   "language": "python",
   "name": "python3"
  },
  "language_info": {
   "codemirror_mode": {
    "name": "ipython",
    "version": 3
   },
   "file_extension": ".py",
   "mimetype": "text/x-python",
   "name": "python",
   "nbconvert_exporter": "python",
   "pygments_lexer": "ipython3",
   "version": "3.11.10"
  }
 },
 "nbformat": 4,
 "nbformat_minor": 2
}

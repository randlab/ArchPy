{
 "cells": [
  {
   "cell_type": "markdown",
   "metadata": {},
   "source": [
    "# Upscaling using Renormalization\n",
    "\n",
    "This notebook presents how to use renromalization to upscale a 3D field of hydraulic conductivity\n",
    "Three methods are used:\n",
    "- Simplified renormalization\n",
    "- Standard renormalization\n",
    "- Tensorial renormalization"
   ]
  },
  {
   "cell_type": "code",
   "execution_count": 1,
   "metadata": {},
   "outputs": [],
   "source": [
    "import numpy as np\n",
    "import matplotlib.pyplot as plt\n",
    "import geone\n",
    "import geone.covModel as gcm\n",
    "from numba import jit"
   ]
  },
  {
   "cell_type": "markdown",
   "metadata": {},
   "source": [
    "## Simplified renormalization"
   ]
  },
  {
   "cell_type": "code",
   "execution_count": 2,
   "metadata": {},
   "outputs": [],
   "source": [
    "@jit()\n",
    "def hmean(v1, v2, w1=1, w2=1):\n",
    "    return (w1 + w2) / (w1 / v1 + w2 / v2)\n",
    "\n",
    "@jit()\n",
    "def mean(v1, v2, w1=1, w2=1):\n",
    "    return (v1 * w1 + v2 * w2) / (w1 + w2)"
   ]
  },
  {
   "cell_type": "code",
   "execution_count": 3,
   "metadata": {},
   "outputs": [],
   "source": [
    "# create functions to compute the equivalent permeability of a 2D field\n",
    "# This is done by computing the arithmetic mean / or the harmonic mean in the x and y directions sequentially until the final value is obtained\n",
    "\n",
    "def f_3D(a, dx=None, dy=None, dz=None, direction=\"x\", typ=\"x\"):\n",
    "\n",
    "    \"\"\"\n",
    "    Function to operate a mean between two 2D fields from a 3D field\n",
    "\n",
    "    Parameters\n",
    "    ----------\n",
    "    a : 3D numpy array\n",
    "        The 3D field\n",
    "    direction : str\n",
    "        The direction of the mean to compute. Can be \"x\", \"y\" or \"z\"\n",
    "    type : str\n",
    "        The direction where fields are selected. Can be \"x\", \"y\" or \"z\"\n",
    "    \"\"\"\n",
    "\n",
    "    # initialize weights\n",
    "    w1 = 1\n",
    "    w2 = 1\n",
    "    new_dx = None\n",
    "    new_dy = None\n",
    "    new_dz = None\n",
    "\n",
    "    if typ == \"y\":\n",
    "\n",
    "        v1 = a[:, ::2, :]\n",
    "        v2 = a[:, 1::2, :]\n",
    "        if dy is not None:\n",
    "            w1 = dy[:, ::2, :]\n",
    "            w2 = dy[:, 1::2, :]\n",
    "            new_dy = w1 + w2\n",
    "            new_dx = dx[:, ::2, :]\n",
    "            new_dz = dz[:, ::2, :]\n",
    "\n",
    "    elif typ == \"x\":\n",
    "\n",
    "        v1 = a[:, :, ::2]\n",
    "        v2 = a[:, :, 1::2]\n",
    "        if dx is not None:\n",
    "            w1 = dx[:, :, ::2]\n",
    "            w2 = dx[:, :, 1::2]\n",
    "            new_dx = w1 + w2\n",
    "            new_dy = dy[:, :, ::2]\n",
    "            new_dz = dz[:, :, ::2]\n",
    "\n",
    "    elif typ == \"z\":\n",
    "            \n",
    "        v1 = a[::2, :, :]\n",
    "        v2 = a[1::2, :, :]\n",
    "        if dz is not None:\n",
    "            w1 = dz[::2, :, :]\n",
    "            w2 = dz[1::2, :, :]\n",
    "            new_dz = w1 + w2\n",
    "            new_dx = dx[::2, :, :]\n",
    "            new_dy = dy[::2, :, :]\n",
    "\n",
    "\n",
    "    if typ == direction:  # series\n",
    "        res = hmean(v1, v2, w1=w1, w2=w2)\n",
    "    else:\n",
    "        res = mean(v1, v2, w1=w1, w2=w2)\n",
    "    \n",
    "    return res, new_dx, new_dy, new_dz\n",
    "\n",
    "def test_f():\n",
    "\n",
    "    \"\"\"\n",
    "    Test the function f\n",
    "    \"\"\"\n",
    "    a = np.array([[[0.51394334, 0.77316505],\n",
    "                   [0.87042769, 0.00804695]],\n",
    "                  [[0.30973593, 0.95760374],\n",
    "                   [0.51311671, 0.31828442]]])\n",
    "\n",
    "    a1 = f_3D(a, direction=\"x\", typ=\"x\")[0]\n",
    "    a2 = f_3D(a1, direction=\"x\", typ=\"z\")[0]\n",
    "    a3 = f_3D(a2, direction=\"x\", typ=\"y\")[0]\n",
    "    res = a3[0, 0, 0]\n",
    "    assert np.allclose(res, 0.3735857397539791)\n",
    "    \n",
    "    a1 = f_3D(a, direction=\"x\", typ=\"y\")[0]\n",
    "    a2 = f_3D(a1, direction=\"x\", typ=\"z\")[0]\n",
    "    a3 = f_3D(a2, direction=\"x\", typ=\"x\")[0]\n",
    "    res = a3[0, 0, 0]\n",
    "    assert np.allclose(res, 0.5323798506575812)\n",
    "\n",
    "    print(\"Test passed\")\n",
    "\n",
    "\n",
    "# from numba import jit\n",
    "# @jit(nopython=True)\n",
    "def merge(v1, v2, w1, w2, normalize=True):\n",
    "    \n",
    "    \"\"\"\n",
    "    Function to merge two vectors v1 and v2 with weights w1 and w2\n",
    "    Is used here to merge two columns of different sizes\n",
    "    \"\"\"\n",
    "\n",
    "    if normalize:\n",
    "        sum_w = w1 + w2\n",
    "        w1 = w1 / sum_w\n",
    "        w2 = w2 / sum_w\n",
    "\n",
    "    return w1*v1 + w2*v2 - (w1*w2*(v1 - v2)**2)/(w1*v2 + w2*v1)"
   ]
  },
  {
   "cell_type": "code",
   "execution_count": 4,
   "metadata": {},
   "outputs": [
    {
     "data": {
      "text/plain": [
       "array([[[0.66188498],\n",
       "        [0.01201489]],\n",
       "\n",
       "       [[0.56421699],\n",
       "        [0.3644066 ]]])"
      ]
     },
     "execution_count": 4,
     "metadata": {},
     "output_type": "execute_result"
    }
   ],
   "source": [
    "np.random.seed(14)\n",
    "a = np.random.rand(2, 2, 2)\n",
    "\n",
    "dx = np.ones((2, 2, 2)) \n",
    "dx[:, :, -1] = 2\n",
    "a1, ndx, ndy, ndz = f_3D(a, direction=\"x\", typ=\"x\", dx=dx, dy=np.ones((2, 2, 2)), dz=np.ones((2, 2, 2)))\n",
    "a1"
   ]
  },
  {
   "cell_type": "code",
   "execution_count": 5,
   "metadata": {},
   "outputs": [
    {
     "name": "stdout",
     "output_type": "stream",
     "text": [
      "0.3735857397539791\n",
      "0.5323798506575812\n"
     ]
    }
   ],
   "source": [
    "np.random.seed(14)\n",
    "\n",
    "a = np.random.rand(2, 2, 2)\n",
    "\n",
    "a1 = f_3D(a, direction=\"x\", typ=\"x\")\n",
    "a2 = f_3D(a1[0], direction=\"x\", typ=\"z\")\n",
    "a3 = f_3D(a2[0], direction=\"x\", typ=\"y\")\n",
    "print(a3[0][0, 0, 0])\n",
    "\n",
    "a1 = f_3D(a, direction=\"x\", typ=\"y\")\n",
    "a2 = f_3D(a1[0], direction=\"x\", typ=\"z\")\n",
    "a3 = f_3D(a2[0], direction=\"x\", typ=\"x\")\n",
    "print(a3[0][0, 0, 0])"
   ]
  },
  {
   "cell_type": "code",
   "execution_count": 6,
   "metadata": {},
   "outputs": [
    {
     "name": "stdout",
     "output_type": "stream",
     "text": [
      "Test passed\n"
     ]
    }
   ],
   "source": [
    "test_f()"
   ]
  },
  {
   "cell_type": "code",
   "execution_count": 7,
   "metadata": {},
   "outputs": [],
   "source": [
    "def find_c_3D(k_field, direction=\"x\", typ=\"min\", dx=None, dy=None, dz=None):\n",
    "    \n",
    "    if typ == \"min\":\n",
    "        if direction == \"x\":\n",
    "            l_typ = [\"x\", \"y\", \"z\"]\n",
    "        elif direction == \"y\":\n",
    "            l_typ = [\"y\", \"x\", \"z\"]\n",
    "        elif direction == \"z\":\n",
    "            l_typ = [\"z\", \"x\", \"y\"]\n",
    "    elif typ == \"max\":\n",
    "        if direction == \"x\":\n",
    "            l_typ = [\"y\", \"z\", \"x\"]\n",
    "        elif direction == \"y\":\n",
    "            l_typ = [\"x\", \"z\", \"y\"]\n",
    "        elif direction == \"z\":\n",
    "            l_typ = [\"x\", \"y\", \"z\"]\n",
    "\n",
    "    # if dx, dy and dz are None, set them to 1\n",
    "    if dx is None:\n",
    "        dx = 1\n",
    "    if dy is None:\n",
    "        dy = 1\n",
    "    if dz is None:\n",
    "        dz = 1\n",
    "\n",
    "    # if dx and dy are provided as a scalar, set them to an array of the same shape as k_field\n",
    "    if isinstance(dx, (int, float)):\n",
    "        dx = np.ones(k_field.shape) * dx\n",
    "    if isinstance(dy, (int, float)):\n",
    "        dy = np.ones(k_field.shape) * dy\n",
    "    if isinstance(dz, (int, float)):\n",
    "        dz = np.ones(k_field.shape) * dz\n",
    "\n",
    "    a = np.copy(k_field)\n",
    "    o = 0\n",
    "    while a.flatten().shape[0] > 1:\n",
    "        # print(\"dx:\", dx)\n",
    "        # print(\"dy:\", dy)\n",
    "        # print(\"dz:\", dz)\n",
    "        # print(\"asdf\", a)\n",
    "        # check if the number of elements is odd\n",
    "        rm_col = False\n",
    "        rm_row = False\n",
    "        rm_lay = False\n",
    "        rm_dx = None\n",
    "        rm_dy = None\n",
    "        rm_dz = None\n",
    "        sim = True\n",
    "        if l_typ[o] == \"x\":\n",
    "            if a.shape[2] > 1:\n",
    "                if a.shape[2] % 2 == 1:\n",
    "                    # remove the last column\n",
    "                    rm_col = a[:, :, -1]\n",
    "                    a = a[:, :, :-1]\n",
    "                    rm_dx = dx[:, :, -1]\n",
    "                    dx = dx[:, :, :-1]\n",
    "                    rm_dy = dy[:, :, -1]\n",
    "                    dy = dy[:, :, :-1]\n",
    "                    rm_dz = dz[:, :, -1]\n",
    "                    dz = dz[:, :, :-1]\n",
    "            else:\n",
    "                sim = False\n",
    "\n",
    "        elif l_typ[o] == \"y\":\n",
    "            if a.shape[1] > 1:\n",
    "                if a.shape[1] % 2 == 1:\n",
    "                    # remove the last row\n",
    "                    rm_row = a[:, -1, :]\n",
    "                    a = a[:, :-1, :]\n",
    "                    rm_dx = dx[:, -1, :]\n",
    "                    dx = dx[:, :-1, :]\n",
    "                    rm_dy = dy[:, -1, :]\n",
    "                    dy = dy[:, :-1, :]\n",
    "                    rm_dz = dz[:, -1, :]\n",
    "                    dz = dz[:, :-1, :]\n",
    "            else:\n",
    "                sim = False\n",
    "\n",
    "        elif l_typ[o] == \"z\":\n",
    "            if a.shape[0] > 1:\n",
    "                if a.shape[0] % 2 == 1:\n",
    "                    # remove the last layer\n",
    "                    rm_lay = a[-1, :, :]\n",
    "                    a = a[:-1, :, :]\n",
    "                    rm_dx = dx[-1, :, :]\n",
    "                    dx = dx[:-1, :, :]\n",
    "                    rm_dy = dy[-1, :, :]\n",
    "                    dy = dy[:-1, :, :]\n",
    "                    rm_dz = dz[-1, :, :]\n",
    "                    dz = dz[:-1, :, :]\n",
    "            else:\n",
    "                sim = False\n",
    "        if sim:\n",
    "            a, dx, dy, dz = f_3D(a, direction=direction, typ=l_typ[o], dx=dx, dy=dy, dz=dz)\n",
    "\n",
    "        # merge the removed column, row or layer\n",
    "        if rm_col is not False:\n",
    "            # new_col = merge(rm_col, a[:, :, -1], 1, 2)\n",
    "            a = np.dstack((a, rm_col.reshape(a.shape[0], a.shape[1], 1)))\n",
    "            dx = np.dstack((dx, rm_dx.reshape(dx.shape[0], dx.shape[1], 1)))\n",
    "            dy = np.dstack((dy, rm_dy.reshape(dy.shape[0], dy.shape[1], 1)))\n",
    "            dz = np.dstack((dz, rm_dz.reshape(dz.shape[0], dz.shape[1], 1)))\n",
    "        elif rm_row is not False:\n",
    "            # new_row = merge(rm_row, a[:, -1, :], 1, 2)\n",
    "            a = np.hstack((a, rm_row.reshape(a.shape[0], 1, a.shape[2])))\n",
    "            dx = np.hstack((dx, rm_dx.reshape(dx.shape[0], 1, dx.shape[2])))\n",
    "            dy = np.hstack((dy, rm_dy.reshape(dy.shape[0], 1, dy.shape[2])))\n",
    "            dz = np.hstack((dz, rm_dz.reshape(dz.shape[0], 1, dz.shape[2])))\n",
    "        elif rm_lay is not False:\n",
    "            # new_lay = merge(rm_lay, a[-1, :, :], 1, 2)\n",
    "            a = np.vstack((a, rm_lay.reshape(1, a.shape[1], a.shape[2])))\n",
    "            dx = np.vstack((dx, rm_dx.reshape(1, dx.shape[1], dx.shape[2])))\n",
    "            dy = np.vstack((dy, rm_dy.reshape(1, dy.shape[1], dy.shape[2])))\n",
    "            dz = np.vstack((dz, rm_dz.reshape(1, dz.shape[1], dz.shape[2])))\n",
    "\n",
    "        o += 1\n",
    "        if o == 3:\n",
    "            o = 0\n",
    "\n",
    "    return a[0, 0, 0]"
   ]
  },
  {
   "cell_type": "code",
   "execution_count": 8,
   "metadata": {},
   "outputs": [],
   "source": [
    "def plot_field(field, cmap=\"viridis\"):\n",
    "\n",
    "    # set pyvista backend local\n",
    "    pv.set_jupyter_backend('client')\n",
    "\n",
    "    # plot 3D plot of the field\n",
    "    grid = pv.ImageData()\n",
    "\n",
    "    grid.dimensions = np.array(field.shape) + 1\n",
    "    grid.spacing = np.array([1, 1, 1])\n",
    "    grid.origin = (0, 0, 0)\n",
    "\n",
    "    grid.cell_data[\"Permeability\"] = field.flatten(order=\"F\")\n",
    "\n",
    "    grid.plot(show_scalar_bar=True, show_edges=True, cmap=cmap)"
   ]
  },
  {
   "cell_type": "code",
   "execution_count": 9,
   "metadata": {},
   "outputs": [
    {
     "data": {
      "text/plain": [
       "0.40063086286875327"
      ]
     },
     "execution_count": 9,
     "metadata": {},
     "output_type": "execute_result"
    }
   ],
   "source": [
    "\n",
    "dx = np.ones((2, 2, 2)) \n",
    "dx[:, :, -1] = 2\n",
    "find_c_3D(a, direction=\"x\", typ=\"min\", dx=dx, dy=1, dz=1)"
   ]
  },
  {
   "cell_type": "code",
   "execution_count": 10,
   "metadata": {},
   "outputs": [
    {
     "data": {
      "text/plain": [
       "array([[0.51394334, 0.87042769],\n",
       "       [0.30973593, 0.51311671]])"
      ]
     },
     "execution_count": 10,
     "metadata": {},
     "output_type": "execute_result"
    }
   ],
   "source": [
    "a[:, :, 0]"
   ]
  },
  {
   "cell_type": "code",
   "execution_count": 11,
   "metadata": {},
   "outputs": [
    {
     "data": {
      "text/plain": [
       "array([[[0.51394334, 0.77316505],\n",
       "        [0.87042769, 0.00804695]],\n",
       "\n",
       "       [[0.30973593, 0.95760374],\n",
       "        [0.51311671, 0.31828442]]])"
      ]
     },
     "execution_count": 11,
     "metadata": {},
     "output_type": "execute_result"
    }
   ],
   "source": [
    "a"
   ]
  },
  {
   "cell_type": "code",
   "execution_count": 12,
   "metadata": {},
   "outputs": [],
   "source": [
    "def test_find_c():\n",
    "\n",
    "    b = np.array([[[0.51394334, 0.77316505, 0.87042769],\n",
    "        [0.00804695, 0.30973593, 0.95760374],\n",
    "        [0.51311671, 0.31828442, 0.53919994]],\n",
    "\n",
    "       [[0.22125494, 0.80648136, 0.34225463],\n",
    "        [0.53888885, 0.00587379, 0.67315248],\n",
    "        [0.21002426, 0.93255759, 0.37424475]],\n",
    "\n",
    "       [[0.75241892, 0.763139  , 0.87049946],\n",
    "        [0.11011118, 0.30009198, 0.47490577],\n",
    "        [0.67293672, 0.25759243, 0.70115132]]])\n",
    "\n",
    "    cmin = find_c_3D(b, direction=\"x\", typ=\"min\", dx=1, dy=1, dz=1)\n",
    "    cmax = find_c_3D(b, direction=\"x\", typ=\"max\", dx=1, dy=1, dz=1)\n",
    "    assert np.allclose(cmin, 0.3914114)\n",
    "    assert np.allclose(cmax, 0.47437664)\n",
    "\n",
    "    print(\"Test passed\")"
   ]
  },
  {
   "cell_type": "code",
   "execution_count": 13,
   "metadata": {},
   "outputs": [
    {
     "name": "stdout",
     "output_type": "stream",
     "text": [
      "Test passed\n"
     ]
    }
   ],
   "source": [
    "test_find_c()"
   ]
  },
  {
   "cell_type": "code",
   "execution_count": 14,
   "metadata": {},
   "outputs": [
    {
     "data": {
      "text/plain": [
       "0.3320330491045114"
      ]
     },
     "execution_count": 14,
     "metadata": {},
     "output_type": "execute_result"
    }
   ],
   "source": [
    "np.random.seed(15)\n",
    "b = np.random.rand(3, 3, 3)\n",
    "find_c_3D(b, direction=\"x\", typ=\"min\")"
   ]
  },
  {
   "cell_type": "code",
   "execution_count": 15,
   "metadata": {},
   "outputs": [
    {
     "data": {
      "text/plain": [
       "0.41554160805609713"
      ]
     },
     "execution_count": 15,
     "metadata": {},
     "output_type": "execute_result"
    }
   ],
   "source": [
    "find_c_3D(b, direction=\"x\", typ=\"max\")"
   ]
  },
  {
   "cell_type": "code",
   "execution_count": 16,
   "metadata": {},
   "outputs": [],
   "source": [
    "np.random.seed(1312)\n",
    "\n",
    "# create a 2D field\n",
    "nx, ny, nz = 4, 4, 4\n",
    "dx, dy, dz = 1, 1, 1\n",
    "\n",
    "l_c = []\n",
    "l_c2 = []\n",
    "for i in range(4000):\n",
    "    field = 10**(np.random.rand(nx, ny, nz)*-2 + -3)\n",
    "    c_x_min = find_c_3D(field, direction=\"x\", typ=\"min\")\n",
    "    c_x_max = find_c_3D(field, direction=\"x\", typ=\"max\")\n",
    "    l_c.append((c_x_min, c_x_max))\n",
    "    am = np.mean(field)\n",
    "    hm = 1/ np.mean(1/field)\n",
    "    l_c2.append((am, hm))"
   ]
  },
  {
   "cell_type": "code",
   "execution_count": 17,
   "metadata": {},
   "outputs": [
    {
     "data": {
      "image/png": "[encoded data removed]",
      "text/plain": [
       "<Figure size 640x480 with 1 Axes>"
      ]
     },
     "metadata": {},
     "output_type": "display_data"
    }
   ],
   "source": [
    "plt.hist(np.log10(np.array(l_c)), bins=30)\n",
    "plt.hist(np.log10(np.array(l_c2)), bins=30)\n",
    "plt.show()"
   ]
  },
  {
   "cell_type": "code",
   "execution_count": 343,
   "metadata": {},
   "outputs": [],
   "source": [
    "# now keq is a function of cmin and cmax according to keq = cmax**alpha*(cmin)**(1-alpha)\n",
    "def get_alpha(dx, dy, dz=None, direction=\"x\"):\n",
    "    \n",
    "    def f_u(t):\n",
    "        return np.arctan(np.sqrt(t)) / (np.pi/2)\n",
    "\n",
    "    if dz is None:\n",
    "        if direction == \"x\":\n",
    "            a = dx/dy\n",
    "        elif direction == \"y\":\n",
    "            a = dy/dx\n",
    "        \n",
    "        u = f_u(a)\n",
    "        return u\n",
    "\n",
    "    if direction == \"x\":\n",
    "        a_1 = dx/dy\n",
    "        a_2 = dx/dz\n",
    "    elif direction == \"y\":\n",
    "        a_1 = dy/dx\n",
    "        a_2 = dy/dz\n",
    "    elif direction == \"z\":\n",
    "        a_1 = dz/dx\n",
    "        a_2 = dz/dy\n",
    "        \n",
    "    u_1 = f_u(a_1)\n",
    "    u_2 = f_u(a_2)\n",
    "\n",
    "    return ((u_1 + u_2) - 2*u_1*u_2) / (1 - u_1*u_2)\n",
    "    \n",
    "def keq(cmin, cmax, alpha):\n",
    "\n",
    "    res = (np.abs(cmax)**alpha)*np.abs(cmin)**(1-alpha)\n",
    "    if cmax and cmin < 0:\n",
    "        res = -res\n",
    "\n",
    "    return res"
   ]
  },
  {
   "cell_type": "code",
   "execution_count": 344,
   "metadata": {},
   "outputs": [],
   "source": [
    "def simplified_renormalization(field, dx, dy, dz, direction=\"x\"):\n",
    "\n",
    "    cx_min, cx_max = find_c_3D(field, direction=direction, typ=\"min\", dx=dx, dy=dy, dz=dz), find_c_3D(field, direction=direction, typ=\"max\", dx=dx, dy=dy, dz=dz)\n",
    "    return keq(cx_min, cx_max, get_alpha(dx, dy, dz, direction=direction)) "
   ]
  },
  {
   "cell_type": "code",
   "execution_count": 345,
   "metadata": {},
   "outputs": [],
   "source": [
    "np.random.seed(15)\n",
    "# create a 2D field\n",
    "nx, ny, nz = 4, 4, 4\n",
    "dx, dy, dz = 1, 1, 1\n",
    "\n",
    "Lx = nx * dx\n",
    "Ly = ny * dy\n",
    "Lz = nz * dz\n",
    "field = 10**(np.random.rand(nx, ny, nz)*-4 + -4)\n"
   ]
  },
  {
   "cell_type": "code",
   "execution_count": 346,
   "metadata": {},
   "outputs": [
    {
     "name": "stdout",
     "output_type": "stream",
     "text": [
      "Kxx = 9.81E-06 m/s\n",
      "Kyy = 4.41E-06 m/s\n",
      "Kzz = 6.45E-06 m/s\n",
      "Arithmetic mean = 1.47E-05 m/s\n",
      "Harmonic mean = 1.42E-07 m/s\n",
      "Geometric mean = 2.14E-06 m/s\n"
     ]
    }
   ],
   "source": [
    "\n",
    "Kxx = simplified_renormalization(field, dx, dy, dz, direction=\"x\")\n",
    "Kyy = simplified_renormalization(field, dx, dy, dz, direction=\"y\")\n",
    "Kzz = simplified_renormalization(field, dx, dy, dz, direction=\"z\")\n",
    "print(\"Kxx = {:.2E} m/s\".format(Kxx))\n",
    "print(\"Kyy = {:.2E} m/s\".format(Kyy))\n",
    "print(\"Kzz = {:.2E} m/s\".format(Kzz))\n",
    "print(\"Arithmetic mean = {:.2E} m/s\".format(np.mean(field)))\n",
    "print(\"Harmonic mean = {:.2E} m/s\".format(1/np.mean(1/field)))\n",
    "print(\"Geometric mean = {:.2E} m/s\".format(np.exp(np.mean(np.log(field)))))"
   ]
  },
  {
   "cell_type": "markdown",
   "metadata": {},
   "source": [
    "## Standard renormalization"
   ]
  },
  {
   "cell_type": "code",
   "execution_count": 347,
   "metadata": {},
   "outputs": [
    {
     "data": {
      "text/plain": [
       "9.806279154363127e-06"
      ]
     },
     "execution_count": 347,
     "metadata": {},
     "output_type": "execute_result"
    }
   ],
   "source": [
    "Kxx"
   ]
  },
  {
   "cell_type": "code",
   "execution_count": 22,
   "metadata": {},
   "outputs": [
    {
     "data": {
      "text/plain": [
       "array([[0.51394334, 0.77316505],\n",
       "       [0.87042769, 0.00804695]])"
      ]
     },
     "execution_count": 22,
     "metadata": {},
     "output_type": "execute_result"
    }
   ],
   "source": [
    "a[0]"
   ]
  },
  {
   "cell_type": "code",
   "execution_count": 23,
   "metadata": {},
   "outputs": [],
   "source": [
    "a = 1\n",
    "b= 2\n",
    "a, b = b, a"
   ]
  },
  {
   "cell_type": "code",
   "execution_count": 24,
   "metadata": {},
   "outputs": [
    {
     "data": {
      "text/plain": [
       "2"
      ]
     },
     "execution_count": 24,
     "metadata": {},
     "output_type": "execute_result"
    }
   ],
   "source": [
    "a"
   ]
  },
  {
   "cell_type": "code",
   "execution_count": 25,
   "metadata": {},
   "outputs": [],
   "source": [
    "# a_yy = np.rot90(a, k=-1)\n",
    "# a_zz = np.rot90(a, k=-1, axes=(0, 2))\n",
    "\n",
    "def get_idx (i):\n",
    "    \n",
    "    if i == 1:\n",
    "        idx = (0, 0, 0)\n",
    "    elif i == 2:\n",
    "        idx = (0, 0, 1)\n",
    "    elif i == 3:\n",
    "        idx = (0, 1, 0)\n",
    "    elif i == 4:\n",
    "        idx = (0, 1, 1)\n",
    "    elif i == 5:\n",
    "        idx = (1, 0, 0)\n",
    "    elif i == 6:\n",
    "        idx = (1, 0, 1)\n",
    "    elif i == 7:\n",
    "        idx = (1, 1, 0)\n",
    "    elif i == 8:\n",
    "        idx = (1, 1, 1)\n",
    "    \n",
    "    return idx\n",
    "\n",
    "def f_sr(kxx, kyy, kzz, dx, dy, dz, direction=\"x\"):\n",
    "\n",
    "    if direction == \"x\":    \n",
    "        pass\n",
    "    elif direction == \"y\":\n",
    "        # rotate the fields\n",
    "        kxx = np.rot90(kxx, k=-1, axes=(1, 2))\n",
    "        kyy = np.rot90(kyy, k=-1, axes=(1, 2))\n",
    "        kzz = np.rot90(kzz, k=-1, axes=(1, 2))\n",
    "        # adjust the dx and dy\n",
    "        dx, dy = dy, dx\n",
    "    elif direction == \"z\":\n",
    "        # rotate the fields\n",
    "        kxx = np.rot90(kxx, k=-1, axes=(0, 2))\n",
    "        kyy = np.rot90(kyy, k=-1, axes=(0, 2))\n",
    "        kzz = np.rot90(kzz, k=-1, axes=(0, 2))\n",
    "        # adjust the dx and dz\n",
    "        dx, dz = dz, dx\n",
    "        \n",
    "    def b1(i, u):\n",
    "\n",
    "        idx = get_idx(i)\n",
    "\n",
    "        if u == \"x\":\n",
    "            du = dx\n",
    "            ku = kxx[idx]\n",
    "        elif u == \"y\":\n",
    "            du = dy\n",
    "            ku = kyy[idx]\n",
    "        elif u == \"z\":\n",
    "            du = dz\n",
    "            ku = kzz[idx]\n",
    "\n",
    "        return 2 * ku * (dx*dy*dz) / du**2\n",
    "\n",
    "    def b2(i, j, u):\n",
    "            \n",
    "        idx = get_idx(i)\n",
    "    \n",
    "        idx2 = get_idx(j)\n",
    "    \n",
    "        if u == \"x\":\n",
    "            du = dx\n",
    "            ku = kxx[idx]\n",
    "            ku2 = kxx[idx2]\n",
    "        elif u == \"y\":\n",
    "            du = dy\n",
    "            ku = kyy[idx]\n",
    "            ku2 = kyy[idx2]\n",
    "        elif u == \"z\":\n",
    "            du = dz\n",
    "            ku = kzz[idx]\n",
    "            ku2 = kzz[idx2]\n",
    "    \n",
    "        return (2 * ku * ku2) /(ku + ku2) * ((dx*dy*dz) / du**2)\n",
    "\n",
    "    def d(i, j, k, l):\n",
    "        return b1(i, \"x\") + b2(i, j, \"x\") + b2(i, k, \"y\") + b2(i, l, \"z\")\n",
    "\n",
    "\n",
    "    A = np.array(\n",
    "        [\n",
    "            [d(1, 2, 3, 5), -b2(1, 2, \"x\"), -b2(1, 3, \"y\"), 0, -b2(1, 5, \"z\"), 0, 0, 0],\n",
    "            [-b2(2, 1, \"x\"), d(2, 1, 4, 6), 0, -b2(2, 4, \"y\"), 0, -b2(2, 6, \"z\"), 0, 0],\n",
    "            [-b2(3, 1, \"y\"), 0, d(3, 1, 4, 7), -b2(3, 4, \"x\"), 0, 0, -b2(3, 7, \"z\"), 0],\n",
    "            [0, -b2(4, 2, \"y\"), -b2(4, 3, \"x\"), d(4, 3, 2, 8), 0, 0, 0, -b2(4, 8, \"z\")],\n",
    "            [-b2(5, 1, \"z\"), 0, 0, 0, d(5, 6, 7, 1), -b2(5, 6, \"x\"), -b2(5, 7, \"y\"), 0],\n",
    "            [0, -b2(6, 2, \"z\"), 0, 0, -b2(6, 5, \"x\"), d(6, 5, 8, 2), 0, -b2(6, 8, \"y\")],\n",
    "            [0, 0, -b2(7, 3, \"z\"), 0, -b2(7, 5, \"y\"), 0, d(7, 8, 5, 3), -b2(7, 8, \"x\")],\n",
    "            [0, 0, 0, -b2(8, 4, \"z\"), 0, -b2(8, 6, \"y\"), -b2(8, 7, \"x\"), d(8, 7, 6, 4)]\n",
    "        ])\n",
    "    \n",
    "    b = np.array([b1(1, \"x\"), 0, b1(3, \"x\"), 0, b1(5, \"x\"), 0, b1(7, \"x\"), 0])\t\n",
    "\n",
    "    h = np.linalg.solve(A, b)\n",
    "    K = (h[1::2] * kxx[:, :, -1].flatten()).sum()\n",
    "\n",
    "    return K\n"
   ]
  },
  {
   "cell_type": "code",
   "execution_count": 26,
   "metadata": {},
   "outputs": [],
   "source": [
    "# standard renormalization with direct scheme\n",
    "def f_sr_center(kxx, kyy, kzz, dx, dy, dz):\n",
    "\n",
    "    def b1(i, u):\n",
    "\n",
    "        idx = get_idx(i)\n",
    "\n",
    "        if u == \"x\":\n",
    "            du = dx\n",
    "            ku = kxx[idx]\n",
    "        elif u == \"y\":\n",
    "            du = dy\n",
    "            ku = kyy[idx]\n",
    "        elif u == \"z\":\n",
    "            du = dz\n",
    "            ku = kzz[idx]\n",
    "\n",
    "        return 2 * ku * (dx*dy*dz) / du**2\n",
    "\n",
    "    def b2(i, j, u):\n",
    "            \n",
    "        idx = get_idx(i)\n",
    "    \n",
    "        idx2 = get_idx(j)\n",
    "    \n",
    "        if u == \"x\":\n",
    "            du = dx\n",
    "            ku = kxx[idx]\n",
    "            ku2 = kxx[idx2]\n",
    "        elif u == \"y\":\n",
    "            du = dy\n",
    "            ku = kyy[idx]\n",
    "            ku2 = kyy[idx2]\n",
    "        elif u == \"z\":\n",
    "            du = dz\n",
    "            ku = kzz[idx]\n",
    "            ku2 = kzz[idx2]\n",
    "    \n",
    "        return (2 * ku * ku2) /(ku + ku2) * ((dx*dy*dz) / du**2)\n",
    "\n",
    "    # Kxx\n",
    "    def d(i, j, k, l):\n",
    "        return b1(i, \"x\") + b1(j, \"x\") + b1(k, \"y\") + b1(l, \"z\")\n",
    "\n",
    "    A = np.array([[d(2, 1, 2, 2), -b1(2, \"y\"), -b1(2, \"z\"), 0],\n",
    "                  [-b1(2, \"y\"), d(4, 3, 2, 4), 0, -b1(4, \"z\")],\n",
    "                  [-b1(2, \"z\"), 0, d(6, 5, 6, 2), -b1(6, \"y\")],\n",
    "                  [0, -b1(4, \"z\"), -b1(6, \"y\"), d(8, 7, 6, 4)]])\n",
    "\n",
    "    b = np.array([b1(1, \"x\"), b1(3, \"x\"), b1(5, \"x\"), b1(7, \"x\")])\n",
    "\n",
    "    h = np.linalg.solve(A, b)\n",
    "    Kxx = 0.5 * (h * kxx[:, :, -1].flatten()).sum()\n",
    "\n",
    "    # Kyy\n",
    "    def d(i, j, k, l):\n",
    "        return b1(i, \"y\") + b1(j, \"x\") + b1(k, \"y\") + b1(l, \"z\")\n",
    "    \n",
    "    A = np.array([[d(3, 3, 1, 3), -b1(3, \"x\"), -b1(3, \"z\"), 0],\n",
    "                    [-b1(3, \"x\"), d(2, 3, 2, 4), 0, -b1(4, \"z\")],\n",
    "                    [-b1(3, \"z\"), 0, d(7, 7, 5, 3), -b1(7, \"y\")],\n",
    "                    [0, -b1(4, \"z\"), -b1(7, \"y\"), d(8, 7, 6, 4)]])\n",
    "\n",
    "    b = np.array([b1(1, \"y\"), b1(2, \"y\"), b1(5, \"y\"), b1(6, \"y\")])\n",
    "\n",
    "    h = np.linalg.solve(A, b)\n",
    "    Kyy = 0.5 * (h * kyy[:, -1, :].flatten()).sum()\n",
    "\n",
    "    # Kzz\n",
    "    def d(i, j, k, l):\n",
    "        return b1(i, \"z\") + b1(j, \"x\") + b1(k, \"y\") + b1(l, \"z\")\n",
    "\n",
    "    A = np.array([[d(5, 5, 5, 1), -b1(5, \"x\"), -b1(5, \"y\"), 0],\n",
    "                    [-b1(5, \"x\"), d(6, 5, 6, 2), 0, -b1(6, \"y\")],\n",
    "                    [-b1(5, \"y\"), 0, d(7, 7, 5, 3), -b1(7, \"x\")],\n",
    "                    [0, -b1(6, \"y\"), -b1(7, \"x\"), d(8, 7, 6, 4)]])\n",
    "\n",
    "    b = np.array([b1(1, \"z\"), b1(2, \"z\"), b1(3, \"z\"), b1(4, \"z\")])\n",
    "\n",
    "    h = np.linalg.solve(A, b)\n",
    "    Kzz = 0.5 * (h * kzz[-1, :, :].flatten()).sum()\n",
    "\n",
    "    return Kxx, Kyy, Kzz\n",
    "    "
   ]
  },
  {
   "cell_type": "code",
   "execution_count": null,
   "metadata": {},
   "outputs": [],
   "source": []
  },
  {
   "cell_type": "code",
   "execution_count": 27,
   "metadata": {},
   "outputs": [],
   "source": [
    "def f_rt(kxx, kyy, kzz, kxy, kyx, kxz, kzx, kyz, kzy, dx, dy, dz):\n",
    "\n",
    "    # functions to construct the matrix A and the vector b\n",
    "    def b(i, u, v):\n",
    "\n",
    "        idx = get_idx(i)\n",
    "        if u == \"x\" and v == \"x\":\n",
    "            kuv = kxx\n",
    "            du = dx\n",
    "            dv = dx\n",
    "        elif u == \"x\" and v == \"y\":\n",
    "            kuv = kxy\n",
    "            du = dx\n",
    "            dv = dy\n",
    "        elif u == \"x\" and v == \"z\":\n",
    "            kuv = kxz\n",
    "            du = dx\n",
    "            dv = dz\n",
    "        elif u == \"y\" and v == \"x\":\n",
    "            kuv = kyx\n",
    "            du = dy\n",
    "            dv = dx\n",
    "        elif u == \"y\" and v == \"y\":\n",
    "            kuv = kyy\n",
    "            du = dy\n",
    "            dv = dy\n",
    "        elif u == \"y\" and v == \"z\":\n",
    "            kuv = kyz\n",
    "            du = dy\n",
    "            dv = dz\n",
    "        elif u == \"z\" and v == \"x\":\n",
    "            kuv = kzx\n",
    "            du = dz\n",
    "            dv = dx\n",
    "        elif u == \"z\" and v == \"y\":\n",
    "            kuv = kzy\n",
    "            du = dz\n",
    "            dv = dy\n",
    "        elif u == \"z\" and v == \"z\":\n",
    "            kuv = kzz\n",
    "            du = dz\n",
    "            dv = dz\n",
    "        else:\n",
    "            raise ValueError(\"Invalid indices\")\n",
    "\n",
    "        return kuv[idx] * (dx*dy*dz) / (du*dv)\n",
    "\n",
    "    def a(i, u, mode=\"normal\"):\n",
    "        if mode == \"normal\":\n",
    "            return b(i, u, \"x\") + b(i, u, \"y\") + b(i, u, \"z\")\n",
    "        elif mode == \"inverse\":\n",
    "            return b(i, \"x\", u) + b(i, \"y\", u) + b(i, \"z\", u)\n",
    "    \n",
    "    def d(i, j, k, l):\n",
    "        return a(i, \"x\") + a(i, \"y\") + a(i, \"z\") + b(j, \"x\", \"x\") + b(k, \"y\", \"y\") + b(l, \"z\", \"z\")\n",
    "\n",
    "    def m1(i, j, u):\n",
    "        return -(a(i, u, mode=\"inverse\") + a(j, u))\n",
    "    \n",
    "    def m2(i, j, u, v):\n",
    "        return b(i, u, v) + b(j, v, u)\n",
    "\n",
    "\n",
    "    A = np.array(\n",
    "        [\n",
    "            [d(1, 2 ,3 ,5), m1(1, 2, \"x\"), m1(1, 3, \"y\"), m2(2, 3, \"x\", \"y\"), m1(1, 5, \"z\"), m2(2, 5, \"x\", \"z\"), m2(3, 5, \"y\", \"z\")],\n",
    "            [m1(2, 1, \"x\"), d(2, 1, 4, 6), m2(1, 4, \"x\", \"y\"), m1(2, 4, \"y\"), m2(1, 6, \"x\", \"z\"), m1(2, 6, \"z\"), 0],\n",
    "            [m1(3, 1, \"y\"), m2(1, 4, \"y\", \"x\"), d(3, 4, 1, 7), m1(3, 4, \"x\"), m2(1, 7, \"y\", \"z\"), 0, m1(3, 7, \"z\")],\n",
    "            [m2(2, 3, \"y\", \"x\"), m1(4, 2, \"y\"), m1(4, 3, \"x\"), d(4, 3, 2, 8), 0, m2(2, 8, \"y\", \"z\"), m2(3, 8, \"x\", \"z\")],\n",
    "            [m1(5, 1, \"z\"), m2(1, 6, \"z\", \"x\"), m2(1, 7, \"z\", \"y\"), 0, d(5, 6, 7, 1), m1(5, 6, \"x\"), m1(5, 7, \"y\")],\n",
    "            [m2(5, 2, \"x\", \"z\"), m1(6, 2, \"z\"), 0, m2(8, 2, \"y\", \"z\"), m1(6, 5, \"x\"), d(6, 5, 8, 2), m2(5, 8, \"x\", \"y\")],\n",
    "            [m2(5, 3, \"y\", \"z\"), 0, m1(7, 3, \"z\"), m2(3, 8, \"z\", \"x\"), m1(7, 5, \"y\"), m2(8, 5, \"x\", \"y\"), d(7, 8, 5, 3),]\n",
    "        ]\n",
    "        )\n",
    "\n",
    "    # b is a 8x3 matrix\n",
    "    B = np.array(\n",
    "        [\n",
    "            [b(2, \"x\", \"x\"),                                         b(3, \"y\", \"y\"),                                         b(5, \"z\", \"z\")],\n",
    "            [b(4, \"y\", \"x\") + b(6, \"z\", \"x\") - a(2, \"x\", \"inverse\"), b(4, \"y\", \"y\"),                                         b(6, \"z\", \"z\")],\n",
    "            [b(4, \"x\", \"x\"),                                         b(4, \"x\", \"y\") + b(7, \"z\", \"y\") - a(3, \"y\", \"inverse\"), b(7, \"z\", \"z\")],\n",
    "            [b(2, \"y\", \"x\") + b(8, \"z\", \"x\") - a(4, \"x\", \"inverse\"), b(3, \"x\", \"y\") + b(8, \"z\", \"y\") - a(4, \"y\", \"inverse\"), b(8, \"z\", \"z\")],\n",
    "            [b(6, \"x\", \"x\"),                                         b(7, \"y\", \"y\"),                                         b(6, \"x\", \"z\") + b(7, \"y\", \"z\") - a(5, \"z\", \"inverse\")],\n",
    "            [b(2, \"z\", \"x\") - a(6, \"x\", \"inverse\") + b(8, \"y\", \"x\"), b(8, \"y\", \"y\"),                                         b(5, \"x\", \"z\") + b(8, \"y\", \"z\") - a(6, \"z\", \"inverse\")],\n",
    "            [b(8, \"x\", \"x\"),                                         b(3, \"z\", \"y\") + b(8, \"x\", \"y\") - a(7, \"y\", \"inverse\"), b(5, \"y\", \"z\") + b(8, \"x\", \"z\") - a(7, \"z\", \"inverse\")]\n",
    "        ]\n",
    "        )\n",
    "\n",
    "    # P  = np.linalg.solve(A, B)\n",
    "\n",
    "    T = np.array(\n",
    "        [\n",
    "            [b(2, \"x\", \"x\") + b(4, \"x\", \"x\") + b(6, \"x\", \"x\") + b(8, \"x\", \"x\"), b(4, \"x\", \"y\") + b(8, \"x\", \"y\"), b(6, \"x\", \"z\") + b(8, \"x\", \"z\")],\n",
    "            [b(4, \"y\", \"x\") + b(8, \"y\", \"x\"), b(3, \"y\", \"y\") + b(4, \"y\", \"y\") + b(7, \"y\", \"y\") + b(8, \"y\", \"y\"), b(7, \"y\", \"z\") + b(8, \"y\", \"z\")],\n",
    "            [b(6, \"z\", \"x\") + b(8, \"z\", \"x\"), b(7, \"z\", \"y\") + b(8, \"z\", \"y\"), b(5, \"z\", \"z\") + b(6, \"z\", \"z\") + b(7, \"z\", \"z\") + b(8, \"z\", \"z\")]    \n",
    "        ])\n",
    "    return A, B, T\n",
    "    Q = - np.dot(B.T, P.T) + T\n",
    "    dxdydz = np.array([[dx, 0, 0], [0, dy, 0], [0, 0, dz]])\n",
    "    K = 0.5 * (np.dot(Q, dxdydz)) * (1/(dx**2 * dy**2 * dz**2))\n",
    "    return K"
   ]
  },
  {
   "cell_type": "code",
   "execution_count": 259,
   "metadata": {},
   "outputs": [],
   "source": [
    "\n",
    "def f_rt_simple(kxx, kyy, kzz, dx, dy, dz):\n",
    "    \n",
    "    def b(i, u, v):\n",
    "\n",
    "        idx = get_idx(i)\n",
    "        if u != v:\n",
    "            return 0\n",
    "\n",
    "        elif u == \"x\" and v == \"x\":\n",
    "            kuv = kxx\n",
    "            du = dx\n",
    "            dv = dx\n",
    "        elif u == \"y\" and v == \"y\":\n",
    "            kuv = kyy\n",
    "            du = dy\n",
    "            dv = dy\n",
    "        elif u == \"z\" and v == \"z\":\n",
    "            kuv = kzz\n",
    "            du = dz\n",
    "            dv = dz\n",
    "        else:\n",
    "            raise ValueError(\"Invalid indices\")\n",
    "        \n",
    "        return kuv[idx] * (dx*dy*dz) / (du*dv)\n",
    "    \n",
    "    \n",
    "    def d(i, j, k, l):\n",
    "        return b(i, \"x\", \"x\") + b(i, \"y\", \"y\") + b(i, \"z\", \"z\") + b(j, \"x\", \"x\") + b(k, \"y\", \"y\") + b(l, \"z\", \"z\")\n",
    "\n",
    "    def m1(i, j, u):\n",
    "        return -b(i, u, u) - b(j, u, u)\n",
    "    \n",
    "\n",
    "    A = np.array(\n",
    "        [\n",
    "            [d(1, 2 ,3 ,5), m1(1, 2, \"x\"), m1(1, 3, \"y\"), 0, m1(1, 5, \"z\"), 0, 0],\n",
    "            [m1(2, 1, \"x\"), d(2, 1, 4, 6), 0, m1(2, 4, \"y\"), 0, m1(2, 6, \"z\"), 0],\n",
    "            [m1(3, 1, \"y\"), 0, d(3, 4, 1, 7), m1(3, 4, \"x\"), 0, 0, m1(3, 7, \"z\")],\n",
    "            [0, m1(4, 2, \"y\"), m1(4, 3, \"x\"), d(4, 3, 2, 8), 0, 0, 0],\n",
    "            [m1(5, 1, \"z\"), 0, 0, 0, d(5, 6, 7, 1), m1(5, 6, \"x\"), m1(5, 7, \"y\")],\n",
    "            [0, m1(6, 2, \"z\"), 0, 0, m1(6, 5, \"x\"), d(6, 5, 8, 2), 0],\n",
    "            [0, 0, m1(7, 3, \"z\"), 0, m1(7, 5, \"y\"), 0, d(7, 8, 5, 3)]\n",
    "        ]\n",
    "        )\n",
    "    \n",
    "    B = np.array(\n",
    "        [\n",
    "            [ b(2, \"x\", \"x\"),  b(3, \"y\", \"y\"),  b(5, \"z\", \"z\")],\n",
    "            [-b(2, \"x\", \"x\"),  b(4, \"y\", \"y\"),  b(6, \"z\", \"z\")],\n",
    "            [ b(4, \"x\", \"x\"), -b(3, \"y\", \"y\"),  b(7, \"z\", \"z\")],\n",
    "            [-b(4, \"x\", \"x\"),- b(4, \"y\", \"y\"),  b(8, \"z\", \"z\")],\n",
    "            [ b(6, \"x\", \"x\"),  b(7, \"y\", \"y\"), -b(5, \"z\", \"z\")],\n",
    "            [-b(6, \"x\", \"x\"),  b(8, \"y\", \"y\"), -b(6, \"z\", \"z\")],\n",
    "            [ b(8, \"x\", \"x\"), -b(7, \"y\", \"y\"), -b(7, \"z\", \"z\")]\n",
    "        ]\n",
    "        )\n",
    "\n",
    "    T = np.array(\n",
    "        [\n",
    "            [b(2, \"x\", \"x\") + b(4, \"x\", \"x\") + b(6, \"x\", \"x\") + b(8, \"x\", \"x\"), 0, 0],\n",
    "            [0, b(3, \"y\", \"y\") + b(4, \"y\", \"y\") + b(7, \"y\", \"y\") + b(8, \"y\", \"y\"), 0],\n",
    "            [0, 0, b(5, \"z\", \"z\") + b(6, \"z\", \"z\") + b(7, \"z\", \"z\") + b(8, \"z\", \"z\")]    \n",
    "        ])\n",
    "    \n",
    "    # solve the system of equations\n",
    "    P = np.linalg.solve(A, B)\n",
    "    dxdydz = np.array([[dx**2, 0, 0], [0, dy**2, 0], [0, 0, dz**2]])\n",
    "    K = 0.5 * ((-np.dot(B.T, P) + T) @ dxdydz) * (1/dx * 1/dy * 1/dz) \n",
    "    return K"
   ]
  },
  {
   "cell_type": "code",
   "execution_count": 260,
   "metadata": {},
   "outputs": [],
   "source": [
    "np.random.seed(5)\n",
    "nx, ny, nz = 2, 2, 2\n",
    "dx, dy, dz = 1, 1, .1\n",
    "\n",
    "Lx = nx * dx\n",
    "Ly = ny * dy\n",
    "Lz = nz * dz\n",
    "field = 10**(np.random.rand(nx, ny, nz)*-2 + -4)\n",
    "field_rot = field  # x direction"
   ]
  },
  {
   "cell_type": "code",
   "execution_count": 261,
   "metadata": {},
   "outputs": [],
   "source": [
    "K = f_rt_simple(field_rot, field_rot, field_rot, dx, dy, dz)"
   ]
  },
  {
   "cell_type": "code",
   "execution_count": 262,
   "metadata": {},
   "outputs": [
    {
     "data": {
      "text/plain": [
       "array([[ 7.55483342e-06, -3.31279106e-08, -3.56420591e-08],\n",
       "       [-3.31279106e-08,  1.32718023e-05, -3.27690335e-09],\n",
       "       [-3.56420591e-06, -3.27690335e-07,  6.81469313e-06]])"
      ]
     },
     "execution_count": 262,
     "metadata": {},
     "output_type": "execute_result"
    }
   ],
   "source": [
    "K"
   ]
  },
  {
   "cell_type": "code",
   "execution_count": 263,
   "metadata": {},
   "outputs": [
    {
     "name": "stdout",
     "output_type": "stream",
     "text": [
      "Kxx = 5.62E-06 m/s\n",
      "Kyy = 1.30E-05 m/s\n",
      "Kzz = 6.89E-06 m/s\n"
     ]
    }
   ],
   "source": [
    "np.random.seed(5)\n",
    "nx, ny, nz = 2, 2, 2\n",
    "dx, dy, dz = 1, 1, .1\n",
    "\n",
    "Lx = nx * dx\n",
    "Ly = ny * dy\n",
    "Lz = nz * dz\n",
    "field = 10**(np.random.rand(nx, ny, nz)*-2 + -4)\n",
    "field_rot = field  # x direction\n",
    "Kxx = f_sr(field_rot, field_rot, field_rot, dx, dy, dz, direction=\"x\")\n",
    "Kyy = f_sr(field_rot, field_rot, field_rot, dx, dy, dz, direction=\"y\")\n",
    "Kzz = f_sr(field_rot, field_rot, field_rot, dx, dy, dz, direction=\"z\")\n",
    "print(\"Kxx = {:.2E} m/s\".format(Kxx))\n",
    "print(\"Kyy = {:.2E} m/s\".format(Kyy))\n",
    "print(\"Kzz = {:.2E} m/s\".format(Kzz))"
   ]
  },
  {
   "cell_type": "code",
   "execution_count": 264,
   "metadata": {},
   "outputs": [
    {
     "name": "stdout",
     "output_type": "stream",
     "text": [
      "Kxx_simp = 7.01E-06 m/s\n",
      "Kyy_simp = 1.32E-05 m/s\n",
      "Kzz_simp = 7.80E-06 m/s\n"
     ]
    }
   ],
   "source": [
    "Kxx_simp = simplified_renormalization(field, dx, dy, dz, direction=\"x\")\n",
    "Kyy_simp = simplified_renormalization(field, dx, dy, dz, direction=\"y\")\n",
    "Kzz_simp = simplified_renormalization(field, dx, dy, dz, direction=\"z\")\n",
    "print(\"Kxx_simp = {:.2E} m/s\".format(Kxx_simp))\n",
    "print(\"Kyy_simp = {:.2E} m/s\".format(Kyy_simp))\n",
    "print(\"Kzz_simp = {:.2E} m/s\".format(Kzz_simp))"
   ]
  },
  {
   "cell_type": "code",
   "execution_count": 265,
   "metadata": {},
   "outputs": [
    {
     "name": "stdout",
     "output_type": "stream",
     "text": [
      "Kxx_center = 5.20E-06 m/s\n",
      "Kyy_center = 1.31E-05 m/s\n",
      "Kzz_center = 8.24E-06 m/s\n"
     ]
    }
   ],
   "source": [
    "Kxx_center, Kyy_center, Kzz_center = f_sr_center(field_rot, field_rot, field_rot, dx, dy, 1)\n",
    "print(\"Kxx_center = {:.2E} m/s\".format(Kxx_center))\n",
    "print(\"Kyy_center = {:.2E} m/s\".format(Kyy_center))\n",
    "print(\"Kzz_center = {:.2E} m/s\".format(Kzz_center))"
   ]
  },
  {
   "cell_type": "code",
   "execution_count": 266,
   "metadata": {},
   "outputs": [
    {
     "name": "stdout",
     "output_type": "stream",
     "text": [
      "Kxx = 7.55E-06 m/s\n",
      "Kyy = 1.33E-05 m/s\n",
      "Kzz = 6.81E-06 m/s\n"
     ]
    }
   ],
   "source": [
    "K_rt = f_rt_simple(field_rot, field_rot, field_rot, dx, dy, dz)\n",
    "Kxx_rt = K_rt[0, 0]\n",
    "Kyy_rt = K_rt[1, 1]\n",
    "Kzz_rt = K_rt[2, 2]\n",
    "print(\"Kxx = {:.2E} m/s\".format(Kxx_rt))\n",
    "print(\"Kyy = {:.2E} m/s\".format(Kyy_rt))\n",
    "print(\"Kzz = {:.2E} m/s\".format(Kzz_rt))"
   ]
  },
  {
   "cell_type": "code",
   "execution_count": 267,
   "metadata": {},
   "outputs": [
    {
     "data": {
      "image/png": "[encoded data removed]",
      "text/plain": [
       "<Figure size 640x480 with 1 Axes>"
      ]
     },
     "metadata": {},
     "output_type": "display_data"
    }
   ],
   "source": [
    "import pandas as pd\n",
    "df = pd.DataFrame(columns=[\"Kxx\", \"Kyy\", \"Kzz\"], index=[\"SR - Direct\", \"Simplified\", \"SR - Center\", \"RT\"])\n",
    "df.loc[\"SR - Direct\"] = [Kxx, Kyy, Kzz]\n",
    "df.loc[\"Simplified\"] = [Kxx_simp, Kyy_simp, Kzz_simp]\n",
    "df.loc[\"SR - Center\"] = [Kxx_center, Kyy_center, Kzz_center]\n",
    "df.loc[\"RT\"] = [K_rt[0, 0], K_rt[1, 1], K_rt[2, 2]]\n",
    "\n",
    "# plot\n",
    "fig, ax = plt.subplots()\n",
    "df.T.plot(kind=\"bar\", ax=ax)\n",
    "ax.set_yscale(\"log\")\n",
    "\n",
    "plt.axhline(np.mean(field), color=\"red\", label=\"Arithmetic mean\")\n",
    "\n",
    "# plot a line at the harmonic mean\n",
    "plt.axhline(1/np.mean(1/field), color=\"green\", label=\"Harmonic mean\")\n",
    "plt.show()"
   ]
  },
  {
   "cell_type": "code",
   "execution_count": 268,
   "metadata": {},
   "outputs": [],
   "source": [
    "# %%timeit\n",
    "# Kxx_center, Kyy_center, Kzz_center = f_sr_center(field_rot, field_rot, field_rot, dx, dy, dz)"
   ]
  },
  {
   "cell_type": "code",
   "execution_count": 269,
   "metadata": {},
   "outputs": [],
   "source": [
    "# %%timeit\n",
    "# K_rt = f_rt_simple(field_rot, field_rot, field_rot, dx, dy, dz)"
   ]
  },
  {
   "cell_type": "code",
   "execution_count": 270,
   "metadata": {},
   "outputs": [],
   "source": [
    "# %%timeit\n",
    "# Kxx = f_sr(field_rot, field_rot, field_rot, dx, dy, dz, direction=\"x\")\n",
    "# Kyy = f_sr(field_rot, field_rot, field_rot, dx, dy, dz, direction=\"y\")\n",
    "# Kzz = f_sr(field_rot, field_rot, field_rot, dx, dy, dz, direction=\"z\")"
   ]
  },
  {
   "cell_type": "code",
   "execution_count": 271,
   "metadata": {},
   "outputs": [],
   "source": [
    "# %%timeit\n",
    "# Kxx_simp = simplified_renormalization(field, dx, dy, dz, direction=\"x\")\n",
    "# Kyy_simp = simplified_renormalization(field, dx, dy, dz, direction=\"y\")\n",
    "# Kzz_simp = simplified_renormalization(field, dx, dy, dz, direction=\"z\")"
   ]
  },
  {
   "cell_type": "code",
   "execution_count": 272,
   "metadata": {},
   "outputs": [],
   "source": [
    "def standard_renormalization(field_xx, field_yy, field_zz, dx, dy, dz, niter=1, scheme=\"direct\"):\n",
    "    \n",
    "    # assert that field is 2**n\n",
    "    # assert field.shape[0] == field.shape[1]\n",
    "    # assert np.log2(field.shape[0]).is_integer(), \"Field size must be a power of 2\n",
    "    \n",
    "    def one_iteration(field_xx, field_yy, field_zz):\n",
    "        new_field_xx = np.zeros((field_xx.shape[0]//2, field_xx.shape[1]//2, field_xx.shape[2]//2))\n",
    "        new_field_yy = np.zeros((field_xx.shape[0]//2, field_xx.shape[1]//2, field_xx.shape[2]//2))\n",
    "        new_field_zz = np.zeros((field_xx.shape[0]//2, field_xx.shape[1]//2, field_xx.shape[2]//2))\n",
    "        for i in range(0, field_xx.shape[0], 2):\n",
    "            for j in range(0, field_xx.shape[1], 2):\n",
    "                for k in range(0, field_xx.shape[2], 2):\n",
    "                    block_xx = field_xx[i:i+2, j:j+2, k:k+2]\n",
    "                    block_yy = field_yy[i:i+2, j:j+2, k:k+2]\n",
    "                    block_zz = field_zz[i:i+2, j:j+2, k:k+2]\n",
    "                    if scheme == \"direct\":\n",
    "                        kxx = f_sr(block_xx, block_yy, block_zz, dx, dy, dz, direction=\"x\")\n",
    "                        kyy = f_sr(block_yy, block_xx, block_zz, dy, dx, dz, direction=\"y\")\n",
    "                        kzz = f_sr(block_zz, block_xx, block_yy, dz, dx, dy, direction=\"z\")\n",
    "                    elif scheme == \"center\":\n",
    "                        kxx, kyy, kzz = f_sr_center(block_xx, block_yy, block_zz, dx, dy, dz)\n",
    "                    \n",
    "                    new_field_xx[i//2, j//2, k//2] = kxx\n",
    "                    new_field_yy[i//2, j//2, k//2] = kyy\n",
    "                    new_field_zz[i//2, j//2, k//2] = kzz\n",
    "\n",
    "        return new_field_xx, new_field_yy, new_field_zz\n",
    "\n",
    "    # list_field_xx = [field_xx]\n",
    "    # list_field_yy = [field_yy]\n",
    "    # list_field_zz = [field_zz]\n",
    "\n",
    "    for _ in range(niter):\n",
    "        field_xx, field_yy, field_zz = one_iteration(field_xx, field_yy, field_zz)\n",
    "        # list_field_xx.append(field_xx)\n",
    "        # list_field_yy.append(field_yy)\n",
    "        # list_field_zz.append(field_zz)\n",
    "\n",
    "    return field_xx, field_yy, field_zz\n",
    "\n",
    "def tensorial_renormalization(field_xx, field_yy, field_zz, dx, dy, dz, niter=1):\n",
    "    \n",
    "    # assert that field is 2**n\n",
    "    assert field.shape[0] == field.shape[1] == field.shape[2]\n",
    "    # assert np.log2(field.shape[0]).is_integer(), \"Field size must be a power of 2\n",
    "    \n",
    "    def one_iteration(field_xx, field_yy, field_zz):\n",
    "        new_field_xx = np.zeros((field_xx.shape[0]//2, field_xx.shape[1]//2, field_xx.shape[2]//2))\n",
    "        new_field_yy = np.zeros((field_xx.shape[0]//2, field_xx.shape[1]//2, field_xx.shape[2]//2))\n",
    "        new_field_zz = np.zeros((field_xx.shape[0]//2, field_xx.shape[1]//2, field_xx.shape[2]//2))\n",
    "        for i in range(0, field_xx.shape[0], 2):\n",
    "            for j in range(0, field_xx.shape[1], 2):\n",
    "                for k in range(0, field_xx.shape[2], 2):\n",
    "                    block_xx = field_xx[i:i+2, j:j+2, k:k+2]\n",
    "                    block_yy = field_yy[i:i+2, j:j+2, k:k+2]\n",
    "                    block_zz = field_zz[i:i+2, j:j+2, k:k+2]\n",
    "                    K = f_rt_simple(block_xx, block_yy, block_zz, dx, dy, dz)\n",
    "                    kxx = K[0, 0]\n",
    "                    kyy = K[1, 1]\n",
    "                    kzz = K[2, 2]\n",
    "                    \n",
    "                    new_field_xx[i//2, j//2, k//2] = kxx\n",
    "                    new_field_yy[i//2, j//2, k//2] = kyy\n",
    "                    new_field_zz[i//2, j//2, k//2] = kzz\n",
    "\n",
    "        return new_field_xx, new_field_yy, new_field_zz\n",
    "\n",
    "    # list_field_xx = [field_xx]\n",
    "    # list_field_yy = [field_yy]\n",
    "    # list_field_zz = [field_zz]\n",
    "\n",
    "    for _ in range(niter):\n",
    "        field_xx, field_yy, field_zz = one_iteration(field_xx, field_yy, field_zz)\n",
    "        # list_field_xx.append(field_xx)\n",
    "        # list_field_yy.append(field_yy)\n",
    "        # list_field_zz.append(field_zz)\n",
    "\n",
    "    return field_xx, field_yy, field_zz"
   ]
  },
  {
   "cell_type": "code",
   "execution_count": 373,
   "metadata": {},
   "outputs": [],
   "source": [
    "def upscaling_k(field, dx=1, dy=1, dz=1, method=\"simplified_renormalization\", factor_x=2, factor_y=2, factor_z=2, grid=None, scheme=\"direct\"):\n",
    "\n",
    "    assert field.shape[0] % factor_y == 0, \"factor_y must be a divisor of the field size\"\n",
    "    assert field.shape[1] % factor_x == 0, \"factor_x must be a divisor of the field size\"\n",
    "    assert field.shape[2] % factor_z == 0, \"factor_z must be a divisor of the field size\"\n",
    "\n",
    "    if method == \"simplified_renormalization\":\n",
    "        \n",
    "        if grid is None:\n",
    "            new_field_kxx = np.zeros((field.shape[0]//factor_z, field.shape[1]//factor_y, field.shape[2]//factor_x))\n",
    "            new_field_kyy = np.zeros((field.shape[0]//factor_z, field.shape[1]//factor_y, field.shape[2]//factor_x))\n",
    "            new_field_kzz = np.zeros((field.shape[0]//factor_z, field.shape[1]//factor_y, field.shape[2]//factor_x))\n",
    "\n",
    "            for i in range(0, field.shape[0], factor_z):\n",
    "                for j in range(0, field.shape[1], factor_y):\n",
    "                    for k in range(0, field.shape[2], factor_x):\n",
    "                        selected_area = field[i:i+factor_z, j:j+factor_y, k:k+factor_z]\n",
    "                        Kxx = simplified_renormalization(selected_area, dx, dy, dz, direction=\"x\")\n",
    "                        Kyy = simplified_renormalization(selected_area, dx, dy, dz, direction=\"y\")\n",
    "                        Kzz = simplified_renormalization(selected_area, dx, dy, dz, direction=\"z\")\n",
    "\n",
    "                        new_field_kxx[i//factor_z, j//factor_y, k//factor_x] = Kxx\n",
    "                        new_field_kyy[i//factor_z, j//factor_y, k//factor_x] = Kyy\n",
    "                        new_field_kzz[i//factor_z, j//factor_y, k//factor_x] = Kzz\n",
    "\n",
    "        return new_field_kxx, new_field_kyy, new_field_kzz\n",
    "\n",
    "    elif method == \"standard_renormalization\":\n",
    "        assert factor_x == factor_y == factor_z, \"factor_x, factor_y and factor_z must be equal for standard renormalization\"\n",
    "        assert np.log2(factor_x).is_integer(), \"factor_x must be a power of 2\"\n",
    "\n",
    "        field_kxx, field_kyy, field_kzz = standard_renormalization(field, field, field, dx, dy, dz, niter=int(np.log2(factor_x)), scheme=scheme)\n",
    "        return field_kxx, field_kyy, field_kzz\n",
    "    \n",
    "    elif method == \"tensorial_renormalization\":\n",
    "        assert factor_x == factor_y == factor_z, \"factor_x, factor_y and factor_z must be equal for tensorial renormalization\"\n",
    "        assert np.log2(factor_x).is_integer(), \"factor_x must be a power of 2\"\n",
    "\n",
    "        field_kxx, field_kyy, field_kzz = tensorial_renormalization(field, field, field, dx, dy, dz, niter=int(np.log2(factor_x)))\n",
    "        return field_kxx, field_kyy, field_kzz\n",
    "\n",
    "    elif method in [\"arithmetic\", \"harmonic\", \"geometric\"]:\n",
    "\n",
    "        if grid is None:\n",
    "            new_field = np.zeros((field.shape[0]//factor_z, field.shape[1]//factor_y, field.shape[2]//factor_x))\n",
    "\n",
    "            for i in range(0, field.shape[0], factor_z):\n",
    "                for j in range(0, field.shape[1], factor_y):\n",
    "                    for k in range(0, field.shape[2], factor_x):\n",
    "                        selected_area = field[i:i+factor_z, j:j+factor_y, k:k+factor_x]\n",
    "                        if method == \"arithmetic\":\n",
    "                            K = np.mean(selected_area.flatten())\n",
    "                        elif method == \"harmonic\":\n",
    "                            K = 1 / np.mean(1 / selected_area.flatten())\n",
    "                        elif method == \"geometric\":\n",
    "                            K = np.exp(np.mean(np.log(selected_area.flatten())))\n",
    "                        new_field[i//factor_z, j//factor_y, k//factor_x] = K\n",
    "\n",
    "        return new_field\n",
    "\n",
    "    else:\n",
    "        raise ValueError(\"method must be simplified_renormalization, standard_renormalization, tensorial_renormalization, arithmetic, harmonic or geometric\")"
   ]
  },
  {
   "cell_type": "code",
   "execution_count": 349,
   "metadata": {},
   "outputs": [
    {
     "data": {
      "application/vnd.jupyter.widget-view+json": {
       "model_id": "3ed91f55dcdb474a9737095823cbc5bd",
       "version_major": 2,
       "version_minor": 0
      },
      "text/plain": [
       "Widget(value=\"<iframe src='http://localhost:59810/index.html?ui=P_0x23a4b9ebfd0_24&reconnect=auto' style='widt…"
      ]
     },
     "metadata": {},
     "output_type": "display_data"
    }
   ],
   "source": [
    "# generate a random field\n",
    "np.random.seed(3)\n",
    "cm = geone.covModel.CovModel3D(elem=[(\"cubic\", {\"w\":.2, \"r\":[100, 100, 10]})])\n",
    "sim = geone.multiGaussian.multiGaussianRun(cm, (50, 50, 50), (2, 2, .4), [0, 0, 0], mean=-4)\n",
    "geone.imgplot3d.drawImage3D_surface(sim, cmap=\"terrain\")"
   ]
  },
  {
   "cell_type": "code",
   "execution_count": 389,
   "metadata": {},
   "outputs": [],
   "source": [
    "kxx = upscaling_k(sim.val[0], method=\"harmonic\", dx=2, dy=2, dz=.4, factor_x=5, factor_y=5, factor_z=5)"
   ]
  },
  {
   "cell_type": "code",
   "execution_count": 390,
   "metadata": {},
   "outputs": [
    {
     "data": {
      "application/vnd.jupyter.widget-view+json": {
       "model_id": "a470b9a7507d4521968a02ada24681e6",
       "version_major": 2,
       "version_minor": 0
      },
      "text/plain": [
       "Widget(value=\"<iframe src='http://localhost:59810/index.html?ui=P_0x23a21480050_38&reconnect=auto' style='widt…"
      ]
     },
     "metadata": {},
     "output_type": "display_data"
    }
   ],
   "source": [
    "arr = kxx\n",
    "im = geone.img.Img(nx=arr.shape[2], ny=arr.shape[1], nz=arr.shape[0], sx=10, sy=10, sz=2, nv=1, val=arr.reshape(1, *arr.shape), varname=[\"Kxx\"])\n",
    "geone.imgplot3d.drawImage3D_surface(im, cmap=\"terrain\", cmin=-5.1, cmax=-3)"
   ]
  },
  {
   "cell_type": "code",
   "execution_count": 63,
   "metadata": {},
   "outputs": [],
   "source": [
    "np.random.seed(5)\n",
    "nx, ny, nz = 8, 8, 8\n",
    "dx, dy, dz = 1, 1, 1\n",
    "\n",
    "field = 10**(np.random.rand(nx, ny, nz)*-2 + -4)\n",
    "# field_xx, field_yy, field_zz = standard_renormalization(field, field, field, dx, dy, dz, niter=3, scheme=\"center\")\n",
    "field_xx, field_yy, field_zz = tensorial_renormalization(field, field, field, dx, dy, dz, niter=1)"
   ]
  },
  {
   "cell_type": "code",
   "execution_count": null,
   "metadata": {},
   "outputs": [
    {
     "data": {
      "application/vnd.jupyter.widget-view+json": {
       "model_id": "641018e876244e00bb41b39bb3b4a2db",
       "version_major": 2,
       "version_minor": 0
      },
      "text/plain": [
       "Widget(value=\"<iframe src='http://localhost:59810/index.html?ui=P_0x239fd41bb50_6&reconnect=auto' style='width…"
      ]
     },
     "metadata": {},
     "output_type": "display_data"
    },
    {
     "data": {
      "application/vnd.jupyter.widget-view+json": {
       "model_id": "3da31914deed448fae1420304a70213a",
       "version_major": 2,
       "version_minor": 0
      },
      "text/plain": [
       "Widget(value=\"<iframe src='http://localhost:59810/index.html?ui=P_0x239fa817590_7&reconnect=auto' style='width…"
      ]
     },
     "metadata": {},
     "output_type": "display_data"
    }
   ],
   "source": [
    "field_list = field_zz\n",
    "vmax = np.max(field)\n",
    "vmin = np.min(field)\n",
    "\n",
    "a = field\n",
    "im = geone.img.Img(nx=nx, ny=ny, nz=nz, sx=dx, sy=dy, sz=dz, nv=1, val=a.reshape(1, nz, ny, nx))\n",
    "geone.imgplot3d.drawImage3D_surface(im, cmap=\"jet\", cmin=vmin, cmax=vmax)\n",
    "\n",
    "a = field_list\n",
    "im = geone.img.Img(nx=nx//2, ny=ny//2, nz=nz//2, sx=dx*2, sy=dy*2, sz=dz*2, nv=1, val=a.reshape(1, a.shape[2], a.shape[1], a.shape[0]))\n",
    "geone.imgplot3d.drawImage3D_surface(im, cmap=\"jet\", cmin=vmin, cmax=vmax)\n",
    "\n",
    "# a = field_list\n",
    "# im = geone.img.Img(nx=nx//4, ny=ny//4, nz=nz//4, sx=dx*4, sy=dy*4, sz=dz*4, nv=1, val=a.reshape(1, a.shape[2], a.shape[1], a.shape[0]))\n",
    "# geone.imgplot3d.drawImage3D_surface(im, cmap=\"jet\", cmin=vmin, cmax=vmax)\n",
    "\n",
    "# a = field_list\n",
    "# im = geone.img.Img(nx=nx//8, ny=ny//8, nz=nz//8, sx=dx*8, sy=dy*8, sz=dz*8, nv=1, val=a.reshape(1, a.shape[2], a.shape[1], a.shape[0]))\n",
    "# geone.imgplot3d.drawImage3D_surface(im, cmap=\"jet\", cmin=vmin, cmax=vmax)"
   ]
  },
  {
   "cell_type": "code",
   "execution_count": 62,
   "metadata": {},
   "outputs": [
    {
     "data": {
      "text/plain": [
       "(4, 4, 4)"
      ]
     },
     "execution_count": 62,
     "metadata": {},
     "output_type": "execute_result"
    }
   ],
   "source": [
    "field_xx.shape"
   ]
  },
  {
   "cell_type": "code",
   "execution_count": null,
   "metadata": {},
   "outputs": [],
   "source": []
  },
  {
   "cell_type": "code",
   "execution_count": 164,
   "metadata": {},
   "outputs": [],
   "source": [
    "import geone\n",
    "import pyvista as pv\n",
    "pv.set_jupyter_backend('client')"
   ]
  },
  {
   "cell_type": "code",
   "execution_count": 165,
   "metadata": {},
   "outputs": [
    {
     "data": {
      "application/vnd.jupyter.widget-view+json": {
       "model_id": "c3aba6efbf81469388d4cdd9f2ce571d",
       "version_major": 2,
       "version_minor": 0
      },
      "text/plain": [
       "Widget(value=\"<iframe src='http://localhost:51128/index.html?ui=P_0x183be1e10d0_0&reconnect=auto' style='width…"
      ]
     },
     "metadata": {},
     "output_type": "display_data"
    },
    {
     "data": {
      "application/vnd.jupyter.widget-view+json": {
       "model_id": "13197b953d6a4b05ad55dd16b404a5e2",
       "version_major": 2,
       "version_minor": 0
      },
      "text/plain": [
       "Widget(value=\"<iframe src='http://localhost:51128/index.html?ui=P_0x183bed376d0_1&reconnect=auto' style='width…"
      ]
     },
     "metadata": {},
     "output_type": "display_data"
    },
    {
     "data": {
      "application/vnd.jupyter.widget-view+json": {
       "model_id": "8f5626b3726d45da83699c8326fbd253",
       "version_major": 2,
       "version_minor": 0
      },
      "text/plain": [
       "Widget(value=\"<iframe src='http://localhost:51128/index.html?ui=P_0x183ba8308d0_2&reconnect=auto' style='width…"
      ]
     },
     "metadata": {},
     "output_type": "display_data"
    }
   ],
   "source": [
    "np.random.seed(3)\n",
    "nx, ny, nz = 2, 2, 2\n",
    "dx, dy, dz = 1, 0.5, 0.1\n",
    "\n",
    "Lx = nx * dx\n",
    "Ly = ny * dy\n",
    "Lz = nz * dz\n",
    "field = 10**(np.random.rand(nx, ny, nz)*-4 + -4)\n",
    "a = field\n",
    "im = geone.img.Img(nx=nx, ny=ny, nz=nz, sx=dx, sy=dy, sz=dz, nv=1, val=a.reshape(1, nz, ny, nx))\n",
    "geone.imgplot3d.drawImage3D_surface(im, cmap=\"jet\")\n",
    "\n",
    "field = np.rot90(field, k=-1, axes=(1, 2))\n",
    "a = field\n",
    "\n",
    "dx, dy = dy, dx\n",
    "im = geone.img.Img(nx=nx, ny=ny, nz=nz, sx=dx, sy=dy, sz=dz, nv=1, val=a.reshape(1, nz, ny, nx))\n",
    "geone.imgplot3d.drawImage3D_surface(im, cmap=\"jet\")\n",
    "\n",
    "field = np.rot90(field, k=-1, axes=(0, 2))\n",
    "a = field\n",
    "\n",
    "dx, dz = dz, dx\n",
    "im = geone.img.Img(nx=nx, ny=ny, nz=nz, sx=dx, sy=dy, sz=dz, nv=1, val=a.reshape(1, nz, ny, nx))\n",
    "geone.imgplot3d.drawImage3D_surface(im, cmap=\"jet\")"
   ]
  },
  {
   "cell_type": "code",
   "execution_count": 166,
   "metadata": {},
   "outputs": [
    {
     "data": {
      "text/plain": [
       "array([[[3.14527598e-05, 6.86089929e-06],\n",
       "        [1.48261533e-05, 9.05085441e-07]],\n",
       "\n",
       "       [[2.68047760e-08, 6.26337464e-07],\n",
       "        [2.59912786e-08, 1.47030932e-07]]])"
      ]
     },
     "execution_count": 166,
     "metadata": {},
     "output_type": "execute_result"
    }
   ],
   "source": [
    "a"
   ]
  },
  {
   "cell_type": "code",
   "execution_count": 89,
   "metadata": {},
   "outputs": [
    {
     "data": {
      "application/vnd.jupyter.widget-view+json": {
       "model_id": "84e94d1096594ab0ae2a1a11b14d08fe",
       "version_major": 2,
       "version_minor": 0
      },
      "text/plain": [
       "Widget(value=\"<iframe src='http://localhost:64663/index.html?ui=P_0x20afce20050_13&reconnect=auto' style='widt…"
      ]
     },
     "metadata": {},
     "output_type": "display_data"
    }
   ],
   "source": [
    "import pyvista as pv\n",
    "\n",
    "# set pyvista backend local\n",
    "pv.set_jupyter_backend('client')\n",
    "\n",
    "# plot 3D plot of the field\n",
    "grid = pv.ImageData()\n",
    "\n",
    "grid.dimensions = np.array(field.shape) + 1\n",
    "grid.spacing = np.array([dx, dy, dz])\n",
    "grid.origin = (0, 0, 0)\n",
    "\n",
    "grid.cell_data[\"Permeability\"] = field.flatten(order=\"F\")\n",
    "\n",
    "grid.plot(show_scalar_bar=True, show_edges=True)\n"
   ]
  },
  {
   "cell_type": "code",
   "execution_count": 23,
   "metadata": {},
   "outputs": [
    {
     "data": {
      "application/vnd.jupyter.widget-view+json": {
       "model_id": "85a5229996a64f1eb450cd1d2a2c73d8",
       "version_major": 2,
       "version_minor": 0
      },
      "text/plain": [
       "Widget(value='<iframe src=\"http://localhost:50954/index.html?ui=P_0x27bde6e5c50_2&reconnect=auto\" class=\"pyvis…"
      ]
     },
     "metadata": {},
     "output_type": "display_data"
    }
   ],
   "source": [
    "import pyvista as pv\n",
    "\n",
    "# set pyvista backend local\n",
    "pv.set_jupyter_backend('client')\n",
    "\n",
    "# plot 3D plot of the field\n",
    "grid = pv.ImageData()\n",
    "\n",
    "grid.dimensions = np.array((1, 1, 1)) + 1\n",
    "grid.spacing = np.array([Lx, Ly, Lz])\n",
    "grid.origin = (0, 0, 0)\n",
    "\n",
    "grid.cell_data[\"Permeability\"] = Kxx\n",
    "\n",
    "p = pv.Plotter()\n",
    "p.add_mesh(grid, scalars=\"Permeability\", clim=[field.min(), field.max()], cmap=\"viridis\", show_edges=True)\n",
    "p.show()\n"
   ]
  },
  {
   "cell_type": "code",
   "execution_count": 62,
   "metadata": {},
   "outputs": [
    {
     "data": {
      "application/vnd.jupyter.widget-view+json": {
       "model_id": "6209ea7c56614a399f9a01b21a4f5d1d",
       "version_major": 2,
       "version_minor": 0
      },
      "text/plain": [
       "Widget(value='<iframe src=\"http://localhost:51882/index.html?ui=P_0x19faae97610_6&reconnect=auto\" class=\"pyvis…"
      ]
     },
     "metadata": {},
     "output_type": "display_data"
    },
    {
     "data": {
      "application/vnd.jupyter.widget-view+json": {
       "model_id": "4cf8d51abbb5445ba60b9250c7948e88",
       "version_major": 2,
       "version_minor": 0
      },
      "text/plain": [
       "Widget(value='<iframe src=\"http://localhost:51882/index.html?ui=P_0x19faaf28510_7&reconnect=auto\" class=\"pyvis…"
      ]
     },
     "metadata": {},
     "output_type": "display_data"
    },
    {
     "data": {
      "application/vnd.jupyter.widget-view+json": {
       "model_id": "19e419c301ef42c48c3aaef83db96355",
       "version_major": 2,
       "version_minor": 0
      },
      "text/plain": [
       "Widget(value='<iframe src=\"http://localhost:51882/index.html?ui=P_0x19fad4a2e10_8&reconnect=auto\" class=\"pyvis…"
      ]
     },
     "metadata": {},
     "output_type": "display_data"
    }
   ],
   "source": [
    "# some investigations to see how to rotate a 2x2x2 field\n",
    "a = np.arange(1, 9).reshape(2, 2, 2)\n",
    "plot_field(a, cmap=\"jet\")\n",
    "plot_field(np.rot90(a, k=-1), cmap=\"jet\")\n",
    "plot_field(np.rot90(a, k=-1, axes=(0, 2)), cmap=\"jet\")"
   ]
  },
  {
   "cell_type": "code",
   "execution_count": null,
   "metadata": {},
   "outputs": [],
   "source": []
  }
 ],
 "metadata": {
  "kernelspec": {
   "display_name": "bebou",
   "language": "python",
   "name": "python3"
  },
  "language_info": {
   "codemirror_mode": {
    "name": "ipython",
    "version": 3
   },
   "file_extension": ".py",
   "mimetype": "text/x-python",
   "name": "python",
   "nbconvert_exporter": "python",
   "pygments_lexer": "ipython3",
   "version": "3.11.4"
  }
 },
 "nbformat": 4,
 "nbformat_minor": 2
}

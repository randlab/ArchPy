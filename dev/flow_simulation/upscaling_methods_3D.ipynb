{
 "cells": [
  {
   "cell_type": "code",
   "execution_count": 1,
   "metadata": {},
   "outputs": [],
   "source": [
    "import numpy as np\n",
    "import matplotlib.pyplot as plt\n",
    "import geone\n",
    "import geone.covModel as gcm\n",
    "from numba import jit"
   ]
  },
  {
   "cell_type": "code",
   "execution_count": 4,
   "metadata": {},
   "outputs": [],
   "source": [
    "@jit()\n",
    "def hmean(v1, v2, w1=1, w2=1):\n",
    "    return (w1 + w2) / (w1 / v1 + w2 / v2)\n",
    "\n",
    "@jit()\n",
    "def mean(v1, v2, w1=1, w2=1):\n",
    "    return (v1 * w1 + v2 * w2) / (w1 + w2)"
   ]
  },
  {
   "cell_type": "code",
   "execution_count": 41,
   "metadata": {},
   "outputs": [],
   "source": [
    "# create functions to compute the equivalent permeability of a 2D field\n",
    "# This is done by computing the arithmetic mean / or the harmonic mean in the x and y directions sequentially until the final value is obtained\n",
    "\n",
    "def f_3D(a, dx=None, dy=None, dz=None, direction=\"x\", typ=\"x\"):\n",
    "\n",
    "    \"\"\"\n",
    "    Function to operate a mean between two 2D fields from a 3D field\n",
    "\n",
    "    Parameters\n",
    "    ----------\n",
    "    a : 3D numpy array\n",
    "        The 3D field\n",
    "    direction : str\n",
    "        The direction of the mean to compute. Can be \"x\", \"y\" or \"z\"\n",
    "    type : str\n",
    "        The direction where fields are selected. Can be \"x\", \"y\" or \"z\"\n",
    "    \"\"\"\n",
    "\n",
    "    # initialize weights\n",
    "    w1 = 1\n",
    "    w2 = 1\n",
    "    new_dx = None\n",
    "    new_dy = None\n",
    "    new_dz = None\n",
    "\n",
    "    if typ == \"y\":\n",
    "\n",
    "        v1 = a[:, ::2, :]\n",
    "        v2 = a[:, 1::2, :]\n",
    "        if dy is not None:\n",
    "            w1 = dy[:, ::2, :]\n",
    "            w2 = dy[:, 1::2, :]\n",
    "            new_dy = w1 + w2\n",
    "            new_dx = dx[:, ::2, :]\n",
    "            new_dz = dz[:, ::2, :]\n",
    "\n",
    "    elif typ == \"x\":\n",
    "\n",
    "        v1 = a[:, :, ::2]\n",
    "        v2 = a[:, :, 1::2]\n",
    "        if dx is not None:\n",
    "            w1 = dx[:, :, ::2]\n",
    "            w2 = dx[:, :, 1::2]\n",
    "            new_dx = w1 + w2\n",
    "            new_dy = dy[:, :, ::2]\n",
    "            new_dz = dz[:, :, ::2]\n",
    "\n",
    "    elif typ == \"z\":\n",
    "            \n",
    "        v1 = a[::2, :, :]\n",
    "        v2 = a[1::2, :, :]\n",
    "        if dz is not None:\n",
    "            w1 = dz[::2, :, :]\n",
    "            w2 = dz[1::2, :, :]\n",
    "            new_dz = w1 + w2\n",
    "            new_dx = dx[::2, :, :]\n",
    "            new_dy = dy[::2, :, :]\n",
    "\n",
    "\n",
    "    if typ == direction:  # series\n",
    "        res = hmean(v1, v2, w1=w1, w2=w2)\n",
    "    else:\n",
    "        res = mean(v1, v2, w1=w1, w2=w2)\n",
    "    \n",
    "    return res, new_dx, new_dy, new_dz\n",
    "\n",
    "def test_f():\n",
    "\n",
    "    \"\"\"\n",
    "    Test the function f\n",
    "    \"\"\"\n",
    "    a = np.array([[[0.51394334, 0.77316505],\n",
    "                   [0.87042769, 0.00804695]],\n",
    "                  [[0.30973593, 0.95760374],\n",
    "                   [0.51311671, 0.31828442]]])\n",
    "\n",
    "    a1 = f_3D(a, direction=\"x\", typ=\"x\")[0]\n",
    "    a2 = f_3D(a1, direction=\"x\", typ=\"z\")[0]\n",
    "    a3 = f_3D(a2, direction=\"x\", typ=\"y\")[0]\n",
    "    res = a3[0, 0, 0]\n",
    "    assert np.allclose(res, 0.3735857397539791)\n",
    "    \n",
    "    a1 = f_3D(a, direction=\"x\", typ=\"y\")[0]\n",
    "    a2 = f_3D(a1, direction=\"x\", typ=\"z\")[0]\n",
    "    a3 = f_3D(a2, direction=\"x\", typ=\"x\")[0]\n",
    "    res = a3[0, 0, 0]\n",
    "    assert np.allclose(res, 0.5323798506575812)\n",
    "\n",
    "    print(\"Test passed\")\n",
    "\n",
    "\n",
    "# from numba import jit\n",
    "# @jit(nopython=True)\n",
    "def merge(v1, v2, w1, w2, normalize=True):\n",
    "    \n",
    "    \"\"\"\n",
    "    Function to merge two vectors v1 and v2 with weights w1 and w2\n",
    "    Is used here to merge two columns of different sizes\n",
    "    \"\"\"\n",
    "\n",
    "    if normalize:\n",
    "        sum_w = w1 + w2\n",
    "        w1 = w1 / sum_w\n",
    "        w2 = w2 / sum_w\n",
    "\n",
    "    return w1*v1 + w2*v2 - (w1*w2*(v1 - v2)**2)/(w1*v2 + w2*v1)"
   ]
  },
  {
   "cell_type": "code",
   "execution_count": 42,
   "metadata": {},
   "outputs": [
    {
     "name": "stdout",
     "output_type": "stream",
     "text": [
      "Test passed\n"
     ]
    }
   ],
   "source": [
    "test_f()"
   ]
  },
  {
   "cell_type": "code",
   "execution_count": 54,
   "metadata": {},
   "outputs": [
    {
     "data": {
      "text/plain": [
       "array([[[0.66188498],\n",
       "        [0.01201489]],\n",
       "\n",
       "       [[0.56421699],\n",
       "        [0.3644066 ]]])"
      ]
     },
     "execution_count": 54,
     "metadata": {},
     "output_type": "execute_result"
    }
   ],
   "source": [
    "np.random.seed(14)\n",
    "a = np.random.rand(2, 2, 2)\n",
    "\n",
    "dx = np.ones((2, 2, 2)) \n",
    "dx[:, :, -1] = 2\n",
    "a1, ndx, ndy, ndz = f_3D(a, direction=\"x\", typ=\"x\", dx=dx, dy=np.ones((2, 2, 2)), dz=np.ones((2, 2, 2)))\n",
    "a1"
   ]
  },
  {
   "cell_type": "code",
   "execution_count": 48,
   "metadata": {},
   "outputs": [
    {
     "data": {
      "text/plain": [
       "array([[[0.51394334, 0.77316505],\n",
       "        [0.87042769, 0.00804695]],\n",
       "\n",
       "       [[0.30973593, 0.95760374],\n",
       "        [0.51311671, 0.31828442]]])"
      ]
     },
     "execution_count": 48,
     "metadata": {},
     "output_type": "execute_result"
    }
   ],
   "source": [
    "a"
   ]
  },
  {
   "cell_type": "code",
   "execution_count": 55,
   "metadata": {},
   "outputs": [
    {
     "name": "stdout",
     "output_type": "stream",
     "text": [
      "0.3735857397539791\n",
      "0.5323798506575812\n"
     ]
    }
   ],
   "source": [
    "np.random.seed(14)\n",
    "\n",
    "a = np.random.rand(2, 2, 2)\n",
    "\n",
    "a1 = f_3D(a, direction=\"x\", typ=\"x\")\n",
    "a2 = f_3D(a1[0], direction=\"x\", typ=\"z\")\n",
    "a3 = f_3D(a2[0], direction=\"x\", typ=\"y\")\n",
    "print(a3[0][0, 0, 0])\n",
    "\n",
    "a1 = f_3D(a, direction=\"x\", typ=\"y\")\n",
    "a2 = f_3D(a1[0], direction=\"x\", typ=\"z\")\n",
    "a3 = f_3D(a2[0], direction=\"x\", typ=\"x\")\n",
    "print(a3[0][0, 0, 0])"
   ]
  },
  {
   "cell_type": "code",
   "execution_count": 57,
   "metadata": {},
   "outputs": [
    {
     "name": "stdout",
     "output_type": "stream",
     "text": [
      "Test passed\n"
     ]
    }
   ],
   "source": [
    "test_f()"
   ]
  },
  {
   "cell_type": "code",
   "execution_count": 334,
   "metadata": {},
   "outputs": [],
   "source": [
    "def find_c_3D(k_field, direction=\"x\", typ=\"min\"):\n",
    "    \n",
    "    if typ == \"min\":\n",
    "        if direction == \"x\":\n",
    "            l_typ = [\"x\", \"y\", \"z\"]\n",
    "        elif direction == \"y\":\n",
    "            l_typ = [\"y\", \"x\", \"z\"]\n",
    "        elif direction == \"z\":\n",
    "            l_typ = [\"z\", \"x\", \"y\"]\n",
    "    elif typ == \"max\":\n",
    "        if direction == \"x\":\n",
    "            l_typ = [\"y\", \"z\", \"x\"]\n",
    "        elif direction == \"y\":\n",
    "            l_typ = [\"x\", \"z\", \"y\"]\n",
    "        elif direction == \"z\":\n",
    "            l_typ = [\"x\", \"y\", \"z\"]\n",
    "    \n",
    "    a = np.copy(k_field)\n",
    "    o = 0\n",
    "    while a.flatten().shape[0] > 1:\n",
    "        \n",
    "        # check if the number of elements is odd\n",
    "        rm_col = False\n",
    "        rm_row = False\n",
    "        rm_lay = False\n",
    "        sim = True\n",
    "        if l_typ[o] == \"x\":\n",
    "            if a.shape[2] > 1:\n",
    "                if a.shape[2] % 2 == 1:\n",
    "                    # remove the last column\n",
    "                    rm_col = a[:, :, -1]\n",
    "                    a = a[:, :, :-1]\n",
    "            else:\n",
    "                sim = False\n",
    "\n",
    "        elif l_typ[o] == \"y\":\n",
    "            if a.shape[1] > 1:\n",
    "                if a.shape[1] % 2 == 1:\n",
    "                    # remove the last row\n",
    "                    rm_row = a[:, -1, :]\n",
    "                    a = a[:, :-1, :]\n",
    "            else:\n",
    "                sim = False\n",
    "        elif l_typ[o] == \"z\":\n",
    "            if a.shape[0] > 1:\n",
    "                if a.shape[0] % 2 == 1:\n",
    "                    # remove the last layer\n",
    "                    rm_lay = a[-1, :, :]\n",
    "                    a = a[:-1, :, :]\n",
    "            else:\n",
    "                sim = False\n",
    "        if sim:\n",
    "            a = f_3D(a, direction=direction, typ=l_typ[o])\n",
    "\n",
    "        # merge the removed column, row or layer\n",
    "        if rm_col is not False:\n",
    "            new_col = merge(rm_col, a[:, :, -1], 1, 2)\n",
    "            a = np.dstack((a, new_col.reshape(a.shape[0], a.shape[1], 1)))\n",
    "        elif rm_row is not False:\n",
    "            new_row = merge(rm_row, a[:, -1, :], 1, 2)\n",
    "            a = np.hstack((a, new_row.reshape(a.shape[0], 1, a.shape[2])))\n",
    "        elif rm_lay is not False:\n",
    "            new_lay = merge(rm_lay, a[-1, :, :], 1, 2)\n",
    "            a = np.vstack((a, new_lay.reshape(1, a.shape[1], a.shape[2])))\n",
    "\n",
    "        o += 1\n",
    "        if o == 3:\n",
    "            o = 0\n",
    "\n",
    "    return a[0, 0, 0]"
   ]
  },
  {
   "cell_type": "code",
   "execution_count": 241,
   "metadata": {},
   "outputs": [
    {
     "name": "stdout",
     "output_type": "stream",
     "text": [
      "[[[0.37358574]]]\n"
     ]
    },
    {
     "data": {
      "text/plain": [
       "0.373585739753979"
      ]
     },
     "execution_count": 241,
     "metadata": {},
     "output_type": "execute_result"
    }
   ],
   "source": [
    "find_c_3D(a, direction=\"x\", typ=\"min\")"
   ]
  },
  {
   "cell_type": "code",
   "execution_count": 338,
   "metadata": {},
   "outputs": [
    {
     "data": {
      "text/plain": [
       "0.4886625790879198"
      ]
     },
     "execution_count": 338,
     "metadata": {},
     "output_type": "execute_result"
    }
   ],
   "source": [
    "b = np.random.rand(4, 4, 4)\n",
    "find_c_3D(b, direction=\"x\", typ=\"max\")"
   ]
  },
  {
   "cell_type": "code",
   "execution_count": 341,
   "metadata": {},
   "outputs": [
    {
     "data": {
      "text/plain": [
       "0.43719046483269075"
      ]
     },
     "execution_count": 341,
     "metadata": {},
     "output_type": "execute_result"
    }
   ],
   "source": [
    "\n",
    "find_c_3D(b, direction=\"x\", typ=\"min\")"
   ]
  },
  {
   "cell_type": "code",
   "execution_count": null,
   "metadata": {},
   "outputs": [],
   "source": []
  },
  {
   "cell_type": "code",
   "execution_count": null,
   "metadata": {},
   "outputs": [],
   "source": []
  },
  {
   "cell_type": "code",
   "execution_count": null,
   "metadata": {},
   "outputs": [],
   "source": []
  },
  {
   "cell_type": "code",
   "execution_count": null,
   "metadata": {},
   "outputs": [],
   "source": []
  },
  {
   "cell_type": "code",
   "execution_count": null,
   "metadata": {},
   "outputs": [],
   "source": []
  }
 ],
 "metadata": {
  "kernelspec": {
   "display_name": "hydro_env",
   "language": "python",
   "name": "python3"
  },
  "language_info": {
   "codemirror_mode": {
    "name": "ipython",
    "version": 3
   },
   "file_extension": ".py",
   "mimetype": "text/x-python",
   "name": "python",
   "nbconvert_exporter": "python",
   "pygments_lexer": "ipython3",
   "version": "3.10.9"
  }
 },
 "nbformat": 4,
 "nbformat_minor": 2
}

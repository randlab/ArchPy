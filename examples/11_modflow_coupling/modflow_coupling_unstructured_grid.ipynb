{
 "cells": [
  {
   "cell_type": "markdown",
   "metadata": {},
   "source": [
    "# Modflow/Modpath basics"
   ]
  },
  {
   "cell_type": "code",
   "execution_count": 1,
   "metadata": {
    "execution": {
     "iopub.execute_input": "2025-01-23T15:54:01.836470Z",
     "iopub.status.busy": "2025-01-23T15:54:01.835468Z",
     "iopub.status.idle": "2025-01-23T15:54:04.053691Z",
     "shell.execute_reply": "2025-01-23T15:54:04.053691Z"
    }
   },
   "outputs": [],
   "source": [
    "import numpy as np\n",
    "import pandas as pd\n",
    "import matplotlib\n",
    "from matplotlib import colors\n",
    "import matplotlib.pyplot as plt\n",
    "import geone\n",
    "import geone.covModel as gcm\n",
    "import geone.imgplot3d as imgplt3\n",
    "import pyvista as pv\n",
    "import sys\n",
    "import os\n",
    "\n",
    "sys.path.append(\"../../\")\n",
    "#my modules\n",
    "from ArchPy.base import *\n",
    "from ArchPy.tpgs import *\n",
    "\n",
    "%load_ext autoreload\n",
    "%autoreload 2"
   ]
  },
  {
   "cell_type": "code",
   "execution_count": 2,
   "metadata": {
    "execution": {
     "iopub.execute_input": "2025-01-23T15:54:04.056688Z",
     "iopub.status.busy": "2025-01-23T15:54:04.055687Z",
     "iopub.status.idle": "2025-01-23T15:54:04.060221Z",
     "shell.execute_reply": "2025-01-23T15:54:04.060221Z"
    }
   },
   "outputs": [],
   "source": [
    "#grid\n",
    "sx = 1.5\n",
    "sy = 1.5\n",
    "sz = .15\n",
    "x0 = 0\n",
    "y0 = 0\n",
    "z0 = -15\n",
    "nx = 140\n",
    "ny = 70\n",
    "nz = 70\n",
    "x1 = x0 + nx*sx\n",
    "y1 = y0 + ny*sy\n",
    "z1 = z0 + nz\n",
    "\n",
    "dimensions = (nx, ny, nz)\n",
    "spacing = (sx, sy, sz)\n",
    "origin = (x0, y0, z0)  "
   ]
  },
  {
   "cell_type": "code",
   "execution_count": 3,
   "metadata": {
    "execution": {
     "iopub.execute_input": "2025-01-23T15:54:04.063218Z",
     "iopub.status.busy": "2025-01-23T15:54:04.062218Z",
     "iopub.status.idle": "2025-01-23T15:54:04.075011Z",
     "shell.execute_reply": "2025-01-23T15:54:04.075011Z"
    }
   },
   "outputs": [
    {
     "name": "stdout",
     "output_type": "stream",
     "text": [
      "Unit D: Surface added for interpolation\n",
      "Unit C: Surface added for interpolation\n",
      "Unit B: Surface added for interpolation\n",
      "Unit A: Surface added for interpolation\n",
      "Stratigraphic unit D added\n",
      "Stratigraphic unit C added\n",
      "Stratigraphic unit B added\n",
      "Stratigraphic unit A added\n"
     ]
    }
   ],
   "source": [
    "## create pile\n",
    "\n",
    "P1 = Pile(name = \"P1\",seed=1)\n",
    "\n",
    "#units covmodel\n",
    "covmodelD = gcm.CovModel2D(elem=[('cubic', {'w':0.6, 'r':[30,30]})])\n",
    "covmodelD1 = gcm.CovModel2D(elem=[('cubic', {'w':0.2, 'r':[30,30]})])\n",
    "covmodelC = gcm.CovModel2D(elem=[('cubic', {'w':0.2, 'r':[40,40]})])\n",
    "covmodelB = gcm.CovModel2D(elem=[('cubic', {'w':0.6, 'r':[30,30]})])\n",
    "covmodel_er = gcm.CovModel2D(elem=[('spherical', {'w':1, 'r':[50,50]})])\n",
    "\n",
    "## facies covmodel\n",
    "covmodel_SIS_C = gcm.CovModel3D(elem=[(\"exponential\", {\"w\":.21,\"r\":[50, 50, 10]})], alpha=0, name=\"vario_SIS\") # input variogram\n",
    "covmodel_SIS_B1 = gcm.CovModel3D(elem=[(\"exponential\", {\"w\":.16,\"r\":[50, 50, 2]})], alpha=0, name=\"vario_SIS\") # input variogram\n",
    "covmodel_SIS_B2 = gcm.CovModel3D(elem=[(\"exponential\", {\"w\":.24,\"r\":[100, 100, 3]})], alpha=0, name=\"vario_SIS\") # input variogram\n",
    "covmodel_SIS_B3 = gcm.CovModel3D(elem=[(\"exponential\", {\"w\":.19,\"r\":[50, 50, 2]})], alpha=0, name=\"vario_SIS\") # input variogram\n",
    "covmodel_SIS_B4 = gcm.CovModel3D(elem=[(\"exponential\", {\"w\":.13,\"r\":[100, 100, 4]})], alpha=0, name=\"vario_SIS\") # input variogram\n",
    "\n",
    "lst_covmodelC=[covmodel_SIS_C] # list of covmodels to pass at the function\n",
    "lst_covmodelB=[covmodel_SIS_B1, covmodel_SIS_B2, covmodel_SIS_B3, covmodel_SIS_B4] # list of covmodels to pass\n",
    "\n",
    "\n",
    "#create Lithologies \n",
    "dic_s_D = {\"int_method\" : \"grf_ineq\",\"covmodel\" : covmodelD}\n",
    "dic_f_D = {\"f_method\":\"homogenous\"}\n",
    "D = Unit(name=\"D\",order=1,ID = 1,color=\"gold\",contact=\"onlap\",surface=Surface(contact=\"onlap\",dic_surf=dic_s_D)\n",
    "         ,dic_facies=dic_f_D)\n",
    "\n",
    "dic_s_C = {\"int_method\" : \"grf_ineq\",\"covmodel\" : covmodelC, \"mean\":-6.5}\n",
    "dic_f_C = {\"f_method\" : \"SIS\",\"neig\" : 10, \"f_covmodel\":lst_covmodelC, \"probability\":[0.3, 0.7]}\n",
    "C = Unit(name=\"C\", order=2, ID = 2, color=\"blue\", contact=\"onlap\", dic_facies=dic_f_C, surface=Surface(dic_surf=dic_s_C, contact=\"onlap\"))\n",
    "\n",
    "dic_s_B = {\"int_method\" : \"grf_ineq\",\"covmodel\" : covmodelB, \"mean\":-8.5}\n",
    "dic_f_B = {\"f_method\":\"SIS\", \"neig\" : 10, \"f_covmodel\":lst_covmodelB, \"probability\":[0.2, 0.4, 0.25, 0.15]}\n",
    "B = Unit(name=\"B\",order=3,ID = 3,color=\"purple\",contact=\"onlap\",dic_facies=dic_f_B,surface=Surface(contact=\"onlap\",dic_surf=dic_s_B))\n",
    "\n",
    "dic_s_A = {\"int_method\":\"grf_ineq\",\"covmodel\": covmodelB, \"mean\":-11}\n",
    "dic_f_A = {\"f_method\":\"homogenous\"}\n",
    "A = Unit(name=\"A\",order=5,ID = 5,color=\"red\",contact=\"onlap\",dic_facies=dic_f_A,surface=Surface(dic_surf = dic_s_A,contact=\"onlap\"))\n",
    "\n",
    "#Master pile\n",
    "P1.add_unit([D,C,B,A])"
   ]
  },
  {
   "cell_type": "code",
   "execution_count": 4,
   "metadata": {
    "execution": {
     "iopub.execute_input": "2025-01-23T15:54:04.114040Z",
     "iopub.status.busy": "2025-01-23T15:54:04.113039Z",
     "iopub.status.idle": "2025-01-23T15:54:04.121928Z",
     "shell.execute_reply": "2025-01-23T15:54:04.121928Z"
    }
   },
   "outputs": [
    {
     "name": "stdout",
     "output_type": "stream",
     "text": [
      "Facies basement added to unit A\n",
      "Facies Sand added to unit B\n",
      "Facies Gravel added to unit B\n",
      "Facies GM added to unit B\n",
      "Facies SM added to unit B\n",
      "Facies Sand added to unit D\n",
      "Facies Clay added to unit C\n",
      "Facies Silt added to unit C\n"
     ]
    }
   ],
   "source": [
    "# covmodels for the property model\n",
    "covmodelK = gcm.CovModel3D(elem=[(\"exponential\",{\"w\":0.3,\"r\":[30,30,10]})],alpha=-20,name=\"K_vario\")\n",
    "covmodelK2 = gcm.CovModel3D(elem=[(\"spherical\",{\"w\":0.1,\"r\":[20,20, 5]})],alpha=0,name=\"K_vario_2\")\n",
    "\n",
    "facies_1 = Facies(ID = 1,name=\"Sand\",color=\"yellow\")\n",
    "facies_2 = Facies(ID = 2,name=\"Gravel\",color=\"lightgreen\")\n",
    "facies_3 = Facies(ID = 3,name=\"GM\",color=\"blueviolet\")\n",
    "facies_4 = Facies(ID = 4,name=\"Clay\",color=\"blue\")\n",
    "facies_5 = Facies(ID = 5,name=\"SM\",color=\"brown\")\n",
    "facies_6 = Facies(ID = 6,name=\"Silt\",color=\"goldenrod\")\n",
    "facies_7 = Facies(ID = 7,name=\"basement\",color=\"red\")\n",
    "\n",
    "A.add_facies([facies_7])\n",
    "B.add_facies([facies_1, facies_2, facies_3, facies_5])\n",
    "D.add_facies([facies_1])\n",
    "C.add_facies([facies_4, facies_6])\n",
    "\n",
    "# property model\n",
    "cm_prop1 = gcm.CovModel3D(elem = [(\"spherical\", {\"w\":0.1, \"r\":[10,10,10]}),\n",
    "                                  (\"cubic\", {\"w\":0.1, \"r\":[15,15,15]})])\n",
    "cm_prop2 = gcm.CovModel3D(elem = [(\"cubic\", {\"w\":0.2, \"r\":[25, 25, 5]})])\n",
    "\n",
    "list_facies = [facies_1, facies_2, facies_3, facies_4, facies_5, facies_6, facies_7]\n",
    "list_covmodels = [cm_prop2, cm_prop1, cm_prop2, cm_prop1, cm_prop2, cm_prop1, cm_prop2]\n",
    "means = [-4, -2, -6, -9, -6, -7, -19]\n",
    "prop_model = ArchPy.base.Prop(\"K\",\n",
    "                              facies = list_facies,\n",
    "                              covmodels = list_covmodels,\n",
    "                                means = means,\n",
    "                                int_method = \"sgs\",\n",
    "                                vmin = -10,\n",
    "                                vmax = -1\n",
    "                                )\n",
    "\n"
   ]
  },
  {
   "cell_type": "code",
   "execution_count": 5,
   "metadata": {
    "execution": {
     "iopub.execute_input": "2025-01-23T15:54:04.123927Z",
     "iopub.status.busy": "2025-01-23T15:54:04.122926Z",
     "iopub.status.idle": "2025-01-23T15:54:04.126339Z",
     "shell.execute_reply": "2025-01-23T15:54:04.126339Z"
    }
   },
   "outputs": [],
   "source": [
    "top = np.ones([ny,nx])*-6\n",
    "bot = np.ones([ny,nx])*z0"
   ]
  },
  {
   "cell_type": "code",
   "execution_count": 6,
   "metadata": {
    "execution": {
     "iopub.execute_input": "2025-01-23T15:54:04.128338Z",
     "iopub.status.busy": "2025-01-23T15:54:04.128338Z",
     "iopub.status.idle": "2025-01-23T15:54:04.152457Z",
     "shell.execute_reply": "2025-01-23T15:54:04.152457Z"
    }
   },
   "outputs": [
    {
     "name": "stdout",
     "output_type": "stream",
     "text": [
      "Pile sets as Pile master\n",
      "## Adding Grid ##\n",
      "## Grid added and is now simulation grid ##\n",
      "Property K added\n"
     ]
    }
   ],
   "source": [
    "T1 = Arch_table(name = \"P1\",seed=3)\n",
    "T1.set_Pile_master(P1)\n",
    "T1.add_grid(dimensions, spacing, origin, top=top,bot=bot, rotation_angle=45)\n",
    "T1.add_prop(prop_model)"
   ]
  },
  {
   "cell_type": "code",
   "execution_count": 7,
   "metadata": {},
   "outputs": [
    {
     "data": {
      "application/vnd.jupyter.widget-view+json": {
       "model_id": "8b2cce708d3d43ab852a0c3ea1c44785",
       "version_major": 2,
       "version_minor": 0
      },
      "text/plain": [
       "Widget(value='<iframe src=\"http://localhost:57766/index.html?ui=P_0x1f29aac7910_0&reconnect=auto\" class=\"pyvis…"
      ]
     },
     "metadata": {},
     "output_type": "display_data"
    },
    {
     "name": "stdout",
     "output_type": "stream",
     "text": [
      " JS Error => error: Uncaught TypeError: Cannot read properties of null (reading '0')\n",
      " JS Error => error: Uncaught TypeError: Cannot read properties of null (reading '0')\n",
      " JS Error => error: Uncaught TypeError: Cannot read properties of null (reading '0')\n",
      " JS Error => error: Uncaught TypeError: Cannot read properties of null (reading '0')\n",
      " JS Error => error: Uncaught TypeError: Cannot read properties of null (reading '0')\n",
      " JS Error => error: Uncaught TypeError: Cannot read properties of null (reading '0')\n",
      " JS Error => error: Uncaught TypeError: Cannot read properties of null (reading '0')\n",
      " JS Error => error: Uncaught TypeError: Cannot read properties of null (reading '0')\n"
     ]
    }
   ],
   "source": [
    "T1.plot_grid()"
   ]
  },
  {
   "cell_type": "code",
   "execution_count": 8,
   "metadata": {
    "execution": {
     "iopub.execute_input": "2025-01-23T15:54:04.154457Z",
     "iopub.status.busy": "2025-01-23T15:54:04.154457Z",
     "iopub.status.idle": "2025-01-23T15:54:08.422369Z",
     "shell.execute_reply": "2025-01-23T15:54:08.422369Z"
    }
   },
   "outputs": [
    {
     "name": "stdout",
     "output_type": "stream",
     "text": [
      "Boreholes not processed, fully unconditional simulations will be tempted\n",
      "########## PILE P1 ##########\n",
      "Pile P1: ordering units\n",
      "Stratigraphic units have been sorted according to order\n",
      "Discrepency in the orders for units A and B\n",
      "Changing orders for that they range from 1 to n\n",
      "\n",
      "#### COMPUTING SURFACE OF UNIT A\n",
      "A: time elapsed for computing surface 0.02980637550354004 s\n",
      "\n",
      "#### COMPUTING SURFACE OF UNIT B\n",
      "B: time elapsed for computing surface 0.028923511505126953 s\n",
      "\n",
      "#### COMPUTING SURFACE OF UNIT C\n",
      "C: time elapsed for computing surface 0.025929927825927734 s\n",
      "\n",
      "#### COMPUTING SURFACE OF UNIT D\n",
      "D: time elapsed for computing surface 0.0 s\n",
      "\n",
      "Time elapsed for getting domains 0.07687926292419434 s\n",
      "##########################\n",
      "\n",
      "\n",
      "### 0.17658209800720215: Total time elapsed for computing surfaces ###\n",
      "\n",
      "### Unit D: facies simulation with homogenous method ####\n",
      "### Unit D - realization 0 ###\n",
      "Time elapsed 0.01 s\n",
      "\n",
      "### Unit C: facies simulation with SIS method ####\n",
      "### Unit C - realization 0 ###\n",
      "Only one facies covmodels for multiples facies, adapt sill to right proportions\n",
      "Time elapsed 1.17 s\n",
      "\n",
      "### Unit B: facies simulation with SIS method ####\n",
      "### Unit B - realization 0 ###\n",
      "Time elapsed 2.13 s\n",
      "\n",
      "### Unit A: facies simulation with homogenous method ####\n",
      "### Unit A - realization 0 ###\n",
      "Time elapsed 0.02 s\n",
      "\n",
      "### 3.33: Total time elapsed for computing facies ###\n",
      "### 1 K property models will be modeled ###\n",
      "### 1 K models done\n"
     ]
    }
   ],
   "source": [
    "T1.compute_surf(1)\n",
    "T1.compute_facies(1)\n",
    "T1.compute_prop(1)"
   ]
  },
  {
   "cell_type": "code",
   "execution_count": 9,
   "metadata": {
    "execution": {
     "iopub.execute_input": "2025-01-23T15:54:08.424368Z",
     "iopub.status.busy": "2025-01-23T15:54:08.424368Z",
     "iopub.status.idle": "2025-01-23T15:54:08.671989Z",
     "shell.execute_reply": "2025-01-23T15:54:08.671989Z"
    }
   },
   "outputs": [],
   "source": [
    "import flopy as fp"
   ]
  },
  {
   "cell_type": "code",
   "execution_count": 10,
   "metadata": {
    "execution": {
     "iopub.execute_input": "2025-01-23T15:54:08.673987Z",
     "iopub.status.busy": "2025-01-23T15:54:08.673987Z",
     "iopub.status.idle": "2025-01-23T15:54:09.509175Z",
     "shell.execute_reply": "2025-01-23T15:54:09.509175Z"
    }
   },
   "outputs": [],
   "source": [
    "pv.set_jupyter_backend(\"client\")"
   ]
  },
  {
   "cell_type": "code",
   "execution_count": 11,
   "metadata": {
    "execution": {
     "iopub.execute_input": "2025-01-23T15:54:09.512178Z",
     "iopub.status.busy": "2025-01-23T15:54:09.511179Z",
     "iopub.status.idle": "2025-01-23T15:54:10.900644Z",
     "shell.execute_reply": "2025-01-23T15:54:10.900644Z"
    }
   },
   "outputs": [
    {
     "data": {
      "application/vnd.jupyter.widget-view+json": {
       "model_id": "faebc7f985dd4221be9bd52949be2f4c",
       "version_major": 2,
       "version_minor": 0
      },
      "text/plain": [
       "Widget(value='<iframe src=\"http://localhost:57766/index.html?ui=P_0x1f2b7573250_1&reconnect=auto\" class=\"pyvis…"
      ]
     },
     "metadata": {},
     "output_type": "display_data"
    }
   ],
   "source": [
    "T1.plot_units(v_ex=3)"
   ]
  },
  {
   "cell_type": "code",
   "execution_count": 12,
   "metadata": {
    "execution": {
     "iopub.execute_input": "2025-01-23T15:54:10.902643Z",
     "iopub.status.busy": "2025-01-23T15:54:10.902643Z",
     "iopub.status.idle": "2025-01-23T15:54:12.001158Z",
     "shell.execute_reply": "2025-01-23T15:54:12.001158Z"
    }
   },
   "outputs": [
    {
     "data": {
      "application/vnd.jupyter.widget-view+json": {
       "model_id": "0f1e902e858a46a7aa61a77e8602ed9e",
       "version_major": 2,
       "version_minor": 0
      },
      "text/plain": [
       "Widget(value='<iframe src=\"http://localhost:57766/index.html?ui=P_0x1f2b2e8f310_2&reconnect=auto\" class=\"pyvis…"
      ]
     },
     "metadata": {},
     "output_type": "display_data"
    }
   ],
   "source": [
    "T1.plot_facies(v_ex=3)"
   ]
  },
  {
   "cell_type": "code",
   "execution_count": 13,
   "metadata": {
    "execution": {
     "iopub.execute_input": "2025-01-23T15:54:12.003156Z",
     "iopub.status.busy": "2025-01-23T15:54:12.003156Z",
     "iopub.status.idle": "2025-01-23T15:54:13.026388Z",
     "shell.execute_reply": "2025-01-23T15:54:13.026388Z"
    }
   },
   "outputs": [
    {
     "data": {
      "application/vnd.jupyter.widget-view+json": {
       "model_id": "d4a51b4454704c4da1618b5d35068c72",
       "version_major": 2,
       "version_minor": 0
      },
      "text/plain": [
       "Widget(value='<iframe src=\"http://localhost:57766/index.html?ui=P_0x1f2b2ea0f90_3&reconnect=auto\" class=\"pyvis…"
      ]
     },
     "metadata": {},
     "output_type": "display_data"
    }
   ],
   "source": [
    "T1.plot_prop(\"K\", v_ex=3)"
   ]
  },
  {
   "cell_type": "code",
   "execution_count": 14,
   "metadata": {
    "execution": {
     "iopub.execute_input": "2025-01-23T15:54:13.028387Z",
     "iopub.status.busy": "2025-01-23T15:54:13.028387Z",
     "iopub.status.idle": "2025-01-23T15:54:13.033735Z",
     "shell.execute_reply": "2025-01-23T15:54:13.033735Z"
    }
   },
   "outputs": [],
   "source": [
    "val = T1.get_prop(\"K\")[0, 0, 0]\n",
    "im = geone.img.Img(nx=nx, ny=ny, nz=nz, sx=sx, sy=sy, sz=sz, ox=x0, oy=y0, oz=z0, nv=1, val=val)"
   ]
  },
  {
   "cell_type": "code",
   "execution_count": 15,
   "metadata": {},
   "outputs": [],
   "source": [
    "import ArchPy.ap_mf\n",
    "from ArchPy.ap_mf import archpy2modflow, array2cellids"
   ]
  },
  {
   "cell_type": "code",
   "execution_count": 16,
   "metadata": {},
   "outputs": [
    {
     "data": {
      "text/plain": [
       "<matplotlib.colorbar.Colorbar at 0x1f2c7230950>"
      ]
     },
     "execution_count": 16,
     "metadata": {},
     "output_type": "execute_result"
    },
    {
     "data": {
      "image/png": "[encoded data removed]",
      "text/plain": [
       "<Figure size 640x480 with 2 Axes>"
      ]
     },
     "metadata": {},
     "output_type": "display_data"
    }
   ],
   "source": [
    "plt.imshow(T1.xcellcenters)\n",
    "plt.colorbar()"
   ]
  },
  {
   "cell_type": "code",
   "execution_count": 17,
   "metadata": {},
   "outputs": [],
   "source": [
    "import flopy\n",
    "from flopy.utils.gridgen import Gridgen\n",
    "from flopy.export.vtk import Vtk\n",
    "\n",
    "gridgen_path = \"../../../../exe/gridgen.exe\""
   ]
  },
  {
   "cell_type": "code",
   "execution_count": 168,
   "metadata": {},
   "outputs": [],
   "source": [
    "# create a grid  --> we can create a fake modflow model to use the gridgen\n",
    "\n",
    "# 3D example\n",
    "# grid dimensions\n",
    "nlay = 4\n",
    "nrow = 8\n",
    "ncol = 12\n",
    "delr = 17.\n",
    "delc = 12.\n",
    "top = -6\n",
    "ox = 0\n",
    "oy = 5\n",
    "rot_angle = T1.rot_angle\n",
    "\n",
    "botm = np.linspace(-8, -15, nlay)\n",
    "\n",
    "sim = flopy.mf6.MFSimulation(\n",
    "    sim_name=\"asdf\", sim_ws=\"ws\", exe_name=\"mf6\")\n",
    "tdis = flopy.mf6.ModflowTdis(sim, time_units=\"DAYS\", perioddata=[[1.0, 1, 1.0]])\n",
    "ms = flopy.mf6.ModflowGwf(sim, modelname=\"asdf\", save_flows=True)\n",
    "dis = flopy.mf6.ModflowGwfdis(\n",
    "    ms,\n",
    "    nlay=nlay,\n",
    "    nrow=nrow,\n",
    "    ncol=ncol,\n",
    "    delr=delr,\n",
    "    delc=delc,\n",
    "    top=top,\n",
    "    botm=botm,\n",
    "    xorigin=0,  # gridgen will be applied on a grid with origin at 0, 0\n",
    "    yorigin=0,\n",
    "    angrot=rot_angle,\n",
    ")\n",
    "\n",
    "# create Gridgen object\n",
    "g = Gridgen(ms.modelgrid, model_ws=\"gridgen_ws\", exe_name=gridgen_path)  \n",
    "\n",
    "polygon = [\n",
    "    [\n",
    "        (70, 140),\n",
    "        (70, 130),\n",
    "        (40, 120),\n",
    "        (40, 120),\n",
    "        (70, 140),\n",
    "    ]\n",
    "]\n",
    "polygon = np.array(polygon)\n",
    "polygon = polygon - [ox, oy]  # move the polygon to the origin\n",
    "\n",
    "g.add_refinement_features([polygon], \"polygon\", 4, range(1))\n",
    "refshp0 = \"gridgen_ws/\" + \"rf0\""
   ]
  },
  {
   "cell_type": "code",
   "execution_count": 169,
   "metadata": {},
   "outputs": [],
   "source": [
    "g.build(verbose=False)"
   ]
  },
  {
   "cell_type": "code",
   "execution_count": 170,
   "metadata": {},
   "outputs": [],
   "source": [
    "ms.dis.remove()\n",
    "# disv_gridprops = g.get_gridprops_disv()\n",
    "# disv = flopy.mf6.ModflowGwfdisv(ms, **disv_gridprops, xorigin=ox, yorigin=oy, angrot=0)  # create grid this time with the origin at ox, oy\n",
    "disu = flopy.mf6.ModflowGwfdisu(ms, **g.get_gridprops_disu6(), xorigin=ox, yorigin=oy, angrot=0)  # create grid this time with the origin at ox, oy"
   ]
  },
  {
   "cell_type": "code",
   "execution_count": 171,
   "metadata": {},
   "outputs": [
    {
     "data": {
      "text/plain": [
       "[<matplotlib.lines.Line2D at 0x1f2ccbab550>]"
      ]
     },
     "execution_count": 171,
     "metadata": {},
     "output_type": "execute_result"
    },
    {
     "data": {
      "image/png": "[encoded data removed]",
      "text/plain": [
       "<Figure size 640x480 with 1 Axes>"
      ]
     },
     "metadata": {},
     "output_type": "display_data"
    }
   ],
   "source": [
    "grid = ms.modelgrid\n",
    "grid.plot()\n",
    "\n",
    "# get bounding box archpy\n",
    "points_box = T1.get_points_box()\n",
    "\n",
    "# plot the bounding box\n",
    "plt.plot(points_box[:, 0], points_box[:, 1], \"r-\")"
   ]
  },
  {
   "cell_type": "code",
   "execution_count": 172,
   "metadata": {},
   "outputs": [],
   "source": [
    "import ArchPy.ap_mf"
   ]
  },
  {
   "cell_type": "code",
   "execution_count": 173,
   "metadata": {},
   "outputs": [
    {
     "name": "stdout",
     "output_type": "stream",
     "text": [
      "Simulation created\n",
      "To retrieve the simulation, use the get_sim() method\n"
     ]
    }
   ],
   "source": [
    "archpy_flow = archpy2modflow(T1, exe_name=\"../../../../exe/mf6.exe\")  # create the modflow model\n",
    "archpy_flow.create_sim(grid_mode=\"disu\", iu=0, unit_limit=None,\n",
    "                       factor_x=7, factor_y=7, factor_z=7,\n",
    "                       modflowgrid_props=g.get_gridprops_disu6(), xorigin=ox, yorigin=oy, angrot=rot_angle)  # create the simulation"
   ]
  },
  {
   "cell_type": "code",
   "execution_count": 174,
   "metadata": {},
   "outputs": [],
   "source": [
    "archpy_flow.set_k(\"K\", iu=0, ifa=0, ip=0, log=True)  # set the hydraulic conductivity"
   ]
  },
  {
   "cell_type": "code",
   "execution_count": 175,
   "metadata": {},
   "outputs": [],
   "source": [
    "sim = archpy_flow.get_sim()  # get the simulation object\n",
    "gwf = archpy_flow.get_gwf()  # get the groundwater flow model object"
   ]
  },
  {
   "cell_type": "code",
   "execution_count": 176,
   "metadata": {},
   "outputs": [],
   "source": [
    "vert_exag = 1\n",
    "vtk = Vtk(model=gwf, binary=False, vertical_exageration=vert_exag, smooth=True)\n",
    "vtk.add_model(gwf)\n",
    "\n",
    "arr = np.log10(gwf.npf.k.array)\n",
    "# arr = gwf.dis.idomain.array\n",
    "vtk.add_array(arr, name=\"K\")\n",
    "gwf_mesh = vtk.to_pyvista()\n",
    "\n",
    "# ghosts = np.argwhere(gwf_mesh[\"idomain\"] < 1.0)\n",
    "# gwf_mesh.remove_cells(ghosts, inplace=True)"
   ]
  },
  {
   "cell_type": "code",
   "execution_count": 177,
   "metadata": {},
   "outputs": [
    {
     "data": {
      "application/vnd.jupyter.widget-view+json": {
       "model_id": "32329a0375914a578f2390958750f9b4",
       "version_major": 2,
       "version_minor": 0
      },
      "text/plain": [
       "Widget(value='<iframe src=\"http://localhost:57766/index.html?ui=P_0x1f2e9011950_41&reconnect=auto\" class=\"pyvi…"
      ]
     },
     "metadata": {},
     "output_type": "display_data"
    }
   ],
   "source": [
    "import pyvista as pv\n",
    "\n",
    "pl = pv.Plotter(notebook=True)\n",
    "pl.add_mesh(gwf_mesh, opacity=1, show_edges=False, scalars=\"K\", clim=[-10, -1])\n",
    "pl.show()"
   ]
  },
  {
   "cell_type": "code",
   "execution_count": 178,
   "metadata": {},
   "outputs": [
    {
     "data": {
      "application/vnd.jupyter.widget-view+json": {
       "model_id": "ead24390b9e145e198ec481d91c90e3a",
       "version_major": 2,
       "version_minor": 0
      },
      "text/plain": [
       "Widget(value='<iframe src=\"http://localhost:57766/index.html?ui=P_0x1f2c90f0f50_42&reconnect=auto\" class=\"pyvi…"
      ]
     },
     "metadata": {},
     "output_type": "display_data"
    }
   ],
   "source": [
    "T1.plot_prop(\"K\", v_ex=1)"
   ]
  },
  {
   "cell_type": "code",
   "execution_count": null,
   "metadata": {},
   "outputs": [],
   "source": []
  }
 ],
 "metadata": {
  "kernelspec": {
   "display_name": "bebou",
   "language": "python",
   "name": "python3"
  },
  "language_info": {
   "codemirror_mode": {
    "name": "ipython",
    "version": 3
   },
   "file_extension": ".py",
   "mimetype": "text/x-python",
   "name": "python",
   "nbconvert_exporter": "python",
   "pygments_lexer": "ipython3",
   "version": "3.11.10"
  },
  "widgets": {
   "application/vnd.jupyter.widget-state+json": {
    "state": {
     "2f785ed85448438aa81c52e835077b1b": {
      "model_module": "@jupyter-widgets/controls",
      "model_module_version": "2.0.0",
      "model_name": "HTMLStyleModel",
      "state": {
       "_model_module": "@jupyter-widgets/controls",
       "_model_module_version": "2.0.0",
       "_model_name": "HTMLStyleModel",
       "_view_count": null,
       "_view_module": "@jupyter-widgets/base",
       "_view_module_version": "2.0.0",
       "_view_name": "StyleView",
       "background": null,
       "description_width": "",
       "font_size": null,
       "text_color": null
      }
     },
     "2fba29252cc743f885962f7310da133b": {
      "model_module": "@jupyter-widgets/controls",
      "model_module_version": "2.0.0",
      "model_name": "HTMLModel",
      "state": {
       "_dom_classes": [],
       "_model_module": "@jupyter-widgets/controls",
       "_model_module_version": "2.0.0",
       "_model_name": "HTMLModel",
       "_view_count": null,
       "_view_module": "@jupyter-widgets/controls",
       "_view_module_version": "2.0.0",
       "_view_name": "HTMLView",
       "description": "",
       "description_allow_html": false,
       "layout": "IPY_MODEL_5a5afbde4f7f42c2b6ae000f4ae09132",
       "placeholder": "​",
       "style": "IPY_MODEL_b33bf25163934376a276450aa999fb36",
       "tabbable": null,
       "tooltip": null,
       "value": "<iframe src=\"http://localhost:63620/index.html?ui=P_0x1bf28dc9bd0_1&reconnect=auto\" class=\"pyvista\" style=\"width: 99%; height: 600px; border: 1px solid rgb(221,221,221);\"></iframe>"
      }
     },
     "431e6f1aa5c447f18ca0ec25571ac10d": {
      "model_module": "@jupyter-widgets/base",
      "model_module_version": "2.0.0",
      "model_name": "LayoutModel",
      "state": {
       "_model_module": "@jupyter-widgets/base",
       "_model_module_version": "2.0.0",
       "_model_name": "LayoutModel",
       "_view_count": null,
       "_view_module": "@jupyter-widgets/base",
       "_view_module_version": "2.0.0",
       "_view_name": "LayoutView",
       "align_content": null,
       "align_items": null,
       "align_self": null,
       "border_bottom": null,
       "border_left": null,
       "border_right": null,
       "border_top": null,
       "bottom": null,
       "display": null,
       "flex": null,
       "flex_flow": null,
       "grid_area": null,
       "grid_auto_columns": null,
       "grid_auto_flow": null,
       "grid_auto_rows": null,
       "grid_column": null,
       "grid_gap": null,
       "grid_row": null,
       "grid_template_areas": null,
       "grid_template_columns": null,
       "grid_template_rows": null,
       "height": null,
       "justify_content": null,
       "justify_items": null,
       "left": null,
       "margin": null,
       "max_height": null,
       "max_width": null,
       "min_height": null,
       "min_width": null,
       "object_fit": null,
       "object_position": null,
       "order": null,
       "overflow": null,
       "padding": null,
       "right": null,
       "top": null,
       "visibility": null,
       "width": null
      }
     },
     "5a5afbde4f7f42c2b6ae000f4ae09132": {
      "model_module": "@jupyter-widgets/base",
      "model_module_version": "2.0.0",
      "model_name": "LayoutModel",
      "state": {
       "_model_module": "@jupyter-widgets/base",
       "_model_module_version": "2.0.0",
       "_model_name": "LayoutModel",
       "_view_count": null,
       "_view_module": "@jupyter-widgets/base",
       "_view_module_version": "2.0.0",
       "_view_name": "LayoutView",
       "align_content": null,
       "align_items": null,
       "align_self": null,
       "border_bottom": null,
       "border_left": null,
       "border_right": null,
       "border_top": null,
       "bottom": null,
       "display": null,
       "flex": null,
       "flex_flow": null,
       "grid_area": null,
       "grid_auto_columns": null,
       "grid_auto_flow": null,
       "grid_auto_rows": null,
       "grid_column": null,
       "grid_gap": null,
       "grid_row": null,
       "grid_template_areas": null,
       "grid_template_columns": null,
       "grid_template_rows": null,
       "height": null,
       "justify_content": null,
       "justify_items": null,
       "left": null,
       "margin": null,
       "max_height": null,
       "max_width": null,
       "min_height": null,
       "min_width": null,
       "object_fit": null,
       "object_position": null,
       "order": null,
       "overflow": null,
       "padding": null,
       "right": null,
       "top": null,
       "visibility": null,
       "width": null
      }
     },
     "839846856ffe40e9ae4dc5b738bb5610": {
      "model_module": "@jupyter-widgets/controls",
      "model_module_version": "2.0.0",
      "model_name": "HTMLModel",
      "state": {
       "_dom_classes": [],
       "_model_module": "@jupyter-widgets/controls",
       "_model_module_version": "2.0.0",
       "_model_name": "HTMLModel",
       "_view_count": null,
       "_view_module": "@jupyter-widgets/controls",
       "_view_module_version": "2.0.0",
       "_view_name": "HTMLView",
       "description": "",
       "description_allow_html": false,
       "layout": "IPY_MODEL_eeedd13f3c524d3d878cfd6306e9b3dd",
       "placeholder": "​",
       "style": "IPY_MODEL_dafa49070e684b7796956bc5bc0e15a5",
       "tabbable": null,
       "tooltip": null,
       "value": "<iframe src=\"http://localhost:63620/index.html?ui=P_0x1bf1ee21dd0_2&reconnect=auto\" class=\"pyvista\" style=\"width: 99%; height: 600px; border: 1px solid rgb(221,221,221);\"></iframe>"
      }
     },
     "83d8868fc46b4a6488d1fb3abbc53c43": {
      "model_module": "@jupyter-widgets/controls",
      "model_module_version": "2.0.0",
      "model_name": "HTMLModel",
      "state": {
       "_dom_classes": [],
       "_model_module": "@jupyter-widgets/controls",
       "_model_module_version": "2.0.0",
       "_model_name": "HTMLModel",
       "_view_count": null,
       "_view_module": "@jupyter-widgets/controls",
       "_view_module_version": "2.0.0",
       "_view_name": "HTMLView",
       "description": "",
       "description_allow_html": false,
       "layout": "IPY_MODEL_431e6f1aa5c447f18ca0ec25571ac10d",
       "placeholder": "​",
       "style": "IPY_MODEL_2f785ed85448438aa81c52e835077b1b",
       "tabbable": null,
       "tooltip": null,
       "value": "<iframe src=\"http://localhost:63620/index.html?ui=P_0x1bf295ec710_4&reconnect=auto\" class=\"pyvista\" style=\"width: 99%; height: 600px; border: 1px solid rgb(221,221,221);\"></iframe>"
      }
     },
     "a312eccc3b094f688ab60d4a8c7ef2a2": {
      "model_module": "@jupyter-widgets/base",
      "model_module_version": "2.0.0",
      "model_name": "LayoutModel",
      "state": {
       "_model_module": "@jupyter-widgets/base",
       "_model_module_version": "2.0.0",
       "_model_name": "LayoutModel",
       "_view_count": null,
       "_view_module": "@jupyter-widgets/base",
       "_view_module_version": "2.0.0",
       "_view_name": "LayoutView",
       "align_content": null,
       "align_items": null,
       "align_self": null,
       "border_bottom": null,
       "border_left": null,
       "border_right": null,
       "border_top": null,
       "bottom": null,
       "display": null,
       "flex": null,
       "flex_flow": null,
       "grid_area": null,
       "grid_auto_columns": null,
       "grid_auto_flow": null,
       "grid_auto_rows": null,
       "grid_column": null,
       "grid_gap": null,
       "grid_row": null,
       "grid_template_areas": null,
       "grid_template_columns": null,
       "grid_template_rows": null,
       "height": null,
       "justify_content": null,
       "justify_items": null,
       "left": null,
       "margin": null,
       "max_height": null,
       "max_width": null,
       "min_height": null,
       "min_width": null,
       "object_fit": null,
       "object_position": null,
       "order": null,
       "overflow": null,
       "padding": null,
       "right": null,
       "top": null,
       "visibility": null,
       "width": null
      }
     },
     "b33bf25163934376a276450aa999fb36": {
      "model_module": "@jupyter-widgets/controls",
      "model_module_version": "2.0.0",
      "model_name": "HTMLStyleModel",
      "state": {
       "_model_module": "@jupyter-widgets/controls",
       "_model_module_version": "2.0.0",
       "_model_name": "HTMLStyleModel",
       "_view_count": null,
       "_view_module": "@jupyter-widgets/base",
       "_view_module_version": "2.0.0",
       "_view_name": "StyleView",
       "background": null,
       "description_width": "",
       "font_size": null,
       "text_color": null
      }
     },
     "cd6a8afef3344953a3d7c93fab1febaf": {
      "model_module": "@jupyter-widgets/controls",
      "model_module_version": "2.0.0",
      "model_name": "HTMLStyleModel",
      "state": {
       "_model_module": "@jupyter-widgets/controls",
       "_model_module_version": "2.0.0",
       "_model_name": "HTMLStyleModel",
       "_view_count": null,
       "_view_module": "@jupyter-widgets/base",
       "_view_module_version": "2.0.0",
       "_view_name": "StyleView",
       "background": null,
       "description_width": "",
       "font_size": null,
       "text_color": null
      }
     },
     "d0f5994f05374206b13c23d96386e175": {
      "model_module": "@jupyter-widgets/controls",
      "model_module_version": "2.0.0",
      "model_name": "HTMLModel",
      "state": {
       "_dom_classes": [],
       "_model_module": "@jupyter-widgets/controls",
       "_model_module_version": "2.0.0",
       "_model_name": "HTMLModel",
       "_view_count": null,
       "_view_module": "@jupyter-widgets/controls",
       "_view_module_version": "2.0.0",
       "_view_name": "HTMLView",
       "description": "",
       "description_allow_html": false,
       "layout": "IPY_MODEL_a312eccc3b094f688ab60d4a8c7ef2a2",
       "placeholder": "​",
       "style": "IPY_MODEL_f4641f9bd5404aca9e64087bd545f15a",
       "tabbable": null,
       "tooltip": null,
       "value": "<iframe src=\"http://localhost:63620/index.html?ui=P_0x1bf1fffca90_0&reconnect=auto\" class=\"pyvista\" style=\"width: 99%; height: 600px; border: 1px solid rgb(221,221,221);\"></iframe>"
      }
     },
     "dafa49070e684b7796956bc5bc0e15a5": {
      "model_module": "@jupyter-widgets/controls",
      "model_module_version": "2.0.0",
      "model_name": "HTMLStyleModel",
      "state": {
       "_model_module": "@jupyter-widgets/controls",
       "_model_module_version": "2.0.0",
       "_model_name": "HTMLStyleModel",
       "_view_count": null,
       "_view_module": "@jupyter-widgets/base",
       "_view_module_version": "2.0.0",
       "_view_name": "StyleView",
       "background": null,
       "description_width": "",
       "font_size": null,
       "text_color": null
      }
     },
     "eeedd13f3c524d3d878cfd6306e9b3dd": {
      "model_module": "@jupyter-widgets/base",
      "model_module_version": "2.0.0",
      "model_name": "LayoutModel",
      "state": {
       "_model_module": "@jupyter-widgets/base",
       "_model_module_version": "2.0.0",
       "_model_name": "LayoutModel",
       "_view_count": null,
       "_view_module": "@jupyter-widgets/base",
       "_view_module_version": "2.0.0",
       "_view_name": "LayoutView",
       "align_content": null,
       "align_items": null,
       "align_self": null,
       "border_bottom": null,
       "border_left": null,
       "border_right": null,
       "border_top": null,
       "bottom": null,
       "display": null,
       "flex": null,
       "flex_flow": null,
       "grid_area": null,
       "grid_auto_columns": null,
       "grid_auto_flow": null,
       "grid_auto_rows": null,
       "grid_column": null,
       "grid_gap": null,
       "grid_row": null,
       "grid_template_areas": null,
       "grid_template_columns": null,
       "grid_template_rows": null,
       "height": null,
       "justify_content": null,
       "justify_items": null,
       "left": null,
       "margin": null,
       "max_height": null,
       "max_width": null,
       "min_height": null,
       "min_width": null,
       "object_fit": null,
       "object_position": null,
       "order": null,
       "overflow": null,
       "padding": null,
       "right": null,
       "top": null,
       "visibility": null,
       "width": null
      }
     },
     "f4641f9bd5404aca9e64087bd545f15a": {
      "model_module": "@jupyter-widgets/controls",
      "model_module_version": "2.0.0",
      "model_name": "HTMLStyleModel",
      "state": {
       "_model_module": "@jupyter-widgets/controls",
       "_model_module_version": "2.0.0",
       "_model_name": "HTMLStyleModel",
       "_view_count": null,
       "_view_module": "@jupyter-widgets/base",
       "_view_module_version": "2.0.0",
       "_view_name": "StyleView",
       "background": null,
       "description_width": "",
       "font_size": null,
       "text_color": null
      }
     },
     "f7b88174715b4db88d7ac747e07dd8f8": {
      "model_module": "@jupyter-widgets/controls",
      "model_module_version": "2.0.0",
      "model_name": "HTMLModel",
      "state": {
       "_dom_classes": [],
       "_model_module": "@jupyter-widgets/controls",
       "_model_module_version": "2.0.0",
       "_model_name": "HTMLModel",
       "_view_count": null,
       "_view_module": "@jupyter-widgets/controls",
       "_view_module_version": "2.0.0",
       "_view_name": "HTMLView",
       "description": "",
       "description_allow_html": false,
       "layout": "IPY_MODEL_f8ab5684b85b4c0890639943cbf698af",
       "placeholder": "​",
       "style": "IPY_MODEL_cd6a8afef3344953a3d7c93fab1febaf",
       "tabbable": null,
       "tooltip": null,
       "value": "<iframe src=\"http://localhost:63620/index.html?ui=P_0x1bf29552c90_3&reconnect=auto\" class=\"pyvista\" style=\"width: 99%; height: 600px; border: 1px solid rgb(221,221,221);\"></iframe>"
      }
     },
     "f8ab5684b85b4c0890639943cbf698af": {
      "model_module": "@jupyter-widgets/base",
      "model_module_version": "2.0.0",
      "model_name": "LayoutModel",
      "state": {
       "_model_module": "@jupyter-widgets/base",
       "_model_module_version": "2.0.0",
       "_model_name": "LayoutModel",
       "_view_count": null,
       "_view_module": "@jupyter-widgets/base",
       "_view_module_version": "2.0.0",
       "_view_name": "LayoutView",
       "align_content": null,
       "align_items": null,
       "align_self": null,
       "border_bottom": null,
       "border_left": null,
       "border_right": null,
       "border_top": null,
       "bottom": null,
       "display": null,
       "flex": null,
       "flex_flow": null,
       "grid_area": null,
       "grid_auto_columns": null,
       "grid_auto_flow": null,
       "grid_auto_rows": null,
       "grid_column": null,
       "grid_gap": null,
       "grid_row": null,
       "grid_template_areas": null,
       "grid_template_columns": null,
       "grid_template_rows": null,
       "height": null,
       "justify_content": null,
       "justify_items": null,
       "left": null,
       "margin": null,
       "max_height": null,
       "max_width": null,
       "min_height": null,
       "min_width": null,
       "object_fit": null,
       "object_position": null,
       "order": null,
       "overflow": null,
       "padding": null,
       "right": null,
       "top": null,
       "visibility": null,
       "width": null
      }
     }
    },
    "version_major": 2,
    "version_minor": 0
   }
  }
 },
 "nbformat": 4,
 "nbformat_minor": 2
}

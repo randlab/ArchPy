{
 "cells": [
  {
   "cell_type": "markdown",
   "metadata": {},
   "source": [
    "# Use existing surfaces\n",
    "\n",
    "This notebook briefly presents how to use existing surfaces in place of the compute_surface from ArchPy"
   ]
  },
  {
   "cell_type": "code",
   "execution_count": 1,
   "metadata": {
    "execution": {
     "iopub.execute_input": "2025-03-11T13:07:57.518694Z",
     "iopub.status.busy": "2025-03-11T13:07:57.517696Z",
     "iopub.status.idle": "2025-03-11T13:07:59.858111Z",
     "shell.execute_reply": "2025-03-11T13:07:59.857551Z"
    }
   },
   "outputs": [],
   "source": [
    "import numpy as np\n",
    "import matplotlib\n",
    "from matplotlib import colors\n",
    "import matplotlib.pyplot as plt\n",
    "import geone\n",
    "import geone.covModel as gcm\n",
    "import geone.imgplot3d as imgplt3\n",
    "import pyvista as pv\n",
    "import sys\n",
    "\n",
    "sys.path.append(\"../../\")\n",
    "# sys.path.append(\"../../../../../Documents(sauvegarde)/Github/ArchPy\")\n",
    "#my modules\n",
    "import ArchPy\n",
    "import ArchPy.base\n",
    "from ArchPy.base import *"
   ]
  },
  {
   "cell_type": "markdown",
   "metadata": {},
   "source": [
    "## Build the arch table\n",
    "\n",
    "First we need to build a table, depending on the geology of your site"
   ]
  },
  {
   "cell_type": "code",
   "execution_count": 2,
   "metadata": {
    "execution": {
     "iopub.execute_input": "2025-03-11T13:07:59.861064Z",
     "iopub.status.busy": "2025-03-11T13:07:59.861064Z",
     "iopub.status.idle": "2025-03-11T13:07:59.864876Z",
     "shell.execute_reply": "2025-03-11T13:07:59.863883Z"
    }
   },
   "outputs": [],
   "source": [
    "PD = Pile(name = \"PD\", seed = 10)\n",
    "PB = Pile(name = \"PB\", seed=1)\n",
    "P1 = Pile(name = \"P1\", seed=1)"
   ]
  },
  {
   "cell_type": "code",
   "execution_count": 3,
   "metadata": {
    "execution": {
     "iopub.execute_input": "2025-03-11T13:07:59.866857Z",
     "iopub.status.busy": "2025-03-11T13:07:59.866857Z",
     "iopub.status.idle": "2025-03-11T13:07:59.872848Z",
     "shell.execute_reply": "2025-03-11T13:07:59.871854Z"
    }
   },
   "outputs": [],
   "source": [
    "#grid\n",
    "sx = 0.15\n",
    "sy = 0.15\n",
    "sz = .15\n",
    "x1 = 20\n",
    "y1 = 10\n",
    "z1 = -6\n",
    "x0 = 0\n",
    "y0 = 0\n",
    "z0 = -15\n",
    "nx = 133\n",
    "ny = 67\n",
    "nz = 62\n",
    "\n",
    "\n",
    "dimensions = (nx, ny, nz)\n",
    "spacing = (sx, sy, sz)\n",
    "origin = (x0, y0, z0)  "
   ]
  },
  {
   "cell_type": "code",
   "execution_count": 4,
   "metadata": {
    "execution": {
     "iopub.execute_input": "2025-03-11T13:07:59.874842Z",
     "iopub.status.busy": "2025-03-11T13:07:59.874842Z",
     "iopub.status.idle": "2025-03-11T13:07:59.892575Z",
     "shell.execute_reply": "2025-03-11T13:07:59.891580Z"
    }
   },
   "outputs": [
    {
     "name": "stdout",
     "output_type": "stream",
     "text": [
      "Unit D: Surface added for interpolation\n",
      "Unit C: covmodel for SIS added\n",
      "Unit C: Surface added for interpolation\n",
      "Unit B: Surface added for interpolation\n",
      "Unit A: Surface added for interpolation\n",
      "Stratigraphic unit D added\n",
      "Stratigraphic unit C added\n",
      "Stratigraphic unit B added\n",
      "Stratigraphic unit A added\n",
      "Unit B3: covmodel for SIS added\n",
      "Unit B3: Surface added for interpolation\n",
      "Unit B2: covmodel for SIS added\n",
      "Unit B2: Surface added for interpolation\n",
      "Unit B1: covmodel for SIS added\n",
      "Unit B1: Surface added for interpolation\n",
      "Stratigraphic unit B3 added\n",
      "Stratigraphic unit B2 added\n",
      "Stratigraphic unit B1 added\n",
      "Unit D2: covmodel for SIS added\n",
      "Unit D2: Surface added for interpolation\n",
      "Unit D1: covmodel for SIS added\n",
      "Unit D1: Surface added for interpolation\n",
      "Stratigraphic unit D2 added\n",
      "Stratigraphic unit D1 added\n"
     ]
    }
   ],
   "source": [
    "#units covmodel\n",
    "covmodelD = gcm.CovModel2D(elem=[('cubic', {'w':0.6, 'r':[6,6]})])\n",
    "covmodelD1 = gcm.CovModel2D(elem=[('cubic', {'w':0.2, 'r':[6,6]})])\n",
    "covmodelC = gcm.CovModel2D(elem=[('cubic', {'w':0.2, 'r':[8,8]})])\n",
    "covmodelB = gcm.CovModel2D(elem=[('cubic', {'w':0.6, 'r':[6,6]})])\n",
    "covmodel_er = gcm.CovModel2D(elem=[('spherical', {'w':1, 'r':[10,10]})])\n",
    "\n",
    "## facies covmodel\n",
    "covmodel_SIS_C = gcm.CovModel3D(elem=[(\"exponential\",{\"w\":.25,\"r\":[10,10,3]})],alpha=0,name=\"vario_SIS\") # input variogram\n",
    "covmodel_SIS_D = gcm.CovModel3D(elem=[(\"exponential\",{\"w\":.25,\"r\":[5,5,5]})],alpha=0,name=\"vario_SIS\") # input variogram\n",
    "lst_covmodelC=[covmodel_SIS_C] # list of covmodels to pass at the function\n",
    "lst_covmodelD=[covmodel_SIS_D]\n",
    "\n",
    "\n",
    "#create Lithologies \n",
    "dic_s_D = {\"int_method\" : \"grf_ineq\",\"covmodel\" : covmodelD}\n",
    "dic_f_D = {\"f_method\":\"SubPile\", \"SubPile\": PD}\n",
    "D = Unit(name=\"D\",order=1,ID = 1,color=\"gold\",contact=\"onlap\",surface=Surface(contact=\"onlap\",dic_surf=dic_s_D)\n",
    "         ,dic_facies=dic_f_D)\n",
    "\n",
    "dic_s_C = {\"int_method\" : \"nearest\",\"covmodel\" : covmodelC}\n",
    "dic_f_C = {\"f_method\" : \"SIS\",\"neig\" : 10,\"f_covmodel\":covmodel_SIS_C}\n",
    "C = Unit(name=\"C\",order=2,ID = 2,color=\"blue\",contact=\"onlap\",dic_facies=dic_f_C,surface=Surface(dic_surf=dic_s_C,contact=\"onlap\"))\n",
    "\n",
    "dic_s_B = {\"int_method\" : \"grf_ineq\",\"covmodel\" : covmodelB}\n",
    "dic_f_B = {\"f_method\":\"SubPile\",\"SubPile\":PB}\n",
    "B = Unit(name=\"B\",order=3,ID = 3,color=\"purple\",contact=\"onlap\",dic_facies=dic_f_B,surface=Surface(contact=\"onlap\",dic_surf=dic_s_B))\n",
    "\n",
    "dic_s_A = {\"int_method\":\"grf_ineq\",\"covmodel\": covmodelB}\n",
    "dic_f_A = {\"f_method\":\"homogenous\"}\n",
    "A = Unit(name=\"A\",order=5,ID = 5,color=\"red\",contact=\"onlap\",dic_facies=dic_f_A,surface=Surface(dic_surf = dic_s_A,contact=\"onlap\"))\n",
    "\n",
    "#Master pile\n",
    "P1.add_unit([D,C,B,A])\n",
    "\n",
    "# PB\n",
    "ds_B3 = {\"int_method\":\"grf_ineq\",\"covmodel\":covmodelB}\n",
    "df_B3 = {\"f_method\":\"SIS\", \"neig\" : 10,\"f_covmodel\":covmodel_SIS_D}\n",
    "B3 = Unit(name = \"B3\",order=1,ID = 6,color=\"forestgreen\",surface=Surface(dic_surf=ds_B3,contact=\"onlap\"),dic_facies=df_B3)\n",
    "\n",
    "ds_B2 = {\"int_method\":\"grf_ineq\",\"covmodel\":covmodelB}\n",
    "df_B2 = {\"f_method\":\"SIS\",\"neig\" : 10,\"f_covmodel\":covmodel_SIS_D}\n",
    "B2 = Unit(name = \"B2\",order=2,ID = 7,color=\"limegreen\",surface=Surface(dic_surf=ds_B2,contact=\"erode\"),dic_facies=df_B2)\n",
    "\n",
    "ds_B1 = {\"int_method\":\"grf_ineq\",\"covmodel\":covmodelB}\n",
    "df_B1 = {\"f_method\":\"SIS\",\"neig\" : 10,\"f_covmodel\":covmodel_SIS_D}\n",
    "B1 = Unit(name = \"B1\",order=3, ID = 8,color=\"palegreen\",surface=Surface(dic_surf=ds_B1,contact=\"onlap\"),dic_facies=df_B1)\n",
    "\n",
    "## Subpile\n",
    "PB.add_unit([B3,B2,B1])\n",
    "\n",
    "# PD\n",
    "ds_D2 = {\"int_method\":\"grf_ineq\",\"covmodel\":covmodelD1}\n",
    "df_D2 = {\"f_method\":\"SIS\",\"neig\" : 20,\"f_covmodel\":covmodel_SIS_D}\n",
    "D2 = Unit(name = \"D2\", order=1, ID = 9,color=\"darkgoldenrod\",surface=Surface(dic_surf=ds_D2,contact=\"onlap\"),dic_facies=df_D2)\n",
    "\n",
    "ds_D1 = {\"int_method\":\"grf_ineq\",\"covmodel\":covmodelD1}\n",
    "df_D1 = {\"f_method\":\"SIS\",\"neig\" : 20,\"f_covmodel\":covmodel_SIS_D}\n",
    "D1 = Unit(name = \"D1\", order=2, ID = 10,color=\"yellow\",surface=Surface(dic_surf=ds_D1,contact=\"onlap\"),dic_facies=df_D1)\n",
    "\n",
    "PD.add_unit([D2, D1])"
   ]
  },
  {
   "cell_type": "code",
   "execution_count": 5,
   "metadata": {
    "execution": {
     "iopub.execute_input": "2025-03-11T13:07:59.933580Z",
     "iopub.status.busy": "2025-03-11T13:07:59.932608Z",
     "iopub.status.idle": "2025-03-11T13:07:59.943600Z",
     "shell.execute_reply": "2025-03-11T13:07:59.942605Z"
    }
   },
   "outputs": [
    {
     "name": "stdout",
     "output_type": "stream",
     "text": [
      "Facies basement added to unit A\n",
      "Facies Sand added to unit B\n",
      "Facies Gravel added to unit B\n",
      "Facies GM added to unit B\n",
      "Facies SM added to unit B\n",
      "Facies Sand added to unit D\n",
      "Facies Gravel added to unit D\n",
      "Facies GM added to unit D\n",
      "Facies SM added to unit D\n",
      "Facies Clay added to unit C\n",
      "Facies Silt added to unit C\n",
      "Facies Sand added to unit B3\n",
      "Facies Gravel added to unit B3\n",
      "Facies GM added to unit B3\n",
      "Facies SM added to unit B3\n",
      "Facies Sand added to unit B2\n",
      "Facies Gravel added to unit B2\n",
      "Facies GM added to unit B2\n",
      "Facies SM added to unit B2\n",
      "Facies Sand added to unit B1\n",
      "Facies Gravel added to unit B1\n",
      "Facies GM added to unit B1\n",
      "Facies SM added to unit B1\n",
      "Facies Sand added to unit D2\n",
      "Facies Gravel added to unit D2\n",
      "Facies GM added to unit D2\n",
      "Facies SM added to unit D2\n",
      "Facies Sand added to unit D1\n",
      "Facies Gravel added to unit D1\n",
      "Facies GM added to unit D1\n",
      "Facies SM added to unit D1\n"
     ]
    }
   ],
   "source": [
    "# covmodels for the property model\n",
    "covmodelK = gcm.CovModel3D(elem=[(\"exponential\",{\"w\":0.3,\"r\":[5,5,1]})],alpha=-20,name=\"K_vario\")\n",
    "covmodelK2 = gcm.CovModel3D(elem=[(\"spherical\",{\"w\":0.1,\"r\":[3,3,1]})],alpha=0,name=\"K_vario_2\")\n",
    "covmodelPoro = gcm.CovModel3D(elem=[(\"exponential\",{\"w\":0.005,\"r\":[10,10,10]})],alpha=0,name=\"poro_vario\")\n",
    "\n",
    "facies_1 = Facies(ID = 1,name=\"Sand\",color=\"yellow\")\n",
    "facies_2 = Facies(ID = 2,name=\"Gravel\",color=\"lightgreen\")\n",
    "facies_3 = Facies(ID = 3,name=\"GM\",color=\"blueviolet\")\n",
    "facies_4 = Facies(ID = 4,name=\"Clay\",color=\"blue\")\n",
    "facies_5 = Facies(ID = 5,name=\"SM\",color=\"brown\")\n",
    "facies_6 = Facies(ID = 6,name=\"Silt\",color=\"goldenrod\")\n",
    "facies_7 = Facies(ID = 7,name=\"basement\",color=\"red\")\n",
    "\n",
    "A.add_facies([facies_7])\n",
    "B.add_facies([facies_1,facies_2,facies_3,facies_5])\n",
    "D.add_facies([facies_1,facies_2,facies_3,facies_5])\n",
    "C.add_facies([facies_4,facies_6])\n",
    "\n",
    "#add same facies than B\n",
    "for b in PB.list_units:\n",
    "    b.add_facies(B.list_facies)\n",
    "\n",
    "#same for D\n",
    "for d in PD.list_units:\n",
    "    d.add_facies(D.list_facies)\n",
    "    \n",
    "permea = Prop(\"K\",[facies_1,facies_2,facies_3,facies_4,facies_5,facies_6,facies_7],\n",
    "                  [covmodelK2,covmodelK,covmodelK,None,covmodelK2,covmodelK,None],\n",
    "                  means=[-3.5,-2,-4.5,-8,-5.5,-6.5,-10],\n",
    "                  int_method = [\"sgs\",\"sgs\",\"sgs\",\"homogenous\",\"sgs\",\"sgs\",\"homogenous\"],\n",
    "                  def_mean=-5)\n",
    "poro = Prop(\"Porosity\",\n",
    "            [facies_1,facies_3,facies_4],\n",
    "            [covmodelPoro,covmodelPoro,covmodelPoro],\n",
    "             means = [0.4,0.3,0.2],\n",
    "             int_method = [\"sgs\",\"sgs\",\"sgs\"],\n",
    "             def_mean=0.3,\n",
    "             vmin=0)"
   ]
  },
  {
   "cell_type": "code",
   "execution_count": 6,
   "metadata": {
    "execution": {
     "iopub.execute_input": "2025-03-11T13:07:59.945623Z",
     "iopub.status.busy": "2025-03-11T13:07:59.945623Z",
     "iopub.status.idle": "2025-03-11T13:07:59.950345Z",
     "shell.execute_reply": "2025-03-11T13:07:59.949383Z"
    }
   },
   "outputs": [],
   "source": [
    "top = np.ones([ny,nx])*-6\n",
    "bot = np.ones([ny,nx])*z0"
   ]
  },
  {
   "cell_type": "code",
   "execution_count": 7,
   "metadata": {
    "execution": {
     "iopub.execute_input": "2025-03-11T13:07:59.952343Z",
     "iopub.status.busy": "2025-03-11T13:07:59.952343Z",
     "iopub.status.idle": "2025-03-11T13:07:59.975341Z",
     "shell.execute_reply": "2025-03-11T13:07:59.974337Z"
    }
   },
   "outputs": [
    {
     "name": "stdout",
     "output_type": "stream",
     "text": [
      "Pile sets as Pile master\n",
      "## Adding Grid ##\n",
      "## Grid added and is now simulation grid ##\n",
      "Property K added\n"
     ]
    }
   ],
   "source": [
    "T1 = Arch_table(name = \"P1\",seed=1)\n",
    "T1.set_Pile_master(P1)\n",
    "T1.add_grid(dimensions, spacing, origin, top=top,bot=bot)\n",
    "T1.add_prop([permea])"
   ]
  },
  {
   "cell_type": "markdown",
   "metadata": {},
   "source": [
    "## Assemble the existing surfaces\n",
    "\n",
    "The surfaces need to be assemble into a dictionnary where each entry corresponds to a particular pile. Keys are the pile name and values 4D arrays of size (nreal, nlay, ny, nx) where nreal is the number of unit realizations, nlay corresponds to the number of units in this pile. Surfaces need to be ordered (from  top to botom)"
   ]
  },
  {
   "cell_type": "code",
   "execution_count": 8,
   "metadata": {
    "execution": {
     "iopub.execute_input": "2025-03-11T13:07:59.979321Z",
     "iopub.status.busy": "2025-03-11T13:07:59.978347Z",
     "iopub.status.idle": "2025-03-11T13:07:59.984535Z",
     "shell.execute_reply": "2025-03-11T13:07:59.984535Z"
    }
   },
   "outputs": [],
   "source": [
    "# surfaces of the first pile (master pile)\n",
    "s=np.ones([1, 4, ny, nx])\n",
    "s[:, 0]*=0  # D\n",
    "s[:, 1, :]*=np.linspace(-5, -12, nx)  # C\n",
    "s[:, 2, :]*=np.linspace(-12, -6, nx)  # B\n",
    "s[:, 3] = -14  # A\n",
    "\n",
    "# second pile (PB)\n",
    "sb=np.ones([1, 3, ny, nx])\n",
    "sb[:, 0]*=-6  # B3\n",
    "sb[:, 1]*=np.linspace(-7, -16, nx)  # B2\n",
    "sb[:, 2]*=-12  # B1\n",
    "\n",
    "# third pile (PD)\n",
    "sd = np.ones([1, 2, ny, nx])\n",
    "sd[:, 0]*=-6  # D2\n",
    "sd[:, 1]*=-7.2  # D1\n",
    "surfaces={\"P1\":s, \"PB\":sb, \"PD\":sd}"
   ]
  },
  {
   "cell_type": "markdown",
   "metadata": {},
   "source": [
    "The dictionnary is then pass to the table using define_domains() method."
   ]
  },
  {
   "cell_type": "code",
   "execution_count": 9,
   "metadata": {
    "execution": {
     "iopub.execute_input": "2025-03-11T13:07:59.987488Z",
     "iopub.status.busy": "2025-03-11T13:07:59.987488Z",
     "iopub.status.idle": "2025-03-11T13:08:00.105382Z",
     "shell.execute_reply": "2025-03-11T13:08:00.105382Z"
    }
   },
   "outputs": [
    {
     "name": "stdout",
     "output_type": "stream",
     "text": [
      "Pile P1: ordering units\n",
      "Stratigraphic units have been sorted according to order\n",
      "Discrepency in the orders for units A and B\n",
      "Changing orders for that they range from 1 to n\n",
      "##########################\n",
      "\n",
      "Pile PD: ordering units\n",
      "Stratigraphic units have been sorted according to order\n",
      "##########################\n",
      "\n",
      "Pile PB: ordering units\n",
      "Stratigraphic units have been sorted according to order\n"
     ]
    },
    {
     "name": "stdout",
     "output_type": "stream",
     "text": [
      "##########################\n",
      "\n"
     ]
    }
   ],
   "source": [
    "T1.define_domains(surfaces)"
   ]
  },
  {
   "cell_type": "code",
   "execution_count": 10,
   "metadata": {
    "execution": {
     "iopub.execute_input": "2025-03-11T13:08:00.108374Z",
     "iopub.status.busy": "2025-03-11T13:08:00.108374Z",
     "iopub.status.idle": "2025-03-11T13:08:04.034262Z",
     "shell.execute_reply": "2025-03-11T13:08:04.033453Z"
    }
   },
   "outputs": [
    {
     "data": {
      "application/vnd.jupyter.widget-view+json": {
       "model_id": "292180d8c3ee49a8af29ef6d89dd9ec1",
       "version_major": 2,
       "version_minor": 0
      },
      "text/plain": [
       "Widget(value='<iframe src=\"http://localhost:57976/index.html?ui=P_0x1cd287850d0_0&reconnect=auto\" class=\"pyvis…"
      ]
     },
     "metadata": {},
     "output_type": "display_data"
    }
   ],
   "source": [
    "T1.plot_units()"
   ]
  },
  {
   "cell_type": "markdown",
   "metadata": {},
   "source": [
    "Then you can proceed with your archpy model"
   ]
  }
 ],
 "metadata": {
  "kernelspec": {
   "display_name": "hydro_env",
   "language": "python",
   "name": "python3"
  },
  "language_info": {
   "codemirror_mode": {
    "name": "ipython",
    "version": 3
   },
   "file_extension": ".py",
   "mimetype": "text/x-python",
   "name": "python",
   "nbconvert_exporter": "python",
   "pygments_lexer": "ipython3",
   "version": "3.11.11"
  },
  "widgets": {
   "application/vnd.jupyter.widget-state+json": {
    "state": {
     "292180d8c3ee49a8af29ef6d89dd9ec1": {
      "model_module": "@jupyter-widgets/controls",
      "model_module_version": "2.0.0",
      "model_name": "HTMLModel",
      "state": {
       "_dom_classes": [],
       "_model_module": "@jupyter-widgets/controls",
       "_model_module_version": "2.0.0",
       "_model_name": "HTMLModel",
       "_view_count": null,
       "_view_module": "@jupyter-widgets/controls",
       "_view_module_version": "2.0.0",
       "_view_name": "HTMLView",
       "description": "",
       "description_allow_html": false,
       "layout": "IPY_MODEL_e42e1a228b5847c4b16daa325f5614db",
       "placeholder": "​",
       "style": "IPY_MODEL_dd308d72cd49418e9f98e4b17e595a0a",
       "tabbable": null,
       "tooltip": null,
       "value": "<iframe src=\"http://localhost:57976/index.html?ui=P_0x1cd287850d0_0&reconnect=auto\" class=\"pyvista\" style=\"width: 99%; height: 600px; border: 1px solid rgb(221,221,221);\"></iframe>"
      }
     },
     "dd308d72cd49418e9f98e4b17e595a0a": {
      "model_module": "@jupyter-widgets/controls",
      "model_module_version": "2.0.0",
      "model_name": "HTMLStyleModel",
      "state": {
       "_model_module": "@jupyter-widgets/controls",
       "_model_module_version": "2.0.0",
       "_model_name": "HTMLStyleModel",
       "_view_count": null,
       "_view_module": "@jupyter-widgets/base",
       "_view_module_version": "2.0.0",
       "_view_name": "StyleView",
       "background": null,
       "description_width": "",
       "font_size": null,
       "text_color": null
      }
     },
     "e42e1a228b5847c4b16daa325f5614db": {
      "model_module": "@jupyter-widgets/base",
      "model_module_version": "2.0.0",
      "model_name": "LayoutModel",
      "state": {
       "_model_module": "@jupyter-widgets/base",
       "_model_module_version": "2.0.0",
       "_model_name": "LayoutModel",
       "_view_count": null,
       "_view_module": "@jupyter-widgets/base",
       "_view_module_version": "2.0.0",
       "_view_name": "LayoutView",
       "align_content": null,
       "align_items": null,
       "align_self": null,
       "border_bottom": null,
       "border_left": null,
       "border_right": null,
       "border_top": null,
       "bottom": null,
       "display": null,
       "flex": null,
       "flex_flow": null,
       "grid_area": null,
       "grid_auto_columns": null,
       "grid_auto_flow": null,
       "grid_auto_rows": null,
       "grid_column": null,
       "grid_gap": null,
       "grid_row": null,
       "grid_template_areas": null,
       "grid_template_columns": null,
       "grid_template_rows": null,
       "height": null,
       "justify_content": null,
       "justify_items": null,
       "left": null,
       "margin": null,
       "max_height": null,
       "max_width": null,
       "min_height": null,
       "min_width": null,
       "object_fit": null,
       "object_position": null,
       "order": null,
       "overflow": null,
       "padding": null,
       "right": null,
       "top": null,
       "visibility": null,
       "width": null
      }
     }
    },
    "version_major": 2,
    "version_minor": 0
   }
  }
 },
 "nbformat": 4,
 "nbformat_minor": 2
}
